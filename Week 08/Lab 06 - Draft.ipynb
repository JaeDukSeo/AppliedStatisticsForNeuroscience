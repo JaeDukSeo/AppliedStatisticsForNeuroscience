{
 "cells": [
  {
   "cell_type": "markdown",
   "metadata": {},
   "source": [
    "<img src=\"./img/HWNI_logo.svg\"/>"
   ]
  },
  {
   "cell_type": "markdown",
   "metadata": {},
   "source": [
    "# Lab 06a - Linear Algebra"
   ]
  },
  {
   "cell_type": "code",
   "execution_count": 1,
   "metadata": {
    "collapsed": false
   },
   "outputs": [
    {
     "data": {
      "text/html": [
       "<style>/* Originally by Brandon Rhodes, for use with Pandas*/\n",
       "body {\n",
       "    margin: 0;\n",
       "    font-family: Helvetica;\n",
       "}\n",
       "table.dataframe {\n",
       "    border-collapse: collapse;\n",
       "    border: none;\n",
       "}\n",
       "table.dataframe tr {\n",
       "    border: none;\n",
       "}\n",
       "table.dataframe td, table.dataframe th {\n",
       "    margin: 0;\n",
       "    border: 1px solid white;\n",
       "    padding-left: 0.25em;\n",
       "    padding-right: 0.25em;\n",
       "}\n",
       "table.dataframe th:not(:empty) {\n",
       "    background-color: #fec;\n",
       "    text-align: left;\n",
       "    font-weight: normal;\n",
       "}\n",
       "table.dataframe tr:nth-child(2) th:empty {\n",
       "    border-left: none;\n",
       "    border-right: 1px dashed #888;\n",
       "}\n",
       "table.dataframe td {\n",
       "    border: 2px solid #ccf;\n",
       "    background-color: #f4f4ff;\n",
       "}\n",
       "</style>"
      ],
      "text/plain": [
       "<IPython.core.display.HTML object>"
      ]
     },
     "execution_count": 1,
     "metadata": {},
     "output_type": "execute_result"
    }
   ],
   "source": [
    "# makes our plots show up inside Jupyter\n",
    "%matplotlib notebook\n",
    "\n",
    "import numpy as np\n",
    "import pandas as pd\n",
    "\n",
    "import matplotlib.pyplot as plt\n",
    "import seaborn as sns\n",
    "\n",
    "import scipy.stats\n",
    "\n",
    "# choose colors that work for most color-blind folks\n",
    "sns.set_palette(\"colorblind\")\n",
    "sns.set(color_codes=True)\n",
    "\n",
    "import time\n",
    "\n",
    "import util.lab05utils as utils \n",
    "\n",
    "# this makes our tables easier to read\n",
    "utils.formatDataframes()"
   ]
  },
  {
   "cell_type": "code",
   "execution_count": 526,
   "metadata": {
    "collapsed": false
   },
   "outputs": [],
   "source": [
    "import cmath\n",
    "\n",
    "def makeMesh(meshProps):\n",
    "    numDimensions = 2\n",
    "    \n",
    "    mins = (meshProps['xMin'],meshProps['yMin'])\n",
    "    maxs = (meshProps['xMax'],meshProps['yMax'])\n",
    "    delta = meshProps['delta']\n",
    "    \n",
    "    for idx in range(numDimensions):\n",
    "        assert mins[idx] < maxs[idx], \"min can't be bigger than max!\"\n",
    "        \n",
    "    ranges = [np.arange(mins[idx],maxs[idx]+delta,delta) for idx in range(numDimensions)]\n",
    "    \n",
    "    xs,ys = np.meshgrid(*ranges)\n",
    "    \n",
    "    return xs,ys\n",
    "\n",
    "def plotMesh(f,ax,xs,ys,colors):\n",
    "    ax.set_aspect('equal')\n",
    "    h = plt.scatter(xs,ys,\n",
    "                facecolor='black',alpha=0.7,\n",
    "                    edgecolor='none',\n",
    "                s=36,linewidth=2,\n",
    "                zorder=6,\n",
    "               c=colors,cmap='hot')\n",
    "    \n",
    "    return h\n",
    "\n",
    "def plotVector(v,color,label=None):\n",
    "    return plt.arrow(0,0,v[0],v[1],zorder=5,\n",
    "              linewidth=6,color=color,head_width=0.1,label=label)\n",
    "    \n",
    "    \n",
    "def plotInterestingVectors(T,columns=False,eigs=True):\n",
    "    arrows = []\n",
    "    labels = []\n",
    "    if columns:\n",
    "        arrows += [plotVector(column,'hotpink') \n",
    "                       for column in T.T]\n",
    "        arrows = [arrows[0]]\n",
    "        labels += [\"a basis vector lands here\"]\n",
    "    if eigs:\n",
    "        eigenvalues,eigenvectors = np.linalg.eig(T)\n",
    "        eigenList = [(eigenvalue,eigenvector) for eigenvalue,eigenvector\n",
    "                                    in zip(eigenvalues,eigenvectors.T)\n",
    "                                  if eigenvalue != 0\n",
    "                                      and not(np.iscomplex(eigenvalue))\n",
    "                                      ]\n",
    "        if eigenList:\n",
    "            eigenArrows = [plotVector(np.real(element[1]),'#53fca1',label='special vectors')\n",
    "                                 for element\n",
    "                                     in eigenList\n",
    "                                     ]\n",
    "            eigenArrows = [eigenArrows[0]]\n",
    "            labels += [\"this is a special (aka eigen) vector\"]\n",
    "            arrows += eigenArrows\n",
    "        else:\n",
    "            print(\"eigenvalues are all nonreal or 0\")\n",
    "    plt.legend(arrows,labels,loc=[0,0.5],\n",
    "               bbox_to_anchor=(0,1.05),\n",
    "              ncol=2,prop={'weight':'bold'})\n",
    "    return\n",
    "\n",
    "def computeTrajectories(T,scatter):\n",
    "    \n",
    "    starting_positions = scatter.get_offsets()\n",
    "    ending_positions = np.dot(T,starting_positions.T).T\n",
    "    delta_positions = ending_positions-starting_positions\n",
    "    \n",
    "    return starting_positions,ending_positions,delta_positions\n",
    "\n",
    "def setAxesLims(mn,mx,ax=None):\n",
    "    if ax == None:\n",
    "        ax = plt.gca()\n",
    "\n",
    "    ax.set_ylim([mn,mx])\n",
    "    ax.set_xlim([mn,mx])\n",
    "    \n",
    "    return\n",
    "\n",
    "def calculateAxisBounds(starting_positions,ending_positions,bufferFactor=1.1):\n",
    "    #axis bounds to include starting and ending positions of each point\n",
    "    \n",
    "    mn = bufferFactor*min(np.min(starting_positions),np.min(ending_positions))\n",
    "    mx = bufferFactor*max(np.max(starting_positions),np.max(ending_positions))\n",
    "    \n",
    "    if mn == 0:\n",
    "        mn -= 0.1\n",
    "    if mx == 0:\n",
    "        mx += 0.1\n",
    "        \n",
    "    return mn,mx\n",
    "\n",
    "def drawCoordinateAxes(mn,mx,ax=None):\n",
    "    if ax == None:\n",
    "        ax = plt.gca()\n",
    "    plt.hlines(0,mn,mx,zorder=4,linewidth=4,color='grey')\n",
    "    plt.vlines(0,mn,mx,zorder=4,linewidth=4,color='grey')\n",
    "    \n",
    "    return"
   ]
  },
  {
   "cell_type": "code",
   "execution_count": 508,
   "metadata": {
    "collapsed": false
   },
   "outputs": [],
   "source": [
    "unitSquareMesh = {'delta':0.1,\n",
    "                    'xMin' :0,\n",
    "                    'xMax' : 1,\n",
    "                    'yMin' : 0,\n",
    "                    'yMax' : 1,}\n",
    "\n",
    "foursquareMesh = {'delta':0.1,\n",
    "                    'xMin' :-0.5,\n",
    "                    'xMax' : 0.5,\n",
    "                    'yMin' : -0.5,\n",
    "                    'yMax' : 0.5,}\n",
    "\n",
    "def setupPlot(T,meshProperties=unitSquareMesh,squareAxes=False,\n",
    "             plotColumns=False,plotEigenvectors=False):\n",
    "    \"\"\"\n",
    "    Setup the plot and axes for animating a linear transformation T.\n",
    "    \n",
    "    If asked, plot the columns (aka the images of the basis vectors)\n",
    "        and the eigenvectors (but only if they're real and non-zero).\n",
    "    \n",
    "    Parameters\n",
    "    ----------\n",
    "    T        : 2x2 matrix representing a linear transformation\n",
    "    meshProperties : dictionary that defines properties of meshgrid of points\n",
    "                        that will be plotted and transformed.\n",
    "                        needs to have the following five properties:\n",
    "                        'delta' - mesh spacing\n",
    "                        '{x,y}{Min,Max}' - minium/maximum value on x/y axis\n",
    "    squareAxes : if False, size the axes so that they contain starting\n",
    "                    and ending location of each point in grid.\n",
    "                 if True, size the axes so that they are square and contain\n",
    "                    starting and ending location of each point in mesh.\n",
    "    plotColumns : if True, plot the columns of the transformation so that we can see\n",
    "                        where the basis vectors end up\n",
    "    plotEigenvectors: if true, plot the eigenvectors of the transformation\n",
    "    \n",
    "    Returns\n",
    "    -------\n",
    "    returns are meant to be consumed by animateTransformation\n",
    "    \n",
    "    scatter   : a PathCollection with all of the points in the meshgrid\n",
    "    f         : matplotlib figure containing axes\n",
    "    ax        : matplotlib axes containing scatter\n",
    "    \"\"\"\n",
    "    T = np.asarray(T)\n",
    "    \n",
    "    xs,ys = makeMesh(meshProperties)\n",
    "    colors = np.linspace(0,1,num=xs.shape[0]*xs.shape[1])\n",
    "    \n",
    "    f = plt.figure(figsize=(6,6))\n",
    "    ax = plt.gca()\n",
    "    \n",
    "    scatter = plotMesh(f,ax,xs,ys,colors)\n",
    "    \n",
    "    plotVectors = [plotColumns,plotEigenvectors]\n",
    "    \n",
    "    notZeros = not(np.all(T == np.zeros(2)))\n",
    "    \n",
    "    if (any(plotVectors) & notZeros):\n",
    "        plotInterestingVectors(T,*plotVectors)\n",
    "    \n",
    "    start,end,delta = computeTrajectories(T,scatter)\n",
    "    \n",
    "    mn,mx = calculateAxisBounds(start,end)\n",
    "    \n",
    "    if squareAxes:\n",
    "        lim = max(abs(mn),abs(mx))\n",
    "        mn = -lim; mx = lim\n",
    "    \n",
    "    drawCoordinateAxes(mn,mx)\n",
    "    setAxesLims(mn,mx,ax=ax)\n",
    "\n",
    "    f.canvas.draw()\n",
    "    time.sleep(1)\n",
    "    \n",
    "    return scatter,f,ax\n",
    "    \n",
    "\n",
    "def animateTransformation(T,scatter,figure,\n",
    "                          meshProperties=unitSquareMesh,\n",
    "                          deltaT=0.05,delay=0.,):\n",
    "    \"\"\"\n",
    "    Animate a linear transformation T acting on points scatter in figure.\n",
    "    \n",
    "    If asked, plot the columns (aka the images of the basis vectors)\n",
    "        and the eigenvectors (but only if they're real and non-zero).\n",
    "    \n",
    "    Parameters\n",
    "    ----------\n",
    "    T        : 2x2 matrix representing a linear transformation\n",
    "    meshProperties : dictionary that defines properties of meshgrid of points\n",
    "                        that will be plotted and transformed.\n",
    "                        needs to have the following five properties:\n",
    "                        'delta' - mesh spacing\n",
    "                        '{x,y}{Min,Max}' - minium/maximum value on x/y axis\n",
    "    deltaT   : size of simulated timestep -- transformation complete at t = 1\n",
    "    delay    : if non-zero, python will pause between frames of the animation for\n",
    "                that many seconds.\n",
    "    \n",
    "    Returns\n",
    "    -------\n",
    "    returns are meant to be consumed by animateTransformation\n",
    "    \n",
    "    scatter   : a PathCollection with all of the points in the meshgrid\n",
    "    f         : matplotlib figure containing axes\n",
    "    ax        : matplotlib axes containing scatter\n",
    "    \"\"\"\n",
    "\n",
    "    \n",
    "    T = np.asarray(T)\n",
    "    \n",
    "    start,_,delta = computeTrajectories(T,scatter)\n",
    "    \n",
    "    I = np.eye(2)\n",
    "    \n",
    "    ts = np.arange(0,1+deltaT,deltaT)\n",
    "    \n",
    "    notZeros = not(np.all(T == np.zeros(2)))\n",
    "    \n",
    "    if ((T[0,0] == T[1,1]) & (T[0,1] == -1*T[1,0])) & \\\n",
    "            notZeros :\n",
    "        \n",
    "        z = complex(T[0,0],T[1,0])\n",
    "        dz = z**(1/len(ts))\n",
    "        \n",
    "        dT = [[dz.real,-dz.imag],[dz.imag,dz.real]]\n",
    "        for idx,t in enumerate(ts):\n",
    "            current_positions = scatter.get_offsets()\n",
    "            dT_toN = np.linalg.matrix_power(dT,idx+1)\n",
    "            scatter.set_offsets(np.dot(dT_toN,start.T).T)\n",
    "            figure.canvas.draw()\n",
    "            if delay:\n",
    "                time.sleep(delay)\n",
    "                \n",
    "    else:\n",
    "        for idx,t in enumerate(ts):\n",
    "            current_positions = scatter.get_offsets()\n",
    "            scatter.set_offsets(t*(np.dot(T,start.T).T) +\n",
    "                                   (1-t)*np.dot(I,start.T).T)\n",
    "\n",
    "            figure.canvas.draw()\n",
    "            if delay:\n",
    "                time.sleep(delay)"
   ]
  },
  {
   "cell_type": "code",
   "execution_count": 509,
   "metadata": {
    "collapsed": true
   },
   "outputs": [],
   "source": [
    "scaling = [[3,0],[0,3]]\n",
    "shear = [[1,2],[0,0.5]]\n",
    "\n",
    "reflection = [[0,1],[1,0]]\n",
    "\n",
    "rank0 = [[0,0],[0,0]]\n",
    "rank1 = [[1,2],[1,2]]\n",
    "\n",
    "R = makeRotation(theta=np.pi/2)\n",
    "\n",
    "T = np.asarray([[1,3],\n",
    "                [0,1]])"
   ]
  },
  {
   "cell_type": "code",
   "execution_count": null,
   "metadata": {
    "collapsed": true
   },
   "outputs": [],
   "source": [
    "transform = np.dot(R,np.diag([2,2]))\n",
    "#transform = rank1\n",
    "#transform = T\n",
    "\n",
    "#transform = np.dot(np.dot(T,R),reflection)\n",
    "\n",
    "mesh = unitSquareMesh"
   ]
  },
  {
   "cell_type": "code",
   "execution_count": 538,
   "metadata": {
    "collapsed": false
   },
   "outputs": [
    {
     "data": {
      "application/javascript": [
       "/* Put everything inside the global mpl namespace */\n",
       "window.mpl = {};\n",
       "\n",
       "mpl.get_websocket_type = function() {\n",
       "    if (typeof(WebSocket) !== 'undefined') {\n",
       "        return WebSocket;\n",
       "    } else if (typeof(MozWebSocket) !== 'undefined') {\n",
       "        return MozWebSocket;\n",
       "    } else {\n",
       "        alert('Your browser does not have WebSocket support.' +\n",
       "              'Please try Chrome, Safari or Firefox ≥ 6. ' +\n",
       "              'Firefox 4 and 5 are also supported but you ' +\n",
       "              'have to enable WebSockets in about:config.');\n",
       "    };\n",
       "}\n",
       "\n",
       "mpl.figure = function(figure_id, websocket, ondownload, parent_element) {\n",
       "    this.id = figure_id;\n",
       "\n",
       "    this.ws = websocket;\n",
       "\n",
       "    this.supports_binary = (this.ws.binaryType != undefined);\n",
       "\n",
       "    if (!this.supports_binary) {\n",
       "        var warnings = document.getElementById(\"mpl-warnings\");\n",
       "        if (warnings) {\n",
       "            warnings.style.display = 'block';\n",
       "            warnings.textContent = (\n",
       "                \"This browser does not support binary websocket messages. \" +\n",
       "                    \"Performance may be slow.\");\n",
       "        }\n",
       "    }\n",
       "\n",
       "    this.imageObj = new Image();\n",
       "\n",
       "    this.context = undefined;\n",
       "    this.message = undefined;\n",
       "    this.canvas = undefined;\n",
       "    this.rubberband_canvas = undefined;\n",
       "    this.rubberband_context = undefined;\n",
       "    this.format_dropdown = undefined;\n",
       "\n",
       "    this.image_mode = 'full';\n",
       "\n",
       "    this.root = $('<div/>');\n",
       "    this._root_extra_style(this.root)\n",
       "    this.root.attr('style', 'display: inline-block');\n",
       "\n",
       "    $(parent_element).append(this.root);\n",
       "\n",
       "    this._init_header(this);\n",
       "    this._init_canvas(this);\n",
       "    this._init_toolbar(this);\n",
       "\n",
       "    var fig = this;\n",
       "\n",
       "    this.waiting = false;\n",
       "\n",
       "    this.ws.onopen =  function () {\n",
       "            fig.send_message(\"supports_binary\", {value: fig.supports_binary});\n",
       "            fig.send_message(\"send_image_mode\", {});\n",
       "            fig.send_message(\"refresh\", {});\n",
       "        }\n",
       "\n",
       "    this.imageObj.onload = function() {\n",
       "            if (fig.image_mode == 'full') {\n",
       "                // Full images could contain transparency (where diff images\n",
       "                // almost always do), so we need to clear the canvas so that\n",
       "                // there is no ghosting.\n",
       "                fig.context.clearRect(0, 0, fig.canvas.width, fig.canvas.height);\n",
       "            }\n",
       "            fig.context.drawImage(fig.imageObj, 0, 0);\n",
       "        };\n",
       "\n",
       "    this.imageObj.onunload = function() {\n",
       "        this.ws.close();\n",
       "    }\n",
       "\n",
       "    this.ws.onmessage = this._make_on_message_function(this);\n",
       "\n",
       "    this.ondownload = ondownload;\n",
       "}\n",
       "\n",
       "mpl.figure.prototype._init_header = function() {\n",
       "    var titlebar = $(\n",
       "        '<div class=\"ui-dialog-titlebar ui-widget-header ui-corner-all ' +\n",
       "        'ui-helper-clearfix\"/>');\n",
       "    var titletext = $(\n",
       "        '<div class=\"ui-dialog-title\" style=\"width: 100%; ' +\n",
       "        'text-align: center; padding: 3px;\"/>');\n",
       "    titlebar.append(titletext)\n",
       "    this.root.append(titlebar);\n",
       "    this.header = titletext[0];\n",
       "}\n",
       "\n",
       "\n",
       "\n",
       "mpl.figure.prototype._canvas_extra_style = function(canvas_div) {\n",
       "\n",
       "}\n",
       "\n",
       "\n",
       "mpl.figure.prototype._root_extra_style = function(canvas_div) {\n",
       "\n",
       "}\n",
       "\n",
       "mpl.figure.prototype._init_canvas = function() {\n",
       "    var fig = this;\n",
       "\n",
       "    var canvas_div = $('<div/>');\n",
       "\n",
       "    canvas_div.attr('style', 'position: relative; clear: both; outline: 0');\n",
       "\n",
       "    function canvas_keyboard_event(event) {\n",
       "        return fig.key_event(event, event['data']);\n",
       "    }\n",
       "\n",
       "    canvas_div.keydown('key_press', canvas_keyboard_event);\n",
       "    canvas_div.keyup('key_release', canvas_keyboard_event);\n",
       "    this.canvas_div = canvas_div\n",
       "    this._canvas_extra_style(canvas_div)\n",
       "    this.root.append(canvas_div);\n",
       "\n",
       "    var canvas = $('<canvas/>');\n",
       "    canvas.addClass('mpl-canvas');\n",
       "    canvas.attr('style', \"left: 0; top: 0; z-index: 0; outline: 0\")\n",
       "\n",
       "    this.canvas = canvas[0];\n",
       "    this.context = canvas[0].getContext(\"2d\");\n",
       "\n",
       "    var rubberband = $('<canvas/>');\n",
       "    rubberband.attr('style', \"position: absolute; left: 0; top: 0; z-index: 1;\")\n",
       "\n",
       "    var pass_mouse_events = true;\n",
       "\n",
       "    canvas_div.resizable({\n",
       "        start: function(event, ui) {\n",
       "            pass_mouse_events = false;\n",
       "        },\n",
       "        resize: function(event, ui) {\n",
       "            fig.request_resize(ui.size.width, ui.size.height);\n",
       "        },\n",
       "        stop: function(event, ui) {\n",
       "            pass_mouse_events = true;\n",
       "            fig.request_resize(ui.size.width, ui.size.height);\n",
       "        },\n",
       "    });\n",
       "\n",
       "    function mouse_event_fn(event) {\n",
       "        if (pass_mouse_events)\n",
       "            return fig.mouse_event(event, event['data']);\n",
       "    }\n",
       "\n",
       "    rubberband.mousedown('button_press', mouse_event_fn);\n",
       "    rubberband.mouseup('button_release', mouse_event_fn);\n",
       "    // Throttle sequential mouse events to 1 every 20ms.\n",
       "    rubberband.mousemove('motion_notify', mouse_event_fn);\n",
       "\n",
       "    rubberband.mouseenter('figure_enter', mouse_event_fn);\n",
       "    rubberband.mouseleave('figure_leave', mouse_event_fn);\n",
       "\n",
       "    canvas_div.on(\"wheel\", function (event) {\n",
       "        event = event.originalEvent;\n",
       "        event['data'] = 'scroll'\n",
       "        if (event.deltaY < 0) {\n",
       "            event.step = 1;\n",
       "        } else {\n",
       "            event.step = -1;\n",
       "        }\n",
       "        mouse_event_fn(event);\n",
       "    });\n",
       "\n",
       "    canvas_div.append(canvas);\n",
       "    canvas_div.append(rubberband);\n",
       "\n",
       "    this.rubberband = rubberband;\n",
       "    this.rubberband_canvas = rubberband[0];\n",
       "    this.rubberband_context = rubberband[0].getContext(\"2d\");\n",
       "    this.rubberband_context.strokeStyle = \"#000000\";\n",
       "\n",
       "    this._resize_canvas = function(width, height) {\n",
       "        // Keep the size of the canvas, canvas container, and rubber band\n",
       "        // canvas in synch.\n",
       "        canvas_div.css('width', width)\n",
       "        canvas_div.css('height', height)\n",
       "\n",
       "        canvas.attr('width', width);\n",
       "        canvas.attr('height', height);\n",
       "\n",
       "        rubberband.attr('width', width);\n",
       "        rubberband.attr('height', height);\n",
       "    }\n",
       "\n",
       "    // Set the figure to an initial 600x600px, this will subsequently be updated\n",
       "    // upon first draw.\n",
       "    this._resize_canvas(600, 600);\n",
       "\n",
       "    // Disable right mouse context menu.\n",
       "    $(this.rubberband_canvas).bind(\"contextmenu\",function(e){\n",
       "        return false;\n",
       "    });\n",
       "\n",
       "    function set_focus () {\n",
       "        canvas.focus();\n",
       "        canvas_div.focus();\n",
       "    }\n",
       "\n",
       "    window.setTimeout(set_focus, 100);\n",
       "}\n",
       "\n",
       "mpl.figure.prototype._init_toolbar = function() {\n",
       "    var fig = this;\n",
       "\n",
       "    var nav_element = $('<div/>')\n",
       "    nav_element.attr('style', 'width: 100%');\n",
       "    this.root.append(nav_element);\n",
       "\n",
       "    // Define a callback function for later on.\n",
       "    function toolbar_event(event) {\n",
       "        return fig.toolbar_button_onclick(event['data']);\n",
       "    }\n",
       "    function toolbar_mouse_event(event) {\n",
       "        return fig.toolbar_button_onmouseover(event['data']);\n",
       "    }\n",
       "\n",
       "    for(var toolbar_ind in mpl.toolbar_items) {\n",
       "        var name = mpl.toolbar_items[toolbar_ind][0];\n",
       "        var tooltip = mpl.toolbar_items[toolbar_ind][1];\n",
       "        var image = mpl.toolbar_items[toolbar_ind][2];\n",
       "        var method_name = mpl.toolbar_items[toolbar_ind][3];\n",
       "\n",
       "        if (!name) {\n",
       "            // put a spacer in here.\n",
       "            continue;\n",
       "        }\n",
       "        var button = $('<button/>');\n",
       "        button.addClass('ui-button ui-widget ui-state-default ui-corner-all ' +\n",
       "                        'ui-button-icon-only');\n",
       "        button.attr('role', 'button');\n",
       "        button.attr('aria-disabled', 'false');\n",
       "        button.click(method_name, toolbar_event);\n",
       "        button.mouseover(tooltip, toolbar_mouse_event);\n",
       "\n",
       "        var icon_img = $('<span/>');\n",
       "        icon_img.addClass('ui-button-icon-primary ui-icon');\n",
       "        icon_img.addClass(image);\n",
       "        icon_img.addClass('ui-corner-all');\n",
       "\n",
       "        var tooltip_span = $('<span/>');\n",
       "        tooltip_span.addClass('ui-button-text');\n",
       "        tooltip_span.html(tooltip);\n",
       "\n",
       "        button.append(icon_img);\n",
       "        button.append(tooltip_span);\n",
       "\n",
       "        nav_element.append(button);\n",
       "    }\n",
       "\n",
       "    var fmt_picker_span = $('<span/>');\n",
       "\n",
       "    var fmt_picker = $('<select/>');\n",
       "    fmt_picker.addClass('mpl-toolbar-option ui-widget ui-widget-content');\n",
       "    fmt_picker_span.append(fmt_picker);\n",
       "    nav_element.append(fmt_picker_span);\n",
       "    this.format_dropdown = fmt_picker[0];\n",
       "\n",
       "    for (var ind in mpl.extensions) {\n",
       "        var fmt = mpl.extensions[ind];\n",
       "        var option = $(\n",
       "            '<option/>', {selected: fmt === mpl.default_extension}).html(fmt);\n",
       "        fmt_picker.append(option)\n",
       "    }\n",
       "\n",
       "    // Add hover states to the ui-buttons\n",
       "    $( \".ui-button\" ).hover(\n",
       "        function() { $(this).addClass(\"ui-state-hover\");},\n",
       "        function() { $(this).removeClass(\"ui-state-hover\");}\n",
       "    );\n",
       "\n",
       "    var status_bar = $('<span class=\"mpl-message\"/>');\n",
       "    nav_element.append(status_bar);\n",
       "    this.message = status_bar[0];\n",
       "}\n",
       "\n",
       "mpl.figure.prototype.request_resize = function(x_pixels, y_pixels) {\n",
       "    // Request matplotlib to resize the figure. Matplotlib will then trigger a resize in the client,\n",
       "    // which will in turn request a refresh of the image.\n",
       "    this.send_message('resize', {'width': x_pixels, 'height': y_pixels});\n",
       "}\n",
       "\n",
       "mpl.figure.prototype.send_message = function(type, properties) {\n",
       "    properties['type'] = type;\n",
       "    properties['figure_id'] = this.id;\n",
       "    this.ws.send(JSON.stringify(properties));\n",
       "}\n",
       "\n",
       "mpl.figure.prototype.send_draw_message = function() {\n",
       "    if (!this.waiting) {\n",
       "        this.waiting = true;\n",
       "        this.ws.send(JSON.stringify({type: \"draw\", figure_id: this.id}));\n",
       "    }\n",
       "}\n",
       "\n",
       "\n",
       "mpl.figure.prototype.handle_save = function(fig, msg) {\n",
       "    var format_dropdown = fig.format_dropdown;\n",
       "    var format = format_dropdown.options[format_dropdown.selectedIndex].value;\n",
       "    fig.ondownload(fig, format);\n",
       "}\n",
       "\n",
       "\n",
       "mpl.figure.prototype.handle_resize = function(fig, msg) {\n",
       "    var size = msg['size'];\n",
       "    if (size[0] != fig.canvas.width || size[1] != fig.canvas.height) {\n",
       "        fig._resize_canvas(size[0], size[1]);\n",
       "        fig.send_message(\"refresh\", {});\n",
       "    };\n",
       "}\n",
       "\n",
       "mpl.figure.prototype.handle_rubberband = function(fig, msg) {\n",
       "    var x0 = msg['x0'];\n",
       "    var y0 = fig.canvas.height - msg['y0'];\n",
       "    var x1 = msg['x1'];\n",
       "    var y1 = fig.canvas.height - msg['y1'];\n",
       "    x0 = Math.floor(x0) + 0.5;\n",
       "    y0 = Math.floor(y0) + 0.5;\n",
       "    x1 = Math.floor(x1) + 0.5;\n",
       "    y1 = Math.floor(y1) + 0.5;\n",
       "    var min_x = Math.min(x0, x1);\n",
       "    var min_y = Math.min(y0, y1);\n",
       "    var width = Math.abs(x1 - x0);\n",
       "    var height = Math.abs(y1 - y0);\n",
       "\n",
       "    fig.rubberband_context.clearRect(\n",
       "        0, 0, fig.canvas.width, fig.canvas.height);\n",
       "\n",
       "    fig.rubberband_context.strokeRect(min_x, min_y, width, height);\n",
       "}\n",
       "\n",
       "mpl.figure.prototype.handle_figure_label = function(fig, msg) {\n",
       "    // Updates the figure title.\n",
       "    fig.header.textContent = msg['label'];\n",
       "}\n",
       "\n",
       "mpl.figure.prototype.handle_cursor = function(fig, msg) {\n",
       "    var cursor = msg['cursor'];\n",
       "    switch(cursor)\n",
       "    {\n",
       "    case 0:\n",
       "        cursor = 'pointer';\n",
       "        break;\n",
       "    case 1:\n",
       "        cursor = 'default';\n",
       "        break;\n",
       "    case 2:\n",
       "        cursor = 'crosshair';\n",
       "        break;\n",
       "    case 3:\n",
       "        cursor = 'move';\n",
       "        break;\n",
       "    }\n",
       "    fig.rubberband_canvas.style.cursor = cursor;\n",
       "}\n",
       "\n",
       "mpl.figure.prototype.handle_message = function(fig, msg) {\n",
       "    fig.message.textContent = msg['message'];\n",
       "}\n",
       "\n",
       "mpl.figure.prototype.handle_draw = function(fig, msg) {\n",
       "    // Request the server to send over a new figure.\n",
       "    fig.send_draw_message();\n",
       "}\n",
       "\n",
       "mpl.figure.prototype.handle_image_mode = function(fig, msg) {\n",
       "    fig.image_mode = msg['mode'];\n",
       "}\n",
       "\n",
       "mpl.figure.prototype.updated_canvas_event = function() {\n",
       "    // Called whenever the canvas gets updated.\n",
       "    this.send_message(\"ack\", {});\n",
       "}\n",
       "\n",
       "// A function to construct a web socket function for onmessage handling.\n",
       "// Called in the figure constructor.\n",
       "mpl.figure.prototype._make_on_message_function = function(fig) {\n",
       "    return function socket_on_message(evt) {\n",
       "        if (evt.data instanceof Blob) {\n",
       "            /* FIXME: We get \"Resource interpreted as Image but\n",
       "             * transferred with MIME type text/plain:\" errors on\n",
       "             * Chrome.  But how to set the MIME type?  It doesn't seem\n",
       "             * to be part of the websocket stream */\n",
       "            evt.data.type = \"image/png\";\n",
       "\n",
       "            /* Free the memory for the previous frames */\n",
       "            if (fig.imageObj.src) {\n",
       "                (window.URL || window.webkitURL).revokeObjectURL(\n",
       "                    fig.imageObj.src);\n",
       "            }\n",
       "\n",
       "            fig.imageObj.src = (window.URL || window.webkitURL).createObjectURL(\n",
       "                evt.data);\n",
       "            fig.updated_canvas_event();\n",
       "            fig.waiting = false;\n",
       "            return;\n",
       "        }\n",
       "        else if (typeof evt.data === 'string' && evt.data.slice(0, 21) == \"data:image/png;base64\") {\n",
       "            fig.imageObj.src = evt.data;\n",
       "            fig.updated_canvas_event();\n",
       "            fig.waiting = false;\n",
       "            return;\n",
       "        }\n",
       "\n",
       "        var msg = JSON.parse(evt.data);\n",
       "        var msg_type = msg['type'];\n",
       "\n",
       "        // Call the  \"handle_{type}\" callback, which takes\n",
       "        // the figure and JSON message as its only arguments.\n",
       "        try {\n",
       "            var callback = fig[\"handle_\" + msg_type];\n",
       "        } catch (e) {\n",
       "            console.log(\"No handler for the '\" + msg_type + \"' message type: \", msg);\n",
       "            return;\n",
       "        }\n",
       "\n",
       "        if (callback) {\n",
       "            try {\n",
       "                // console.log(\"Handling '\" + msg_type + \"' message: \", msg);\n",
       "                callback(fig, msg);\n",
       "            } catch (e) {\n",
       "                console.log(\"Exception inside the 'handler_\" + msg_type + \"' callback:\", e, e.stack, msg);\n",
       "            }\n",
       "        }\n",
       "    };\n",
       "}\n",
       "\n",
       "// from http://stackoverflow.com/questions/1114465/getting-mouse-location-in-canvas\n",
       "mpl.findpos = function(e) {\n",
       "    //this section is from http://www.quirksmode.org/js/events_properties.html\n",
       "    var targ;\n",
       "    if (!e)\n",
       "        e = window.event;\n",
       "    if (e.target)\n",
       "        targ = e.target;\n",
       "    else if (e.srcElement)\n",
       "        targ = e.srcElement;\n",
       "    if (targ.nodeType == 3) // defeat Safari bug\n",
       "        targ = targ.parentNode;\n",
       "\n",
       "    // jQuery normalizes the pageX and pageY\n",
       "    // pageX,Y are the mouse positions relative to the document\n",
       "    // offset() returns the position of the element relative to the document\n",
       "    var x = e.pageX - $(targ).offset().left;\n",
       "    var y = e.pageY - $(targ).offset().top;\n",
       "\n",
       "    return {\"x\": x, \"y\": y};\n",
       "};\n",
       "\n",
       "/*\n",
       " * return a copy of an object with only non-object keys\n",
       " * we need this to avoid circular references\n",
       " * http://stackoverflow.com/a/24161582/3208463\n",
       " */\n",
       "function simpleKeys (original) {\n",
       "  return Object.keys(original).reduce(function (obj, key) {\n",
       "    if (typeof original[key] !== 'object')\n",
       "        obj[key] = original[key]\n",
       "    return obj;\n",
       "  }, {});\n",
       "}\n",
       "\n",
       "mpl.figure.prototype.mouse_event = function(event, name) {\n",
       "    var canvas_pos = mpl.findpos(event)\n",
       "\n",
       "    if (name === 'button_press')\n",
       "    {\n",
       "        this.canvas.focus();\n",
       "        this.canvas_div.focus();\n",
       "    }\n",
       "\n",
       "    var x = canvas_pos.x;\n",
       "    var y = canvas_pos.y;\n",
       "\n",
       "    this.send_message(name, {x: x, y: y, button: event.button,\n",
       "                             step: event.step,\n",
       "                             guiEvent: simpleKeys(event)});\n",
       "\n",
       "    /* This prevents the web browser from automatically changing to\n",
       "     * the text insertion cursor when the button is pressed.  We want\n",
       "     * to control all of the cursor setting manually through the\n",
       "     * 'cursor' event from matplotlib */\n",
       "    event.preventDefault();\n",
       "    return false;\n",
       "}\n",
       "\n",
       "mpl.figure.prototype._key_event_extra = function(event, name) {\n",
       "    // Handle any extra behaviour associated with a key event\n",
       "}\n",
       "\n",
       "mpl.figure.prototype.key_event = function(event, name) {\n",
       "\n",
       "    // Prevent repeat events\n",
       "    if (name == 'key_press')\n",
       "    {\n",
       "        if (event.which === this._key)\n",
       "            return;\n",
       "        else\n",
       "            this._key = event.which;\n",
       "    }\n",
       "    if (name == 'key_release')\n",
       "        this._key = null;\n",
       "\n",
       "    var value = '';\n",
       "    if (event.ctrlKey && event.which != 17)\n",
       "        value += \"ctrl+\";\n",
       "    if (event.altKey && event.which != 18)\n",
       "        value += \"alt+\";\n",
       "    if (event.shiftKey && event.which != 16)\n",
       "        value += \"shift+\";\n",
       "\n",
       "    value += 'k';\n",
       "    value += event.which.toString();\n",
       "\n",
       "    this._key_event_extra(event, name);\n",
       "\n",
       "    this.send_message(name, {key: value,\n",
       "                             guiEvent: simpleKeys(event)});\n",
       "    return false;\n",
       "}\n",
       "\n",
       "mpl.figure.prototype.toolbar_button_onclick = function(name) {\n",
       "    if (name == 'download') {\n",
       "        this.handle_save(this, null);\n",
       "    } else {\n",
       "        this.send_message(\"toolbar_button\", {name: name});\n",
       "    }\n",
       "};\n",
       "\n",
       "mpl.figure.prototype.toolbar_button_onmouseover = function(tooltip) {\n",
       "    this.message.textContent = tooltip;\n",
       "};\n",
       "mpl.toolbar_items = [[\"Home\", \"Reset original view\", \"fa fa-home icon-home\", \"home\"], [\"Back\", \"Back to  previous view\", \"fa fa-arrow-left icon-arrow-left\", \"back\"], [\"Forward\", \"Forward to next view\", \"fa fa-arrow-right icon-arrow-right\", \"forward\"], [\"\", \"\", \"\", \"\"], [\"Pan\", \"Pan axes with left mouse, zoom with right\", \"fa fa-arrows icon-move\", \"pan\"], [\"Zoom\", \"Zoom to rectangle\", \"fa fa-square-o icon-check-empty\", \"zoom\"], [\"\", \"\", \"\", \"\"], [\"Download\", \"Download plot\", \"fa fa-floppy-o icon-save\", \"download\"]];\n",
       "\n",
       "mpl.extensions = [\"eps\", \"pdf\", \"png\", \"ps\", \"raw\", \"svg\"];\n",
       "\n",
       "mpl.default_extension = \"png\";var comm_websocket_adapter = function(comm) {\n",
       "    // Create a \"websocket\"-like object which calls the given IPython comm\n",
       "    // object with the appropriate methods. Currently this is a non binary\n",
       "    // socket, so there is still some room for performance tuning.\n",
       "    var ws = {};\n",
       "\n",
       "    ws.close = function() {\n",
       "        comm.close()\n",
       "    };\n",
       "    ws.send = function(m) {\n",
       "        //console.log('sending', m);\n",
       "        comm.send(m);\n",
       "    };\n",
       "    // Register the callback with on_msg.\n",
       "    comm.on_msg(function(msg) {\n",
       "        //console.log('receiving', msg['content']['data'], msg);\n",
       "        // Pass the mpl event to the overriden (by mpl) onmessage function.\n",
       "        ws.onmessage(msg['content']['data'])\n",
       "    });\n",
       "    return ws;\n",
       "}\n",
       "\n",
       "mpl.mpl_figure_comm = function(comm, msg) {\n",
       "    // This is the function which gets called when the mpl process\n",
       "    // starts-up an IPython Comm through the \"matplotlib\" channel.\n",
       "\n",
       "    var id = msg.content.data.id;\n",
       "    // Get hold of the div created by the display call when the Comm\n",
       "    // socket was opened in Python.\n",
       "    var element = $(\"#\" + id);\n",
       "    var ws_proxy = comm_websocket_adapter(comm)\n",
       "\n",
       "    function ondownload(figure, format) {\n",
       "        window.open(figure.imageObj.src);\n",
       "    }\n",
       "\n",
       "    var fig = new mpl.figure(id, ws_proxy,\n",
       "                           ondownload,\n",
       "                           element.get(0));\n",
       "\n",
       "    // Call onopen now - mpl needs it, as it is assuming we've passed it a real\n",
       "    // web socket which is closed, not our websocket->open comm proxy.\n",
       "    ws_proxy.onopen();\n",
       "\n",
       "    fig.parent_element = element.get(0);\n",
       "    fig.cell_info = mpl.find_output_cell(\"<div id='\" + id + \"'></div>\");\n",
       "    if (!fig.cell_info) {\n",
       "        console.error(\"Failed to find cell for figure\", id, fig);\n",
       "        return;\n",
       "    }\n",
       "\n",
       "    var output_index = fig.cell_info[2]\n",
       "    var cell = fig.cell_info[0];\n",
       "\n",
       "};\n",
       "\n",
       "mpl.figure.prototype.handle_close = function(fig, msg) {\n",
       "    fig.root.unbind('remove')\n",
       "\n",
       "    // Update the output cell to use the data from the current canvas.\n",
       "    fig.push_to_output();\n",
       "    var dataURL = fig.canvas.toDataURL();\n",
       "    // Re-enable the keyboard manager in IPython - without this line, in FF,\n",
       "    // the notebook keyboard shortcuts fail.\n",
       "    IPython.keyboard_manager.enable()\n",
       "    $(fig.parent_element).html('<img src=\"' + dataURL + '\">');\n",
       "    fig.close_ws(fig, msg);\n",
       "}\n",
       "\n",
       "mpl.figure.prototype.close_ws = function(fig, msg){\n",
       "    fig.send_message('closing', msg);\n",
       "    // fig.ws.close()\n",
       "}\n",
       "\n",
       "mpl.figure.prototype.push_to_output = function(remove_interactive) {\n",
       "    // Turn the data on the canvas into data in the output cell.\n",
       "    var dataURL = this.canvas.toDataURL();\n",
       "    this.cell_info[1]['text/html'] = '<img src=\"' + dataURL + '\">';\n",
       "}\n",
       "\n",
       "mpl.figure.prototype.updated_canvas_event = function() {\n",
       "    // Tell IPython that the notebook contents must change.\n",
       "    IPython.notebook.set_dirty(true);\n",
       "    this.send_message(\"ack\", {});\n",
       "    var fig = this;\n",
       "    // Wait a second, then push the new image to the DOM so\n",
       "    // that it is saved nicely (might be nice to debounce this).\n",
       "    setTimeout(function () { fig.push_to_output() }, 1000);\n",
       "}\n",
       "\n",
       "mpl.figure.prototype._init_toolbar = function() {\n",
       "    var fig = this;\n",
       "\n",
       "    var nav_element = $('<div/>')\n",
       "    nav_element.attr('style', 'width: 100%');\n",
       "    this.root.append(nav_element);\n",
       "\n",
       "    // Define a callback function for later on.\n",
       "    function toolbar_event(event) {\n",
       "        return fig.toolbar_button_onclick(event['data']);\n",
       "    }\n",
       "    function toolbar_mouse_event(event) {\n",
       "        return fig.toolbar_button_onmouseover(event['data']);\n",
       "    }\n",
       "\n",
       "    for(var toolbar_ind in mpl.toolbar_items){\n",
       "        var name = mpl.toolbar_items[toolbar_ind][0];\n",
       "        var tooltip = mpl.toolbar_items[toolbar_ind][1];\n",
       "        var image = mpl.toolbar_items[toolbar_ind][2];\n",
       "        var method_name = mpl.toolbar_items[toolbar_ind][3];\n",
       "\n",
       "        if (!name) { continue; };\n",
       "\n",
       "        var button = $('<button class=\"btn btn-default\" href=\"#\" title=\"' + name + '\"><i class=\"fa ' + image + ' fa-lg\"></i></button>');\n",
       "        button.click(method_name, toolbar_event);\n",
       "        button.mouseover(tooltip, toolbar_mouse_event);\n",
       "        nav_element.append(button);\n",
       "    }\n",
       "\n",
       "    // Add the status bar.\n",
       "    var status_bar = $('<span class=\"mpl-message\" style=\"text-align:right; float: right;\"/>');\n",
       "    nav_element.append(status_bar);\n",
       "    this.message = status_bar[0];\n",
       "\n",
       "    // Add the close button to the window.\n",
       "    var buttongrp = $('<div class=\"btn-group inline pull-right\"></div>');\n",
       "    var button = $('<button class=\"btn btn-mini btn-primary\" href=\"#\" title=\"Stop Interaction\"><i class=\"fa fa-power-off icon-remove icon-large\"></i></button>');\n",
       "    button.click(function (evt) { fig.handle_close(fig, {}); } );\n",
       "    button.mouseover('Stop Interaction', toolbar_mouse_event);\n",
       "    buttongrp.append(button);\n",
       "    var titlebar = this.root.find($('.ui-dialog-titlebar'));\n",
       "    titlebar.prepend(buttongrp);\n",
       "}\n",
       "\n",
       "mpl.figure.prototype._root_extra_style = function(el){\n",
       "    var fig = this\n",
       "    el.on(\"remove\", function(){\n",
       "\tfig.close_ws(fig, {});\n",
       "    });\n",
       "}\n",
       "\n",
       "mpl.figure.prototype._canvas_extra_style = function(el){\n",
       "    // this is important to make the div 'focusable\n",
       "    el.attr('tabindex', 0)\n",
       "    // reach out to IPython and tell the keyboard manager to turn it's self\n",
       "    // off when our div gets focus\n",
       "\n",
       "    // location in version 3\n",
       "    if (IPython.notebook.keyboard_manager) {\n",
       "        IPython.notebook.keyboard_manager.register_events(el);\n",
       "    }\n",
       "    else {\n",
       "        // location in version 2\n",
       "        IPython.keyboard_manager.register_events(el);\n",
       "    }\n",
       "\n",
       "}\n",
       "\n",
       "mpl.figure.prototype._key_event_extra = function(event, name) {\n",
       "    var manager = IPython.notebook.keyboard_manager;\n",
       "    if (!manager)\n",
       "        manager = IPython.keyboard_manager;\n",
       "\n",
       "    // Check for shift+enter\n",
       "    if (event.shiftKey && event.which == 13) {\n",
       "        this.canvas_div.blur();\n",
       "        // select the cell after this one\n",
       "        var index = IPython.notebook.find_cell_index(this.cell_info[0]);\n",
       "        IPython.notebook.select(index + 1);\n",
       "    }\n",
       "}\n",
       "\n",
       "mpl.figure.prototype.handle_save = function(fig, msg) {\n",
       "    fig.ondownload(fig, null);\n",
       "}\n",
       "\n",
       "\n",
       "mpl.find_output_cell = function(html_output) {\n",
       "    // Return the cell and output element which can be found *uniquely* in the notebook.\n",
       "    // Note - this is a bit hacky, but it is done because the \"notebook_saving.Notebook\"\n",
       "    // IPython event is triggered only after the cells have been serialised, which for\n",
       "    // our purposes (turning an active figure into a static one), is too late.\n",
       "    var cells = IPython.notebook.get_cells();\n",
       "    var ncells = cells.length;\n",
       "    for (var i=0; i<ncells; i++) {\n",
       "        var cell = cells[i];\n",
       "        if (cell.cell_type === 'code'){\n",
       "            for (var j=0; j<cell.output_area.outputs.length; j++) {\n",
       "                var data = cell.output_area.outputs[j];\n",
       "                if (data.data) {\n",
       "                    // IPython >= 3 moved mimebundle to data attribute of output\n",
       "                    data = data.data;\n",
       "                }\n",
       "                if (data['text/html'] == html_output) {\n",
       "                    return [cell, data, j];\n",
       "                }\n",
       "            }\n",
       "        }\n",
       "    }\n",
       "}\n",
       "\n",
       "// Register the function which deals with the matplotlib target/channel.\n",
       "// The kernel may be null if the page has been refreshed.\n",
       "if (IPython.notebook.kernel != null) {\n",
       "    IPython.notebook.kernel.comm_manager.register_target('matplotlib', mpl.mpl_figure_comm);\n",
       "}\n"
      ],
      "text/plain": [
       "<IPython.core.display.Javascript object>"
      ]
     },
     "metadata": {},
     "output_type": "display_data"
    },
    {
     "data": {
      "text/html": [
       "<img src=\"data:image/png;base64,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\">"
      ],
      "text/plain": [
       "<IPython.core.display.HTML object>"
      ]
     },
     "metadata": {},
     "output_type": "display_data"
    },
    {
     "name": "stdout",
     "output_type": "stream",
     "text": [
      "eigenvalues are all nonreal or 0\n"
     ]
    }
   ],
   "source": [
    "scatter,figure,axes = setupPlot(transform,\n",
    "                                meshProperties=mesh,\n",
    "                                plotColumns=True,\n",
    "                                plotEigenvectors=True)\n",
    "\n",
    "animateTransformation(transform,scatter,figure,\n",
    "                                meshProperties=mesh,\n",
    "                                 delay=0.05)"
   ]
  },
  {
   "cell_type": "code",
   "execution_count": 516,
   "metadata": {
    "collapsed": false
   },
   "outputs": [
    {
     "data": {
      "text/plain": [
       "[[1, 2], [1, 2]]"
      ]
     },
     "execution_count": 516,
     "metadata": {},
     "output_type": "execute_result"
    }
   ],
   "source": [
    "transform"
   ]
  },
  {
   "cell_type": "code",
   "execution_count": 391,
   "metadata": {
    "collapsed": false
   },
   "outputs": [
    {
     "data": {
      "text/plain": [
       "False"
      ]
     },
     "execution_count": 391,
     "metadata": {},
     "output_type": "execute_result"
    }
   ],
   "source": [
    "not(np.all(transform == np.zeros(2)))"
   ]
  },
  {
   "cell_type": "code",
   "execution_count": 529,
   "metadata": {
    "collapsed": false
   },
   "outputs": [
    {
     "data": {
      "text/plain": [
       "(array([ 1.,  1.]), array([[  1.00000000e+00,  -1.00000000e+00],\n",
       "        [  0.00000000e+00,   7.40148683e-17]]))"
      ]
     },
     "execution_count": 529,
     "metadata": {},
     "output_type": "execute_result"
    }
   ],
   "source": [
    "np.linalg.eig(transform)"
   ]
  },
  {
   "cell_type": "code",
   "execution_count": 230,
   "metadata": {
    "collapsed": false
   },
   "outputs": [],
   "source": [
    "q,r = np.linalg.qr(R)"
   ]
  },
  {
   "cell_type": "code",
   "execution_count": 487,
   "metadata": {
    "collapsed": false
   },
   "outputs": [],
   "source": [
    "plt.legend?"
   ]
  },
  {
   "cell_type": "code",
   "execution_count": 231,
   "metadata": {
    "collapsed": false
   },
   "outputs": [
    {
     "data": {
      "text/plain": [
       "array([[ 0., -1.],\n",
       "       [-1.,  0.]])"
      ]
     },
     "execution_count": 231,
     "metadata": {},
     "output_type": "execute_result"
    }
   ],
   "source": [
    "q"
   ]
  },
  {
   "cell_type": "code",
   "execution_count": 232,
   "metadata": {
    "collapsed": false
   },
   "outputs": [
    {
     "data": {
      "text/plain": [
       "array([[  6.12323400e-17,  -1.00000000e+00],\n",
       "       [  1.00000000e+00,   6.12323400e-17]])"
      ]
     },
     "execution_count": 232,
     "metadata": {},
     "output_type": "execute_result"
    }
   ],
   "source": [
    "R"
   ]
  },
  {
   "cell_type": "code",
   "execution_count": null,
   "metadata": {
    "collapsed": false
   },
   "outputs": [],
   "source": [
    "mn"
   ]
  },
  {
   "cell_type": "code",
   "execution_count": null,
   "metadata": {
    "collapsed": false
   },
   "outputs": [],
   "source": [
    "np.arange(0,1+deltaT,deltaT)"
   ]
  },
  {
   "cell_type": "code",
   "execution_count": null,
   "metadata": {
    "collapsed": false
   },
   "outputs": [],
   "source": [
    "T"
   ]
  },
  {
   "cell_type": "code",
   "execution_count": null,
   "metadata": {
    "collapsed": false
   },
   "outputs": [],
   "source": [
    "[column for column in T]"
   ]
  },
  {
   "cell_type": "code",
   "execution_count": null,
   "metadata": {
    "collapsed": false
   },
   "outputs": [],
   "source": [
    "[eigenvectors[:,i] for i in range(eigenvectors.shape[1])]"
   ]
  },
  {
   "cell_type": "code",
   "execution_count": null,
   "metadata": {
    "collapsed": false
   },
   "outputs": [],
   "source": [
    "[eigenvector for eigenvector in eigenvectors.T]"
   ]
  },
  {
   "cell_type": "code",
   "execution_count": null,
   "metadata": {
    "collapsed": false
   },
   "outputs": [],
   "source": [
    "eigenvalues"
   ]
  },
  {
   "cell_type": "code",
   "execution_count": null,
   "metadata": {
    "collapsed": false
   },
   "outputs": [],
   "source": [
    "np.dot(T,eigenvectors[:,0])"
   ]
  },
  {
   "cell_type": "markdown",
   "metadata": {},
   "source": [
    "Begin by examining the following linear transformations:"
   ]
  },
  {
   "cell_type": "code",
   "execution_count": 105,
   "metadata": {
    "collapsed": true
   },
   "outputs": [],
   "source": [
    "def makeRotation(theta=np.pi/2.):\n",
    "    rotationMatrix = [[np.cos(theta),-np.sin(theta)],[np.sin(theta),np.cos(theta)]]\n",
    "    return np.asarray(rotationMatrix)"
   ]
  },
  {
   "cell_type": "code",
   "execution_count": 94,
   "metadata": {
    "collapsed": false
   },
   "outputs": [],
   "source": [
    "R = makeRotation()"
   ]
  },
  {
   "cell_type": "code",
   "execution_count": 96,
   "metadata": {
    "collapsed": false
   },
   "outputs": [
    {
     "data": {
      "text/plain": [
       "(array([  6.12323400e-17+1.j,   6.12323400e-17-1.j]),\n",
       " array([[ 0.70710678+0.j        ,  0.70710678-0.j        ],\n",
       "        [ 0.00000000+0.70710678j,  0.00000000-0.70710678j]]))"
      ]
     },
     "execution_count": 96,
     "metadata": {},
     "output_type": "execute_result"
    }
   ],
   "source": [
    "np.linalg.eig(R)"
   ]
  },
  {
   "cell_type": "code",
   "execution_count": 86,
   "metadata": {
    "collapsed": true
   },
   "outputs": [],
   "source": [
    "scaling = [[3,0],[0,3]]\n",
    "shear = [[1,2],[0,0.5]]\n",
    "\n",
    "rotation = [[0,1],[1,0]]\n",
    "reflection = [[0,-1],[-1,0]]"
   ]
  },
  {
   "cell_type": "code",
   "execution_count": 97,
   "metadata": {
    "collapsed": false
   },
   "outputs": [
    {
     "data": {
      "text/plain": [
       "(array([ 1., -1.]), array([[ 0.70710678, -0.70710678],\n",
       "        [ 0.70710678,  0.70710678]]))"
      ]
     },
     "execution_count": 97,
     "metadata": {},
     "output_type": "execute_result"
    }
   ],
   "source": [
    "np.linalg.eig(rotation)"
   ]
  },
  {
   "cell_type": "code",
   "execution_count": null,
   "metadata": {
    "collapsed": false
   },
   "outputs": [],
   "source": [
    "starting_positions.T.shape"
   ]
  },
  {
   "cell_type": "code",
   "execution_count": null,
   "metadata": {
    "collapsed": false
   },
   "outputs": [],
   "source": [
    "_"
   ]
  },
  {
   "cell_type": "code",
   "execution_count": null,
   "metadata": {
    "collapsed": false
   },
   "outputs": [],
   "source": [
    "f = plt.figure(figsize=(8,8))\n",
    "ax = plt.gca()\n",
    "plt.axes().set_aspect('equal')\n",
    "\n",
    "N = 1000\n",
    "sphericalData = np.random.normal(0,1,size=(2,N))\n",
    "\n",
    "def covariance(sigma,p):\n",
    "    cov = np.asarray([[sigma,sigma*p],[sigma*p,sigma]])\n",
    "    eigenvalues,eigenvectors = np.linalg.eig(cov)\n",
    "    assert np.all(eigenvalues > 0), \"non-positive-definite matrix\"\n",
    "    return cov\n",
    "\n",
    "T = covariance(1,0.2)\n",
    "\n",
    "Theta = np.linalg.inv(np.cov(np.dot(T,sphericalData)))\n",
    "\n",
    "h = plt.scatter(sphericalData[0],sphericalData[1],alpha=0.5,color='k',s=48)\n",
    "\n",
    "starting_positions = h.get_offsets()\n",
    "ending_positions = np.dot(starting_positions,T)\n",
    "delta_positions = ending_positions-starting_positions\n",
    "\n",
    "mn = -5\n",
    "mx = 5\n",
    "\n",
    "ax.set_ylim([mn,mx])\n",
    "ax.set_xlim([mn,mx])\n",
    "\n",
    "eps = 0.1\n",
    "\n",
    "\n",
    "for t in np.arange(0,1,eps):\n",
    "    current_positions = h.get_offsets()\n",
    "    h.set_offsets(current_positions+eps*delta_positions)\n",
    "    f.canvas.draw()"
   ]
  },
  {
   "cell_type": "code",
   "execution_count": null,
   "metadata": {
    "collapsed": false
   },
   "outputs": [],
   "source": [
    "Theta"
   ]
  },
  {
   "cell_type": "code",
   "execution_count": null,
   "metadata": {
    "collapsed": false
   },
   "outputs": [],
   "source": [
    "np.linalg.inv(np.cov(np.dot(T,sphericalData)))"
   ]
  },
  {
   "cell_type": "code",
   "execution_count": null,
   "metadata": {
    "collapsed": false
   },
   "outputs": [],
   "source": [
    "np.linalg.inv(T)"
   ]
  },
  {
   "cell_type": "code",
   "execution_count": null,
   "metadata": {
    "collapsed": false
   },
   "outputs": [],
   "source": [
    "np.min(starting_positions)"
   ]
  },
  {
   "cell_type": "code",
   "execution_count": null,
   "metadata": {
    "collapsed": false
   },
   "outputs": [],
   "source": [
    "np.arange(0,1,0.1)"
   ]
  },
  {
   "cell_type": "markdown",
   "metadata": {},
   "source": [
    "## About the Lab"
   ]
  },
  {
   "cell_type": "markdown",
   "metadata": {},
   "source": [
    "The first half of the lab is similar to Lab 04 -- you will code an ANOVA by hand as a computational exercise. The second half, on multiple comparisons, is set up as an experiment. \n",
    "\n",
    "So, even if you get stuck on writing the code for this half of the lab, you can still do the second half of the lab. Also, don't hesitate to post questions to bCourses!"
   ]
  },
  {
   "cell_type": "markdown",
   "metadata": {},
   "source": [
    "## About the Dataset"
   ]
  },
  {
   "cell_type": "markdown",
   "metadata": {},
   "source": [
    "The data for this lab is simulated.\n",
    "\n",
    "After learning of [Nemeroff, Heim, et al.](http://www.pnas.org/content/100/24/14293.full)'s finding that psychotherapy is more effective at treating depression in individuals with childhood trauma, you become interested in whether the same might be true for treating anxiety.\n",
    "\n",
    "You run a clinical experiment in which individuals with and without childhood trauma are treated with a placebo, the standard of care for psychotherapy (CBT, or \n",
    "[\"Cognitive Behavioral Therapy\"](https://en.wikipedia.org/wiki/Cognitive_behavioral_therapy)),\n",
    "or the standard of care for pharmacotherapy\n",
    "[(an anxiolytic GABA agonist)](https://en.wikipedia.org/wiki/Anxiolytic).\n",
    "As an aside: in actual clinical studies, treatment with a placebo is considered unethical if there's already a standard of care, and a proper clinical trial compares alternative treatments to standard treatments.\n",
    "\n",
    "The results of your experiment are summarized in the table `anxiety_dataset.csv`."
   ]
  },
  {
   "cell_type": "markdown",
   "metadata": {},
   "source": [
    "## Loading the Data"
   ]
  },
  {
   "cell_type": "code",
   "execution_count": null,
   "metadata": {
    "collapsed": true
   },
   "outputs": [],
   "source": [
    "df = pd.read_csv('./data/anxiety_dataset.csv',index_col=0)\n",
    "\n",
    "data = df.copy()"
   ]
  },
  {
   "cell_type": "code",
   "execution_count": null,
   "metadata": {
    "collapsed": false
   },
   "outputs": [],
   "source": [
    "data.sample(10)"
   ]
  },
  {
   "cell_type": "markdown",
   "metadata": {},
   "source": [
    "For the independent variables `treatment` and `trauma`, use the pandas `Series` method `unique` to determine the levels and store these in variables called `treatments` and `traumas`."
   ]
  },
  {
   "cell_type": "code",
   "execution_count": null,
   "metadata": {
    "collapsed": false
   },
   "outputs": [],
   "source": [
    "treatments = [] # your code here\n",
    "traumas = [] # your code here"
   ]
  },
  {
   "cell_type": "markdown",
   "metadata": {},
   "source": [
    "## Visualizing the Data"
   ]
  },
  {
   "cell_type": "markdown",
   "metadata": {},
   "source": [
    "Visualize the data. Aim for a visualization that makes it possible to see any main effects along with the interaction effect you're interested in. Examples include: histograms, factorial plots (make sure to include error bars), and strip/swarm/violin plots.\n",
    "\n",
    "#### Q1 Discuss the connections between visual aspects of your graph and 1) the assumptions of ANOVA and 2) the outcomes you expect."
   ]
  },
  {
   "cell_type": "markdown",
   "metadata": {},
   "source": []
  },
  {
   "cell_type": "code",
   "execution_count": null,
   "metadata": {
    "collapsed": false
   },
   "outputs": [],
   "source": []
  },
  {
   "cell_type": "markdown",
   "metadata": {},
   "source": [
    "### Easy Way"
   ]
  },
  {
   "cell_type": "markdown",
   "metadata": {},
   "source": [
    "Because the ANOVA test is, from one perspective, a test of the goodness-of-fit of a linear model, modeling packages provide the tools in Python for performing ANVOAs more complicated than one-way between-subjects.\n",
    "\n",
    "In this course, we'll be using the `statsmodels` package."
   ]
  },
  {
   "cell_type": "code",
   "execution_count": null,
   "metadata": {
    "collapsed": false
   },
   "outputs": [],
   "source": [
    "import statsmodels.api as sm\n",
    "import statsmodels.formula.api as smf"
   ]
  },
  {
   "cell_type": "markdown",
   "metadata": {},
   "source": [
    "We specify models by describing them with strings that look like:\n",
    "\n",
    "```\n",
    "    \"outcome ~ factor\"\n",
    "```\n",
    "\n",
    "for one-way ANOVAs,\n",
    "\n",
    "```\n",
    "    \"outcome ~ factor1*factor2*...factorN\"\n",
    "```\n",
    "\n",
    "for N-way ANOVAs where we want to compute all main effects and interactions,\n",
    "and\n",
    "\n",
    "```\n",
    "    \"outcome ~ factor1:randomFactor1:randomFactor2:...randomFactorN\"\n",
    "```\n",
    "\n",
    "for ANOVAs with N factors where we're only interested in interactions (e.g., a subject factor)."
   ]
  },
  {
   "cell_type": "code",
   "execution_count": null,
   "metadata": {
    "collapsed": false
   },
   "outputs": [],
   "source": [
    "ols_lm = smf.ols('anxietyReduction ~ treatment*trauma',data=df)\n",
    "\n",
    "fit = ols_lm.fit()\n",
    "\n",
    "table = sm.stats.anova_lm(fit,typ=2)\n",
    "\n",
    "table"
   ]
  },
  {
   "cell_type": "markdown",
   "metadata": {},
   "source": [
    "Hang on to this table of results for comparison with your ANOVA by hand below."
   ]
  },
  {
   "cell_type": "markdown",
   "metadata": {},
   "source": [
    "#### Q2 Interpret the pattern of significant and non-significant results that you see. First, phrase your answer as you would write it in the results section of a paper (e.g. using the [APA guidelines](https://depts.washington.edu/psych/files/writing_center/stats.pdf)), then describe the results less formally, as in a research talk."
   ]
  },
  {
   "cell_type": "markdown",
   "metadata": {},
   "source": []
  },
  {
   "cell_type": "markdown",
   "metadata": {},
   "source": [
    "Just as we performed an overall F-test before doing t-tests in a one-way ANOVA, one can also perform an \"omnibus\" F-test before performing the individual F-tests of a multi-way ANOVA. In this test, we check to see whether the model as a whole has a significant between-groups mean-square.\n",
    "\n",
    "We can calculate the model's overall between-groups mean-square by adding up the sums of squares for each component of the model and dividing by the sum of the degrees of freedom of each component of the model. Comparing this to the residual mean square gives us an F for which we can compute a p-value.\n",
    "\n",
    "The issue of multiple-comparisons in ANOVA and the role of the omnibus test is explored in the second half of the lab.\n",
    "\n",
    "Implement an omnibus test and run it on the results table above. You'll need the `cdf` method of `scipy.stats.f`. Note that the results table contains all the information you need to run an omnibus test."
   ]
  },
  {
   "cell_type": "code",
   "execution_count": null,
   "metadata": {
    "collapsed": true
   },
   "outputs": [],
   "source": [
    "scipy.stats.f?"
   ]
  },
  {
   "cell_type": "code",
   "execution_count": null,
   "metadata": {
    "collapsed": true
   },
   "outputs": [],
   "source": [
    "def computeP(fValue,dofB,dofW):\n",
    "    fDistribution = scipy.stats.f\n",
    "    p = 1 - fDistribution.cdf(fValue,dofB,dofW)\n",
    "    return p\n",
    "\n",
    "def omnibusTest(result):\n",
    "    #your code here\n",
    "    \n",
    "    F = []\n",
    "    p = []\n",
    "    \n",
    "    return (F,p)"
   ]
  },
  {
   "cell_type": "code",
   "execution_count": null,
   "metadata": {
    "collapsed": false
   },
   "outputs": [],
   "source": [
    "F,p = omnibusTest(table)\n",
    "print((F,p))"
   ]
  },
  {
   "cell_type": "markdown",
   "metadata": {},
   "source": [
    "### Hard Way"
   ]
  },
  {
   "cell_type": "markdown",
   "metadata": {},
   "source": [
    "As previously, we'll build a pandas data frame to hold our decomposition matrix."
   ]
  },
  {
   "cell_type": "code",
   "execution_count": null,
   "metadata": {
    "collapsed": false
   },
   "outputs": [],
   "source": [
    "N = len(df)\n",
    "\n",
    "anovaFrame = data.copy()\n",
    "\n",
    "anovaFrame.sample(10)"
   ]
  },
  {
   "cell_type": "markdown",
   "metadata": {},
   "source": [
    "We start by calculating the relevant means, using the `groupby` method when necessary. For the interaction term, note that you can do a \"double\" `groupby` by passing a list of columns to group on to the `groupby` method, instead of a single column."
   ]
  },
  {
   "cell_type": "code",
   "execution_count": null,
   "metadata": {
    "collapsed": false
   },
   "outputs": [],
   "source": [
    "dataMean = [] # your code here\n",
    "treatmentMeans = [] # your code here\n",
    "traumaMeans = [] # your code here\n",
    "\n",
    "treatmentXtraumaMeans = [] # your code here"
   ]
  },
  {
   "cell_type": "code",
   "execution_count": null,
   "metadata": {
    "collapsed": false
   },
   "outputs": [],
   "source": [
    "treatmentXtraumaMeans"
   ]
  },
  {
   "cell_type": "markdown",
   "metadata": {},
   "source": [
    "Now, using the combination of a selector and the `.loc` method, add columns for the main effect of treatment and the interaction effect of trauma and treatment. We use `.loc` to find things using keys and we use selectors to find things using logical statements. `.loc` is useful for indexing into the `groupby` objects, while selectors are useful for indexing into the `anovaFrame`.\n",
    "\n",
    "The column for main effect of trauma has been worked as an example, and code has been provided for the selection component of computing the interaction effect.\n",
    "\n",
    "We covered selectors in the pandas tutorial, but look back if you need a refresher. If you're confused or curious about how `.loc` works, check out [this tutorial](http://www.shanelynn.ie/select-pandas-dataframe-rows-and-columns-using-iloc-loc-and-ix/). "
   ]
  },
  {
   "cell_type": "code",
   "execution_count": null,
   "metadata": {
    "collapsed": false
   },
   "outputs": [],
   "source": [
    "anovaFrame[\"meanEffect\"] = dataMean\n",
    "\n",
    "for trauma in traumas:\n",
    "    selector = (anovaFrame.trauma == trauma)\n",
    "    anovaFrame.loc[selector,\"traumaMainEffect\"] = traumaMeans.loc[trauma]-dataMean\n",
    "    \n",
    "for treatment in treatments:\n",
    "    selector = (anovaFrame.treatment == treatment)\n",
    "    anovaFrame.loc[selector,\"treatmentMainEffect\"] = [] #your code here\n",
    "    \n",
    "for trauma in traumas:\n",
    "    for treatment in treatments:\n",
    "        selector = (anovaFrame.treatment == treatment) & (anovaFrame.trauma == trauma)\n",
    "        anovaFrame.loc[selector,\"interactionEffect\"]  = treatmentXtraumaMeans.loc[treatment,trauma] - \\\n",
    "            #your code here\n",
    "            # the \\ symbol lets you \"wrap\" a line of code like you would a line of text!"
   ]
  },
  {
   "cell_type": "markdown",
   "metadata": {},
   "source": [
    "Lastly, calculate the residual error. This can be done by simply subtracting columns of `anovaFrame`."
   ]
  },
  {
   "cell_type": "code",
   "execution_count": null,
   "metadata": {
    "collapsed": false
   },
   "outputs": [],
   "source": [
    "anovaFrame[\"residual\"] = [] #your code here\n",
    "\n",
    "anovaFrame.sample(10)"
   ]
  },
  {
   "cell_type": "markdown",
   "metadata": {},
   "source": [
    "With our decomposition matrix in hand, we can calculate the relevant sums of squares. Using a square-and-sum function, calculate the total, mean, main effects, interaction, and residual sums of squares.\n",
    "\n",
    "As before, we'll store them in a dictionary, keyed by their name."
   ]
  },
  {
   "cell_type": "code",
   "execution_count": null,
   "metadata": {
    "collapsed": false
   },
   "outputs": [],
   "source": [
    "def SS(x):\n",
    "    return # your code here"
   ]
  },
  {
   "cell_type": "code",
   "execution_count": null,
   "metadata": {
    "collapsed": false
   },
   "outputs": [],
   "source": [
    "sumofsquares = {}\n",
    "\n",
    "keys = [\"total\",\"mean\",\"trauma\",\"treatment\",\"interaction\",\"residual\"]\n",
    "\n",
    "columns = [] # your code here\n",
    "\n",
    "for key,column in zip(keys,columns):\n",
    "    sumofsquares[key] = SS(column)\n",
    "    \n",
    "sumofsquares"
   ]
  },
  {
   "cell_type": "markdown",
   "metadata": {},
   "source": [
    "Calculate the degrees of freedom for each of the sums of squares above and store it into a dictionary."
   ]
  },
  {
   "cell_type": "code",
   "execution_count": null,
   "metadata": {
    "collapsed": false
   },
   "outputs": [],
   "source": [
    "dof = {}\n",
    "\n",
    "keys = [\"total\",\"mean\",\"trauma\",\"treatment\",\"interaction\",\"residual\"]\n",
    "vals = [] #your code here\n",
    "\n",
    "for key,val in zip(keys,vals):\n",
    "    dof[key] = val\n",
    "    \n",
    "dof"
   ]
  },
  {
   "cell_type": "markdown",
   "metadata": {},
   "source": [
    "Using the dictionaries `sumofsquares` and `dof`, compute the mean square values for all of the keyed quantities."
   ]
  },
  {
   "cell_type": "code",
   "execution_count": null,
   "metadata": {
    "collapsed": false
   },
   "outputs": [],
   "source": [
    "meansquare = {}\n",
    "\n",
    "for key in keys:\n",
    "    meansquare[key] = [] #your code here\n",
    "    \n",
    "meansquare"
   ]
  },
  {
   "cell_type": "markdown",
   "metadata": {},
   "source": [
    "Compute the F-statistic for each main effect and the interaction."
   ]
  },
  {
   "cell_type": "code",
   "execution_count": null,
   "metadata": {
    "collapsed": false
   },
   "outputs": [],
   "source": [
    "F = {}\n",
    "\n",
    "for key in [\"treatment\",\"trauma\",\"interaction\"]:\n",
    "    F[key] = [] #your code here\n",
    "\n",
    "F"
   ]
  },
  {
   "cell_type": "markdown",
   "metadata": {},
   "source": [
    "Lastly, compute the p value using `scipy.stats.f.cdf`."
   ]
  },
  {
   "cell_type": "markdown",
   "metadata": {},
   "source": [
    "#### Q3 What's a CDF again? Why do we use the CDF of the sampling distribution of the statistic to compute p-values?"
   ]
  },
  {
   "cell_type": "markdown",
   "metadata": {},
   "source": []
  },
  {
   "cell_type": "code",
   "execution_count": null,
   "metadata": {
    "collapsed": false
   },
   "outputs": [],
   "source": [
    "for effect in F.keys():\n",
    "    print(effect)\n",
    "    print() #your code here"
   ]
  }
 ],
 "metadata": {
  "anaconda-cloud": {},
  "kernelspec": {
   "display_name": "Python [conda env:neur299]",
   "language": "python",
   "name": "conda-env-neur299-py"
  },
  "language_info": {
   "codemirror_mode": {
    "name": "ipython",
    "version": 3
   },
   "file_extension": ".py",
   "mimetype": "text/x-python",
   "name": "python",
   "nbconvert_exporter": "python",
   "pygments_lexer": "ipython3",
   "version": "3.4.5"
  }
 },
 "nbformat": 4,
 "nbformat_minor": 0
}
