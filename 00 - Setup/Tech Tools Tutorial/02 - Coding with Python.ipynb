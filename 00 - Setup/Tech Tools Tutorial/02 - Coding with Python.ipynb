{
 "cells": [
  {
   "cell_type": "markdown",
   "metadata": {},
   "source": [
    "<img src=\"./img/HWNI_logo.svg\"/>\n",
    "\n",
    "# Coding with Python"
   ]
  },
  {
   "cell_type": "markdown",
   "metadata": {
    "toc": "true"
   },
   "source": [
    "# Table of Contents\n",
    " <p><div class=\"lev1 toc-item\"><a href=\"#Coding-with-Python\" data-toc-modified-id=\"Coding-with-Python-1\"><span class=\"toc-item-num\">1&nbsp;&nbsp;</span>Coding with Python</a></div><div class=\"lev2 toc-item\"><a href=\"#Contents\" data-toc-modified-id=\"Contents-11\"><span class=\"toc-item-num\">1.1&nbsp;&nbsp;</span>Contents</a></div><div class=\"lev2 toc-item\"><a href=\"#Why-Python?\" data-toc-modified-id=\"Why-Python?-12\"><span class=\"toc-item-num\">1.2&nbsp;&nbsp;</span>Why Python?</a></div><div class=\"lev3 toc-item\"><a href=\"#Why-Not-MATLAB?\" data-toc-modified-id=\"Why-Not-MATLAB?-121\"><span class=\"toc-item-num\">1.2.1&nbsp;&nbsp;</span>Why Not MATLAB?</a></div><div class=\"lev3 toc-item\"><a href=\"#Why-Python-3?\" data-toc-modified-id=\"Why-Python-3?-122\"><span class=\"toc-item-num\">1.2.2&nbsp;&nbsp;</span>Why Python 3?</a></div><div class=\"lev2 toc-item\"><a href=\"#How-Python?\" data-toc-modified-id=\"How-Python?-13\"><span class=\"toc-item-num\">1.3&nbsp;&nbsp;</span>How Python?</a></div><div class=\"lev3 toc-item\"><a href=\"#from-__future__-import-jetpack\" data-toc-modified-id=\"from-__future__-import-jetpack-131\"><span class=\"toc-item-num\">1.3.1&nbsp;&nbsp;</span><code>from __future__ import jetpack</code></a></div><div class=\"lev3 toc-item\"><a href=\"#for-loops-and-lists\" data-toc-modified-id=\"for-loops-and-lists-132\"><span class=\"toc-item-num\">1.3.2&nbsp;&nbsp;</span><code>for</code> loops and lists</a></div><div class=\"lev3 toc-item\"><a href=\"#if-and-filters\" data-toc-modified-id=\"if-and-filters-133\"><span class=\"toc-item-num\">1.3.3&nbsp;&nbsp;</span><code>if</code> and filters</a></div><div class=\"lev2 toc-item\"><a href=\"#More-Python!\" data-toc-modified-id=\"More-Python!-14\"><span class=\"toc-item-num\">1.4&nbsp;&nbsp;</span>More Python!</a></div>"
   ]
  },
  {
   "cell_type": "code",
   "execution_count": 12,
   "metadata": {
    "collapsed": true
   },
   "outputs": [],
   "source": [
    "%matplotlib inline"
   ]
  },
  {
   "cell_type": "markdown",
   "metadata": {},
   "source": [
    "*NOTE*: This tutorial assumes that you've had at least some exposure to programming, no matter the language. If you haven't, you need to run through the [Codecademy Python course](https://www.codecademy.com/learn/python) as soon as you can. You should work up through Lesson 9."
   ]
  },
  {
   "cell_type": "markdown",
   "metadata": {},
   "source": [
    "## Contents\n",
    "* [Why Python?](#Why-Python?)\n",
    "    - [Why Not MATLAB?](#Why-Not-MATLAB?)\n",
    "    - [Why Python 3?](#Why-Python-3?)\n",
    "* [How Python?](#How-Python?)\n",
    "* [More Python!](#More-Python!)"
   ]
  },
  {
   "cell_type": "markdown",
   "metadata": {},
   "source": [
    "## Why Python?\n",
    "\n",
    "Python is, as of August 2016, one of the top five most popular programming languages according to the [TIOBE Index](http://www.tiobe.com/tiobe-index/). Of the five most popular languages, it is universally acclaimed as the easiest to use, as it operates at a higher level of abstraction than the other top contenders. This has lead to Python becoming the language of choice for teaching introductory computer science ([data as of 2014](http://cacm.acm.org/blogs/blog-cacm/176450-python-is-now-the-most-popular-introductory-teaching-language-at-top-us-universities/fulltext)) and the second-most popular language for data science ([data as of 2015](http://thenextweb.com/dd/2016/04/08/start-using-python-andor-r-data-science-one-best/#gref)).\n",
    "\n",
    "Python emphasizes the human side of coding: it is considered more important in Python for a human programmer to be able to easily and quickly understand what a piece of code does and why than it is for that code to run quickly when implemented by a machine. This is especially important in an educational setting where understanding is paramount and speed is secondary at best."
   ]
  },
  {
   "cell_type": "markdown",
   "metadata": {},
   "source": [
    "### Why Not MATLAB?\n",
    "\n",
    "[This blog post](http://bastibe.de/2013-01-20-a-python-primer-for-matlab-users.html) introduces MATLAB users to Python and states two reasons not to use MATLAB:\n",
    "\n",
    "1. Python is free and MATLAB is not.\n",
    "1. Python is a general-purpose programming language and MATLAB is not.\n",
    "\n",
    "Let me expand on those two points:\n",
    "\n",
    "1. The fact that Python is free means that there is a larger community contributing software that you can use (like Jupyter Notebooks, which were developed at Berkeley!) and which determines the direction of the language in a relatively democratic and open manner. It also means that your code is more portable. \n",
    "1. MATLAB is an almost-unbeatably efficient matrix-manipulation scripting language. It struggles, however, to deal with any data structure that isn't \"like\" a matrix. This includes strings, data frames, and even functions. This means that Python can be used in a whole variety of situations in which MATLAB isn't a great choice: building graphical user interfaces, providing web services, processing text corpora, scraping data from the web, and so on."
   ]
  },
  {
   "cell_type": "markdown",
   "metadata": {},
   "source": [
    "### Why Python 3?\n",
    "\n",
    "Some people may be coming in using Python 2, even though the current (as of Jan 1, 2017) release version of Python is 3. This is due to the non-backwards-compatibility of Python 3, which meant that many scientific computing libraries were slow to update. As recently as two years ago, there were still many packages that were only available in 2, but there has been a sea change, and almost all packages are 3-compatible, and soon some of them will only support Python 3.\n",
    "\n",
    "If you already use Python 2, don't worry! A notable benefit of using a general-purpose, open-source language like Python is that there are lots of tools that can help you customize your programming setup. There are even tools that help you organize all your different flavors of Python! We'll be using the [Anaconda distribution](https://store.continuum.io/cshop/anaconda/) of Python, which has a built-in system for managing multiple Python versions. If you don't have it already, you should install it for use with this course and consider using it to manage different Python versions outside the class.\n",
    "\n",
    "Instructions on installing Anaconda are available in the `README` folder."
   ]
  },
  {
   "cell_type": "markdown",
   "metadata": {},
   "source": [
    "## How Python?"
   ]
  },
  {
   "cell_type": "markdown",
   "metadata": {},
   "source": [
    "The following is based on a tutorial from [Jess Hamrick](http://www.jesshamrick.com/), a Berkeley PhD student in Tom Griffiths' Lab who is also one of the heads of the Jupyter project."
   ]
  },
  {
   "cell_type": "markdown",
   "metadata": {},
   "source": [
    "As in most programming languages, in Python we assign names to variables and apply functions to variables in order to transform them:"
   ]
  },
  {
   "cell_type": "code",
   "execution_count": 13,
   "metadata": {
    "collapsed": false
   },
   "outputs": [
    {
     "data": {
      "text/plain": [
       "5"
      ]
     },
     "execution_count": 13,
     "metadata": {},
     "output_type": "execute_result"
    }
   ],
   "source": [
    "a = 2\n",
    "b = 3\n",
    "\n",
    "a + b"
   ]
  },
  {
   "cell_type": "markdown",
   "metadata": {},
   "source": [
    "We'll briefly review some of the major syntax you need to work in Python."
   ]
  },
  {
   "cell_type": "markdown",
   "metadata": {},
   "source": [
    "### `from __future__ import jetpack`\n",
    "\n",
    "When you start up a Python environment (e.g. when you open a Jupyter notebook), there is only a small set of [data structures and functions](https://docs.python.org/3.5/library/), called the \"standard library\".\n",
    "\n",
    "In order to do most things we're doing in this course, we need the following libraries:\n",
    "\n",
    "- [`NumPy`](http://docs.scipy.org/doc/numpy/user/index.html) is a numerical computing library that adds support for vector and matrix math to Python. It's a big and powerful library, so it can be a bit intimidating. If you have experience with a different language, check out one of these specific guides:\n",
    "    * [NumPy for Matlab Users](http://mathesaurus.sourceforge.net/matlab-numpy.html)\n",
    "    * [NumPy for R/S+ Users](http://mathesaurus.sourceforge.net/r-numpy.html)\n",
    "    \n",
    "- [`matplotlib`](http://matplotlib.org/resources/index.html) is a general-purpose plotting library that uses a MATLAB-esque syntax. Matplotlib is the most common library for plotting in Python, so it's worth following the link and checking out some of the tutorials.\n",
    "\n",
    "- [`seaborn`](http://seaborn.pydata.org/tutorial.html#plotting-functions) is a data visualiztion library that is built on top of matplotlib. Seaborn is specialized to the kinds of plots we're interested in in this course and easier to use than matplotlib.\n",
    "\n",
    "- [`pandas`](http://pandas.pydata.org/pandas-docs/stable/10min.html) is a library that provides data-handling tools to Python. The key tool we'll be using is the `DataFrame`, which will be familiar to anyone with experience in R. DataFrames are like matrices that have names for their columns and rows.\n",
    "\n",
    "We load up these libraries with `import` statements. We additionally give the library a shorter nickname using the `as` keyword:"
   ]
  },
  {
   "cell_type": "code",
   "execution_count": 2,
   "metadata": {
    "collapsed": false
   },
   "outputs": [
    {
     "data": {
      "text/plain": [
       "<module 'numpy' from '/Users/charlesfrye/anaconda/envs/neur299/lib/python3.4/site-packages/numpy/__init__.py'>"
      ]
     },
     "execution_count": 2,
     "metadata": {},
     "output_type": "execute_result"
    }
   ],
   "source": [
    "import numpy as np\n",
    "np"
   ]
  },
  {
   "cell_type": "markdown",
   "metadata": {},
   "source": [
    "If we want to learn more about an object, we can pull up its documentation. To do so, write the object's name in its own cell with a `?` after it and run. Try this now."
   ]
  },
  {
   "cell_type": "code",
   "execution_count": 9,
   "metadata": {
    "collapsed": false
   },
   "outputs": [],
   "source": [
    "np?"
   ]
  },
  {
   "cell_type": "markdown",
   "metadata": {},
   "source": [
    "This documentation describes all the functions and submodules inside numpy. If we want to use them, we need to type their names. \n",
    "\n",
    "The `.` symbol in Python means that we're looking for a thing, like a variable or a function, inside another thing. This means we can have a function `dot` that does something different from `np.dot` and Python won't get confused about which `dot` we're looking for. Radical!\n",
    "\n",
    "If you want to see what's inside an object, simply type the name of the object, `.`, and then hit tab. This will pull up a drop-down menu that you can navigate with the arrow keys. Try this below. You can also type in the first few letters and then hit tab, in case, say, you want to see all of the functions that begin with `li`."
   ]
  },
  {
   "cell_type": "code",
   "execution_count": null,
   "metadata": {
    "collapsed": true
   },
   "outputs": [],
   "source": [
    "np."
   ]
  },
  {
   "cell_type": "markdown",
   "metadata": {},
   "source": [
    "We can also have things that are inside the things inside the first thing. In fact, there's no reasonable limit on the number of times we can \"go meta\" here. It's `.turtles` all the way down!\n",
    "\n",
    "Let's make use of that to bring in pyplot, an easier-to-use interface for the `matplotlib` library:"
   ]
  },
  {
   "cell_type": "code",
   "execution_count": 15,
   "metadata": {
    "collapsed": true
   },
   "outputs": [],
   "source": [
    "import matplotlib.pyplot as plt"
   ]
  },
  {
   "cell_type": "markdown",
   "metadata": {},
   "source": [
    "We'll be using all of the `matplotlib` functionality from within `pyplot` -- or, as far as we're concerned, `plt`. Let's use some `numpy` functions to generate a basic plot."
   ]
  },
  {
   "cell_type": "code",
   "execution_count": 16,
   "metadata": {
    "collapsed": false
   },
   "outputs": [
    {
     "data": {
      "image/png": "[encoded data removed]",
      "text/plain": [
       "<matplotlib.figure.Figure at 0x10aa36550>"
      ]
     },
     "metadata": {},
     "output_type": "display_data"
    }
   ],
   "source": [
    "x = np.linspace(0,2*np.pi,200) #evenly-spaced numbers from 0 to 2π\n",
    "y = np.sin(x)\n",
    "\n",
    "plt.plot(x,y); plt.show()"
   ]
  },
  {
   "cell_type": "markdown",
   "metadata": {},
   "source": [
    "Thanks to the power of Jupyter notebooks, the plot is displayed inline, rather than in a separate window, as in MATLAB or standard Python! Note that this only happens if we include the `magic` command `%matplotlib inline`, as we did in the first code cell."
   ]
  },
  {
   "cell_type": "markdown",
   "metadata": {},
   "source": [
    "### `for` loops and lists\n",
    "\n",
    "In Python, as in many other languages, we use `for` loops to tell the computer to do the same thing over and over. For example, the following prints the numbers from `0` to `9`:"
   ]
  },
  {
   "cell_type": "code",
   "execution_count": 2,
   "metadata": {
    "collapsed": false
   },
   "outputs": [
    {
     "name": "stdout",
     "output_type": "stream",
     "text": [
      "0\n",
      "1\n",
      "2\n",
      "3\n",
      "4\n",
      "5\n",
      "6\n",
      "7\n",
      "8\n",
      "9\n"
     ]
    }
   ],
   "source": [
    "for number in range(10): #note the colon\n",
    "    print(number) #note the four spaces!"
   ]
  },
  {
   "cell_type": "markdown",
   "metadata": {},
   "source": [
    "Much easier than writing `print(1)`, then `print(2)`, etc. Boring stuff like repeating yourself is the job of computers, not people!\n",
    "\n",
    "One thing that surprises new Python programmers is that the blank spaces are important to make the code above work. Any time you do a `for` loop, you need to indent all of the code that's supposed to be repeated. This includes when you're doing a `for` loop inside a `for` loop! Jupyter does a good job of handling the blank spaces for you, but it's something to watch out for. \n",
    "\n",
    "`for` loops are so important that Python lets you do them over things that aren't just arrays of numbers!"
   ]
  },
  {
   "cell_type": "code",
   "execution_count": 18,
   "metadata": {
    "collapsed": false
   },
   "outputs": [
    {
     "name": "stdout",
     "output_type": "stream",
     "text": [
      "i love my friend joey\n",
      "i love my friend rachel\n",
      "i love my friend phoebe\n",
      "i love my friend chandler\n",
      "i love my friend satan\n"
     ]
    }
   ],
   "source": [
    "friends = ['joey', 'rachel', 'phoebe', 'chandler', 'satan'] \n",
    "#this is how you specify a list of things, \n",
    "# like a list of your friends: [friend0, friend1, friend2]\n",
    "\n",
    "for friend in friends:\n",
    "    print('i love my friend ' + friend) # note the + sign "
   ]
  },
  {
   "cell_type": "markdown",
   "metadata": {},
   "source": [
    "Simple for loops are so important that Python offers a compact way of writing them:"
   ]
  },
  {
   "cell_type": "code",
   "execution_count": 19,
   "metadata": {
    "collapsed": false
   },
   "outputs": [
    {
     "name": "stdout",
     "output_type": "stream",
     "text": [
      "i love my friend joey\n",
      "i love my friend rachel\n",
      "i love my friend phoebe\n",
      "i love my friend chandler\n",
      "i love my friend satan\n"
     ]
    }
   ],
   "source": [
    "[print('i love my friend ' + friend) for friend in friends];"
   ]
  },
  {
   "cell_type": "markdown",
   "metadata": {},
   "source": [
    "This is called a \"list comprehension\" and it turns one list of values into another using a function. List comprehensions are a nice way to save space, but they can be hard to read, especially when the list at the end is also made using a list comprehension!"
   ]
  },
  {
   "cell_type": "markdown",
   "metadata": {},
   "source": [
    "### `if` and filters"
   ]
  },
  {
   "cell_type": "markdown",
   "metadata": {},
   "source": [
    "Often, we will want to perform an action only sometimes -- perhaps we do not, in fact, love our friend satan, and we'd like our code to reflect that. In the for loop way of writing things, we do that like this:"
   ]
  },
  {
   "cell_type": "code",
   "execution_count": 20,
   "metadata": {
    "collapsed": false
   },
   "outputs": [
    {
     "name": "stdout",
     "output_type": "stream",
     "text": [
      "i love my friend joey\n",
      "i love my friend rachel\n",
      "i love my friend phoebe\n",
      "i love my friend chandler\n"
     ]
    }
   ],
   "source": [
    "for friend in friends:\n",
    "    if friend != \"satan\": # != means \"not equal\"\n",
    "        print('i love my friend ' + friend)"
   ]
  },
  {
   "cell_type": "markdown",
   "metadata": {},
   "source": [
    "We can do the same thing in the list comprehension syntax:"
   ]
  },
  {
   "cell_type": "code",
   "execution_count": 21,
   "metadata": {
    "collapsed": false
   },
   "outputs": [
    {
     "name": "stdout",
     "output_type": "stream",
     "text": [
      "i love my friend joey\n",
      "i love my friend rachel\n",
      "i love my friend phoebe\n",
      "i love my friend chandler\n"
     ]
    }
   ],
   "source": [
    "[print('i love my friend ' + friend) for friend in friends if friend != \"satan\"];"
   ]
  },
  {
   "cell_type": "markdown",
   "metadata": {},
   "source": [
    "Whenever you use an `if`, the code inside the block will only be run *if* the statement is true."
   ]
  },
  {
   "cell_type": "markdown",
   "metadata": {},
   "source": [
    "## More Python!\n",
    "\n",
    "There's a ton more Python to learn!\n",
    "\n",
    "[The blog post](http://bastibe.de/2013-01-20-a-python-primer-for-matlab-users.html) linked all the way back at the start is written to help MATLAB users learn to use Python. It has lots of nice links to the [official Python tutorial](https://docs.python.org/3.3/tutorial/) and the [SciPy cookbook](http://scipy-cookbook.readthedocs.io/), which has recipes specialized for the problems scientists need to solve with Python.\n",
    "\n",
    "If you're somewhat familiar with other programming languages, [this tutorial](http://cs231n.github.io/python-numpy-tutorial/) from a Stanford course in machine learning is a good primer (read up to the section on NumPy)."
   ]
  },
  {
   "cell_type": "markdown",
   "metadata": {},
   "source": [
    "From here, you should check out the\n",
    "[notebook on the data structures package pandas](03 - Organizing Data with Pandas.ipynb)."
   ]
  }
 ],
 "metadata": {
  "anaconda-cloud": {},
  "kernelspec": {
   "display_name": "Python [conda env:neur299]",
   "language": "python",
   "name": "conda-env-neur299-py"
  },
  "language_info": {
   "codemirror_mode": {
    "name": "ipython",
    "version": 3
   },
   "file_extension": ".py",
   "mimetype": "text/x-python",
   "name": "python",
   "nbconvert_exporter": "python",
   "pygments_lexer": "ipython3",
   "version": "3.4.5"
  },
  "toc": {
   "colors": {
    "hover_highlight": "#DAA520",
    "running_highlight": "#FF0000",
    "selected_highlight": "#FFD700"
   },
   "moveMenuLeft": true,
   "navigate_menu": false,
   "number_sections": true,
   "sideBar": false,
   "threshold": 4,
   "toc_cell": true,
   "toc_section_display": "block",
   "toc_window_display": false
  }
 },
 "nbformat": 4,
 "nbformat_minor": 0
}
