{
 "cells": [
  {
   "cell_type": "code",
   "execution_count": 12,
   "metadata": {
    "collapsed": false
   },
   "outputs": [],
   "source": [
    "import numpy as np\n",
    "import matplotlib.pyplot as plt\n",
    "\n",
    "%matplotlib inline"
   ]
  },
  {
   "cell_type": "code",
   "execution_count": 13,
   "metadata": {
    "collapsed": true
   },
   "outputs": [],
   "source": [
    "def MoG_Sample(means):\n",
    "    mean = means[round(np.random.uniform())]\n",
    "    return np.random.randn()+mean"
   ]
  },
  {
   "cell_type": "code",
   "execution_count": 26,
   "metadata": {
    "collapsed": false
   },
   "outputs": [],
   "source": [
    "N = 50\n",
    "means = [-2,2]\n",
    "\n",
    "D1 = np.random.randn(N)\n",
    "D2 = [MoG_Sample(means) for _ in range(N)]"
   ]
  },
  {
   "cell_type": "code",
   "execution_count": 28,
   "metadata": {
    "collapsed": false
   },
   "outputs": [
    {
     "data": {
      "text/plain": [
       "(array([ 2.,  0.,  1.,  1.,  3.,  1.,  3.,  5.,  3.,  3.,  4.,  5.,  3.,\n",
       "         2.,  2.,  2.,  3.,  2.,  3.,  2.]),\n",
       " array([-2.31740597, -2.11653638, -1.91566679, -1.7147972 , -1.51392761,\n",
       "        -1.31305802, -1.11218843, -0.91131885, -0.71044926, -0.50957967,\n",
       "        -0.30871008, -0.10784049,  0.0930291 ,  0.29389869,  0.49476828,\n",
       "         0.69563787,  0.89650745,  1.09737704,  1.29824663,  1.49911622,\n",
       "         1.69998581]),\n",
       " <a list of 20 Patch objects>)"
      ]
     },
     "execution_count": 28,
     "metadata": {},
     "output_type": "execute_result"
    },
    {
     "data": {
      "image/png": "[encoded data removed]",
      "text/plain": [
       "<matplotlib.figure.Figure at 0x10f258908>"
      ]
     },
     "metadata": {},
     "output_type": "display_data"
    }
   ],
   "source": [
    "plt.hist(D1,bins=20)"
   ]
  },
  {
   "cell_type": "code",
   "execution_count": 57,
   "metadata": {
    "collapsed": false
   },
   "outputs": [],
   "source": [
    "# build the \"frame\" array\n",
    "\n",
    "header = \"value,set\"\n",
    "\n",
    "concatData = np.hstack([D1,D2]).T\n",
    "concatLabels = [1]*N+[2]*N\n",
    "\n",
    "frame = np.vstack([concatData,concatLabels]).T"
   ]
  },
  {
   "cell_type": "code",
   "execution_count": 60,
   "metadata": {
    "collapsed": false
   },
   "outputs": [],
   "source": [
    "np.savetxt(fname=\"2_3b.csv\",\n",
    "           X=frame,\n",
    "           #fmt=\"%.18e %s\",\n",
    "           header=header,\n",
    "              delimiter=\",\")"
   ]
  }
 ],
 "metadata": {
  "kernelspec": {
   "display_name": "Python 3",
   "language": "python",
   "name": "python3"
  },
  "language_info": {
   "codemirror_mode": {
    "name": "ipython",
    "version": 3
   },
   "file_extension": ".py",
   "mimetype": "text/x-python",
   "name": "python",
   "nbconvert_exporter": "python",
   "pygments_lexer": "ipython3",
   "version": "3.5.2"
  }
 },
 "nbformat": 4,
 "nbformat_minor": 0
}
