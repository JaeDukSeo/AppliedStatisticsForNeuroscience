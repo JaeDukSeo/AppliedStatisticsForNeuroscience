{
 "cells": [
  {
   "cell_type": "markdown",
   "metadata": {},
   "source": [
    "<img src=\"./img/HWNI_logo.svg\"/>"
   ]
  },
  {
   "cell_type": "markdown",
   "metadata": {},
   "source": [
    "# Tutorial - ANOVA by Hand"
   ]
  },
  {
   "cell_type": "code",
   "execution_count": 1,
   "metadata": {},
   "outputs": [
    {
     "data": {
      "text/html": [
       "<style>/* Originally by Brandon Rhodes, for use with Pandas*/\n",
       "body {\n",
       "    margin: 0;\n",
       "    font-family: Helvetica;\n",
       "}\n",
       "table.dataframe {\n",
       "    border-collapse: collapse;\n",
       "    border: none;\n",
       "}\n",
       "table.dataframe tr {\n",
       "    border: none;\n",
       "}\n",
       "table.dataframe td, table.dataframe th {\n",
       "    margin: 0;\n",
       "    border: 1px solid white;\n",
       "    padding-left: 0.25em;\n",
       "    padding-right: 0.25em;\n",
       "}\n",
       "table.dataframe th:not(:empty) {\n",
       "    background-color: #fec;\n",
       "    text-align: left;\n",
       "    font-weight: normal;\n",
       "}\n",
       "table.dataframe tr:nth-child(2) th:empty {\n",
       "    border-left: none;\n",
       "    border-right: 1px dashed #888;\n",
       "}\n",
       "table.dataframe td {\n",
       "    border: 2px solid #ccf;\n",
       "    background-color: #f4f4ff;\n",
       "}\n",
       "</style>"
      ],
      "text/plain": [
       "<IPython.core.display.HTML object>"
      ]
     },
     "execution_count": 1,
     "metadata": {},
     "output_type": "execute_result"
    }
   ],
   "source": [
    "# makes our plots show up inside Jupyter\n",
    "%matplotlib inline\n",
    "\n",
    "import numpy as np\n",
    "import pandas as pd\n",
    "\n",
    "import matplotlib.pyplot as plt\n",
    "import seaborn as sns\n",
    "\n",
    "import scipy.stats\n",
    "\n",
    "import util.utils as utils\n",
    "import util.shared as shared\n",
    "\n",
    "shared.format_plots()\n",
    "shared.format_dataframes()"
   ]
  },
  {
   "cell_type": "markdown",
   "metadata": {},
   "source": [
    "## Analysis of Variance"
   ]
  },
  {
   "cell_type": "markdown",
   "metadata": {},
   "source": []
  },
  {
   "cell_type": "markdown",
   "metadata": {},
   "source": [
    "## The Implicit Model in ANOVA"
   ]
  },
  {
   "cell_type": "markdown",
   "metadata": {},
   "source": []
  },
  {
   "cell_type": "markdown",
   "metadata": {},
   "source": [
    "## When Should You Use ANOVA?"
   ]
  },
  {
   "cell_type": "markdown",
   "metadata": {},
   "source": [
    "Define familywise error rate here?"
   ]
  },
  {
   "cell_type": "markdown",
   "metadata": {},
   "source": [
    "## Example Dataset"
   ]
  },
  {
   "cell_type": "markdown",
   "metadata": {},
   "source": [
    "For this week's lab, we'll be using some EEG data graciously provided by the [Voytek lab](http://voyteklab.com/about-us/) of UCSD. Participants of varying ages were asked to perform a working memory task with varying levels of difficulty. The raw EEG signal has been summarized into the following two measures:"
   ]
  },
  {
   "cell_type": "markdown",
   "metadata": {},
   "source": [
    "* [Contralateral Delay Activity](https://www.ncbi.nlm.nih.gov/pubmed/26802451), or CDA, is used to measure the engagement of visual working memory.\n",
    "\n",
    "* [Frontal Midline Theta](https://www.ncbi.nlm.nih.gov/pubmed/9895201) oscillation amplitude has been correlated with sustained, internally-directed cognitive activity.\n",
    "\n",
    "The performance of the subjects has also been summarized using the measure\n",
    "[d'](https://en.wikipedia.org/wiki/Sensitivity_index) (pronounced \"d-prime\"), also known as the *sensitivity index*. D' is a measure of the subject's performance in  a task. It's based on comparing the true positive rate and false positive rate."
   ]
  },
  {
   "cell_type": "markdown",
   "metadata": {},
   "source": [
    "## Loading the Data"
   ]
  },
  {
   "cell_type": "code",
   "execution_count": 2,
   "metadata": {},
   "outputs": [
    {
     "data": {
      "text/html": [
       "<div>\n",
       "<style>\n",
       "    .dataframe thead tr:only-child th {\n",
       "        text-align: right;\n",
       "    }\n",
       "\n",
       "    .dataframe thead th {\n",
       "        text-align: left;\n",
       "    }\n",
       "\n",
       "    .dataframe tbody tr th {\n",
       "        vertical-align: top;\n",
       "    }\n",
       "</style>\n",
       "<table border=\"1\" class=\"dataframe\">\n",
       "  <thead>\n",
       "    <tr style=\"text-align: right;\">\n",
       "      <th></th>\n",
       "      <th>idx</th>\n",
       "      <th>id</th>\n",
       "      <th>age_split</th>\n",
       "      <th>group</th>\n",
       "      <th>age</th>\n",
       "      <th>difficulty</th>\n",
       "      <th>d</th>\n",
       "      <th>cda</th>\n",
       "      <th>fmt</th>\n",
       "    </tr>\n",
       "  </thead>\n",
       "  <tbody>\n",
       "    <tr>\n",
       "      <th>47</th>\n",
       "      <td>23</td>\n",
       "      <td>24</td>\n",
       "      <td>4</td>\n",
       "      <td>2</td>\n",
       "      <td>68</td>\n",
       "      <td>2</td>\n",
       "      <td>2.87</td>\n",
       "      <td>1.00</td>\n",
       "      <td>-0.78</td>\n",
       "    </tr>\n",
       "    <tr>\n",
       "      <th>30</th>\n",
       "      <td>6</td>\n",
       "      <td>7</td>\n",
       "      <td>1</td>\n",
       "      <td>1</td>\n",
       "      <td>21</td>\n",
       "      <td>2</td>\n",
       "      <td>3.61</td>\n",
       "      <td>2.26</td>\n",
       "      <td>1.06</td>\n",
       "    </tr>\n",
       "    <tr>\n",
       "      <th>19</th>\n",
       "      <td>19</td>\n",
       "      <td>20</td>\n",
       "      <td>3</td>\n",
       "      <td>2</td>\n",
       "      <td>58</td>\n",
       "      <td>1</td>\n",
       "      <td>4.13</td>\n",
       "      <td>0.65</td>\n",
       "      <td>-1.12</td>\n",
       "    </tr>\n",
       "    <tr>\n",
       "      <th>20</th>\n",
       "      <td>20</td>\n",
       "      <td>21</td>\n",
       "      <td>3</td>\n",
       "      <td>2</td>\n",
       "      <td>55</td>\n",
       "      <td>1</td>\n",
       "      <td>4.61</td>\n",
       "      <td>2.03</td>\n",
       "      <td>-0.01</td>\n",
       "    </tr>\n",
       "    <tr>\n",
       "      <th>62</th>\n",
       "      <td>14</td>\n",
       "      <td>15</td>\n",
       "      <td>3</td>\n",
       "      <td>2</td>\n",
       "      <td>51</td>\n",
       "      <td>3</td>\n",
       "      <td>4.05</td>\n",
       "      <td>1.02</td>\n",
       "      <td>0.62</td>\n",
       "    </tr>\n",
       "  </tbody>\n",
       "</table>\n",
       "</div>"
      ],
      "text/plain": [
       "    idx  id  age_split  group  age  difficulty     d   cda   fmt\n",
       "47   23  24          4      2   68           2  2.87  1.00 -0.78\n",
       "30    6   7          1      1   21           2  3.61  2.26  1.06\n",
       "19   19  20          3      2   58           1  4.13  0.65 -1.12\n",
       "20   20  21          3      2   55           1  4.61  2.03 -0.01\n",
       "62   14  15          3      2   51           3  4.05  1.02  0.62"
      ]
     },
     "execution_count": 2,
     "metadata": {},
     "output_type": "execute_result"
    }
   ],
   "source": [
    "df = pd.read_csv('./data/voytek_working_memory_aging_split.csv',index_col=None)\n",
    "\n",
    "df.sample(5)"
   ]
  },
  {
   "cell_type": "markdown",
   "metadata": {},
   "source": [
    "For the purposes of this lab, we're interested only in how task difficulty affects our three measures. We're uninterested in the subject's metadata -- `age_split`, `group`, `age`, and `idx`. Let's begin by dropping those columns from our dataframe using the DataFrame method `drop`."
   ]
  },
  {
   "cell_type": "code",
   "execution_count": 3,
   "metadata": {},
   "outputs": [
    {
     "data": {
      "text/html": [
       "<div>\n",
       "<style>\n",
       "    .dataframe thead tr:only-child th {\n",
       "        text-align: right;\n",
       "    }\n",
       "\n",
       "    .dataframe thead th {\n",
       "        text-align: left;\n",
       "    }\n",
       "\n",
       "    .dataframe tbody tr th {\n",
       "        vertical-align: top;\n",
       "    }\n",
       "</style>\n",
       "<table border=\"1\" class=\"dataframe\">\n",
       "  <thead>\n",
       "    <tr style=\"text-align: right;\">\n",
       "      <th></th>\n",
       "      <th>id</th>\n",
       "      <th>difficulty</th>\n",
       "      <th>d</th>\n",
       "      <th>cda</th>\n",
       "      <th>fmt</th>\n",
       "    </tr>\n",
       "  </thead>\n",
       "  <tbody>\n",
       "    <tr>\n",
       "      <th>0</th>\n",
       "      <td>1</td>\n",
       "      <td>1</td>\n",
       "      <td>4.86</td>\n",
       "      <td>1.00</td>\n",
       "      <td>0.80</td>\n",
       "    </tr>\n",
       "    <tr>\n",
       "      <th>24</th>\n",
       "      <td>1</td>\n",
       "      <td>2</td>\n",
       "      <td>4.89</td>\n",
       "      <td>2.04</td>\n",
       "      <td>0.49</td>\n",
       "    </tr>\n",
       "    <tr>\n",
       "      <th>48</th>\n",
       "      <td>1</td>\n",
       "      <td>3</td>\n",
       "      <td>4.55</td>\n",
       "      <td>1.81</td>\n",
       "      <td>0.29</td>\n",
       "    </tr>\n",
       "  </tbody>\n",
       "</table>\n",
       "</div>"
      ],
      "text/plain": [
       "    id  difficulty     d   cda   fmt\n",
       "0    1           1  4.86  1.00  0.80\n",
       "24   1           2  4.89  2.04  0.49\n",
       "48   1           3  4.55  1.81  0.29"
      ]
     },
     "execution_count": 3,
     "metadata": {},
     "output_type": "execute_result"
    }
   ],
   "source": [
    "data = df.drop(['age_split','group','age','idx'], axis=1)\n",
    "data[data.id == 1]"
   ]
  },
  {
   "cell_type": "markdown",
   "metadata": {},
   "source": [
    "It's good practice to keep an original copy of your dataframe around (here, named `df`) so you can undo irreversible changes, like dropping columns."
   ]
  },
  {
   "cell_type": "markdown",
   "metadata": {},
   "source": [
    "## ANOVA the Hard Way"
   ]
  },
  {
   "cell_type": "markdown",
   "metadata": {},
   "source": [
    "To get a better understanding of ANOVA, we'll now implement it from scratch.\n",
    "\n",
    "To get started, you'll need the total number of observations $N$, the group size (here, each group is the same size), and the keys for each group (here, 1, 2, and 3, and they're stored in the second level of the column multi-index).\n",
    "\n",
    "The first cell picks a measure to run ANOVA on. We'll want to write all of our code that follows in such a way that we can run ANOVA on the other measures just by changing this one cell."
   ]
  },
  {
   "cell_type": "code",
   "execution_count": 4,
   "metadata": {
    "collapsed": true
   },
   "outputs": [],
   "source": [
    "measure = \"cda\""
   ]
  },
  {
   "cell_type": "code",
   "execution_count": 5,
   "metadata": {
    "collapsed": true
   },
   "outputs": [],
   "source": [
    "N = len(data[measure])\n",
    "\n",
    "groups = data[\"difficulty\"].unique()"
   ]
  },
  {
   "cell_type": "code",
   "execution_count": 6,
   "metadata": {},
   "outputs": [
    {
     "data": {
      "text/plain": [
       "array([1, 2, 3])"
      ]
     },
     "execution_count": 6,
     "metadata": {},
     "output_type": "execute_result"
    }
   ],
   "source": [
    "groups"
   ]
  },
  {
   "cell_type": "markdown",
   "metadata": {},
   "source": [
    "We'll proceed by generating a new data frame that contains all the information we need to perform an ANOVA -- each row will contain the grand mean and the group mean, the explained component, and the residual for that observation. We will call this our `anova_frame`."
   ]
  },
  {
   "cell_type": "code",
   "execution_count": 7,
   "metadata": {
    "collapsed": true
   },
   "outputs": [],
   "source": [
    "anova_frame = data.copy()"
   ]
  },
  {
   "cell_type": "markdown",
   "metadata": {},
   "source": [
    "The cell below computes the grand mean and the group mean for each difficulty level and stores them in the `anova_frame`."
   ]
  },
  {
   "cell_type": "code",
   "execution_count": 8,
   "metadata": {
    "collapsed": true
   },
   "outputs": [],
   "source": [
    "anova_frame[\"grand_mean\"] = anova_frame[measure].mean()\n",
    "\n",
    "group_means = anova_frame.groupby(\"difficulty\")[measure].mean()\n",
    "\n",
    "for group in groups:\n",
    "    anova_frame.loc[anova_frame.difficulty==group,\"group_mean\"] = group_means[group]"
   ]
  },
  {
   "cell_type": "markdown",
   "metadata": {},
   "source": [
    "Let's take a look at the resulting data frame."
   ]
  },
  {
   "cell_type": "code",
   "execution_count": 9,
   "metadata": {},
   "outputs": [
    {
     "data": {
      "text/html": [
       "<div>\n",
       "<style>\n",
       "    .dataframe thead tr:only-child th {\n",
       "        text-align: right;\n",
       "    }\n",
       "\n",
       "    .dataframe thead th {\n",
       "        text-align: left;\n",
       "    }\n",
       "\n",
       "    .dataframe tbody tr th {\n",
       "        vertical-align: top;\n",
       "    }\n",
       "</style>\n",
       "<table border=\"1\" class=\"dataframe\">\n",
       "  <thead>\n",
       "    <tr style=\"text-align: right;\">\n",
       "      <th></th>\n",
       "      <th>id</th>\n",
       "      <th>difficulty</th>\n",
       "      <th>d</th>\n",
       "      <th>cda</th>\n",
       "      <th>fmt</th>\n",
       "      <th>grand_mean</th>\n",
       "      <th>group_mean</th>\n",
       "    </tr>\n",
       "  </thead>\n",
       "  <tbody>\n",
       "    <tr>\n",
       "      <th>43</th>\n",
       "      <td>20</td>\n",
       "      <td>2</td>\n",
       "      <td>2.88</td>\n",
       "      <td>1.87</td>\n",
       "      <td>-1.79</td>\n",
       "      <td>1.474444</td>\n",
       "      <td>1.484167</td>\n",
       "    </tr>\n",
       "    <tr>\n",
       "      <th>54</th>\n",
       "      <td>7</td>\n",
       "      <td>3</td>\n",
       "      <td>3.05</td>\n",
       "      <td>3.40</td>\n",
       "      <td>0.76</td>\n",
       "      <td>1.474444</td>\n",
       "      <td>1.836250</td>\n",
       "    </tr>\n",
       "    <tr>\n",
       "      <th>34</th>\n",
       "      <td>11</td>\n",
       "      <td>2</td>\n",
       "      <td>4.26</td>\n",
       "      <td>2.09</td>\n",
       "      <td>0.71</td>\n",
       "      <td>1.474444</td>\n",
       "      <td>1.484167</td>\n",
       "    </tr>\n",
       "    <tr>\n",
       "      <th>23</th>\n",
       "      <td>24</td>\n",
       "      <td>1</td>\n",
       "      <td>3.32</td>\n",
       "      <td>0.14</td>\n",
       "      <td>-0.47</td>\n",
       "      <td>1.474444</td>\n",
       "      <td>1.102917</td>\n",
       "    </tr>\n",
       "    <tr>\n",
       "      <th>45</th>\n",
       "      <td>22</td>\n",
       "      <td>2</td>\n",
       "      <td>4.34</td>\n",
       "      <td>0.93</td>\n",
       "      <td>0.25</td>\n",
       "      <td>1.474444</td>\n",
       "      <td>1.484167</td>\n",
       "    </tr>\n",
       "    <tr>\n",
       "      <th>9</th>\n",
       "      <td>10</td>\n",
       "      <td>1</td>\n",
       "      <td>4.26</td>\n",
       "      <td>2.15</td>\n",
       "      <td>1.33</td>\n",
       "      <td>1.474444</td>\n",
       "      <td>1.102917</td>\n",
       "    </tr>\n",
       "    <tr>\n",
       "      <th>58</th>\n",
       "      <td>11</td>\n",
       "      <td>3</td>\n",
       "      <td>4.82</td>\n",
       "      <td>1.45</td>\n",
       "      <td>1.02</td>\n",
       "      <td>1.474444</td>\n",
       "      <td>1.836250</td>\n",
       "    </tr>\n",
       "    <tr>\n",
       "      <th>62</th>\n",
       "      <td>15</td>\n",
       "      <td>3</td>\n",
       "      <td>4.05</td>\n",
       "      <td>1.02</td>\n",
       "      <td>0.62</td>\n",
       "      <td>1.474444</td>\n",
       "      <td>1.836250</td>\n",
       "    </tr>\n",
       "    <tr>\n",
       "      <th>59</th>\n",
       "      <td>12</td>\n",
       "      <td>3</td>\n",
       "      <td>3.15</td>\n",
       "      <td>1.01</td>\n",
       "      <td>-0.55</td>\n",
       "      <td>1.474444</td>\n",
       "      <td>1.836250</td>\n",
       "    </tr>\n",
       "    <tr>\n",
       "      <th>69</th>\n",
       "      <td>22</td>\n",
       "      <td>3</td>\n",
       "      <td>4.56</td>\n",
       "      <td>1.20</td>\n",
       "      <td>0.61</td>\n",
       "      <td>1.474444</td>\n",
       "      <td>1.836250</td>\n",
       "    </tr>\n",
       "  </tbody>\n",
       "</table>\n",
       "</div>"
      ],
      "text/plain": [
       "    id  difficulty     d   cda   fmt  grand_mean  group_mean\n",
       "43  20           2  2.88  1.87 -1.79    1.474444    1.484167\n",
       "54   7           3  3.05  3.40  0.76    1.474444    1.836250\n",
       "34  11           2  4.26  2.09  0.71    1.474444    1.484167\n",
       "23  24           1  3.32  0.14 -0.47    1.474444    1.102917\n",
       "45  22           2  4.34  0.93  0.25    1.474444    1.484167\n",
       "9   10           1  4.26  2.15  1.33    1.474444    1.102917\n",
       "58  11           3  4.82  1.45  1.02    1.474444    1.836250\n",
       "62  15           3  4.05  1.02  0.62    1.474444    1.836250\n",
       "59  12           3  3.15  1.01 -0.55    1.474444    1.836250\n",
       "69  22           3  4.56  1.20  0.61    1.474444    1.836250"
      ]
     },
     "execution_count": 9,
     "metadata": {},
     "output_type": "execute_result"
    }
   ],
   "source": [
    "anova_frame.sample(10)"
   ]
  },
  {
   "cell_type": "markdown",
   "metadata": {},
   "source": [
    "There are only three unique values in the `group_mean` column, corresponding to the three group means. If we calculate their average value, we'll find that it is equal to the grand mean."
   ]
  },
  {
   "cell_type": "code",
   "execution_count": 10,
   "metadata": {},
   "outputs": [
    {
     "name": "stdout",
     "output_type": "stream",
     "text": [
      "[ 1.10291667  1.48416667  1.83625   ]\n"
     ]
    },
    {
     "data": {
      "text/plain": [
       "True"
      ]
     },
     "execution_count": 10,
     "metadata": {},
     "output_type": "execute_result"
    }
   ],
   "source": [
    "group_means = anova_frame[\"group_mean\"].unique()\n",
    "\n",
    "print(group_means)\n",
    "\n",
    "np.mean(group_means) - anova_frame[measure].mean() < 1e-4"
   ]
  },
  {
   "cell_type": "markdown",
   "metadata": {},
   "source": [
    "This value is equal to the grand mean. If we know the grand mean, we only need two of the group means to know the other.\n",
    "\n",
    "**degrees of freedom**\n"
   ]
  },
  {
   "cell_type": "markdown",
   "metadata": {},
   "source": [
    "Now, we compute the explained and unexplained components for each observation. The explained differences are the differences between the group average and the overall average. The unexplained difference is the difference between the individual score and the group average."
   ]
  },
  {
   "cell_type": "code",
   "execution_count": 11,
   "metadata": {
    "collapsed": true
   },
   "outputs": [],
   "source": [
    "anova_frame[\"explained\"] = anova_frame[\"group_mean\"]-anova_frame[\"grand_mean\"]\n",
    "\n",
    "anova_frame[\"residual\"] = anova_frame[measure]-anova_frame[\"group_mean\"]"
   ]
  },
  {
   "cell_type": "code",
   "execution_count": 12,
   "metadata": {},
   "outputs": [
    {
     "data": {
      "text/html": [
       "<div>\n",
       "<style>\n",
       "    .dataframe thead tr:only-child th {\n",
       "        text-align: right;\n",
       "    }\n",
       "\n",
       "    .dataframe thead th {\n",
       "        text-align: left;\n",
       "    }\n",
       "\n",
       "    .dataframe tbody tr th {\n",
       "        vertical-align: top;\n",
       "    }\n",
       "</style>\n",
       "<table border=\"1\" class=\"dataframe\">\n",
       "  <thead>\n",
       "    <tr style=\"text-align: right;\">\n",
       "      <th></th>\n",
       "      <th>id</th>\n",
       "      <th>difficulty</th>\n",
       "      <th>d</th>\n",
       "      <th>cda</th>\n",
       "      <th>fmt</th>\n",
       "      <th>grand_mean</th>\n",
       "      <th>group_mean</th>\n",
       "      <th>explained</th>\n",
       "      <th>residual</th>\n",
       "    </tr>\n",
       "  </thead>\n",
       "  <tbody>\n",
       "    <tr>\n",
       "      <th>44</th>\n",
       "      <td>21</td>\n",
       "      <td>2</td>\n",
       "      <td>4.25</td>\n",
       "      <td>1.73</td>\n",
       "      <td>-0.34</td>\n",
       "      <td>1.474444</td>\n",
       "      <td>1.484167</td>\n",
       "      <td>0.009722</td>\n",
       "      <td>0.245833</td>\n",
       "    </tr>\n",
       "    <tr>\n",
       "      <th>48</th>\n",
       "      <td>1</td>\n",
       "      <td>3</td>\n",
       "      <td>4.55</td>\n",
       "      <td>1.81</td>\n",
       "      <td>0.29</td>\n",
       "      <td>1.474444</td>\n",
       "      <td>1.836250</td>\n",
       "      <td>0.361806</td>\n",
       "      <td>-0.026250</td>\n",
       "    </tr>\n",
       "    <tr>\n",
       "      <th>54</th>\n",
       "      <td>7</td>\n",
       "      <td>3</td>\n",
       "      <td>3.05</td>\n",
       "      <td>3.40</td>\n",
       "      <td>0.76</td>\n",
       "      <td>1.474444</td>\n",
       "      <td>1.836250</td>\n",
       "      <td>0.361806</td>\n",
       "      <td>1.563750</td>\n",
       "    </tr>\n",
       "    <tr>\n",
       "      <th>64</th>\n",
       "      <td>17</td>\n",
       "      <td>3</td>\n",
       "      <td>3.80</td>\n",
       "      <td>1.46</td>\n",
       "      <td>0.28</td>\n",
       "      <td>1.474444</td>\n",
       "      <td>1.836250</td>\n",
       "      <td>0.361806</td>\n",
       "      <td>-0.376250</td>\n",
       "    </tr>\n",
       "    <tr>\n",
       "      <th>46</th>\n",
       "      <td>23</td>\n",
       "      <td>2</td>\n",
       "      <td>3.27</td>\n",
       "      <td>1.87</td>\n",
       "      <td>0.89</td>\n",
       "      <td>1.474444</td>\n",
       "      <td>1.484167</td>\n",
       "      <td>0.009722</td>\n",
       "      <td>0.385833</td>\n",
       "    </tr>\n",
       "    <tr>\n",
       "      <th>33</th>\n",
       "      <td>10</td>\n",
       "      <td>2</td>\n",
       "      <td>4.72</td>\n",
       "      <td>1.36</td>\n",
       "      <td>1.37</td>\n",
       "      <td>1.474444</td>\n",
       "      <td>1.484167</td>\n",
       "      <td>0.009722</td>\n",
       "      <td>-0.124167</td>\n",
       "    </tr>\n",
       "    <tr>\n",
       "      <th>27</th>\n",
       "      <td>4</td>\n",
       "      <td>2</td>\n",
       "      <td>4.89</td>\n",
       "      <td>1.79</td>\n",
       "      <td>0.53</td>\n",
       "      <td>1.474444</td>\n",
       "      <td>1.484167</td>\n",
       "      <td>0.009722</td>\n",
       "      <td>0.305833</td>\n",
       "    </tr>\n",
       "    <tr>\n",
       "      <th>26</th>\n",
       "      <td>3</td>\n",
       "      <td>2</td>\n",
       "      <td>4.29</td>\n",
       "      <td>1.36</td>\n",
       "      <td>0.22</td>\n",
       "      <td>1.474444</td>\n",
       "      <td>1.484167</td>\n",
       "      <td>0.009722</td>\n",
       "      <td>-0.124167</td>\n",
       "    </tr>\n",
       "    <tr>\n",
       "      <th>67</th>\n",
       "      <td>20</td>\n",
       "      <td>3</td>\n",
       "      <td>2.32</td>\n",
       "      <td>2.01</td>\n",
       "      <td>-1.47</td>\n",
       "      <td>1.474444</td>\n",
       "      <td>1.836250</td>\n",
       "      <td>0.361806</td>\n",
       "      <td>0.173750</td>\n",
       "    </tr>\n",
       "    <tr>\n",
       "      <th>37</th>\n",
       "      <td>14</td>\n",
       "      <td>2</td>\n",
       "      <td>3.43</td>\n",
       "      <td>1.52</td>\n",
       "      <td>0.24</td>\n",
       "      <td>1.474444</td>\n",
       "      <td>1.484167</td>\n",
       "      <td>0.009722</td>\n",
       "      <td>0.035833</td>\n",
       "    </tr>\n",
       "  </tbody>\n",
       "</table>\n",
       "</div>"
      ],
      "text/plain": [
       "    id  difficulty     d   cda   fmt  grand_mean  group_mean  explained  \\\n",
       "44  21           2  4.25  1.73 -0.34    1.474444    1.484167   0.009722   \n",
       "48   1           3  4.55  1.81  0.29    1.474444    1.836250   0.361806   \n",
       "54   7           3  3.05  3.40  0.76    1.474444    1.836250   0.361806   \n",
       "64  17           3  3.80  1.46  0.28    1.474444    1.836250   0.361806   \n",
       "46  23           2  3.27  1.87  0.89    1.474444    1.484167   0.009722   \n",
       "33  10           2  4.72  1.36  1.37    1.474444    1.484167   0.009722   \n",
       "27   4           2  4.89  1.79  0.53    1.474444    1.484167   0.009722   \n",
       "26   3           2  4.29  1.36  0.22    1.474444    1.484167   0.009722   \n",
       "67  20           3  2.32  2.01 -1.47    1.474444    1.836250   0.361806   \n",
       "37  14           2  3.43  1.52  0.24    1.474444    1.484167   0.009722   \n",
       "\n",
       "    residual  \n",
       "44  0.245833  \n",
       "48 -0.026250  \n",
       "54  1.563750  \n",
       "64 -0.376250  \n",
       "46  0.385833  \n",
       "33 -0.124167  \n",
       "27  0.305833  \n",
       "26 -0.124167  \n",
       "67  0.173750  \n",
       "37  0.035833  "
      ]
     },
     "execution_count": 12,
     "metadata": {},
     "output_type": "execute_result"
    }
   ],
   "source": [
    "anova_frame.sample(10)"
   ]
  },
  {
   "cell_type": "markdown",
   "metadata": {},
   "source": [
    "To check our work, we confirm that the total value for each observation is equal to the sum of the grand mean, the explained component, and the residual."
   ]
  },
  {
   "cell_type": "code",
   "execution_count": 13,
   "metadata": {},
   "outputs": [
    {
     "data": {
      "text/plain": [
       "True"
      ]
     },
     "execution_count": 13,
     "metadata": {},
     "output_type": "execute_result"
    }
   ],
   "source": [
    "np.isclose(anova_frame[measure],anova_frame[\"grand_mean\"] \n",
    "                                + anova_frame[\"explained\"]\n",
    "                                  + anova_frame[\"residual\"]).all()"
   ]
  },
  {
   "cell_type": "markdown",
   "metadata": {},
   "source": [
    "Now, write a sum-of-squares function using `np.sum` and `np.square` and then use it to compute the following sum of squares values:\n",
    "\n",
    "- total sum of squares\n",
    "- sum of the grand mean squared\n",
    "- sum of squares explained by the model\n",
    "- residual sum of squares (component not explained by the model)\n",
    "\n",
    "Also, calculate the explainable sum of squares from the difference of two of the above quantities.\n",
    "\n",
    "The assertion statements in the final code block can be used to check your work.\n",
    "\n",
    "We'll store the sums of squares in a dictionary, `sum_of_squares`, using the column name as the key."
   ]
  },
  {
   "cell_type": "markdown",
   "metadata": {},
   "source": [
    "** these are called different things by different folks. write formulas. **"
   ]
  },
  {
   "cell_type": "code",
   "execution_count": 14,
   "metadata": {
    "collapsed": true
   },
   "outputs": [],
   "source": [
    "sum_of_squares = {}\n",
    "\n",
    "keys = [measure,\"grand_mean\",\"explained\",\"residual\"]\n",
    "\n",
    "for key in keys:\n",
    "    sum_of_squares[key] = np.sum(np.square((anova_frame[key])))\n",
    "    \n",
    "sum_of_squares[\"explainable\"] = sum_of_squares[measure] - sum_of_squares[\"grand_mean\"]"
   ]
  },
  {
   "cell_type": "code",
   "execution_count": 15,
   "metadata": {
    "collapsed": true
   },
   "outputs": [],
   "source": [
    "#these should be the same, except for computer rounding error\n",
    "\n",
    "assert( sum_of_squares[measure] - (sum_of_squares[\"grand_mean\"] + \n",
    "                                 sum_of_squares[\"explainable\"]) <= 1e-4 )\n",
    "\n",
    "assert( sum_of_squares[\"explainable\"] - (sum_of_squares[\"explained\"] +\n",
    "                                       sum_of_squares[\"residual\"]) <= 1e-4 )"
   ]
  },
  {
   "cell_type": "code",
   "execution_count": 16,
   "metadata": {},
   "outputs": [
    {
     "data": {
      "text/plain": [
       "{'cda': 204.53820000000002,\n",
       " 'explainable': 48.011177777777817,\n",
       " 'explained': 6.4567361111111206,\n",
       " 'grand_mean': 156.5270222222222,\n",
       " 'residual': 41.554441666666669}"
      ]
     },
     "execution_count": 16,
     "metadata": {},
     "output_type": "execute_result"
    }
   ],
   "source": [
    "sum_of_squares"
   ]
  },
  {
   "cell_type": "markdown",
   "metadata": {},
   "source": [
    "Now, we need to calculate the following degrees of freedom in this model:\n",
    "\n",
    "- total degrees of freedom\n",
    "- the degrees of freedom of the model (or explained degrees of freedom)\n",
    "- the \"leftover\" degrees of freedom (or the unexplained degrees of freedom)"
   ]
  },
  {
   "cell_type": "code",
   "execution_count": 17,
   "metadata": {
    "collapsed": true
   },
   "outputs": [],
   "source": [
    "# k is the number of groups\n",
    "k = len(groups)\n",
    "\n",
    "dof = {}\n",
    "vals = [N,1,k-1,N-k]\n",
    "\n",
    "for key,val in zip(keys,vals):\n",
    "    dof[key] = val"
   ]
  },
  {
   "cell_type": "code",
   "execution_count": 18,
   "metadata": {},
   "outputs": [
    {
     "data": {
      "text/plain": [
       "{'cda': 72, 'explained': 2, 'grand_mean': 1, 'residual': 69}"
      ]
     },
     "execution_count": 18,
     "metadata": {},
     "output_type": "execute_result"
    }
   ],
   "source": [
    "dof"
   ]
  },
  {
   "cell_type": "code",
   "execution_count": 19,
   "metadata": {
    "collapsed": true
   },
   "outputs": [],
   "source": [
    "assert(sum([dof[key] for key in dof.keys()]) == 2*N)"
   ]
  },
  {
   "cell_type": "markdown",
   "metadata": {},
   "source": [
    "Now, we calculate our estimate for the mean square of the explained and unexplained components. Note that, because we are estimating a parameter of the population, we want to use the appropriate degree of freedom instead of the raw $N$ for each average."
   ]
  },
  {
   "cell_type": "code",
   "execution_count": 20,
   "metadata": {
    "collapsed": true
   },
   "outputs": [],
   "source": [
    "mean_square = {}\n",
    "\n",
    "for key in [\"explained\",\"residual\"]:\n",
    "    mean_square[key] = sum_of_squares[key]/dof[key]"
   ]
  },
  {
   "cell_type": "code",
   "execution_count": 21,
   "metadata": {},
   "outputs": [
    {
     "data": {
      "text/plain": [
       "{'explained': 3.2283680555555603, 'residual': 0.60223828502415466}"
      ]
     },
     "execution_count": 21,
     "metadata": {},
     "output_type": "execute_result"
    }
   ],
   "source": [
    "mean_square"
   ]
  },
  {
   "cell_type": "markdown",
   "metadata": {},
   "source": [
    "The mean square of the explained component tells us how much, on average, our hypothesis is able to improve, in terms of squared error, our guess of the value of our outcome variable over the \"null\" hypothesis. The bigger this is, the more supported our hypothesis is, and the less likely we are to have observed such a result if the null hypothesis were true.\n",
    "\n",
    "However, a mean square value by itself doesn't tell you much  -- is reduction of 2 in mean squared error a \"big\" improvement? For our data, it would be, but for data with units in the billions and spread in the millions, it would not be. Therefore, if we want a statistic that tells us how good our hypothesis is, we need to somehow take into account the amount of unexplained variance.\n",
    "\n",
    "The statistic used for this purpose in ANOVA is the *$F$-statistic*, named in honor of its inventor, [Sir Ronald Fisher](https://en.wikipedia.org/wiki/Ronald_Fisher). Compute the value of $F$ for this data below."
   ]
  },
  {
   "cell_type": "code",
   "execution_count": 22,
   "metadata": {},
   "outputs": [
    {
     "data": {
      "text/plain": [
       "5.3606157825487237"
      ]
     },
     "execution_count": 22,
     "metadata": {},
     "output_type": "execute_result"
    }
   ],
   "source": [
    "F = mean_square[\"explained\"]/mean_square[\"residual\"]\n",
    "\n",
    "F"
   ]
  },
  {
   "cell_type": "markdown",
   "metadata": {},
   "source": [
    "In\n",
    "[the lab for this section](./Lab - One-Way ANOVA.ipynb),\n",
    "we will first walk through the versions of ANOVA\n",
    "provided by the `scipy` and `statsmodels`\n",
    "packages,\n",
    "then extend the \"homemade\" approach above\n",
    "to calculating $p$ values and effect sizes."
   ]
  }
 ],
 "metadata": {
  "anaconda-cloud": {},
  "kernelspec": {
   "display_name": "Python 3",
   "language": "python",
   "name": "python3"
  },
  "language_info": {
   "codemirror_mode": {
    "name": "ipython",
    "version": 3
   },
   "file_extension": ".py",
   "mimetype": "text/x-python",
   "name": "python",
   "nbconvert_exporter": "python",
   "pygments_lexer": "ipython3",
   "version": "3.6.2"
  }
 },
 "nbformat": 4,
 "nbformat_minor": 1
}
