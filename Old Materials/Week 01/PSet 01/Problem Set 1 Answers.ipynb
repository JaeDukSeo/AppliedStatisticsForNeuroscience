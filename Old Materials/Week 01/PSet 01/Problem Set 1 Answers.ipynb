{
 "cells": [
  {
   "cell_type": "markdown",
   "metadata": {},
   "source": [
    "# Problem Set 1\n",
    "\n",
    "## Question 1: R Tutorial\n",
    "\n",
    "Work through the provided tutorial (FirstRTutorial.pdf). Type in and run all the example code as you read through the document. This is especially important for first-time coders, as it will help you learn the proper notation. You should complete all the exercises in the handout, but you only need to hand in the ones listed below. \n",
    " \n",
    "I. Section 3, Problem 2 \n",
    "\n",
    "II. Section 5, Problems 1 and 2 \n",
    "\n",
    "III. Section 7, Problem 1 \n",
    "\n",
    "IV. Section 8, Problem 1 \n",
    "\n",
    "V. Section 9, Problems 1 and 2 \n",
    "\n",
    "A hint for III: remember that $X \\ \\text{~} \\ \\mathcal{N}(3,2^2)$ just means that $X$ is normally distributed with a mean of 3 and a standard deviation of 2. If you need to brush up on the terminology or mathematics of distributions please refer to the additional materials section of this week’s assignments. For more details on these R functions, see http://www.cyclismo.org/tutorial/R/probability.html.\n"
   ]
  },
  {
   "cell_type": "code",
   "execution_count": null,
   "metadata": {
    "collapsed": false,
    "nbgrader": {
     "grade": false,
     "grade_id": "attach_data",
     "locked": true,
     "solution": false
    }
   },
   "outputs": [],
   "source": [
    "#attach to datasets -- only run this cell once!\n",
    "\n",
    "data(quakes)\n",
    "attach(quakes)\n",
    "\n",
    "data(mtcars)\n",
    "attach(mtcars)"
   ]
  },
  {
   "cell_type": "code",
   "execution_count": null,
   "metadata": {
    "collapsed": false,
    "nbgrader": {
     "grade": false,
     "grade_id": "r_tutorial_Qs",
     "locked": false,
     "solution": true
    }
   },
   "outputs": [],
   "source": [
    "# I\n",
    "\n",
    "y <- c(33,44,29,16,25,45,33,19,54,22,21,49,11,24,56)\n",
    "\n",
    "day2 <- mean(y[4:6]) #store summary stats for the second day here\n",
    "shop3 <- mean(y[seq(3,length(y),by=3)]) #store summary stats for the third shop here\n",
    "#NOTE: only these answers will be checked\n",
    "\n",
    "# II\n",
    "\n",
    "depthMean <- mean(depth)\n",
    "depthMedian <- median(depth)\n",
    "magMin <- min(mag)\n",
    "magMax <- max(mag)\n",
    "\n",
    "meanWeight <- mean(wt)\n",
    "meanFuel <- mean(mpg)\n",
    "\n",
    "# III\n",
    "\n",
    "a <- dnorm(0.5,2,0.5)\n",
    "b <- pnorm(2.5,2,0.5)\n",
    "c <- qnorm(0.95,2,0.5)\n",
    "d <- pnorm(3,2,0.5)-pnorm(1,2,0.5)"
   ]
  },
  {
   "cell_type": "code",
   "execution_count": null,
   "metadata": {
    "collapsed": false,
    "nbgrader": {
     "grade": true,
     "grade_id": "r_tutorial_Q4",
     "locked": false,
     "points": 1,
     "solution": true
    }
   },
   "outputs": [],
   "source": [
    "# IV"
   ]
  },
  {
   "cell_type": "code",
   "execution_count": null,
   "metadata": {
    "collapsed": false,
    "nbgrader": {
     "grade": false,
     "grade_id": "r_tutorial_Q5",
     "locked": false,
     "solution": true
    }
   },
   "outputs": [],
   "source": [
    "# V\n",
    "\n",
    "myCorPlotFunk <- function(x,y){\n",
    "    return cor(x,y)\n",
    "} #make sure to only return the correlation! \n",
    "#if you're curious, check what happens if you return the output of a plotting function\n",
    "\n",
    "mySumsFunk <- function(x) {\n",
    "    return c(sum(x),sum(x^2))\n",
    "} #return the sum and the sum of squares in that order!"
   ]
  },
  {
   "cell_type": "code",
   "execution_count": null,
   "metadata": {
    "collapsed": false,
    "nbgrader": {
     "grade": true,
     "grade_id": "r_tutorial_Q5_tests",
     "locked": true,
     "points": 1,
     "solution": false
    }
   },
   "outputs": [],
   "source": [
    "x = rnorm(10); y = rnorm(10)\n",
    "assert_that(are_equal(myCorPlotFunk(x,y),cor(x,y)))\n",
    "assert_that(are_equal(mySumsFunk(x),c(sum(x),sum(x^2))))"
   ]
  },
  {
   "cell_type": "markdown",
   "metadata": {},
   "source": [
    "## Question 2: What's in a norm?\n",
    "\n",
    "Explain the `dnorm`, `pnorm`, and `qnorm` functions in your own words."
   ]
  },
  {
   "cell_type": "code",
   "execution_count": null,
   "metadata": {
    "collapsed": true,
    "nbgrader": {
     "grade": true,
     "grade_id": "question_2",
     "locked": false,
     "points": 3,
     "solution": true
    }
   },
   "outputs": [],
   "source": []
  },
  {
   "cell_type": "markdown",
   "metadata": {},
   "source": [
    "## Question 3: Time Flies\n",
    "\n",
    "You’re studying courtship behavior in flies and you want to know the average number of times a wildtype male fly attempts copulation in one day. You’ve videotaped 30 individual male flies in vials with dozens of virgin females. After you’ve subjected your undergrad to watching all the videos and counting the copulation attempts, she provides you with the numbers below.\n",
    "\n",
    "First, calculate the mean, median, and standard deviation of your sample. Produce a histogram with six bins and six axis labels.\n",
    "Then, create a function that computes a 95% confidence interval from an input vector and calculate a 95% confidence interval on the data. \n",
    "Finally, explain, in your own words, what this means. Answer in the text box below."
   ]
  },
  {
   "cell_type": "code",
   "execution_count": null,
   "metadata": {
    "collapsed": false,
    "nbgrader": {
     "grade": true,
     "grade_id": "question_3",
     "locked": false,
     "points": 1,
     "solution": true
    }
   },
   "outputs": [],
   "source": [
    "flyData<-c(31,15,12,21,26,10,12,25,27,25,\n",
    "16,19,16,18,8,13,22,19,29,17,\n",
    "30,14,9,22,28,19,30,23,20,17)\n",
    "\n",
    "flyMean <- mean(flyData)\n",
    "flyMedian <- median(flyData)\n",
    "flySD <- sqrt(var(flyData))\n",
    "\n",
    "err <- qnorm(0.975)*(flySD)/sqrt(length(flyData))\n",
    "\n",
    "confInterval <- c(flyMean-err,flyMean+err)\n",
    "\n",
    "myConfFunk <- function(x) {} #return confInterval as a vector, lower bound then upper\n",
    "\n",
    "#ALSO PRINT YOUR HISTOGRAM IN THIS BOX"
   ]
  },
  {
   "cell_type": "code",
   "execution_count": null,
   "metadata": {
    "collapsed": false
   },
   "outputs": [],
   "source": []
  },
  {
   "cell_type": "markdown",
   "metadata": {
    "nbgrader": {
     "grade": true,
     "grade_id": "conf_interval",
     "locked": false,
     "points": 2,
     "solution": true
    }
   },
   "source": [
    "A 95% confidence interval is"
   ]
  }
 ],
 "metadata": {
  "kernelspec": {
   "display_name": "R",
   "language": "R",
   "name": "ir"
  },
  "language_info": {
   "codemirror_mode": "r",
   "file_extension": ".r",
   "mimetype": "text/x-r-source",
   "name": "R",
   "pygments_lexer": "r",
   "version": "3.2.2"
  }
 },
 "nbformat": 4,
 "nbformat_minor": 0
}
