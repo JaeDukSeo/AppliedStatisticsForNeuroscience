{
 "cells": [
  {
   "cell_type": "markdown",
   "metadata": {},
   "source": [
    "<img src=\"./img/HWNI_logo.svg\"/>"
   ]
  },
  {
   "cell_type": "markdown",
   "metadata": {},
   "source": [
    "# Lab 05a - Two-Way ANOVA"
   ]
  },
  {
   "cell_type": "code",
   "execution_count": null,
   "metadata": {
    "collapsed": false
   },
   "outputs": [],
   "source": [
    "# makes our plots show up inside Jupyter\n",
    "%matplotlib inline\n",
    "\n",
    "import numpy as np\n",
    "import pandas as pd\n",
    "\n",
    "import matplotlib.pyplot as plt\n",
    "import seaborn as sns\n",
    "\n",
    "import scipy.stats\n",
    "\n",
    "# choose colors that work for most color-blind folks\n",
    "sns.set_palette(\"colorblind\")\n",
    "sns.set(color_codes=True)\n",
    "\n",
    "import util.lab05utils as utils \n",
    "\n",
    "# this makes our tables easier to read\n",
    "utils.formatDataframes()"
   ]
  },
  {
   "cell_type": "markdown",
   "metadata": {},
   "source": [
    "## About the Lab"
   ]
  },
  {
   "cell_type": "markdown",
   "metadata": {},
   "source": [
    "The first half of the lab is similar to Lab 04 -- you will code an ANOVA by hand as a computational exercise. The second half, on multiple comparisons, is set up as an experiment. \n",
    "\n",
    "So, even if you get stuck on writing the code for this half of the lab, you can still do the second half of the lab. Also, don't hesitate to post questions to bCourses!"
   ]
  },
  {
   "cell_type": "markdown",
   "metadata": {},
   "source": [
    "## About the Dataset"
   ]
  },
  {
   "cell_type": "markdown",
   "metadata": {},
   "source": [
    "The data for this lab is simulated.\n",
    "\n",
    "After learning of [Nemeroff, Heim, et al.](http://www.pnas.org/content/100/24/14293.full)'s finding that psychotherapy is more effective at treating depression in individuals with childhood trauma, you become interested in whether the same might be true for treating anxiety.\n",
    "\n",
    "You run a clinical experiment in which individuals with and without childhood trauma are treated with a placebo, the standard of care for psychotherapy (CBT, or \n",
    "[\"Cognitive Behavioral Therapy\"](https://en.wikipedia.org/wiki/Cognitive_behavioral_therapy)),\n",
    "or the standard of care for pharmacotherapy\n",
    "[(an anxiolytic GABA agonist)](https://en.wikipedia.org/wiki/Anxiolytic).\n",
    "As an aside: in actual clinical studies, treatment with a placebo is considered unethical if there's already a standard of care, and a proper clinical trial compares alternative treatments to standard treatments.\n",
    "\n",
    "The results of your experiment are summarized in the table `anxiety_dataset.csv`."
   ]
  },
  {
   "cell_type": "markdown",
   "metadata": {},
   "source": [
    "## Loading the Data"
   ]
  },
  {
   "cell_type": "code",
   "execution_count": null,
   "metadata": {
    "collapsed": true
   },
   "outputs": [],
   "source": [
    "df = pd.read_csv('./data/anxiety_dataset.csv',index_col=0)\n",
    "\n",
    "data = df.copy()"
   ]
  },
  {
   "cell_type": "code",
   "execution_count": null,
   "metadata": {
    "collapsed": false
   },
   "outputs": [],
   "source": [
    "data.sample(10)"
   ]
  },
  {
   "cell_type": "markdown",
   "metadata": {},
   "source": [
    "For the independent variables `treatment` and `trauma`, use the pandas `Series` method `unique` to determine the levels and store these in variables called `treatments` and `traumas`."
   ]
  },
  {
   "cell_type": "code",
   "execution_count": null,
   "metadata": {
    "collapsed": false
   },
   "outputs": [],
   "source": [
    "treatments = [] # your code here\n",
    "traumas = [] # your code here"
   ]
  },
  {
   "cell_type": "markdown",
   "metadata": {},
   "source": [
    "## Visualizing the Data"
   ]
  },
  {
   "cell_type": "markdown",
   "metadata": {},
   "source": [
    "Visualize the data. Aim for a visualization that makes it possible to see any main effects along with the interaction effect you're interested in. Examples include: histograms, factorial plots (make sure to include error bars), and strip/swarm/violin plots.\n",
    "\n",
    "#### Q1 Discuss the connections between visual aspects of your graph and 1) the assumptions of ANOVA and 2) the outcomes you expect."
   ]
  },
  {
   "cell_type": "markdown",
   "metadata": {},
   "source": []
  },
  {
   "cell_type": "code",
   "execution_count": null,
   "metadata": {
    "collapsed": false
   },
   "outputs": [],
   "source": []
  },
  {
   "cell_type": "markdown",
   "metadata": {},
   "source": [
    "### Easy Way"
   ]
  },
  {
   "cell_type": "markdown",
   "metadata": {},
   "source": [
    "Because the ANOVA test is, from one perspective, a test of the goodness-of-fit of a linear model, modeling packages provide the tools in Python for performing ANVOAs more complicated than one-way between-subjects.\n",
    "\n",
    "In this course, we'll be using the `statsmodels` package."
   ]
  },
  {
   "cell_type": "code",
   "execution_count": null,
   "metadata": {
    "collapsed": false
   },
   "outputs": [],
   "source": [
    "import statsmodels.api as sm\n",
    "import statsmodels.formula.api as smf"
   ]
  },
  {
   "cell_type": "markdown",
   "metadata": {},
   "source": [
    "We specify models by describing them with strings that look like:\n",
    "\n",
    "```\n",
    "    \"outcome ~ factor\"\n",
    "```\n",
    "\n",
    "for one-way ANOVAs,\n",
    "\n",
    "```\n",
    "    \"outcome ~ factor1*factor2*...factorN\"\n",
    "```\n",
    "\n",
    "for N-way ANOVAs where we want to compute all main effects and interactions,\n",
    "and\n",
    "\n",
    "```\n",
    "    \"outcome ~ factor1:randomFactor1:randomFactor2:...randomFactorN\"\n",
    "```\n",
    "\n",
    "for ANOVAs with N factors where we're only interested in interactions (e.g., a subject factor)."
   ]
  },
  {
   "cell_type": "code",
   "execution_count": null,
   "metadata": {
    "collapsed": false
   },
   "outputs": [],
   "source": [
    "ols_lm = smf.ols('anxietyReduction ~ treatment*trauma',data=df)\n",
    "\n",
    "fit = ols_lm.fit()\n",
    "\n",
    "table = sm.stats.anova_lm(fit,typ=2)\n",
    "\n",
    "table"
   ]
  },
  {
   "cell_type": "markdown",
   "metadata": {},
   "source": [
    "Hang on to this table of results for comparison with your ANOVA by hand below."
   ]
  },
  {
   "cell_type": "markdown",
   "metadata": {},
   "source": [
    "#### Q2 Interpret the pattern of significant and non-significant results that you see. First, phrase your answer as you would write it in the results section of a paper (e.g. using the [APA guidelines](https://depts.washington.edu/psych/files/writing_center/stats.pdf)), then describe the results less formally, as in a research talk."
   ]
  },
  {
   "cell_type": "markdown",
   "metadata": {},
   "source": []
  },
  {
   "cell_type": "markdown",
   "metadata": {},
   "source": [
    "Just as we performed an overall F-test before doing t-tests in a one-way ANOVA, one can also perform an \"omnibus\" F-test before performing the individual F-tests of a multi-way ANOVA. In this test, we check to see whether the model as a whole has a significant between-groups mean-square.\n",
    "\n",
    "We can calculate the model's overall between-groups mean-square by adding up the sums of squares for each component of the model and dividing by the sum of the degrees of freedom of each component of the model. Comparing this to the residual mean square gives us an F for which we can compute a p-value.\n",
    "\n",
    "The issue of multiple-comparisons in ANOVA and the role of the omnibus test is explored in the second half of the lab.\n",
    "\n",
    "Implement an omnibus test and run it on the results table above. You'll need the `cdf` method of `scipy.stats.f`. Note that the results table contains all the information you need to run an omnibus test."
   ]
  },
  {
   "cell_type": "code",
   "execution_count": null,
   "metadata": {
    "collapsed": true
   },
   "outputs": [],
   "source": [
    "scipy.stats.f?"
   ]
  },
  {
   "cell_type": "code",
   "execution_count": null,
   "metadata": {
    "collapsed": true
   },
   "outputs": [],
   "source": [
    "def computeP(fValue,dofB,dofW):\n",
    "    fDistribution = scipy.stats.f\n",
    "    p = 1 - fDistribution.cdf(fValue,dofB,dofW)\n",
    "    return p\n",
    "\n",
    "def omnibusTest(result):\n",
    "    #your code here\n",
    "    \n",
    "    F = []\n",
    "    p = []\n",
    "    \n",
    "    return (F,p)"
   ]
  },
  {
   "cell_type": "code",
   "execution_count": null,
   "metadata": {
    "collapsed": false
   },
   "outputs": [],
   "source": [
    "F,p = omnibusTest(table)\n",
    "print((F,p))"
   ]
  },
  {
   "cell_type": "markdown",
   "metadata": {},
   "source": [
    "### Hard Way"
   ]
  },
  {
   "cell_type": "markdown",
   "metadata": {},
   "source": [
    "As previously, we'll build a pandas data frame to hold our decomposition matrix."
   ]
  },
  {
   "cell_type": "code",
   "execution_count": null,
   "metadata": {
    "collapsed": false
   },
   "outputs": [],
   "source": [
    "N = len(df)\n",
    "\n",
    "anovaFrame = data.copy()\n",
    "\n",
    "anovaFrame.sample(10)"
   ]
  },
  {
   "cell_type": "markdown",
   "metadata": {},
   "source": [
    "We start by calculating the relevant means, using the `groupby` method when necessary. For the interaction term, note that you can do a \"double\" `groupby` by passing a list of columns to group on to the `groupby` method, instead of a single column."
   ]
  },
  {
   "cell_type": "code",
   "execution_count": null,
   "metadata": {
    "collapsed": false
   },
   "outputs": [],
   "source": [
    "dataMean = [] # your code here\n",
    "treatmentMeans = [] # your code here\n",
    "traumaMeans = [] # your code here\n",
    "\n",
    "treatmentXtraumaMeans = [] # your code here"
   ]
  },
  {
   "cell_type": "code",
   "execution_count": null,
   "metadata": {
    "collapsed": false
   },
   "outputs": [],
   "source": [
    "treatmentXtraumaMeans"
   ]
  },
  {
   "cell_type": "markdown",
   "metadata": {},
   "source": [
    "Now, using the combination of a selector and the `.loc` method, add columns for the main effect of treatment and the interaction effect of trauma and treatment. We use `.loc` to find things using keys and we use selectors to find things using logical statements. `.loc` is useful for indexing into the `groupby` objects, while selectors are useful for indexing into the `anovaFrame`.\n",
    "\n",
    "The column for main effect of trauma has been worked as an example, and code has been provided for the selection component of computing the interaction effect.\n",
    "\n",
    "We covered selectors in the pandas tutorial, but look back if you need a refresher. If you're confused or curious about how `.loc` works, check out [this tutorial](http://www.shanelynn.ie/select-pandas-dataframe-rows-and-columns-using-iloc-loc-and-ix/). "
   ]
  },
  {
   "cell_type": "code",
   "execution_count": null,
   "metadata": {
    "collapsed": false
   },
   "outputs": [],
   "source": [
    "anovaFrame[\"meanEffect\"] = dataMean\n",
    "\n",
    "for trauma in traumas:\n",
    "    selector = (anovaFrame.trauma == trauma)\n",
    "    anovaFrame.loc[selector,\"traumaMainEffect\"] = traumaMeans.loc[trauma]-dataMean\n",
    "    \n",
    "for treatment in treatments:\n",
    "    selector = (anovaFrame.treatment == treatment)\n",
    "    anovaFrame.loc[selector,\"treatmentMainEffect\"] = [] #your code here\n",
    "    \n",
    "for trauma in traumas:\n",
    "    for treatment in treatments:\n",
    "        selector = (anovaFrame.treatment == treatment) & (anovaFrame.trauma == trauma)\n",
    "        anovaFrame.loc[selector,\"interactionEffect\"]  = treatmentXtraumaMeans.loc[treatment,trauma] - \\\n",
    "            #your code here\n",
    "            # the \\ symbol lets you \"wrap\" a line of code like you would a line of text!"
   ]
  },
  {
   "cell_type": "markdown",
   "metadata": {},
   "source": [
    "Lastly, calculate the residual error. This can be done by simply subtracting columns of `anovaFrame`."
   ]
  },
  {
   "cell_type": "code",
   "execution_count": null,
   "metadata": {
    "collapsed": false
   },
   "outputs": [],
   "source": [
    "anovaFrame[\"residual\"] = [] #your code here\n",
    "\n",
    "anovaFrame.sample(10)"
   ]
  },
  {
   "cell_type": "markdown",
   "metadata": {},
   "source": [
    "With our decomposition matrix in hand, we can calculate the relevant sums of squares. Using a square-and-sum function, calculate the total, mean, main effects, interaction, and residual sums of squares.\n",
    "\n",
    "As before, we'll store them in a dictionary, keyed by their name."
   ]
  },
  {
   "cell_type": "code",
   "execution_count": null,
   "metadata": {
    "collapsed": false
   },
   "outputs": [],
   "source": [
    "def SS(x):\n",
    "    return # your code here"
   ]
  },
  {
   "cell_type": "code",
   "execution_count": null,
   "metadata": {
    "collapsed": false
   },
   "outputs": [],
   "source": [
    "sumofsquares = {}\n",
    "\n",
    "keys = [\"total\",\"mean\",\"trauma\",\"treatment\",\"interaction\",\"residual\"]\n",
    "\n",
    "columns = [] # your code here\n",
    "\n",
    "for key,column in zip(keys,columns):\n",
    "    sumofsquares[key] = SS(column)\n",
    "    \n",
    "sumofsquares"
   ]
  },
  {
   "cell_type": "markdown",
   "metadata": {},
   "source": [
    "Calculate the degrees of freedom for each of the sums of squares above and store it into a dictionary."
   ]
  },
  {
   "cell_type": "code",
   "execution_count": null,
   "metadata": {
    "collapsed": false
   },
   "outputs": [],
   "source": [
    "dof = {}\n",
    "\n",
    "keys = [\"total\",\"mean\",\"trauma\",\"treatment\",\"interaction\",\"residual\"]\n",
    "vals = [] #your code here\n",
    "\n",
    "for key,val in zip(keys,vals):\n",
    "    dof[key] = val\n",
    "    \n",
    "dof"
   ]
  },
  {
   "cell_type": "markdown",
   "metadata": {},
   "source": [
    "Using the dictionaries `sumofsquares` and `dof`, compute the mean square values for all of the keyed quantities."
   ]
  },
  {
   "cell_type": "code",
   "execution_count": null,
   "metadata": {
    "collapsed": false
   },
   "outputs": [],
   "source": [
    "meansquare = {}\n",
    "\n",
    "for key in keys:\n",
    "    meansquare[key] = [] #your code here\n",
    "    \n",
    "meansquare"
   ]
  },
  {
   "cell_type": "markdown",
   "metadata": {},
   "source": [
    "Compute the F-statistic for each main effect and the interaction."
   ]
  },
  {
   "cell_type": "code",
   "execution_count": null,
   "metadata": {
    "collapsed": false
   },
   "outputs": [],
   "source": [
    "F = {}\n",
    "\n",
    "for key in [\"treatment\",\"trauma\",\"interaction\"]:\n",
    "    F[key] = [] #your code here\n",
    "\n",
    "F"
   ]
  },
  {
   "cell_type": "markdown",
   "metadata": {},
   "source": [
    "Lastly, compute the p value using `scipy.stats.f.cdf`."
   ]
  },
  {
   "cell_type": "markdown",
   "metadata": {},
   "source": [
    "#### Q3 What's a CDF again? Why do we use the CDF of the sampling distribution of the statistic to compute p-values?"
   ]
  },
  {
   "cell_type": "markdown",
   "metadata": {},
   "source": []
  },
  {
   "cell_type": "code",
   "execution_count": null,
   "metadata": {
    "collapsed": false
   },
   "outputs": [],
   "source": [
    "for effect in F.keys():\n",
    "    print(effect)\n",
    "    print() #your code here"
   ]
  }
 ],
 "metadata": {
  "anaconda-cloud": {},
  "kernelspec": {
   "display_name": "Python [conda env:neur299]",
   "language": "python",
   "name": "conda-env-neur299-py"
  },
  "language_info": {
   "codemirror_mode": {
    "name": "ipython",
    "version": 3
   },
   "file_extension": ".py",
   "mimetype": "text/x-python",
   "name": "python",
   "nbconvert_exporter": "python",
   "pygments_lexer": "ipython3",
   "version": "3.4.5"
  }
 },
 "nbformat": 4,
 "nbformat_minor": 0
}
