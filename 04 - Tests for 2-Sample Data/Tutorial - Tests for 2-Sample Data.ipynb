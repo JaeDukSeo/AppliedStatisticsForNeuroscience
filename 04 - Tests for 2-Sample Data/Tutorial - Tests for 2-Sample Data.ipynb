{
 "cells": [
  {
   "cell_type": "markdown",
   "metadata": {},
   "source": [
    "<img src=\"./img/HWNI_logo.svg\"/>"
   ]
  },
  {
   "cell_type": "markdown",
   "metadata": {},
   "source": [
    "# Tutorial - Tests for 2-Sample Data\n",
    "\n",
    "Though a simple hypothesis test like comparing a single value to a reference distribution, as in the\n",
    "[hypothesis testing lab](../03 - Hypothesis Testing/Lab - Hypothesis Testing.ipynb),\n",
    "is sufficient to explore the core concepts of hypothesis testing,\n",
    "such a test is not sufficient for practical purposes.\n",
    "\n",
    "This tutorial covers a class of tests that's the next step in complexity:\n",
    "*2-sample tests*,\n",
    "where we compare two values of the same statistic,\n",
    "one calculated on a sample from the null distribution\n",
    "and the other calculated on a sample from the experimental distribution."
   ]
  },
  {
   "cell_type": "markdown",
   "metadata": {},
   "source": [
    "## Example Experiment"
   ]
  },
  {
   "cell_type": "markdown",
   "metadata": {},
   "source": []
  },
  {
   "cell_type": "markdown",
   "metadata": {},
   "source": [
    "## Parametric Tests: "
   ]
  },
  {
   "cell_type": "markdown",
   "metadata": {},
   "source": []
  }
 ],
 "metadata": {
  "anaconda-cloud": {},
  "kernelspec": {
   "display_name": "Python [conda env:neur299]",
   "language": "python",
   "name": "conda-env-neur299-py"
  },
  "language_info": {
   "codemirror_mode": {
    "name": "ipython",
    "version": 3
   },
   "file_extension": ".py",
   "mimetype": "text/x-python",
   "name": "python",
   "nbconvert_exporter": "python",
   "pygments_lexer": "ipython3",
   "version": "3.4.5"
  }
 },
 "nbformat": 4,
 "nbformat_minor": 0
}
