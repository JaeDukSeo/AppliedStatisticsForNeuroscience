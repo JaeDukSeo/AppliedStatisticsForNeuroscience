{
 "cells": [
  {
   "cell_type": "markdown",
   "metadata": {},
   "source": [
    "<img src=\"./img/HWNI_logo.svg\"/>"
   ]
  },
  {
   "cell_type": "markdown",
   "metadata": {},
   "source": [
    "# Lab B - Error Bars"
   ]
  },
  {
   "cell_type": "code",
   "execution_count": 1,
   "metadata": {},
   "outputs": [
    {
     "data": {
      "text/html": [
       "<style>/* Originally by Brandon Rhodes, for use with Pandas*/\n",
       "body {\n",
       "    margin: 0;\n",
       "    font-family: Helvetica;\n",
       "}\n",
       "table.dataframe {\n",
       "    border-collapse: collapse;\n",
       "    border: none;\n",
       "}\n",
       "table.dataframe tr {\n",
       "    border: none;\n",
       "}\n",
       "table.dataframe td, table.dataframe th {\n",
       "    margin: 0;\n",
       "    border: 1px solid white;\n",
       "    padding-left: 0.25em;\n",
       "    padding-right: 0.25em;\n",
       "}\n",
       "table.dataframe th:not(:empty) {\n",
       "    background-color: #fec;\n",
       "    text-align: left;\n",
       "    font-weight: normal;\n",
       "}\n",
       "table.dataframe tr:nth-child(2) th:empty {\n",
       "    border-left: none;\n",
       "    border-right: 1px dashed #888;\n",
       "}\n",
       "table.dataframe td {\n",
       "    border: 2px solid #ccf;\n",
       "    background-color: #f4f4ff;\n",
       "}\n",
       "</style>"
      ],
      "text/plain": [
       "<IPython.core.display.HTML object>"
      ]
     },
     "execution_count": 1,
     "metadata": {},
     "output_type": "execute_result"
    }
   ],
   "source": [
    "# makes our plots show up inside Jupyter\n",
    "%matplotlib inline\n",
    "\n",
    "import numpy as np\n",
    "import pandas as pd\n",
    "\n",
    "import matplotlib.pyplot as plt\n",
    "import seaborn as sns\n",
    "\n",
    "# choose colors that work for most color-blind folks\n",
    "sns.set_palette(\"colorblind\")\n",
    "sns.set(color_codes=True)\n",
    "sns.set_context(context=\"notebook\", font_scale=2)\n",
    "\n",
    "import util.utils as utils \n",
    "\n",
    "# this makes our tables easier to read\n",
    "utils.format_dataframes()"
   ]
  },
  {
   "cell_type": "markdown",
   "metadata": {},
   "source": [
    "In the last section of the previous lab, we looked at confidence intervals, which are one way of expressing our uncertainty about inferences drawn from the data. When we wish to present this uncertainty visually, we use *error bars*. There are many kinds of error bars, each of which tells you something different about the uncertainty in the data being graphed. For a thorough introduction to error bars, check out [this article from Nature Methods](https://www.nature.com/nmeth/journal/v10/n10/full/nmeth.2659.html).\n",
    "\n",
    "Below, we'll generate a dataset containing two groups, one subjected to a treatment and the other left as a control. After looking at the data with histograms, we'll plot the means of the two groups along with the three most prominent different kinds of error bars."
   ]
  },
  {
   "cell_type": "markdown",
   "metadata": {},
   "source": [
    "## Loading and Visualizing the Data"
   ]
  },
  {
   "cell_type": "code",
   "execution_count": 2,
   "metadata": {},
   "outputs": [
    {
     "data": {
      "text/html": [
       "<div>\n",
       "<style>\n",
       "    .dataframe thead tr:only-child th {\n",
       "        text-align: right;\n",
       "    }\n",
       "\n",
       "    .dataframe thead th {\n",
       "        text-align: left;\n",
       "    }\n",
       "\n",
       "    .dataframe tbody tr th {\n",
       "        vertical-align: top;\n",
       "    }\n",
       "</style>\n",
       "<table border=\"1\" class=\"dataframe\">\n",
       "  <thead>\n",
       "    <tr style=\"text-align: right;\">\n",
       "      <th></th>\n",
       "      <th>group</th>\n",
       "      <th>score</th>\n",
       "    </tr>\n",
       "  </thead>\n",
       "  <tbody>\n",
       "    <tr>\n",
       "      <th>4994</th>\n",
       "      <td>treatment</td>\n",
       "      <td>2.258228</td>\n",
       "    </tr>\n",
       "    <tr>\n",
       "      <th>3864</th>\n",
       "      <td>treatment</td>\n",
       "      <td>-0.149528</td>\n",
       "    </tr>\n",
       "    <tr>\n",
       "      <th>3717</th>\n",
       "      <td>treatment</td>\n",
       "      <td>-0.712955</td>\n",
       "    </tr>\n",
       "    <tr>\n",
       "      <th>812</th>\n",
       "      <td>control</td>\n",
       "      <td>0.545938</td>\n",
       "    </tr>\n",
       "    <tr>\n",
       "      <th>2193</th>\n",
       "      <td>control</td>\n",
       "      <td>0.418846</td>\n",
       "    </tr>\n",
       "    <tr>\n",
       "      <th>712</th>\n",
       "      <td>control</td>\n",
       "      <td>-1.765823</td>\n",
       "    </tr>\n",
       "    <tr>\n",
       "      <th>4657</th>\n",
       "      <td>treatment</td>\n",
       "      <td>-0.556032</td>\n",
       "    </tr>\n",
       "    <tr>\n",
       "      <th>1566</th>\n",
       "      <td>control</td>\n",
       "      <td>1.924073</td>\n",
       "    </tr>\n",
       "    <tr>\n",
       "      <th>1289</th>\n",
       "      <td>control</td>\n",
       "      <td>0.237573</td>\n",
       "    </tr>\n",
       "    <tr>\n",
       "      <th>1675</th>\n",
       "      <td>control</td>\n",
       "      <td>1.134850</td>\n",
       "    </tr>\n",
       "  </tbody>\n",
       "</table>\n",
       "</div>"
      ],
      "text/plain": [
       "          group     score\n",
       "4994  treatment  2.258228\n",
       "3864  treatment -0.149528\n",
       "3717  treatment -0.712955\n",
       "812     control  0.545938\n",
       "2193    control  0.418846\n",
       "712     control -1.765823\n",
       "4657  treatment -0.556032\n",
       "1566    control  1.924073\n",
       "1289    control  0.237573\n",
       "1675    control  1.134850"
      ]
     },
     "execution_count": 2,
     "metadata": {},
     "output_type": "execute_result"
    }
   ],
   "source": [
    "test_data = utils.generate_dataset2(N=2500)\n",
    "test_data.sample(10)"
   ]
  },
  {
   "cell_type": "markdown",
   "metadata": {},
   "source": [
    "Use seaborn's `distplot` to plot the histograms of the treatment and control groups. The simplest, but least powerful, way to do this is to just use `distplot` twice. Instructions for making this style of plot using the more complex, but more powerful, `FacetGrids` method are in the tutorial on plotting with seaborn.\n",
    "\n",
    "If you go with the first route, you'll need to separate the groups manually with pandas. There's information on how to do this in the tutorial on pandas."
   ]
  },
  {
   "cell_type": "code",
   "execution_count": 3,
   "metadata": {},
   "outputs": [
    {
     "data": {
      "image/png": "[encoded data removed]",
      "text/plain": [
       "<matplotlib.figure.Figure at 0x116f7a3c8>"
      ]
     },
     "metadata": {},
     "output_type": "display_data"
    }
   ],
   "source": [
    "## check out this function, in util/utils.py for the more general approach\n",
    "#utils.plot_groups(test_data,x=\"score\",by=\"group\");\n",
    "\n",
    "sns.distplot(test_data.score[test_data.group == 'control'],kde = False);\n",
    "sns.distplot(test_data.score[test_data.group == 'treatment'],kde = False);"
   ]
  },
  {
   "cell_type": "markdown",
   "metadata": {},
   "source": [
    "#### Q1 Do these two data distributions seem different to you? Why or why not?"
   ]
  },
  {
   "cell_type": "markdown",
   "metadata": {},
   "source": [
    "<font color='#1874CD'> ** There's no right answer here. They are very similar indeed, but there are some slight differences that become especially obvious if you increase N. **"
   ]
  },
  {
   "cell_type": "markdown",
   "metadata": {},
   "source": [
    "## Confidence Interval Error Bars"
   ]
  },
  {
   "cell_type": "markdown",
   "metadata": {},
   "source": [
    "We begin by plotting one of the most common error bars, the \"95% confidence interval\" error bar. \n",
    "\n",
    "#### Q2 What kind of uncertainty this bar indicate? Relatedly, in what situation is this error bar the right kind of error bar to attach to our data?"
   ]
  },
  {
   "cell_type": "markdown",
   "metadata": {},
   "source": [
    "<font color='#1874CD'> ** It reflects our uncertainty about the location of the mean. It's best for indicating whether a difference in means is likely due to chance or not.**"
   ]
  },
  {
   "cell_type": "code",
   "execution_count": 4,
   "metadata": {},
   "outputs": [
    {
     "data": {
      "image/png": "[encoded data removed]",
      "text/plain": [
       "<matplotlib.figure.Figure at 0x1195fe7f0>"
      ]
     },
     "metadata": {},
     "output_type": "display_data"
    }
   ],
   "source": [
    "sns.barplot(data=test_data, x='group',y='score',\n",
    "            ci=95,\n",
    "            capsize=.1, linewidth=4,\n",
    "            alpha=0.8, edgecolor='white');\n",
    "\n",
    "utils.add_axis_line(plt.gca())"
   ]
  },
  {
   "cell_type": "markdown",
   "metadata": {},
   "source": [
    "For most samples, the two bars overlap a small amount.\n",
    "\n",
    "#### Q2 Does this mean that the chance that the means are different is more than 95%?"
   ]
  },
  {
   "cell_type": "markdown",
   "metadata": {},
   "source": [
    "<font color='#1874CD'>  ** No. In fact, if the bars were just touching, the chance that the means are different is much higher than 95%! **"
   ]
  },
  {
   "cell_type": "markdown",
   "metadata": {},
   "source": [
    "## Standard Error of the Mean Error Bars"
   ]
  },
  {
   "cell_type": "markdown",
   "metadata": {},
   "source": [
    "Another common error bar is the \"standard error of the mean\" error bar. \n",
    "\n",
    "#### Q3 What kind of uncertainty does this error bar indicate, and when is it the appropriate error bar to plot?"
   ]
  },
  {
   "cell_type": "markdown",
   "metadata": {},
   "source": [
    "<font color='#1874CD'>  ** It shows the estimated standard deviation of the sampling distribution of the mean. For datasets whose means have a Gaussian sampling distribution and whose standard deviation is known, this corresponds to a 68% confidence interval. If the standard deviation is not known but is intead estimated from the data, as is usually the case, then the level of confidence is lower, but approaches 68% as the sample size goes up. There are very few situations in which this error bar is appropriate, as the standard deviation of the sampling interval isn't very useful on its own, especially as a visual cue. **"
   ]
  },
  {
   "cell_type": "code",
   "execution_count": 5,
   "metadata": {},
   "outputs": [
    {
     "data": {
      "image/png": "[encoded data removed]",
      "text/plain": [
       "<matplotlib.figure.Figure at 0x119836780>"
      ]
     },
     "metadata": {},
     "output_type": "display_data"
    }
   ],
   "source": [
    "sns.barplot(data=test_data, x='group', y='score', \n",
    "            ci=68,\n",
    "            capsize=.1, linewidth=4, alpha=0.8, edgecolor='white');\n",
    "\n",
    "utils.add_axis_line(plt.gca())"
   ]
  },
  {
   "cell_type": "markdown",
   "metadata": {},
   "source": [
    "## Standard Deviation Error Bars"
   ]
  },
  {
   "cell_type": "markdown",
   "metadata": {},
   "source": [
    "Lastly, we have a rather uncommon error bar, the \"standard deviation of the data\" error bar. \n",
    "\n",
    "#### Q4 How is it related to the \"standard error of the mean\" bar? What happens to each as the number of datapoints collected gets larger?"
   ]
  },
  {
   "cell_type": "markdown",
   "metadata": {},
   "source": [
    "<font color='#1874CD'>  ** The standard deviation of the dataset is an estimator of the standard deviation of the population. The SEM is equal to the standard deviation divided by the square root of the size of the dataset, and it is the standard deviation of a sampling distribution, that of the mean.  While the standard error gets smaller as the size of the dataset gets bigger, the standard deviation does not -- it instead converges to the true value. **"
   ]
  },
  {
   "cell_type": "code",
   "execution_count": 6,
   "metadata": {},
   "outputs": [
    {
     "data": {
      "image/png": "[encoded data removed]",
      "text/plain": [
       "<matplotlib.figure.Figure at 0x1197dc780>"
      ]
     },
     "metadata": {},
     "output_type": "display_data"
    }
   ],
   "source": [
    "sns.barplot(data=test_data, x='group', y='score',\n",
    "            ci=\"sd\", \n",
    "            capsize=.1, linewidth=4, alpha=0.8, edgecolor='white');\n",
    "\n",
    "#utils.plot_sd_bars(test_data)\n",
    "\n",
    "utils.add_axis_line(plt.gca())"
   ]
  },
  {
   "cell_type": "markdown",
   "metadata": {},
   "source": [
    "Some people would consider the two distributions, of the control group scores and the treatment group scores, to be quite similar. \n",
    "\n",
    "#### Q5 Which error bar or bars capture this intuition? Others might consider them to be quite different. Which error bar or bars capture this intuition, and why?"
   ]
  },
  {
   "cell_type": "markdown",
   "metadata": {},
   "source": [
    "<font color='#1874CD'> ** Those who consider the distributions similar would point to the standard deviation bars, which show that the datasets overlap substantially. Those who consider the distributions different would point to either the standard error of the mean bars, or, more reliably, the confidence interval bars, and note that the difference is not one you would expect to see by chance. **\n",
    "\n",
    "** This difference in deciding whether a difference between distributions is important or notable is a contrast of the definitions of \"scientific\" or \"practical\" significance versus the definition of significance as \"statistical\". We'll cover this more in the next discussion. **"
   ]
  },
  {
   "cell_type": "markdown",
   "metadata": {},
   "source": [
    "Relatedly, let's consider the use of these error bars in decision-making. Let's say our \"treatment\" was a lifestyle change, like cutting a particular food out of your diet, and our \"score\" was a measure of overall mortality -- higher values meaning higher risk of death.\n",
    "\n",
    "#### Q6 Which error bars would a nation's public health official use to decide whether to recommend that the citizens cut that food from their diet? Which error bars might an informed citizen use to decide how important heeding that recommendation is? Can you explain the difference?\n",
    "\n",
    "Hint: imagine I give you one datapoint, which I took from one of the two distributions. Will it be easy to tell which distribution it came from? What about if I gave you one hundred million datapoints, all from the same distribution?"
   ]
  },
  {
   "cell_type": "markdown",
   "metadata": {},
   "source": [
    "<font color='#1874CD'> ** A public health official cares very deeply about even small effects -- when applied to a large population, their aggregate effect is substantial. Put another way, even if an effect is only reliably detectable in large datasets, it's relevant for public health. A confidence interval from a large dataset tells you exactly whether an effect was detected in a large population.**\n",
    "\n",
    "** An individual, however, only lives one life, not several million, so far as we can tell. If the difference caused by a lifestyle change is so small that it takes the observation of thousands of individuals to detect, it may be not worth the effort.**"
   ]
  },
  {
   "cell_type": "markdown",
   "metadata": {},
   "source": [
    "** Challenge Question**: \n",
    "\n",
    "Seaborn plots error bars using a method called *bootstrapping*. Check out MIT Open CourseWare's lecture notes, [*Bootstrapping Confidence Intervals*](https://ocw.mit.edu/courses/mathematics/18-05-introduction-to-probability-and-statistics-spring-2014/readings/MIT18_05S14_Reading24.pdf), to learn more.\n",
    "\n",
    "In fact, the standard error of the mean bars plotted by seaborn are *also* confidence intervals, with the confidence level determined by the keyword argument `ci`. In addition to making it possible to easily plot the confidence interval error bars, this also makes it possible to easily plot the standard error of the mean for most datasets, using, as above, a `ci` of 68. \n",
    "\n",
    "#### Q7 Can you explain why?"
   ]
  },
  {
   "cell_type": "markdown",
   "metadata": {},
   "source": [
    "<font color='#1874CD'>\n",
    "** The ± one SEM interval around the mean is, for data with a Gaussian sampling distribution, also approximately a 68% confidence interval.**"
   ]
  }
 ],
 "metadata": {
  "anaconda-cloud": {},
  "kernelspec": {
   "display_name": "Python 3",
   "language": "python",
   "name": "python3"
  },
  "language_info": {
   "codemirror_mode": {
    "name": "ipython",
    "version": 3
   },
   "file_extension": ".py",
   "mimetype": "text/x-python",
   "name": "python",
   "nbconvert_exporter": "python",
   "pygments_lexer": "ipython3",
   "version": "3.6.2"
  }
 },
 "nbformat": 4,
 "nbformat_minor": 2
}
