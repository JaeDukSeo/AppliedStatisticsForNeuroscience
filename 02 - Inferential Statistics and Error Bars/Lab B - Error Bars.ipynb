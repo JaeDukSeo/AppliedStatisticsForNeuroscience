{
 "cells": [
  {
   "cell_type": "markdown",
   "metadata": {},
   "source": [
    "<img src=\"./img/HWNI_logo.svg\"/>"
   ]
  },
  {
   "cell_type": "markdown",
   "metadata": {},
   "source": [
    "# Lab 02b - Error Bars"
   ]
  },
  {
   "cell_type": "code",
   "execution_count": 1,
   "metadata": {
    "collapsed": false
   },
   "outputs": [
    {
     "data": {
      "text/html": [
       "<style>/* Originally by Brandon Rhodes, for use with Pandas*/\n",
       "body {\n",
       "    margin: 0;\n",
       "    font-family: Helvetica;\n",
       "}\n",
       "table.dataframe {\n",
       "    border-collapse: collapse;\n",
       "    border: none;\n",
       "}\n",
       "table.dataframe tr {\n",
       "    border: none;\n",
       "}\n",
       "table.dataframe td, table.dataframe th {\n",
       "    margin: 0;\n",
       "    border: 1px solid white;\n",
       "    padding-left: 0.25em;\n",
       "    padding-right: 0.25em;\n",
       "}\n",
       "table.dataframe th:not(:empty) {\n",
       "    background-color: #fec;\n",
       "    text-align: left;\n",
       "    font-weight: normal;\n",
       "}\n",
       "table.dataframe tr:nth-child(2) th:empty {\n",
       "    border-left: none;\n",
       "    border-right: 1px dashed #888;\n",
       "}\n",
       "table.dataframe td {\n",
       "    border: 2px solid #ccf;\n",
       "    background-color: #f4f4ff;\n",
       "}\n",
       "</style>"
      ],
      "text/plain": [
       "<IPython.core.display.HTML object>"
      ]
     },
     "execution_count": 1,
     "metadata": {},
     "output_type": "execute_result"
    }
   ],
   "source": [
    "# makes our plots show up inside Jupyter\n",
    "%matplotlib inline\n",
    "\n",
    "import numpy as np\n",
    "import pandas as pd\n",
    "\n",
    "import matplotlib.pyplot as plt\n",
    "import seaborn as sns\n",
    "\n",
    "# choose colors that work for most color-blind folks\n",
    "sns.set_palette(\"colorblind\")\n",
    "sns.set(color_codes=True)\n",
    "\n",
    "import util.lab02utils as utils \n",
    "\n",
    "# this makes our tables easier to read\n",
    "utils.formatDataframes()"
   ]
  },
  {
   "cell_type": "markdown",
   "metadata": {},
   "source": [
    "## Loading and Visualizing the Data"
   ]
  },
  {
   "cell_type": "markdown",
   "metadata": {},
   "source": [
    "There are many kinds of \"error bars\", each of which tells you something different about the uncertainty in the data being graphed.\n",
    "\n",
    "Below, we'll generate a dataset containing two groups, one subjected to a treatment and the other left as a control. After looking at the data with histograms, we'll plot the means of the two groups along with the three different kinds of error bars."
   ]
  },
  {
   "cell_type": "code",
   "execution_count": 2,
   "metadata": {
    "collapsed": false
   },
   "outputs": [
    {
     "data": {
      "text/html": [
       "<div>\n",
       "<table border=\"1\" class=\"dataframe\">\n",
       "  <thead>\n",
       "    <tr style=\"text-align: right;\">\n",
       "      <th></th>\n",
       "      <th>group</th>\n",
       "      <th>score</th>\n",
       "    </tr>\n",
       "  </thead>\n",
       "  <tbody>\n",
       "    <tr>\n",
       "      <th>2118</th>\n",
       "      <td>control</td>\n",
       "      <td>0.437238</td>\n",
       "    </tr>\n",
       "    <tr>\n",
       "      <th>3219</th>\n",
       "      <td>treatment</td>\n",
       "      <td>0.162593</td>\n",
       "    </tr>\n",
       "    <tr>\n",
       "      <th>3884</th>\n",
       "      <td>treatment</td>\n",
       "      <td>0.369775</td>\n",
       "    </tr>\n",
       "    <tr>\n",
       "      <th>1257</th>\n",
       "      <td>control</td>\n",
       "      <td>-0.503055</td>\n",
       "    </tr>\n",
       "    <tr>\n",
       "      <th>603</th>\n",
       "      <td>control</td>\n",
       "      <td>1.419657</td>\n",
       "    </tr>\n",
       "    <tr>\n",
       "      <th>2415</th>\n",
       "      <td>control</td>\n",
       "      <td>-2.090687</td>\n",
       "    </tr>\n",
       "    <tr>\n",
       "      <th>1926</th>\n",
       "      <td>control</td>\n",
       "      <td>0.703620</td>\n",
       "    </tr>\n",
       "    <tr>\n",
       "      <th>847</th>\n",
       "      <td>control</td>\n",
       "      <td>1.403633</td>\n",
       "    </tr>\n",
       "    <tr>\n",
       "      <th>4426</th>\n",
       "      <td>treatment</td>\n",
       "      <td>2.283096</td>\n",
       "    </tr>\n",
       "    <tr>\n",
       "      <th>3497</th>\n",
       "      <td>treatment</td>\n",
       "      <td>0.735903</td>\n",
       "    </tr>\n",
       "  </tbody>\n",
       "</table>\n",
       "</div>"
      ],
      "text/plain": [
       "          group     score\n",
       "2118    control  0.437238\n",
       "3219  treatment  0.162593\n",
       "3884  treatment  0.369775\n",
       "1257    control -0.503055\n",
       "603     control  1.419657\n",
       "2415    control -2.090687\n",
       "1926    control  0.703620\n",
       "847     control  1.403633\n",
       "4426  treatment  2.283096\n",
       "3497  treatment  0.735903"
      ]
     },
     "execution_count": 2,
     "metadata": {},
     "output_type": "execute_result"
    }
   ],
   "source": [
    "testData = utils.generateDataset2(N=2500)\n",
    "testData.sample(10)"
   ]
  },
  {
   "cell_type": "markdown",
   "metadata": {},
   "source": [
    "Use seaborn's `distplot` to plot the histograms of the treatment and control groups. The simplest, but least powerful, way to do this is to just use `distplot` twice. Instructions for making this style of plot using the more complex, but more powerful, `FacetGrids` method are in the tutorial on plotting with seaborn.\n",
    "\n",
    "If you go with the first route, you'll need to separate the groups manually with pandas. There's information on how to do this in the tutorial on pandas."
   ]
  },
  {
   "cell_type": "code",
   "execution_count": null,
   "metadata": {
    "collapsed": false
   },
   "outputs": [],
   "source": []
  },
  {
   "cell_type": "markdown",
   "metadata": {},
   "source": [
    "Do these two data distributions seem different to you? Why or why not?"
   ]
  },
  {
   "cell_type": "markdown",
   "metadata": {},
   "source": []
  },
  {
   "cell_type": "markdown",
   "metadata": {},
   "source": [
    "## Confidence Interval Error Bars"
   ]
  },
  {
   "cell_type": "markdown",
   "metadata": {},
   "source": [
    "We begin by plotting one of the most common error bars, the \"95% confidence interval\" error bar. What kind of uncertainty this bar indicate? Relatedly, in what situation is this error bar the right kind of error bar to attach to our data?"
   ]
  },
  {
   "cell_type": "markdown",
   "metadata": {},
   "source": []
  },
  {
   "cell_type": "code",
   "execution_count": 4,
   "metadata": {
    "collapsed": false
   },
   "outputs": [
    {
     "data": {
      "image/png": "[encoded data removed]",
      "text/plain": [
       "<matplotlib.figure.Figure at 0x1047b3630>"
      ]
     },
     "metadata": {},
     "output_type": "display_data"
    }
   ],
   "source": [
    "sns.barplot(data=testData,x='group',y='score',ci=95,\n",
    "            capsize=.1,linewidth=4,\n",
    "            alpha=0.8,edgecolor='white');\n",
    "\n",
    "utils.addAxisLine(plt.gca())"
   ]
  },
  {
   "cell_type": "markdown",
   "metadata": {},
   "source": [
    "With overwhelming likelihood, the two bars overlap a small amount. Does this mean that the chance that the means are different is more than 95%? Hint: if you didn't read the *Points of Significance* article on error bars, you should!"
   ]
  },
  {
   "cell_type": "markdown",
   "metadata": {},
   "source": []
  },
  {
   "cell_type": "markdown",
   "metadata": {},
   "source": [
    "## Standard Error of the Mean Error Bars"
   ]
  },
  {
   "cell_type": "markdown",
   "metadata": {},
   "source": [
    "Another common error bar is the \"standard error of the mean\" error bar. What kind of uncertainty does this error bar indicate, and when is it the appropriate error bar to plot?"
   ]
  },
  {
   "cell_type": "markdown",
   "metadata": {},
   "source": []
  },
  {
   "cell_type": "code",
   "execution_count": 5,
   "metadata": {
    "collapsed": false
   },
   "outputs": [
    {
     "data": {
      "image/png": "[encoded data removed]",
      "text/plain": [
       "<matplotlib.figure.Figure at 0x11077bf98>"
      ]
     },
     "metadata": {},
     "output_type": "display_data"
    }
   ],
   "source": [
    "sns.barplot(data=testData,x='group',y='score',ci=68,\n",
    "            capsize=.1,linewidth=4,alpha=0.8,edgecolor='white');\n",
    "\n",
    "utils.addAxisLine(plt.gca())"
   ]
  },
  {
   "cell_type": "markdown",
   "metadata": {},
   "source": [
    "## Standard Deviation Error Bars"
   ]
  },
  {
   "cell_type": "markdown",
   "metadata": {},
   "source": [
    "Lastly, we have a rather uncommon error bar, the \"standard deviation of the data\" error bar. How is it related to the \"standard error of the mean\" bar? What happens to each as the number of datapoints collected gets larger?"
   ]
  },
  {
   "cell_type": "markdown",
   "metadata": {},
   "source": []
  },
  {
   "cell_type": "markdown",
   "metadata": {},
   "source": [
    "*Side Note*: this kind of error bar is uncommon enough that seaborn doesn't have a built-in way to plot it. Check out the challenge question at the end of this lab if you want to learn more, and look inside the file `utils/lab02utils.py` to see how the function `plotSDbars` works."
   ]
  },
  {
   "cell_type": "code",
   "execution_count": 6,
   "metadata": {
    "collapsed": false
   },
   "outputs": [
    {
     "data": {
      "image/png": "[encoded data removed]",
      "text/plain": [
       "<matplotlib.figure.Figure at 0x110b90358>"
      ]
     },
     "metadata": {},
     "output_type": "display_data"
    }
   ],
   "source": [
    "sns.barplot(data=testData,x='group',y='score',ci=None,capsize=.1,\n",
    "           linewidth=4,alpha=0.8,edgecolor='white');\n",
    "\n",
    "utils.plotSDbars(testData)\n",
    "\n",
    "utils.addAxisLine(plt.gca())"
   ]
  },
  {
   "cell_type": "markdown",
   "metadata": {},
   "source": [
    "Some people would consider the two distributions, of the control group scores and the treatment group scores, to be quite similar. Which error bar or bars capture this intuition? Others might consider them to be quite different. Which error bar or bars capture this intuition, and why?"
   ]
  },
  {
   "cell_type": "markdown",
   "metadata": {},
   "source": []
  },
  {
   "cell_type": "markdown",
   "metadata": {},
   "source": [
    "Relatedly, let's consider the use of these error bars in decision-making. Let's say our \"treatment\" was a lifestyle change, like cutting a particular food out of your diet, and our \"score\" was a measure of overall mortality -- higher values meaning higher risk of death. Which error bars would a nation's public health official use to decide whether to recommend that the citizens cut that food from their diet? Which error bars might an informed citizen use to decide how important heeding that recommendation is? Can you explain the difference?\n",
    "\n",
    "Hint: imagine I give you one datapoint, which I took from one of the two distributions. Will it be easy to tell which distribution it came from? What about if I gave you one hundred million datapoints, all from the same distribution?"
   ]
  },
  {
   "cell_type": "markdown",
   "metadata": {},
   "source": []
  },
  {
   "cell_type": "markdown",
   "metadata": {},
   "source": [
    "** Challenge Question**: \n",
    "\n",
    "Seaborn plots error bars using a method called *bootstrapping*. Check out the optional reading, *Bootstrapping Confidence Intervals*, to learn more. What do we need in order to be able to use bootstrapping methods on our data?\n",
    "\n",
    "In fact, all of the error bars plotted by seaborn are confidence intervals, with the confidence level determined by the keyword argument `ci`. In addition to making it possible to easily plot the confidence interval error bars, this also makes it possible to easily plot the standard error of the mean for most datasets, using, as above, a `ci` of 68. Can you explain why?"
   ]
  },
  {
   "cell_type": "markdown",
   "metadata": {},
   "source": []
  }
 ],
 "metadata": {
  "anaconda-cloud": {},
  "kernelspec": {
   "display_name": "Python [default]",
   "language": "python",
   "name": "python3"
  },
  "language_info": {
   "codemirror_mode": {
    "name": "ipython",
    "version": 3
   },
   "file_extension": ".py",
   "mimetype": "text/x-python",
   "name": "python",
   "nbconvert_exporter": "python",
   "pygments_lexer": "ipython3",
   "version": "3.4.5"
  }
 },
 "nbformat": 4,
 "nbformat_minor": 2
}
