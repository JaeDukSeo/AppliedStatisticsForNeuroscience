{
 "cells": [
  {
   "cell_type": "markdown",
   "metadata": {},
   "source": [
    "<img src=\"./img/HWNI_logo.svg\"/>"
   ]
  },
  {
   "cell_type": "markdown",
   "metadata": {},
   "source": [
    "# Tutorial - Two-Way ANOVA by Hand"
   ]
  },
  {
   "cell_type": "code",
   "execution_count": 4,
   "metadata": {},
   "outputs": [
    {
     "data": {
      "text/html": [
       "<style>/* Originally by Brandon Rhodes, for use with Pandas*/\n",
       "body {\n",
       "    margin: 0;\n",
       "    font-family: Helvetica;\n",
       "}\n",
       "table.dataframe {\n",
       "    border-collapse: collapse;\n",
       "    border: none;\n",
       "}\n",
       "table.dataframe tr {\n",
       "    border: none;\n",
       "}\n",
       "table.dataframe td, table.dataframe th {\n",
       "    margin: 0;\n",
       "    border: 1px solid white;\n",
       "    padding-left: 0.25em;\n",
       "    padding-right: 0.25em;\n",
       "}\n",
       "table.dataframe th:not(:empty) {\n",
       "    background-color: #fec;\n",
       "    text-align: left;\n",
       "    font-weight: normal;\n",
       "}\n",
       "table.dataframe tr:nth-child(2) th:empty {\n",
       "    border-left: none;\n",
       "    border-right: 1px dashed #888;\n",
       "}\n",
       "table.dataframe td {\n",
       "    border: 2px solid #ccf;\n",
       "    background-color: #f4f4ff;\n",
       "}\n",
       "</style>"
      ],
      "text/plain": [
       "<IPython.core.display.HTML object>"
      ]
     },
     "execution_count": 4,
     "metadata": {},
     "output_type": "execute_result"
    }
   ],
   "source": [
    "# makes our plots show up inside Jupyter\n",
    "%matplotlib inline\n",
    "\n",
    "import numpy as np\n",
    "import pandas as pd\n",
    "\n",
    "import matplotlib.pyplot as plt\n",
    "import seaborn as sns\n",
    "\n",
    "import scipy.stats\n",
    "\n",
    "import util.utils as utils\n",
    "import util.shared as shared\n",
    "\n",
    "shared.format_plots()\n",
    "shared.format_dataframes()"
   ]
  },
  {
   "cell_type": "markdown",
   "metadata": {},
   "source": [
    "In the previous section,\n",
    "we worked out the One-Way ANalysis Of VAriance test\n",
    "for determining whether means differed across\n",
    "varying levels of a single factor.\n",
    "\n",
    "In this tutorial,\n",
    "we extend the ANOVA test to simultaneous\n",
    "variation of two or more factors."
   ]
  },
  {
   "cell_type": "markdown",
   "metadata": {},
   "source": [
    "## Two-Way ANOVA"
   ]
  },
  {
   "cell_type": "markdown",
   "metadata": {},
   "source": []
  },
  {
   "cell_type": "markdown",
   "metadata": {},
   "source": [
    "$$\\begin{align}\n",
    "    &\\text{Observation}\\ k\\ \\text{in Groups}\\ i\\ \\&\\ j\\ \n",
    "    &= \\ &\\text{Grand Mean}\\ \n",
    "    &+\\ &\\text{Group Effect}_i\\\n",
    "    &+\\ &\\text{Group Effect}_j\\\n",
    "    &+\\ &\\text{Interaction}_{ij}\n",
    "    &+ \\ &\\text{Unknown Effects}_{ijk} \\\\\n",
    "    &Y_{ijk} \n",
    "    &= \\ &\\mu_\\text{grand} \\ \n",
    "    &+\\ &A_i\\\n",
    "    &+\\ &B_j\\\n",
    "    &+\\ &AB_{ij}\n",
    "    &+ \\ &\\epsilon_{ijk}\n",
    "\\end{align}$$"
   ]
  },
  {
   "cell_type": "markdown",
   "metadata": {},
   "source": [
    "## Multi-Way ANOVA"
   ]
  },
  {
   "cell_type": "markdown",
   "metadata": {},
   "source": [
    "$$\\begin{align}\n",
    "    &\\text{Observation}\n",
    "    &= \\ &\\text{Grand Mean}\\ \n",
    "    &+\\ &\\sum{\\text{Group Effects}}\\\n",
    "    &+\\ &\\sum{\\text{Interactions}}\\\n",
    "    &+\\ &\\text{Observation-Specific Unknown Effects}\n",
    "\\end{align}$$"
   ]
  },
  {
   "cell_type": "markdown",
   "metadata": {},
   "source": [
    "## About the Lab"
   ]
  },
  {
   "cell_type": "markdown",
   "metadata": {},
   "source": []
  },
  {
   "cell_type": "markdown",
   "metadata": {},
   "source": [
    "## About the Dataset"
   ]
  },
  {
   "cell_type": "markdown",
   "metadata": {},
   "source": [
    "The data for this lab is simulated.\n",
    "\n",
    "After learning of [Nemeroff, Heim, et al.](http://www.pnas.org/content/100/24/14293.full)'s finding that psychotherapy is more effective at treating depression in individuals with childhood trauma, you become interested in whether the same might be true for treating anxiety.\n",
    "\n",
    "You run a clinical experiment in which individuals with and without childhood trauma are treated with a placebo, the standard of care for psychotherapy (CBT, or \n",
    "[\"Cognitive Behavioral Therapy\"](https://en.wikipedia.org/wiki/Cognitive_behavioral_therapy)),\n",
    "or the standard of care for pharmacotherapy\n",
    "(an [anxiolytic GABA agonist](https://en.wikipedia.org/wiki/Anxiolytic)).\n",
    "As an aside: in actual clinical studies, treatment with a placebo is considered unethical if there's already a standard of care, and a proper clinical trial compares alternative treatments to standard treatments.\n",
    "\n",
    "The results of your experiment are summarized in the table `anxiety_dataset.csv`."
   ]
  },
  {
   "cell_type": "markdown",
   "metadata": {},
   "source": [
    "## Loading the Data"
   ]
  },
  {
   "cell_type": "code",
   "execution_count": 31,
   "metadata": {
    "collapsed": true
   },
   "outputs": [],
   "source": [
    "df = pd.read_csv('./data/anxiety_dataset.csv',index_col=0)\n",
    "\n",
    "data = df.copy()"
   ]
  },
  {
   "cell_type": "code",
   "execution_count": 32,
   "metadata": {},
   "outputs": [
    {
     "data": {
      "text/html": [
       "<div>\n",
       "<style>\n",
       "    .dataframe thead tr:only-child th {\n",
       "        text-align: right;\n",
       "    }\n",
       "\n",
       "    .dataframe thead th {\n",
       "        text-align: left;\n",
       "    }\n",
       "\n",
       "    .dataframe tbody tr th {\n",
       "        vertical-align: top;\n",
       "    }\n",
       "</style>\n",
       "<table border=\"1\" class=\"dataframe\">\n",
       "  <thead>\n",
       "    <tr style=\"text-align: right;\">\n",
       "      <th></th>\n",
       "      <th>treatment</th>\n",
       "      <th>trauma</th>\n",
       "      <th>anxiety_reduction</th>\n",
       "    </tr>\n",
       "    <tr>\n",
       "      <th>subjectID</th>\n",
       "      <th></th>\n",
       "      <th></th>\n",
       "      <th></th>\n",
       "    </tr>\n",
       "  </thead>\n",
       "  <tbody>\n",
       "    <tr>\n",
       "      <th>13</th>\n",
       "      <td>drug</td>\n",
       "      <td>False</td>\n",
       "      <td>9.0</td>\n",
       "    </tr>\n",
       "    <tr>\n",
       "      <th>14</th>\n",
       "      <td>drug</td>\n",
       "      <td>False</td>\n",
       "      <td>6.0</td>\n",
       "    </tr>\n",
       "    <tr>\n",
       "      <th>10</th>\n",
       "      <td>placebo</td>\n",
       "      <td>True</td>\n",
       "      <td>2.7</td>\n",
       "    </tr>\n",
       "    <tr>\n",
       "      <th>17</th>\n",
       "      <td>placebo</td>\n",
       "      <td>False</td>\n",
       "      <td>2.5</td>\n",
       "    </tr>\n",
       "    <tr>\n",
       "      <th>5</th>\n",
       "      <td>cbt</td>\n",
       "      <td>True</td>\n",
       "      <td>7.6</td>\n",
       "    </tr>\n",
       "    <tr>\n",
       "      <th>13</th>\n",
       "      <td>placebo</td>\n",
       "      <td>False</td>\n",
       "      <td>3.2</td>\n",
       "    </tr>\n",
       "    <tr>\n",
       "      <th>19</th>\n",
       "      <td>cbt</td>\n",
       "      <td>False</td>\n",
       "      <td>3.8</td>\n",
       "    </tr>\n",
       "    <tr>\n",
       "      <th>19</th>\n",
       "      <td>placebo</td>\n",
       "      <td>False</td>\n",
       "      <td>1.6</td>\n",
       "    </tr>\n",
       "    <tr>\n",
       "      <th>20</th>\n",
       "      <td>drug</td>\n",
       "      <td>False</td>\n",
       "      <td>6.9</td>\n",
       "    </tr>\n",
       "    <tr>\n",
       "      <th>6</th>\n",
       "      <td>cbt</td>\n",
       "      <td>True</td>\n",
       "      <td>3.0</td>\n",
       "    </tr>\n",
       "  </tbody>\n",
       "</table>\n",
       "</div>"
      ],
      "text/plain": [
       "          treatment  trauma  anxiety_reduction\n",
       "subjectID                                     \n",
       "13             drug   False                9.0\n",
       "14             drug   False                6.0\n",
       "10          placebo    True                2.7\n",
       "17          placebo   False                2.5\n",
       "5               cbt    True                7.6\n",
       "13          placebo   False                3.2\n",
       "19              cbt   False                3.8\n",
       "19          placebo   False                1.6\n",
       "20             drug   False                6.9\n",
       "6               cbt    True                3.0"
      ]
     },
     "execution_count": 32,
     "metadata": {},
     "output_type": "execute_result"
    }
   ],
   "source": [
    "data.sample(10)"
   ]
  },
  {
   "cell_type": "markdown",
   "metadata": {},
   "source": [
    "For the independent variables `treatment` and `trauma`, use the pandas `Series` method `unique` to determine the levels and store these in variables called `treatments` and `traumas`."
   ]
  },
  {
   "cell_type": "code",
   "execution_count": 33,
   "metadata": {
    "collapsed": true
   },
   "outputs": [],
   "source": [
    "treatments = data.treatment.unique()\n",
    "traumas = data.trauma.unique()"
   ]
  },
  {
   "cell_type": "markdown",
   "metadata": {},
   "source": [
    "## Visualizing the Data"
   ]
  },
  {
   "cell_type": "markdown",
   "metadata": {},
   "source": [
    "Visualize the data. Aim for a visualization that makes it possible to see any main effects along with the interaction effect you're interested in. Examples include: histograms, factorial plots (make sure to include error bars), and strip/swarm/violin plots.\n",
    "\n",
    "#### Q1 Discuss the connections between visual aspects of your graph and 1) the assumptions of ANOVA and 2) the outcomes you expect."
   ]
  },
  {
   "cell_type": "markdown",
   "metadata": {},
   "source": [
    "<font color=\"1874CD\"> \n",
    "\n",
    "** The answer below is for the histogram. Information about interpreting the factorial plot can be found in the Miller & Haden readings. **\n",
    "\n",
    "** The assumption of sphericity (equal variances) can be approximately checked by looking at the width of the distributions. The assumption appears to hold in this case. **\n",
    "\n",
    "** The main effect of trauma can be assessed by looking at the differences in means within each plot. There may be a small main effect of trauma, but it is difficult to tell. **\n",
    "\n",
    "** The main effect of treatment can be assessed by looking at the differences of means across the plots. The means of both of the non-placebo treatment groups appear to be higher than that of the placebo group, so we expect a main effect of treatment.**\n",
    "\n",
    "** The interaction effect of trauma and treatment appears as a difference in the location of the trauma group means depending on treatment. We see here that pharmacotherapy appears more effective on individuals with no trauma, while psychotherapy appears to be more effective on individuals with trauma. We expect, therefore, an interaction effect of trauma and treatment. **"
   ]
  },
  {
   "cell_type": "code",
   "execution_count": 34,
   "metadata": {},
   "outputs": [
    {
     "data": {
      "image/png": "[encoded data removed]",
      "text/plain": [
       "<matplotlib.figure.Figure at 0x115a2f2b0>"
      ]
     },
     "metadata": {},
     "output_type": "display_data"
    }
   ],
   "source": [
    "hist_kws = {'histtype':'stepfilled',\n",
    "               'linewidth':4}\n",
    "\n",
    "facets = sns.FacetGrid(data=data,\n",
    "                       row=\"treatment\",\n",
    "                       hue=\"trauma\",\n",
    "                        size=2,aspect=4)\n",
    "\n",
    "facets.map(sns.distplot,\"anxiety_reduction\",\n",
    "           kde=False,\n",
    "           bins=np.arange(0,15,0.5),\n",
    "           hist_kws=hist_kws).add_legend();"
   ]
  },
  {
   "cell_type": "code",
   "execution_count": 35,
   "metadata": {},
   "outputs": [
    {
     "data": {
      "image/png": "[encoded data removed]",
      "text/plain": [
       "<matplotlib.figure.Figure at 0x115bdb6a0>"
      ]
     },
     "metadata": {},
     "output_type": "display_data"
    }
   ],
   "source": [
    "interaction_means = data.groupby([\"treatment\",\"trauma\"]).mean()\n",
    "\n",
    "interaction_SDs = data.groupby([\"treatment\",\"trauma\"]).std()\n",
    "\n",
    "for treatment in treatments:\n",
    "    means = interaction_means.loc[treatment].anxiety_reduction\n",
    "    errs = np.asarray(interaction_SDs.loc[treatment].anxiety_reduction)\n",
    "    plt.errorbar(x=[0,1],y=means,yerr=errs,label=treatment,\n",
    "             linewidth=4,alpha=1,capthick=4,capsize=12,\n",
    "            marker='o',markersize=16)\n",
    "    \n",
    "ax = plt.gca()\n",
    "ax.set_xticks([0,1])\n",
    "ax.set_xticklabels([\"No Trauma\",\"Trauma\"])\n",
    "ax.set_xlim([-1,2])\n",
    "ax.set_ylabel(\"Anxiety Reduction\")\n",
    "ylims = ax.get_ylim()\n",
    "ax.set_ylim([0,ylims[1]])\n",
    "    \n",
    "plt.legend();"
   ]
  },
  {
   "cell_type": "markdown",
   "metadata": {},
   "source": [
    "### Easy Way"
   ]
  },
  {
   "cell_type": "markdown",
   "metadata": {},
   "source": [
    "Because ANOVA is,\n",
    "from one perspective,\n",
    "a test of the goodness-of-fit of a linear model,\n",
    "many implementations of ANOVA\n",
    "work by first fitting a linear model\n",
    "and then testing the fit."
   ]
  },
  {
   "cell_type": "code",
   "execution_count": 36,
   "metadata": {
    "collapsed": true
   },
   "outputs": [],
   "source": [
    "import statsmodels.api as sm\n",
    "import statsmodels.formula.api as smf"
   ]
  },
  {
   "cell_type": "markdown",
   "metadata": {},
   "source": [
    "We specify models by describing them with strings that look like:\n",
    "\n",
    "```\n",
    "    \"outcome ~ factor\"\n",
    "```\n",
    "\n",
    "for one-way ANOVAs,\n",
    "\n",
    "```\n",
    "    \"outcome ~ factor1*factor2*...factorN\"\n",
    "```\n",
    "\n",
    "for N-way ANOVAs where we want to compute all main effects and interactions,\n",
    "and\n",
    "\n",
    "```\n",
    "    \"outcome ~ factor1:randomFactor1:randomFactor2:...randomFactorN\"\n",
    "```\n",
    "\n",
    "for ANOVAs with N factors where we're only interested in interactions (e.g., a subject factor)."
   ]
  },
  {
   "cell_type": "code",
   "execution_count": 37,
   "metadata": {},
   "outputs": [
    {
     "data": {
      "text/html": [
       "<div>\n",
       "<style>\n",
       "    .dataframe thead tr:only-child th {\n",
       "        text-align: right;\n",
       "    }\n",
       "\n",
       "    .dataframe thead th {\n",
       "        text-align: left;\n",
       "    }\n",
       "\n",
       "    .dataframe tbody tr th {\n",
       "        vertical-align: top;\n",
       "    }\n",
       "</style>\n",
       "<table border=\"1\" class=\"dataframe\">\n",
       "  <thead>\n",
       "    <tr style=\"text-align: right;\">\n",
       "      <th></th>\n",
       "      <th>sum_sq</th>\n",
       "      <th>df</th>\n",
       "      <th>F</th>\n",
       "      <th>PR(&gt;F)</th>\n",
       "    </tr>\n",
       "  </thead>\n",
       "  <tbody>\n",
       "    <tr>\n",
       "      <th>treatment</th>\n",
       "      <td>124.100083</td>\n",
       "      <td>2.0</td>\n",
       "      <td>44.040525</td>\n",
       "      <td>4.530595e-12</td>\n",
       "    </tr>\n",
       "    <tr>\n",
       "      <th>trauma</th>\n",
       "      <td>5.612042</td>\n",
       "      <td>1.0</td>\n",
       "      <td>3.983193</td>\n",
       "      <td>5.101057e-02</td>\n",
       "    </tr>\n",
       "    <tr>\n",
       "      <th>treatment:trauma</th>\n",
       "      <td>30.958083</td>\n",
       "      <td>2.0</td>\n",
       "      <td>10.986377</td>\n",
       "      <td>9.928169e-05</td>\n",
       "    </tr>\n",
       "    <tr>\n",
       "      <th>Residual</th>\n",
       "      <td>76.082250</td>\n",
       "      <td>54.0</td>\n",
       "      <td>NaN</td>\n",
       "      <td>NaN</td>\n",
       "    </tr>\n",
       "  </tbody>\n",
       "</table>\n",
       "</div>"
      ],
      "text/plain": [
       "                      sum_sq    df          F        PR(>F)\n",
       "treatment         124.100083   2.0  44.040525  4.530595e-12\n",
       "trauma              5.612042   1.0   3.983193  5.101057e-02\n",
       "treatment:trauma   30.958083   2.0  10.986377  9.928169e-05\n",
       "Residual           76.082250  54.0        NaN           NaN"
      ]
     },
     "execution_count": 37,
     "metadata": {},
     "output_type": "execute_result"
    }
   ],
   "source": [
    "ols_lm = smf.ols('anxiety_reduction ~ treatment*trauma',data=df)\n",
    "\n",
    "fit = ols_lm.fit()\n",
    "\n",
    "table = sm.stats.anova_lm(fit,typ=2)\n",
    "\n",
    "table"
   ]
  },
  {
   "cell_type": "markdown",
   "metadata": {},
   "source": [
    "Hang on to this table of results for comparison with your ANOVA by hand below."
   ]
  },
  {
   "cell_type": "markdown",
   "metadata": {},
   "source": [
    "#### Q2 Interpret the pattern of significant and non-significant results that you see. First, phrase your answer as you would write it in the results section of a paper (e.g. using the [APA guidelines](https://depts.washington.edu/psych/files/writing_center/stats.pdf)), then describe the results less formally, as in a research talk."
   ]
  },
  {
   "cell_type": "markdown",
   "metadata": {},
   "source": [
    "<font color=\"1874CD\"> ** In a paper, it is expected that you report degrees of freedom and F-statistic values. \"We applied a two-way between-subjects ANOVA to the anxiety reduction scores. We report a significant main effect of treatment [(F(2,54)=44.04, p << .001] and a significant interaction of treatment and presence of past trauma [F(2,54) = 10.99, p << .001]\". Once could possibly also note the \"trend\" for an effect of trauma, noting that the observed p-value is 0.051, which is not meaningfully different from 0.05. **\n",
    "\n",
    "** In a research talk, the findings can be summarized more informally: \"Using ANOVA, we found that anxiety reduction scores differed significantly across treatments. We also found that response to treatment varied significantly between subjects with and without a history of trauma.\" One might go even further and only note that \"an ANOVA was performed that revealed a main effect of treatment and an interaction of treatment and trauma history\" and then report the results of post-hoc t-tests (e.g. a test confirming that CBT was more effective in individuals with a history of trauma).**"
   ]
  },
  {
   "cell_type": "markdown",
   "metadata": {},
   "source": [
    "Just as we performed an overall F-test before doing t-tests in a one-way ANOVA, one can also perform an \"omnibus\" F-test before performing the individual F-tests of a multi-way ANOVA. In this test, we check to see whether the model as a whole has a significant between-groups mean-square.\n",
    "\n",
    "We can calculate the model's overall between-groups mean-square by adding up the sums of squares for each component of the model and dividing by the sum of the degrees of freedom of each component of the model. Comparing this to the residual mean square gives us an F for which we can compute a p-value.\n",
    "\n",
    "The issue of multiple-comparisons in ANOVA and the role of the omnibus test is explored in the second half of the lab.\n",
    "\n",
    "Implement an omnibus test and run it on the results table above. You'll need the `cdf` method of `scipy.stats.f`. Note that the results table contains all the information you need to run an omnibus test."
   ]
  },
  {
   "cell_type": "code",
   "execution_count": 38,
   "metadata": {
    "collapsed": true
   },
   "outputs": [],
   "source": [
    "#scipy.stats.f?"
   ]
  },
  {
   "cell_type": "code",
   "execution_count": 39,
   "metadata": {
    "collapsed": true
   },
   "outputs": [],
   "source": [
    "def compute_P(F_value, dof_between, dof_within):\n",
    "    F_distribution = scipy.stats.f\n",
    "    p = 1 - F_distribution.cdf(F_value,dof_between,dof_within)\n",
    "    return p\n",
    "\n",
    "def omnibus_test(result):\n",
    "    \n",
    "    model = result[:-1]\n",
    "    residual = result.iloc[-1]\n",
    "    \n",
    "    dof = np.sum(model['df'])\n",
    "    \n",
    "    mean_square_explained = np.sum(model['sum_sq'])/dof\n",
    "    \n",
    "    mean_square_unexplained = residual['sum_sq']/residual['df']\n",
    "    \n",
    "    F = mean_square_explained/mean_square_unexplained\n",
    "    \n",
    "    p = compute_P(F,dof,residual['df'])\n",
    "    \n",
    "    return (F,p)"
   ]
  },
  {
   "cell_type": "code",
   "execution_count": 40,
   "metadata": {},
   "outputs": [
    {
     "name": "stdout",
     "output_type": "stream",
     "text": [
      "(22.807399229123739, 3.1621372187373709e-12)\n"
     ]
    }
   ],
   "source": [
    "F,p = omnibus_test(table)\n",
    "print((F,p))"
   ]
  },
  {
   "cell_type": "markdown",
   "metadata": {},
   "source": [
    "### Hard Way"
   ]
  },
  {
   "cell_type": "markdown",
   "metadata": {},
   "source": [
    "As previously, we'll build a pandas data frame to hold our decomposition matrix."
   ]
  },
  {
   "cell_type": "code",
   "execution_count": 41,
   "metadata": {},
   "outputs": [
    {
     "data": {
      "text/html": [
       "<div>\n",
       "<style>\n",
       "    .dataframe thead tr:only-child th {\n",
       "        text-align: right;\n",
       "    }\n",
       "\n",
       "    .dataframe thead th {\n",
       "        text-align: left;\n",
       "    }\n",
       "\n",
       "    .dataframe tbody tr th {\n",
       "        vertical-align: top;\n",
       "    }\n",
       "</style>\n",
       "<table border=\"1\" class=\"dataframe\">\n",
       "  <thead>\n",
       "    <tr style=\"text-align: right;\">\n",
       "      <th></th>\n",
       "      <th>treatment</th>\n",
       "      <th>trauma</th>\n",
       "      <th>anxiety_reduction</th>\n",
       "    </tr>\n",
       "    <tr>\n",
       "      <th>subjectID</th>\n",
       "      <th></th>\n",
       "      <th></th>\n",
       "      <th></th>\n",
       "    </tr>\n",
       "  </thead>\n",
       "  <tbody>\n",
       "    <tr>\n",
       "      <th>12</th>\n",
       "      <td>placebo</td>\n",
       "      <td>False</td>\n",
       "      <td>3.60</td>\n",
       "    </tr>\n",
       "    <tr>\n",
       "      <th>10</th>\n",
       "      <td>drug</td>\n",
       "      <td>True</td>\n",
       "      <td>5.90</td>\n",
       "    </tr>\n",
       "    <tr>\n",
       "      <th>18</th>\n",
       "      <td>placebo</td>\n",
       "      <td>False</td>\n",
       "      <td>3.30</td>\n",
       "    </tr>\n",
       "    <tr>\n",
       "      <th>8</th>\n",
       "      <td>drug</td>\n",
       "      <td>True</td>\n",
       "      <td>3.45</td>\n",
       "    </tr>\n",
       "    <tr>\n",
       "      <th>7</th>\n",
       "      <td>placebo</td>\n",
       "      <td>True</td>\n",
       "      <td>3.20</td>\n",
       "    </tr>\n",
       "    <tr>\n",
       "      <th>14</th>\n",
       "      <td>cbt</td>\n",
       "      <td>False</td>\n",
       "      <td>4.40</td>\n",
       "    </tr>\n",
       "    <tr>\n",
       "      <th>4</th>\n",
       "      <td>drug</td>\n",
       "      <td>True</td>\n",
       "      <td>4.80</td>\n",
       "    </tr>\n",
       "    <tr>\n",
       "      <th>2</th>\n",
       "      <td>cbt</td>\n",
       "      <td>True</td>\n",
       "      <td>6.00</td>\n",
       "    </tr>\n",
       "    <tr>\n",
       "      <th>16</th>\n",
       "      <td>drug</td>\n",
       "      <td>False</td>\n",
       "      <td>8.70</td>\n",
       "    </tr>\n",
       "    <tr>\n",
       "      <th>20</th>\n",
       "      <td>cbt</td>\n",
       "      <td>False</td>\n",
       "      <td>3.80</td>\n",
       "    </tr>\n",
       "  </tbody>\n",
       "</table>\n",
       "</div>"
      ],
      "text/plain": [
       "          treatment  trauma  anxiety_reduction\n",
       "subjectID                                     \n",
       "12          placebo   False               3.60\n",
       "10             drug    True               5.90\n",
       "18          placebo   False               3.30\n",
       "8              drug    True               3.45\n",
       "7           placebo    True               3.20\n",
       "14              cbt   False               4.40\n",
       "4              drug    True               4.80\n",
       "2               cbt    True               6.00\n",
       "16             drug   False               8.70\n",
       "20              cbt   False               3.80"
      ]
     },
     "execution_count": 41,
     "metadata": {},
     "output_type": "execute_result"
    }
   ],
   "source": [
    "N = len(df)\n",
    "\n",
    "anova_frame = data.copy()\n",
    "\n",
    "anova_frame.sample(10)"
   ]
  },
  {
   "cell_type": "markdown",
   "metadata": {},
   "source": [
    "We start by calculating the relevant means, using the `groupby` method when necessary. For the interaction term, note that you can do a \"double\" `groupby` by passing a list of columns to group on to the `groupby` method, instead of a single column."
   ]
  },
  {
   "cell_type": "code",
   "execution_count": 42,
   "metadata": {
    "collapsed": true
   },
   "outputs": [],
   "source": [
    "grand_mean = anova_frame.anxiety_reduction.mean()\n",
    "treatment_means = anova_frame.groupby(\"treatment\").anxiety_reduction.mean()\n",
    "trauma_means = anova_frame.groupby(\"trauma\").anxiety_reduction.mean()\n",
    "\n",
    "interaction_means = anova_frame.groupby([\"treatment\",\"trauma\"]).anxiety_reduction.mean()"
   ]
  },
  {
   "cell_type": "code",
   "execution_count": 43,
   "metadata": {},
   "outputs": [
    {
     "data": {
      "text/plain": [
       "treatment  trauma\n",
       "cbt        False     5.070\n",
       "           True      6.060\n",
       "drug       False     7.360\n",
       "           True      4.865\n",
       "placebo    False     2.990\n",
       "           True      2.660\n",
       "Name: anxiety_reduction, dtype: float64"
      ]
     },
     "execution_count": 43,
     "metadata": {},
     "output_type": "execute_result"
    }
   ],
   "source": [
    "interaction_means"
   ]
  },
  {
   "cell_type": "markdown",
   "metadata": {},
   "source": [
    "Now, we use the combination of a selector and the `.loc` method, to add columns for the main effects of treatment and trauma and the interaction effect of trauma and treatment. We use `.loc` to find things using keys and we use selectors to find things using logical statements. `.loc` is useful for indexing into the `groupby` objects, while selectors are useful for indexing into the `anova_frame`.\n",
    "\n",
    "The column for main effect of trauma has been worked as an example, and code has been provided for the selection component of computing the interaction effect.\n",
    "\n",
    "We covered selectors in the pandas tutorial, but look back if you need a refresher. If you're confused or curious about how `.loc` works, check out [this tutorial](http://www.shanelynn.ie/select-pandas-dataframe-rows-and-columns-using-iloc-loc-and-ix/). "
   ]
  },
  {
   "cell_type": "code",
   "execution_count": 44,
   "metadata": {},
   "outputs": [],
   "source": [
    "anova_frame[\"grand_mean\"] = grand_mean\n",
    "\n",
    "for trauma in traumas:\n",
    "    selector = (anova_frame.trauma == trauma)\n",
    "    anova_frame.loc[selector,\"trauma_main_effect\"] = trauma_means.loc[trauma]-grand_mean\n",
    "    \n",
    "for treatment in treatments:\n",
    "    selector = (anova_frame.treatment == treatment)\n",
    "    anova_frame.loc[selector,\"treatment_main_effect\"] = treatment_means.loc[treatment]-grand_mean\n",
    "    \n",
    "for trauma in traumas:\n",
    "    for treatment in treatments:\n",
    "        selector = (anova_frame.treatment == treatment) & (anova_frame.trauma == trauma)\n",
    "        anova_frame.loc[selector,\"interaction_effect\"]  = interaction_means.loc[treatment,trauma] - \\\n",
    "            anova_frame.trauma_main_effect[selector] - anova_frame.treatment_main_effect[selector] - grand_mean            "
   ]
  },
  {
   "cell_type": "markdown",
   "metadata": {},
   "source": [
    "Lastly, calculate the residual error. This can be done by simply subtracting columns of `anova_frame`."
   ]
  },
  {
   "cell_type": "code",
   "execution_count": 45,
   "metadata": {},
   "outputs": [
    {
     "data": {
      "text/html": [
       "<div>\n",
       "<style>\n",
       "    .dataframe thead tr:only-child th {\n",
       "        text-align: right;\n",
       "    }\n",
       "\n",
       "    .dataframe thead th {\n",
       "        text-align: left;\n",
       "    }\n",
       "\n",
       "    .dataframe tbody tr th {\n",
       "        vertical-align: top;\n",
       "    }\n",
       "</style>\n",
       "<table border=\"1\" class=\"dataframe\">\n",
       "  <thead>\n",
       "    <tr style=\"text-align: right;\">\n",
       "      <th></th>\n",
       "      <th>treatment</th>\n",
       "      <th>trauma</th>\n",
       "      <th>anxiety_reduction</th>\n",
       "      <th>grand_mean</th>\n",
       "      <th>trauma_main_effect</th>\n",
       "      <th>treatment_main_effect</th>\n",
       "      <th>interaction_effect</th>\n",
       "      <th>residual</th>\n",
       "    </tr>\n",
       "    <tr>\n",
       "      <th>subjectID</th>\n",
       "      <th></th>\n",
       "      <th></th>\n",
       "      <th></th>\n",
       "      <th></th>\n",
       "      <th></th>\n",
       "      <th></th>\n",
       "      <th></th>\n",
       "      <th></th>\n",
       "    </tr>\n",
       "  </thead>\n",
       "  <tbody>\n",
       "    <tr>\n",
       "      <th>15</th>\n",
       "      <td>placebo</td>\n",
       "      <td>False</td>\n",
       "      <td>2.8</td>\n",
       "      <td>4.834167</td>\n",
       "      <td>0.305833</td>\n",
       "      <td>-2.009167</td>\n",
       "      <td>-0.140833</td>\n",
       "      <td>-0.190</td>\n",
       "    </tr>\n",
       "    <tr>\n",
       "      <th>4</th>\n",
       "      <td>drug</td>\n",
       "      <td>True</td>\n",
       "      <td>4.8</td>\n",
       "      <td>4.834167</td>\n",
       "      <td>-0.305833</td>\n",
       "      <td>1.278333</td>\n",
       "      <td>-0.941667</td>\n",
       "      <td>-0.065</td>\n",
       "    </tr>\n",
       "    <tr>\n",
       "      <th>3</th>\n",
       "      <td>drug</td>\n",
       "      <td>True</td>\n",
       "      <td>3.7</td>\n",
       "      <td>4.834167</td>\n",
       "      <td>-0.305833</td>\n",
       "      <td>1.278333</td>\n",
       "      <td>-0.941667</td>\n",
       "      <td>-1.165</td>\n",
       "    </tr>\n",
       "    <tr>\n",
       "      <th>9</th>\n",
       "      <td>drug</td>\n",
       "      <td>True</td>\n",
       "      <td>5.0</td>\n",
       "      <td>4.834167</td>\n",
       "      <td>-0.305833</td>\n",
       "      <td>1.278333</td>\n",
       "      <td>-0.941667</td>\n",
       "      <td>0.135</td>\n",
       "    </tr>\n",
       "    <tr>\n",
       "      <th>2</th>\n",
       "      <td>cbt</td>\n",
       "      <td>True</td>\n",
       "      <td>6.0</td>\n",
       "      <td>4.834167</td>\n",
       "      <td>-0.305833</td>\n",
       "      <td>0.730833</td>\n",
       "      <td>0.800833</td>\n",
       "      <td>-0.060</td>\n",
       "    </tr>\n",
       "    <tr>\n",
       "      <th>20</th>\n",
       "      <td>placebo</td>\n",
       "      <td>False</td>\n",
       "      <td>2.7</td>\n",
       "      <td>4.834167</td>\n",
       "      <td>0.305833</td>\n",
       "      <td>-2.009167</td>\n",
       "      <td>-0.140833</td>\n",
       "      <td>-0.290</td>\n",
       "    </tr>\n",
       "    <tr>\n",
       "      <th>17</th>\n",
       "      <td>cbt</td>\n",
       "      <td>False</td>\n",
       "      <td>4.2</td>\n",
       "      <td>4.834167</td>\n",
       "      <td>0.305833</td>\n",
       "      <td>0.730833</td>\n",
       "      <td>-0.800833</td>\n",
       "      <td>-0.870</td>\n",
       "    </tr>\n",
       "    <tr>\n",
       "      <th>6</th>\n",
       "      <td>cbt</td>\n",
       "      <td>True</td>\n",
       "      <td>3.0</td>\n",
       "      <td>4.834167</td>\n",
       "      <td>-0.305833</td>\n",
       "      <td>0.730833</td>\n",
       "      <td>0.800833</td>\n",
       "      <td>-3.060</td>\n",
       "    </tr>\n",
       "    <tr>\n",
       "      <th>6</th>\n",
       "      <td>placebo</td>\n",
       "      <td>True</td>\n",
       "      <td>0.9</td>\n",
       "      <td>4.834167</td>\n",
       "      <td>-0.305833</td>\n",
       "      <td>-2.009167</td>\n",
       "      <td>0.140833</td>\n",
       "      <td>-1.760</td>\n",
       "    </tr>\n",
       "    <tr>\n",
       "      <th>5</th>\n",
       "      <td>cbt</td>\n",
       "      <td>True</td>\n",
       "      <td>7.6</td>\n",
       "      <td>4.834167</td>\n",
       "      <td>-0.305833</td>\n",
       "      <td>0.730833</td>\n",
       "      <td>0.800833</td>\n",
       "      <td>1.540</td>\n",
       "    </tr>\n",
       "  </tbody>\n",
       "</table>\n",
       "</div>"
      ],
      "text/plain": [
       "          treatment  trauma  anxiety_reduction  grand_mean  \\\n",
       "subjectID                                                    \n",
       "15          placebo   False                2.8    4.834167   \n",
       "4              drug    True                4.8    4.834167   \n",
       "3              drug    True                3.7    4.834167   \n",
       "9              drug    True                5.0    4.834167   \n",
       "2               cbt    True                6.0    4.834167   \n",
       "20          placebo   False                2.7    4.834167   \n",
       "17              cbt   False                4.2    4.834167   \n",
       "6               cbt    True                3.0    4.834167   \n",
       "6           placebo    True                0.9    4.834167   \n",
       "5               cbt    True                7.6    4.834167   \n",
       "\n",
       "           trauma_main_effect  treatment_main_effect  interaction_effect  \\\n",
       "subjectID                                                                  \n",
       "15                   0.305833              -2.009167           -0.140833   \n",
       "4                   -0.305833               1.278333           -0.941667   \n",
       "3                   -0.305833               1.278333           -0.941667   \n",
       "9                   -0.305833               1.278333           -0.941667   \n",
       "2                   -0.305833               0.730833            0.800833   \n",
       "20                   0.305833              -2.009167           -0.140833   \n",
       "17                   0.305833               0.730833           -0.800833   \n",
       "6                   -0.305833               0.730833            0.800833   \n",
       "6                   -0.305833              -2.009167            0.140833   \n",
       "5                   -0.305833               0.730833            0.800833   \n",
       "\n",
       "           residual  \n",
       "subjectID            \n",
       "15           -0.190  \n",
       "4            -0.065  \n",
       "3            -1.165  \n",
       "9             0.135  \n",
       "2            -0.060  \n",
       "20           -0.290  \n",
       "17           -0.870  \n",
       "6            -3.060  \n",
       "6            -1.760  \n",
       "5             1.540  "
      ]
     },
     "execution_count": 45,
     "metadata": {},
     "output_type": "execute_result"
    }
   ],
   "source": [
    "anova_frame[\"residual\"] = anova_frame.anxiety_reduction - anova_frame.grand_mean - \\\n",
    "                            anova_frame.trauma_main_effect - anova_frame.treatment_main_effect - \\\n",
    "                            anova_frame.interaction_effect\n",
    "    \n",
    "anova_frame.sample(10)"
   ]
  },
  {
   "cell_type": "markdown",
   "metadata": {},
   "source": [
    "With our decomposition matrix in hand, we can calculate the relevant sums of squares. Using a square-and-sum function, calculate the total, mean, main effects, interaction, and residual sums of squares.\n",
    "\n",
    "As before, we'll store them in a dictionary, keyed by their name."
   ]
  },
  {
   "cell_type": "code",
   "execution_count": 46,
   "metadata": {},
   "outputs": [
    {
     "data": {
      "text/plain": [
       "{'grand_mean': 1402.1500416666663,\n",
       " 'interaction': 30.95808333333337,\n",
       " 'residual': 76.082250000000002,\n",
       " 'total': 1638.9025000000004,\n",
       " 'trauma': 5.6120416666666948,\n",
       " 'treatment': 124.10008333333334}"
      ]
     },
     "execution_count": 46,
     "metadata": {},
     "output_type": "execute_result"
    }
   ],
   "source": [
    "sum_of_squares = {}\n",
    "\n",
    "keys = [\"total\",\"grand_mean\",\"trauma\",\"treatment\",\"interaction\",\"residual\"]\n",
    "\n",
    "columns = [anova_frame.anxiety_reduction,\n",
    "           anova_frame.grand_mean,\n",
    "           anova_frame.trauma_main_effect,\n",
    "           anova_frame.treatment_main_effect,\n",
    "           anova_frame.interaction_effect,\n",
    "           anova_frame[\"residual\"]]\n",
    "\n",
    "for key,column in zip(keys,columns):\n",
    "    sum_of_squares[key] = np.sum(np.square(column))\n",
    "    \n",
    "sum_of_squares"
   ]
  },
  {
   "cell_type": "markdown",
   "metadata": {},
   "source": [
    "Calculate the degrees of freedom for each of the sums of squares above and store it into a dictionary."
   ]
  },
  {
   "cell_type": "code",
   "execution_count": 47,
   "metadata": {},
   "outputs": [
    {
     "data": {
      "text/plain": [
       "{'grand_mean': 1,\n",
       " 'interaction': 2,\n",
       " 'residual': 54,\n",
       " 'total': 60,\n",
       " 'trauma': 1,\n",
       " 'treatment': 2}"
      ]
     },
     "execution_count": 47,
     "metadata": {},
     "output_type": "execute_result"
    }
   ],
   "source": [
    "dof = {}\n",
    "\n",
    "keys = [\"total\",\"grand_mean\",\"trauma\",\"treatment\",\"interaction\",\"residual\"]\n",
    "vals = [N,1,\n",
    "        len(traumas)-1,\n",
    "        len(treatments)-1,\n",
    "        (len(traumas)-1)*(len(treatments)-1),\n",
    "        N-len(traumas)*len(treatments)]\n",
    "\n",
    "for key,val in zip(keys,vals):\n",
    "    dof[key] = val\n",
    "    \n",
    "dof"
   ]
  },
  {
   "cell_type": "markdown",
   "metadata": {},
   "source": [
    "Using the dictionaries `sum_of_squares` and `dof`, compute the mean square values for all of the keyed quantities."
   ]
  },
  {
   "cell_type": "code",
   "execution_count": 48,
   "metadata": {},
   "outputs": [
    {
     "data": {
      "text/plain": [
       "{'grand_mean': 1402.1500416666663,\n",
       " 'interaction': 15.479041666666685,\n",
       " 'residual': 1.4089305555555556,\n",
       " 'total': 27.315041666666673,\n",
       " 'trauma': 5.6120416666666948,\n",
       " 'treatment': 62.050041666666672}"
      ]
     },
     "execution_count": 48,
     "metadata": {},
     "output_type": "execute_result"
    }
   ],
   "source": [
    "mean_square = {}\n",
    "\n",
    "for key in keys:\n",
    "    mean_square[key] = sum_of_squares[key]/dof[key]\n",
    "    \n",
    "mean_square"
   ]
  },
  {
   "cell_type": "markdown",
   "metadata": {},
   "source": [
    "Compute the F-statistic for each main effect and the interaction."
   ]
  },
  {
   "cell_type": "code",
   "execution_count": 49,
   "metadata": {},
   "outputs": [
    {
     "data": {
      "text/plain": [
       "{'interaction': 10.986376585865967,\n",
       " 'trauma': 3.9831925317666279,\n",
       " 'treatment': 44.040525221060108}"
      ]
     },
     "execution_count": 49,
     "metadata": {},
     "output_type": "execute_result"
    }
   ],
   "source": [
    "F = {}\n",
    "\n",
    "for key in [\"treatment\",\"trauma\",\"interaction\"]:\n",
    "    F[key] = mean_square[key]/mean_square[\"residual\"]\n",
    "\n",
    "F"
   ]
  },
  {
   "cell_type": "markdown",
   "metadata": {},
   "source": [
    "Lastly, compute the p value using `scipy.stats.f.cdf`."
   ]
  },
  {
   "cell_type": "markdown",
   "metadata": {},
   "source": [
    "#### Q3 What's a CDF again? Why do we use the CDF of the sampling distribution of the statistic to compute p-values?"
   ]
  },
  {
   "cell_type": "markdown",
   "metadata": {},
   "source": [
    "<font color=\"1874CD\"> **A CDF is a cumulative distribution function. The CDF tells us the chance that a random value will be less than or equal to the input value. In the case of the F-statistic, we describe the outcome of the experiment as \"an F value as large or larger than the computed value\".  Therefore, one minus the CDF gives the probability of the outcome of our experiment under the null hypothesis.**"
   ]
  },
  {
   "cell_type": "code",
   "execution_count": 50,
   "metadata": {},
   "outputs": [
    {
     "name": "stdout",
     "output_type": "stream",
     "text": [
      "treatment\n",
      "\t4.53059811889e-12\n",
      "trauma\n",
      "\t0.0510105729778\n",
      "interaction\n",
      "\t9.92816894022e-05\n"
     ]
    }
   ],
   "source": [
    "for effect in F.keys():\n",
    "    print(effect)\n",
    "    print(\"\\t\"+str(compute_P(F[effect],dof[effect],dof[\"residual\"])))"
   ]
  }
 ],
 "metadata": {
  "anaconda-cloud": {},
  "kernelspec": {
   "display_name": "Python 3",
   "language": "python",
   "name": "python3"
  },
  "language_info": {
   "codemirror_mode": {
    "name": "ipython",
    "version": 3
   },
   "file_extension": ".py",
   "mimetype": "text/x-python",
   "name": "python",
   "nbconvert_exporter": "python",
   "pygments_lexer": "ipython3",
   "version": "3.6.2"
  }
 },
 "nbformat": 4,
 "nbformat_minor": 1
}
