{
 "cells": [
  {
   "cell_type": "markdown",
   "metadata": {},
   "source": [
    "<img src=\"./img/HWNI_logo.svg\"/>"
   ]
  },
  {
   "cell_type": "markdown",
   "metadata": {},
   "source": [
    "# Lab - Hypothesis Testing"
   ]
  },
  {
   "cell_type": "code",
   "execution_count": 1,
   "metadata": {},
   "outputs": [
    {
     "data": {
      "text/html": [
       "<style>/* Originally by Brandon Rhodes, for use with Pandas*/\n",
       "body {\n",
       "    margin: 0;\n",
       "    font-family: Helvetica;\n",
       "}\n",
       "table.dataframe {\n",
       "    border-collapse: collapse;\n",
       "    border: none;\n",
       "}\n",
       "table.dataframe tr {\n",
       "    border: none;\n",
       "}\n",
       "table.dataframe td, table.dataframe th {\n",
       "    margin: 0;\n",
       "    border: 1px solid white;\n",
       "    padding-left: 0.25em;\n",
       "    padding-right: 0.25em;\n",
       "}\n",
       "table.dataframe th:not(:empty) {\n",
       "    background-color: #fec;\n",
       "    text-align: left;\n",
       "    font-weight: normal;\n",
       "}\n",
       "table.dataframe tr:nth-child(2) th:empty {\n",
       "    border-left: none;\n",
       "    border-right: 1px dashed #888;\n",
       "}\n",
       "table.dataframe td {\n",
       "    border: 2px solid #ccf;\n",
       "    background-color: #f4f4ff;\n",
       "}\n",
       "</style>"
      ],
      "text/plain": [
       "<IPython.core.display.HTML object>"
      ]
     },
     "execution_count": 1,
     "metadata": {},
     "output_type": "execute_result"
    }
   ],
   "source": [
    "# makes our plots appear inside Jupyter\n",
    "%matplotlib inline\n",
    "\n",
    "import numpy as np\n",
    "import pandas as pd\n",
    "\n",
    "import matplotlib.pyplot as plt\n",
    "import seaborn as sns\n",
    "\n",
    "from mpl_toolkits.mplot3d import Axes3D\n",
    "\n",
    "import util.utils as utils\n",
    "import util.shared as shared\n",
    "\n",
    "shared.format_plots()\n",
    "shared.format_dataframes()"
   ]
  },
  {
   "cell_type": "markdown",
   "metadata": {},
   "source": [
    "In this lab, we use simulated experiments to investigate the ideas covered in the\n",
    "[tutorial on Hypothesis Testing](./Tutorial\\ -\\ Hypothesis\\ Testing.ipynb).\n",
    "\n",
    "The experiment we simulate is inspired by a \n",
    "[classic neuroscience experiment](https://www.ncbi.nlm.nih.gov/pmc/articles/PMC1514868/)\n",
    "performed by Adrian in the 1920s.\n",
    "\n",
    "At the time, very little of what we now take for granted was known about the behavior of neurons. This early experiment demonstrated that the nerves exiting the cat's foot produced more action potentials when a weight was pressed onto the foot in a manner that depended on the weight."
   ]
  },
  {
   "cell_type": "markdown",
   "metadata": {},
   "source": [
    "<img src=\"./img/adrian_yngve_1926_apparatus.gif\">"
   ]
  },
  {
   "cell_type": "markdown",
   "metadata": {},
   "source": [
    "We'll model this experiment using the random number generators provided with NumPy. The function `run_experiment` below will produce a random spike count using the\n",
    "[Poisson](https://en.wikipedia.org/wiki/Poisson_distribution)\n",
    "distribution, which has been used to\n",
    "[model neural spiking in response to stimuli](https://en.wikipedia.org/wiki/Linear-nonlinear-Poisson_cascade_model),\n",
    "then compare it to the argument `critical_value`.\n",
    "The result of the test is returned as number:\n",
    "`0` if the alternative hypothesis is not accepted\n",
    "and `1` if the alternative hypothesis is accepted.\n",
    "If the random spike count is higher than the critical value,\n",
    "the alternative hypothesis is accepted,\n",
    "otherwise it is not accepted.\n",
    "\n",
    "The average value of the random spike count is determined by a parameter.\n",
    "This parameter is set by two of the arguments to `run_experiment`: `baserate`, which we can think of as setting the average number of spikes when the foot is not being stimulated, and `difference`, which corresponds to the change in this average when the foot is stimulated.\n",
    "\n",
    "This is a very simple experiment and a very simple statistical test, but it will still allow us to see the major features of hypothesis testing discussed in the tutorial:\n",
    "true positive rates, false positive rates, and false discovery rates."
   ]
  },
  {
   "cell_type": "markdown",
   "metadata": {},
   "source": [
    "In general hypothesis testing terms, the *test statistic* we are using is just the value of the data point that we observed. We might call the measurements from the unstimulated foot the *control measurements* and the measurement from the stimulated foot the *experimental measurement*."
   ]
  },
  {
   "cell_type": "code",
   "execution_count": 2,
   "metadata": {
    "collapsed": true
   },
   "outputs": [],
   "source": [
    "def run_experiment(baserate, difference, critical_value):\n",
    "    \"\"\" run a single experiment where the number of spikes recorded from a \n",
    "        neuron firing with rate baserate+difference\n",
    "        is compared to the critical_value.\n",
    "        \n",
    "        returns a 1 if the (randomly-generated) number of spikes\n",
    "        is higher than the cutoff, otherwise returns a 0\n",
    "        \n",
    "        the number of spikes comes from a poisson distribution\n",
    "    \"\"\"\n",
    "    stimulated_spikes = np.random.poisson(lam=baserate+difference)\n",
    "    \n",
    "    if stimulated_spikes > critical_value:\n",
    "        accepted = 1\n",
    "    else:\n",
    "        accepted = 0\n",
    "    \n",
    "    return accepted"
   ]
  },
  {
   "cell_type": "code",
   "execution_count": 3,
   "metadata": {
    "collapsed": true
   },
   "outputs": [],
   "source": [
    "def simulate_experiments(num_experiments, rate, effect_size, critical_value):\n",
    "    \"\"\" simulate num_experiments experiments with run_experiment\n",
    "        and return the result as a list.\n",
    "        \n",
    "        this list has 1s where the null hypothesis was rejected\n",
    "        and 0s where the null hypothesis was not rejected\n",
    "    \"\"\"\n",
    "    results = np.zeros(num_experiments)\n",
    "    \n",
    "    for experiment_idx in range(num_experiments):\n",
    "        result = run_experiment(rate, effect_size, critical_value)\n",
    "        results[experiment_idx] = result\n",
    "    \n",
    "    return results"
   ]
  },
  {
   "cell_type": "markdown",
   "metadata": {},
   "source": [
    "## True and False Positive Rates"
   ]
  },
  {
   "cell_type": "markdown",
   "metadata": {},
   "source": [
    "To start, we'll estimate the true and false positive rates."
   ]
  },
  {
   "cell_type": "markdown",
   "metadata": {},
   "source": [
    "#### Q1 In your own words, what are true and false positive rates? What's the difference between a false positive rate and a false discovery rate?"
   ]
  },
  {
   "cell_type": "markdown",
   "metadata": {},
   "source": [
    "<font color='#1874CD'>  ** The true positive rate of a statistical test tells you the chance of successfully detecting an effect of a given size when using that statistical test. **\n",
    "\n",
    "** The false positive rate of a statistical test tells you the chance of incorrectly claiming there is an effect, of any size, when there is no effect. **\n",
    "\n",
    "** The false discovery rate, on the other hand, tells you the chance that any given claimed effect based on that test is a false positive. It crucially requires you to quantify your beliefs regarding whether the effect was real or not from before you collected data (these are called *prior beliefs*)**."
   ]
  },
  {
   "cell_type": "markdown",
   "metadata": {},
   "source": [
    "### False Positive Rate"
   ]
  },
  {
   "cell_type": "markdown",
   "metadata": {},
   "source": [
    "We can estimate the false positive rate by simulating the results of our hypothesis test when the effect size, the difference in average spike counts between stimulated and unstimulated nerves, is 0."
   ]
  },
  {
   "cell_type": "markdown",
   "metadata": {},
   "source": [
    "#### Q2 What is the connection between the effect size being 0 and the false positive rate?"
   ]
  },
  {
   "cell_type": "markdown",
   "metadata": {},
   "source": [
    "<font color='#1874CD'>  ** When the effect size is 0, there is no effect, and so any positive is a false positive. **"
   ]
  },
  {
   "cell_type": "markdown",
   "metadata": {},
   "source": [
    "The results of the experiments are stored in a list called `nulltrue_results`. Each element is either a `1` or ` 0`, depending on whether the alternative hypothesis was accepted or not. Use this list to calculate the fraction of times that we got a (false) positive result. You could use a `for` loop or the `sum` function or the `np.mean` function."
   ]
  },
  {
   "cell_type": "code",
   "execution_count": 4,
   "metadata": {
    "collapsed": true
   },
   "outputs": [],
   "source": [
    "rate = 10\n",
    "effect_size = 0\n",
    "\n",
    "critical_value = 15\n",
    "num_experiments = 1000\n",
    "\n",
    "nulltrue_results = simulate_experiments(num_experiments, rate, effect_size,\n",
    "                                       critical_value)\n"
   ]
  },
  {
   "cell_type": "code",
   "execution_count": 5,
   "metadata": {},
   "outputs": [
    {
     "data": {
      "text/plain": [
       "0.043999999999999997"
      ]
     },
     "execution_count": 5,
     "metadata": {},
     "output_type": "execute_result"
    }
   ],
   "source": [
    "np.mean(nulltrue_results)"
   ]
  },
  {
   "cell_type": "markdown",
   "metadata": {},
   "source": [
    "The false positive rate depends critically (ha!) on the critical value of our test. Remember that the critical value is the value of the test statistic (for us, this is just the observed spike count) above which you reject the null hypothesis."
   ]
  },
  {
   "cell_type": "markdown",
   "metadata": {},
   "source": [
    "#### Q3 Make a prediction: will increasing the critical value increase or decrease the false positive rate?"
   ]
  },
  {
   "cell_type": "markdown",
   "metadata": {},
   "source": [
    "<font color='#1874CD'>  ** Increasing the critical value will decrease the false positive rate. **"
   ]
  },
  {
   "cell_type": "markdown",
   "metadata": {},
   "source": [
    "Test your prediction in the cell below."
   ]
  },
  {
   "cell_type": "code",
   "execution_count": 6,
   "metadata": {
    "collapsed": true
   },
   "outputs": [],
   "source": [
    "rate = 10\n",
    "effect_size = 0\n",
    "\n",
    "critical_value = 17\n",
    "num_experiments = 1000\n",
    "\n",
    "nulltrue_results_higher_crit_value = simulate_experiments(num_experiments, rate, effect_size,\n",
    "                                       critical_value)"
   ]
  },
  {
   "cell_type": "code",
   "execution_count": 7,
   "metadata": {},
   "outputs": [
    {
     "data": {
      "text/plain": [
       "0.012"
      ]
     },
     "execution_count": 7,
     "metadata": {},
     "output_type": "execute_result"
    }
   ],
   "source": [
    "np.mean(nulltrue_results_higher_crit_value)"
   ]
  },
  {
   "cell_type": "markdown",
   "metadata": {},
   "source": [
    "As can be seen above, changing the critical value changes the false positive rate. The two code cells below will allow us to examine this dependence in detail."
   ]
  },
  {
   "cell_type": "markdown",
   "metadata": {},
   "source": [
    "#### Q4 Make a prediction: what will the false positive rate be when the critical value is 0? what about when the critical value is very large?"
   ]
  },
  {
   "cell_type": "markdown",
   "metadata": {},
   "source": [
    "<font color='#1874CD'>  ** The false positive rate will be 100%, since it's impossible for a neuron to fire fewer than 0 spikes. When the critical value is very large, the false positive rate will be 0, since it will be very unlikely for the neuron to fire that many spikes by chance. **"
   ]
  },
  {
   "cell_type": "markdown",
   "metadata": {},
   "source": [
    "The first cell below calculates the rate of false positives for experiments with a range of critical values and stores them in a list called `false_positive_rates`.\n",
    "\n",
    "The cell beneath it will then plot the resulting false positive rates as a function of the critical value."
   ]
  },
  {
   "cell_type": "code",
   "execution_count": 8,
   "metadata": {
    "collapsed": true
   },
   "outputs": [],
   "source": [
    "false_positive_rates = []\n",
    "\n",
    "rate = 10\n",
    "effect_size = 0\n",
    "num_experiments = 100000\n",
    "\n",
    "critical_values = range(0,21)\n",
    "\n",
    "for critical_value in critical_values:\n",
    "    nulltrue_results = simulate_experiments(num_experiments, rate, 0,\n",
    "                                       critical_value)\n",
    "    \n",
    "    false_positive_rates.append(np.mean(nulltrue_results))"
   ]
  },
  {
   "cell_type": "code",
   "execution_count": 9,
   "metadata": {},
   "outputs": [
    {
     "data": {
      "image/png": "[encoded data removed]",
      "text/plain": [
       "<matplotlib.figure.Figure at 0x1a10e19ba8>"
      ]
     },
     "metadata": {},
     "output_type": "display_data"
    }
   ],
   "source": [
    "utils.plot_rates(critical_values, false_positive_rates, \"False Positive Rate\")"
   ]
  },
  {
   "cell_type": "markdown",
   "metadata": {},
   "source": [
    "## True Positive Rate"
   ]
  },
  {
   "cell_type": "markdown",
   "metadata": {},
   "source": [
    "We can estimate the true positive rate by simulating the results of our hypothesis test when the effect size is non-zero.\n",
    "\n",
    "The cell below will produce a list, `nullfalse_results`, just like the `nulltrue_results` list from above. Use it to calculate the true positive rate."
   ]
  },
  {
   "cell_type": "code",
   "execution_count": 10,
   "metadata": {
    "collapsed": true
   },
   "outputs": [],
   "source": [
    "rate = 10\n",
    "effect_size = 1\n",
    "\n",
    "critical_value = 15\n",
    "num_experiments = 10000\n",
    "\n",
    "nullfalse_results = simulate_experiments(num_experiments, rate, effect_size,\n",
    "                                       critical_value)"
   ]
  },
  {
   "cell_type": "code",
   "execution_count": 11,
   "metadata": {},
   "outputs": [
    {
     "data": {
      "text/plain": [
       "0.089700000000000002"
      ]
     },
     "execution_count": 11,
     "metadata": {},
     "output_type": "execute_result"
    }
   ],
   "source": [
    "np.mean(nullfalse_results)"
   ]
  },
  {
   "cell_type": "markdown",
   "metadata": {},
   "source": [
    "The true positive rate depends, just like the false positive rate, on the critical value."
   ]
  },
  {
   "cell_type": "markdown",
   "metadata": {},
   "source": [
    "#### Q4 Make a prediction: will increasing the critical value increase or decrease the true positive rate?"
   ]
  },
  {
   "cell_type": "markdown",
   "metadata": {},
   "source": [
    "<font color='#1874CD'>  ** Increasing the critical value will decrease the true positive rate. **"
   ]
  },
  {
   "cell_type": "markdown",
   "metadata": {},
   "source": [
    "Test your prediction using the cells below."
   ]
  },
  {
   "cell_type": "code",
   "execution_count": 12,
   "metadata": {
    "collapsed": true
   },
   "outputs": [],
   "source": [
    "rate = 10\n",
    "effect_size = 1\n",
    "\n",
    "critical_value = 17\n",
    "num_experiments = 1000\n",
    "\n",
    "nullfalse_results = simulate_experiments(num_experiments, rate, effect_size,\n",
    "                                       critical_value)"
   ]
  },
  {
   "cell_type": "code",
   "execution_count": 13,
   "metadata": {},
   "outputs": [
    {
     "data": {
      "text/plain": [
       "0.033000000000000002"
      ]
     },
     "execution_count": 13,
     "metadata": {},
     "output_type": "execute_result"
    }
   ],
   "source": [
    "np.mean(nullfalse_results)"
   ]
  },
  {
   "cell_type": "markdown",
   "metadata": {},
   "source": [
    "As above, we can simulate the results for a variety of critical values. The two cells below calculate and then plot the true positive rate with varying critical values. For comparison, the false positive rate is also plotted."
   ]
  },
  {
   "cell_type": "code",
   "execution_count": 14,
   "metadata": {
    "collapsed": true
   },
   "outputs": [],
   "source": [
    "true_positive_rates = []\n",
    "\n",
    "rate = 10\n",
    "effect_size = 1\n",
    "num_experiments = 100000\n",
    "\n",
    "critical_values = range(0,21)\n",
    "\n",
    "for critical_value in critical_values:\n",
    "    nullfalse_results = simulate_experiments(num_experiments, rate, effect_size,\n",
    "                                       critical_value)\n",
    "    \n",
    "    true_positive_rates.append(np.mean(nullfalse_results))"
   ]
  },
  {
   "cell_type": "code",
   "execution_count": 15,
   "metadata": {},
   "outputs": [
    {
     "data": {
      "image/png": "[encoded data removed]",
      "text/plain": [
       "<matplotlib.figure.Figure at 0x1a13738940>"
      ]
     },
     "metadata": {},
     "output_type": "display_data"
    }
   ],
   "source": [
    "utils.plot_true_and_false_positive_rates(critical_values,\n",
    "                                         false_positive_rates,\n",
    "                                         true_positive_rates)"
   ]
  },
  {
   "cell_type": "markdown",
   "metadata": {},
   "source": [
    "#### Q5 Based on this chart, what would you select as your critical value? There is no single correct answer. Explain your reasoning."
   ]
  },
  {
   "cell_type": "markdown",
   "metadata": {},
   "source": [
    "<font color='#1874CD'>  **I would place the critical value just under 10. This is a point where the false positive rate has started to fall while the true positive rate remains high. In fact, if we assume that the chance of the effect being real is $0.5$, this is the region where positive and negative predictive value are roughly equal.**\n",
    "\n",
    "**This is far from the only answer. The classical statistical approach would be to pick a point where the false positive rate (aka $\\alpha$) is just below $0.05$. This results in the more conservative choice of just under $15$. In a context where false positives are more tolerated (e.g. an exploratory study), we want to preserve power, that is keep the true positive rate high, so we'd select the highest value that still gives a true positive rate of at least $0.8$.**"
   ]
  },
  {
   "cell_type": "markdown",
   "metadata": {},
   "source": [
    "### TPR as a Function of Critical Value and Effect Size"
   ]
  },
  {
   "cell_type": "markdown",
   "metadata": {},
   "source": [
    "The true positive rate also depends on the actual size of the effect you're looking for.\n",
    "\n",
    "The code cells below will produce an interactive 3-d plot of the true positive rate as a function of both the effect size and the critical value. Left-clicking and dragging allows you to rotate the plot, while right-clicking and dragging allows you to zoom.\n",
    "\n",
    "These interactive features are enabled by the `%matplotlib notebook` magic. **If the plot doesn't show up the first time you run the cell, run it again**.\n",
    "\n",
    "Once you're done with this plot, run the cell underneath it, containing the `%matplotlib inline magic`, to return plots to their normal, non-interactive forms. You can also run the first code cell (the one with all of the imports)."
   ]
  },
  {
   "cell_type": "code",
   "execution_count": 16,
   "metadata": {
    "collapsed": true
   },
   "outputs": [],
   "source": [
    "baserate = 10\n",
    "\n",
    "num_experiments = 10000\n",
    "\n",
    "critical_values = list(range(5,21))\n",
    "effect_sizes = list(range(1,16))\n",
    "\n",
    "TPR = utils.estimate_TPR(baserate, effect_sizes, critical_values, simulate_experiments,\n",
    "                         num_experiments=num_experiments)"
   ]
  },
  {
   "cell_type": "code",
   "execution_count": 17,
   "metadata": {},
   "outputs": [
    {
     "data": {
      "application/javascript": [
       "/* Put everything inside the global mpl namespace */\n",
       "window.mpl = {};\n",
       "\n",
       "\n",
       "mpl.get_websocket_type = function() {\n",
       "    if (typeof(WebSocket) !== 'undefined') {\n",
       "        return WebSocket;\n",
       "    } else if (typeof(MozWebSocket) !== 'undefined') {\n",
       "        return MozWebSocket;\n",
       "    } else {\n",
       "        alert('Your browser does not have WebSocket support.' +\n",
       "              'Please try Chrome, Safari or Firefox ≥ 6. ' +\n",
       "              'Firefox 4 and 5 are also supported but you ' +\n",
       "              'have to enable WebSockets in about:config.');\n",
       "    };\n",
       "}\n",
       "\n",
       "mpl.figure = function(figure_id, websocket, ondownload, parent_element) {\n",
       "    this.id = figure_id;\n",
       "\n",
       "    this.ws = websocket;\n",
       "\n",
       "    this.supports_binary = (this.ws.binaryType != undefined);\n",
       "\n",
       "    if (!this.supports_binary) {\n",
       "        var warnings = document.getElementById(\"mpl-warnings\");\n",
       "        if (warnings) {\n",
       "            warnings.style.display = 'block';\n",
       "            warnings.textContent = (\n",
       "                \"This browser does not support binary websocket messages. \" +\n",
       "                    \"Performance may be slow.\");\n",
       "        }\n",
       "    }\n",
       "\n",
       "    this.imageObj = new Image();\n",
       "\n",
       "    this.context = undefined;\n",
       "    this.message = undefined;\n",
       "    this.canvas = undefined;\n",
       "    this.rubberband_canvas = undefined;\n",
       "    this.rubberband_context = undefined;\n",
       "    this.format_dropdown = undefined;\n",
       "\n",
       "    this.image_mode = 'full';\n",
       "\n",
       "    this.root = $('<div/>');\n",
       "    this._root_extra_style(this.root)\n",
       "    this.root.attr('style', 'display: inline-block');\n",
       "\n",
       "    $(parent_element).append(this.root);\n",
       "\n",
       "    this._init_header(this);\n",
       "    this._init_canvas(this);\n",
       "    this._init_toolbar(this);\n",
       "\n",
       "    var fig = this;\n",
       "\n",
       "    this.waiting = false;\n",
       "\n",
       "    this.ws.onopen =  function () {\n",
       "            fig.send_message(\"supports_binary\", {value: fig.supports_binary});\n",
       "            fig.send_message(\"send_image_mode\", {});\n",
       "            if (mpl.ratio != 1) {\n",
       "                fig.send_message(\"set_dpi_ratio\", {'dpi_ratio': mpl.ratio});\n",
       "            }\n",
       "            fig.send_message(\"refresh\", {});\n",
       "        }\n",
       "\n",
       "    this.imageObj.onload = function() {\n",
       "            if (fig.image_mode == 'full') {\n",
       "                // Full images could contain transparency (where diff images\n",
       "                // almost always do), so we need to clear the canvas so that\n",
       "                // there is no ghosting.\n",
       "                fig.context.clearRect(0, 0, fig.canvas.width, fig.canvas.height);\n",
       "            }\n",
       "            fig.context.drawImage(fig.imageObj, 0, 0);\n",
       "        };\n",
       "\n",
       "    this.imageObj.onunload = function() {\n",
       "        this.ws.close();\n",
       "    }\n",
       "\n",
       "    this.ws.onmessage = this._make_on_message_function(this);\n",
       "\n",
       "    this.ondownload = ondownload;\n",
       "}\n",
       "\n",
       "mpl.figure.prototype._init_header = function() {\n",
       "    var titlebar = $(\n",
       "        '<div class=\"ui-dialog-titlebar ui-widget-header ui-corner-all ' +\n",
       "        'ui-helper-clearfix\"/>');\n",
       "    var titletext = $(\n",
       "        '<div class=\"ui-dialog-title\" style=\"width: 100%; ' +\n",
       "        'text-align: center; padding: 3px;\"/>');\n",
       "    titlebar.append(titletext)\n",
       "    this.root.append(titlebar);\n",
       "    this.header = titletext[0];\n",
       "}\n",
       "\n",
       "\n",
       "\n",
       "mpl.figure.prototype._canvas_extra_style = function(canvas_div) {\n",
       "\n",
       "}\n",
       "\n",
       "\n",
       "mpl.figure.prototype._root_extra_style = function(canvas_div) {\n",
       "\n",
       "}\n",
       "\n",
       "mpl.figure.prototype._init_canvas = function() {\n",
       "    var fig = this;\n",
       "\n",
       "    var canvas_div = $('<div/>');\n",
       "\n",
       "    canvas_div.attr('style', 'position: relative; clear: both; outline: 0');\n",
       "\n",
       "    function canvas_keyboard_event(event) {\n",
       "        return fig.key_event(event, event['data']);\n",
       "    }\n",
       "\n",
       "    canvas_div.keydown('key_press', canvas_keyboard_event);\n",
       "    canvas_div.keyup('key_release', canvas_keyboard_event);\n",
       "    this.canvas_div = canvas_div\n",
       "    this._canvas_extra_style(canvas_div)\n",
       "    this.root.append(canvas_div);\n",
       "\n",
       "    var canvas = $('<canvas/>');\n",
       "    canvas.addClass('mpl-canvas');\n",
       "    canvas.attr('style', \"left: 0; top: 0; z-index: 0; outline: 0\")\n",
       "\n",
       "    this.canvas = canvas[0];\n",
       "    this.context = canvas[0].getContext(\"2d\");\n",
       "\n",
       "    var backingStore = this.context.backingStorePixelRatio ||\n",
       "\tthis.context.webkitBackingStorePixelRatio ||\n",
       "\tthis.context.mozBackingStorePixelRatio ||\n",
       "\tthis.context.msBackingStorePixelRatio ||\n",
       "\tthis.context.oBackingStorePixelRatio ||\n",
       "\tthis.context.backingStorePixelRatio || 1;\n",
       "\n",
       "    mpl.ratio = (window.devicePixelRatio || 1) / backingStore;\n",
       "\n",
       "    var rubberband = $('<canvas/>');\n",
       "    rubberband.attr('style', \"position: absolute; left: 0; top: 0; z-index: 1;\")\n",
       "\n",
       "    var pass_mouse_events = true;\n",
       "\n",
       "    canvas_div.resizable({\n",
       "        start: function(event, ui) {\n",
       "            pass_mouse_events = false;\n",
       "        },\n",
       "        resize: function(event, ui) {\n",
       "            fig.request_resize(ui.size.width, ui.size.height);\n",
       "        },\n",
       "        stop: function(event, ui) {\n",
       "            pass_mouse_events = true;\n",
       "            fig.request_resize(ui.size.width, ui.size.height);\n",
       "        },\n",
       "    });\n",
       "\n",
       "    function mouse_event_fn(event) {\n",
       "        if (pass_mouse_events)\n",
       "            return fig.mouse_event(event, event['data']);\n",
       "    }\n",
       "\n",
       "    rubberband.mousedown('button_press', mouse_event_fn);\n",
       "    rubberband.mouseup('button_release', mouse_event_fn);\n",
       "    // Throttle sequential mouse events to 1 every 20ms.\n",
       "    rubberband.mousemove('motion_notify', mouse_event_fn);\n",
       "\n",
       "    rubberband.mouseenter('figure_enter', mouse_event_fn);\n",
       "    rubberband.mouseleave('figure_leave', mouse_event_fn);\n",
       "\n",
       "    canvas_div.on(\"wheel\", function (event) {\n",
       "        event = event.originalEvent;\n",
       "        event['data'] = 'scroll'\n",
       "        if (event.deltaY < 0) {\n",
       "            event.step = 1;\n",
       "        } else {\n",
       "            event.step = -1;\n",
       "        }\n",
       "        mouse_event_fn(event);\n",
       "    });\n",
       "\n",
       "    canvas_div.append(canvas);\n",
       "    canvas_div.append(rubberband);\n",
       "\n",
       "    this.rubberband = rubberband;\n",
       "    this.rubberband_canvas = rubberband[0];\n",
       "    this.rubberband_context = rubberband[0].getContext(\"2d\");\n",
       "    this.rubberband_context.strokeStyle = \"#000000\";\n",
       "\n",
       "    this._resize_canvas = function(width, height) {\n",
       "        // Keep the size of the canvas, canvas container, and rubber band\n",
       "        // canvas in synch.\n",
       "        canvas_div.css('width', width)\n",
       "        canvas_div.css('height', height)\n",
       "\n",
       "        canvas.attr('width', width * mpl.ratio);\n",
       "        canvas.attr('height', height * mpl.ratio);\n",
       "        canvas.attr('style', 'width: ' + width + 'px; height: ' + height + 'px;');\n",
       "\n",
       "        rubberband.attr('width', width);\n",
       "        rubberband.attr('height', height);\n",
       "    }\n",
       "\n",
       "    // Set the figure to an initial 600x600px, this will subsequently be updated\n",
       "    // upon first draw.\n",
       "    this._resize_canvas(600, 600);\n",
       "\n",
       "    // Disable right mouse context menu.\n",
       "    $(this.rubberband_canvas).bind(\"contextmenu\",function(e){\n",
       "        return false;\n",
       "    });\n",
       "\n",
       "    function set_focus () {\n",
       "        canvas.focus();\n",
       "        canvas_div.focus();\n",
       "    }\n",
       "\n",
       "    window.setTimeout(set_focus, 100);\n",
       "}\n",
       "\n",
       "mpl.figure.prototype._init_toolbar = function() {\n",
       "    var fig = this;\n",
       "\n",
       "    var nav_element = $('<div/>')\n",
       "    nav_element.attr('style', 'width: 100%');\n",
       "    this.root.append(nav_element);\n",
       "\n",
       "    // Define a callback function for later on.\n",
       "    function toolbar_event(event) {\n",
       "        return fig.toolbar_button_onclick(event['data']);\n",
       "    }\n",
       "    function toolbar_mouse_event(event) {\n",
       "        return fig.toolbar_button_onmouseover(event['data']);\n",
       "    }\n",
       "\n",
       "    for(var toolbar_ind in mpl.toolbar_items) {\n",
       "        var name = mpl.toolbar_items[toolbar_ind][0];\n",
       "        var tooltip = mpl.toolbar_items[toolbar_ind][1];\n",
       "        var image = mpl.toolbar_items[toolbar_ind][2];\n",
       "        var method_name = mpl.toolbar_items[toolbar_ind][3];\n",
       "\n",
       "        if (!name) {\n",
       "            // put a spacer in here.\n",
       "            continue;\n",
       "        }\n",
       "        var button = $('<button/>');\n",
       "        button.addClass('ui-button ui-widget ui-state-default ui-corner-all ' +\n",
       "                        'ui-button-icon-only');\n",
       "        button.attr('role', 'button');\n",
       "        button.attr('aria-disabled', 'false');\n",
       "        button.click(method_name, toolbar_event);\n",
       "        button.mouseover(tooltip, toolbar_mouse_event);\n",
       "\n",
       "        var icon_img = $('<span/>');\n",
       "        icon_img.addClass('ui-button-icon-primary ui-icon');\n",
       "        icon_img.addClass(image);\n",
       "        icon_img.addClass('ui-corner-all');\n",
       "\n",
       "        var tooltip_span = $('<span/>');\n",
       "        tooltip_span.addClass('ui-button-text');\n",
       "        tooltip_span.html(tooltip);\n",
       "\n",
       "        button.append(icon_img);\n",
       "        button.append(tooltip_span);\n",
       "\n",
       "        nav_element.append(button);\n",
       "    }\n",
       "\n",
       "    var fmt_picker_span = $('<span/>');\n",
       "\n",
       "    var fmt_picker = $('<select/>');\n",
       "    fmt_picker.addClass('mpl-toolbar-option ui-widget ui-widget-content');\n",
       "    fmt_picker_span.append(fmt_picker);\n",
       "    nav_element.append(fmt_picker_span);\n",
       "    this.format_dropdown = fmt_picker[0];\n",
       "\n",
       "    for (var ind in mpl.extensions) {\n",
       "        var fmt = mpl.extensions[ind];\n",
       "        var option = $(\n",
       "            '<option/>', {selected: fmt === mpl.default_extension}).html(fmt);\n",
       "        fmt_picker.append(option)\n",
       "    }\n",
       "\n",
       "    // Add hover states to the ui-buttons\n",
       "    $( \".ui-button\" ).hover(\n",
       "        function() { $(this).addClass(\"ui-state-hover\");},\n",
       "        function() { $(this).removeClass(\"ui-state-hover\");}\n",
       "    );\n",
       "\n",
       "    var status_bar = $('<span class=\"mpl-message\"/>');\n",
       "    nav_element.append(status_bar);\n",
       "    this.message = status_bar[0];\n",
       "}\n",
       "\n",
       "mpl.figure.prototype.request_resize = function(x_pixels, y_pixels) {\n",
       "    // Request matplotlib to resize the figure. Matplotlib will then trigger a resize in the client,\n",
       "    // which will in turn request a refresh of the image.\n",
       "    this.send_message('resize', {'width': x_pixels, 'height': y_pixels});\n",
       "}\n",
       "\n",
       "mpl.figure.prototype.send_message = function(type, properties) {\n",
       "    properties['type'] = type;\n",
       "    properties['figure_id'] = this.id;\n",
       "    this.ws.send(JSON.stringify(properties));\n",
       "}\n",
       "\n",
       "mpl.figure.prototype.send_draw_message = function() {\n",
       "    if (!this.waiting) {\n",
       "        this.waiting = true;\n",
       "        this.ws.send(JSON.stringify({type: \"draw\", figure_id: this.id}));\n",
       "    }\n",
       "}\n",
       "\n",
       "\n",
       "mpl.figure.prototype.handle_save = function(fig, msg) {\n",
       "    var format_dropdown = fig.format_dropdown;\n",
       "    var format = format_dropdown.options[format_dropdown.selectedIndex].value;\n",
       "    fig.ondownload(fig, format);\n",
       "}\n",
       "\n",
       "\n",
       "mpl.figure.prototype.handle_resize = function(fig, msg) {\n",
       "    var size = msg['size'];\n",
       "    if (size[0] != fig.canvas.width || size[1] != fig.canvas.height) {\n",
       "        fig._resize_canvas(size[0], size[1]);\n",
       "        fig.send_message(\"refresh\", {});\n",
       "    };\n",
       "}\n",
       "\n",
       "mpl.figure.prototype.handle_rubberband = function(fig, msg) {\n",
       "    var x0 = msg['x0'] / mpl.ratio;\n",
       "    var y0 = (fig.canvas.height - msg['y0']) / mpl.ratio;\n",
       "    var x1 = msg['x1'] / mpl.ratio;\n",
       "    var y1 = (fig.canvas.height - msg['y1']) / mpl.ratio;\n",
       "    x0 = Math.floor(x0) + 0.5;\n",
       "    y0 = Math.floor(y0) + 0.5;\n",
       "    x1 = Math.floor(x1) + 0.5;\n",
       "    y1 = Math.floor(y1) + 0.5;\n",
       "    var min_x = Math.min(x0, x1);\n",
       "    var min_y = Math.min(y0, y1);\n",
       "    var width = Math.abs(x1 - x0);\n",
       "    var height = Math.abs(y1 - y0);\n",
       "\n",
       "    fig.rubberband_context.clearRect(\n",
       "        0, 0, fig.canvas.width, fig.canvas.height);\n",
       "\n",
       "    fig.rubberband_context.strokeRect(min_x, min_y, width, height);\n",
       "}\n",
       "\n",
       "mpl.figure.prototype.handle_figure_label = function(fig, msg) {\n",
       "    // Updates the figure title.\n",
       "    fig.header.textContent = msg['label'];\n",
       "}\n",
       "\n",
       "mpl.figure.prototype.handle_cursor = function(fig, msg) {\n",
       "    var cursor = msg['cursor'];\n",
       "    switch(cursor)\n",
       "    {\n",
       "    case 0:\n",
       "        cursor = 'pointer';\n",
       "        break;\n",
       "    case 1:\n",
       "        cursor = 'default';\n",
       "        break;\n",
       "    case 2:\n",
       "        cursor = 'crosshair';\n",
       "        break;\n",
       "    case 3:\n",
       "        cursor = 'move';\n",
       "        break;\n",
       "    }\n",
       "    fig.rubberband_canvas.style.cursor = cursor;\n",
       "}\n",
       "\n",
       "mpl.figure.prototype.handle_message = function(fig, msg) {\n",
       "    fig.message.textContent = msg['message'];\n",
       "}\n",
       "\n",
       "mpl.figure.prototype.handle_draw = function(fig, msg) {\n",
       "    // Request the server to send over a new figure.\n",
       "    fig.send_draw_message();\n",
       "}\n",
       "\n",
       "mpl.figure.prototype.handle_image_mode = function(fig, msg) {\n",
       "    fig.image_mode = msg['mode'];\n",
       "}\n",
       "\n",
       "mpl.figure.prototype.updated_canvas_event = function() {\n",
       "    // Called whenever the canvas gets updated.\n",
       "    this.send_message(\"ack\", {});\n",
       "}\n",
       "\n",
       "// A function to construct a web socket function for onmessage handling.\n",
       "// Called in the figure constructor.\n",
       "mpl.figure.prototype._make_on_message_function = function(fig) {\n",
       "    return function socket_on_message(evt) {\n",
       "        if (evt.data instanceof Blob) {\n",
       "            /* FIXME: We get \"Resource interpreted as Image but\n",
       "             * transferred with MIME type text/plain:\" errors on\n",
       "             * Chrome.  But how to set the MIME type?  It doesn't seem\n",
       "             * to be part of the websocket stream */\n",
       "            evt.data.type = \"image/png\";\n",
       "\n",
       "            /* Free the memory for the previous frames */\n",
       "            if (fig.imageObj.src) {\n",
       "                (window.URL || window.webkitURL).revokeObjectURL(\n",
       "                    fig.imageObj.src);\n",
       "            }\n",
       "\n",
       "            fig.imageObj.src = (window.URL || window.webkitURL).createObjectURL(\n",
       "                evt.data);\n",
       "            fig.updated_canvas_event();\n",
       "            fig.waiting = false;\n",
       "            return;\n",
       "        }\n",
       "        else if (typeof evt.data === 'string' && evt.data.slice(0, 21) == \"data:image/png;base64\") {\n",
       "            fig.imageObj.src = evt.data;\n",
       "            fig.updated_canvas_event();\n",
       "            fig.waiting = false;\n",
       "            return;\n",
       "        }\n",
       "\n",
       "        var msg = JSON.parse(evt.data);\n",
       "        var msg_type = msg['type'];\n",
       "\n",
       "        // Call the  \"handle_{type}\" callback, which takes\n",
       "        // the figure and JSON message as its only arguments.\n",
       "        try {\n",
       "            var callback = fig[\"handle_\" + msg_type];\n",
       "        } catch (e) {\n",
       "            console.log(\"No handler for the '\" + msg_type + \"' message type: \", msg);\n",
       "            return;\n",
       "        }\n",
       "\n",
       "        if (callback) {\n",
       "            try {\n",
       "                // console.log(\"Handling '\" + msg_type + \"' message: \", msg);\n",
       "                callback(fig, msg);\n",
       "            } catch (e) {\n",
       "                console.log(\"Exception inside the 'handler_\" + msg_type + \"' callback:\", e, e.stack, msg);\n",
       "            }\n",
       "        }\n",
       "    };\n",
       "}\n",
       "\n",
       "// from http://stackoverflow.com/questions/1114465/getting-mouse-location-in-canvas\n",
       "mpl.findpos = function(e) {\n",
       "    //this section is from http://www.quirksmode.org/js/events_properties.html\n",
       "    var targ;\n",
       "    if (!e)\n",
       "        e = window.event;\n",
       "    if (e.target)\n",
       "        targ = e.target;\n",
       "    else if (e.srcElement)\n",
       "        targ = e.srcElement;\n",
       "    if (targ.nodeType == 3) // defeat Safari bug\n",
       "        targ = targ.parentNode;\n",
       "\n",
       "    // jQuery normalizes the pageX and pageY\n",
       "    // pageX,Y are the mouse positions relative to the document\n",
       "    // offset() returns the position of the element relative to the document\n",
       "    var x = e.pageX - $(targ).offset().left;\n",
       "    var y = e.pageY - $(targ).offset().top;\n",
       "\n",
       "    return {\"x\": x, \"y\": y};\n",
       "};\n",
       "\n",
       "/*\n",
       " * return a copy of an object with only non-object keys\n",
       " * we need this to avoid circular references\n",
       " * http://stackoverflow.com/a/24161582/3208463\n",
       " */\n",
       "function simpleKeys (original) {\n",
       "  return Object.keys(original).reduce(function (obj, key) {\n",
       "    if (typeof original[key] !== 'object')\n",
       "        obj[key] = original[key]\n",
       "    return obj;\n",
       "  }, {});\n",
       "}\n",
       "\n",
       "mpl.figure.prototype.mouse_event = function(event, name) {\n",
       "    var canvas_pos = mpl.findpos(event)\n",
       "\n",
       "    if (name === 'button_press')\n",
       "    {\n",
       "        this.canvas.focus();\n",
       "        this.canvas_div.focus();\n",
       "    }\n",
       "\n",
       "    var x = canvas_pos.x * mpl.ratio;\n",
       "    var y = canvas_pos.y * mpl.ratio;\n",
       "\n",
       "    this.send_message(name, {x: x, y: y, button: event.button,\n",
       "                             step: event.step,\n",
       "                             guiEvent: simpleKeys(event)});\n",
       "\n",
       "    /* This prevents the web browser from automatically changing to\n",
       "     * the text insertion cursor when the button is pressed.  We want\n",
       "     * to control all of the cursor setting manually through the\n",
       "     * 'cursor' event from matplotlib */\n",
       "    event.preventDefault();\n",
       "    return false;\n",
       "}\n",
       "\n",
       "mpl.figure.prototype._key_event_extra = function(event, name) {\n",
       "    // Handle any extra behaviour associated with a key event\n",
       "}\n",
       "\n",
       "mpl.figure.prototype.key_event = function(event, name) {\n",
       "\n",
       "    // Prevent repeat events\n",
       "    if (name == 'key_press')\n",
       "    {\n",
       "        if (event.which === this._key)\n",
       "            return;\n",
       "        else\n",
       "            this._key = event.which;\n",
       "    }\n",
       "    if (name == 'key_release')\n",
       "        this._key = null;\n",
       "\n",
       "    var value = '';\n",
       "    if (event.ctrlKey && event.which != 17)\n",
       "        value += \"ctrl+\";\n",
       "    if (event.altKey && event.which != 18)\n",
       "        value += \"alt+\";\n",
       "    if (event.shiftKey && event.which != 16)\n",
       "        value += \"shift+\";\n",
       "\n",
       "    value += 'k';\n",
       "    value += event.which.toString();\n",
       "\n",
       "    this._key_event_extra(event, name);\n",
       "\n",
       "    this.send_message(name, {key: value,\n",
       "                             guiEvent: simpleKeys(event)});\n",
       "    return false;\n",
       "}\n",
       "\n",
       "mpl.figure.prototype.toolbar_button_onclick = function(name) {\n",
       "    if (name == 'download') {\n",
       "        this.handle_save(this, null);\n",
       "    } else {\n",
       "        this.send_message(\"toolbar_button\", {name: name});\n",
       "    }\n",
       "};\n",
       "\n",
       "mpl.figure.prototype.toolbar_button_onmouseover = function(tooltip) {\n",
       "    this.message.textContent = tooltip;\n",
       "};\n",
       "mpl.toolbar_items = [[\"Home\", \"Reset original view\", \"fa fa-home icon-home\", \"home\"], [\"Back\", \"Back to  previous view\", \"fa fa-arrow-left icon-arrow-left\", \"back\"], [\"Forward\", \"Forward to next view\", \"fa fa-arrow-right icon-arrow-right\", \"forward\"], [\"\", \"\", \"\", \"\"], [\"Pan\", \"Pan axes with left mouse, zoom with right\", \"fa fa-arrows icon-move\", \"pan\"], [\"Zoom\", \"Zoom to rectangle\", \"fa fa-square-o icon-check-empty\", \"zoom\"], [\"\", \"\", \"\", \"\"], [\"Download\", \"Download plot\", \"fa fa-floppy-o icon-save\", \"download\"]];\n",
       "\n",
       "mpl.extensions = [\"eps\", \"jpeg\", \"pdf\", \"png\", \"ps\", \"raw\", \"svg\", \"tif\"];\n",
       "\n",
       "mpl.default_extension = \"png\";var comm_websocket_adapter = function(comm) {\n",
       "    // Create a \"websocket\"-like object which calls the given IPython comm\n",
       "    // object with the appropriate methods. Currently this is a non binary\n",
       "    // socket, so there is still some room for performance tuning.\n",
       "    var ws = {};\n",
       "\n",
       "    ws.close = function() {\n",
       "        comm.close()\n",
       "    };\n",
       "    ws.send = function(m) {\n",
       "        //console.log('sending', m);\n",
       "        comm.send(m);\n",
       "    };\n",
       "    // Register the callback with on_msg.\n",
       "    comm.on_msg(function(msg) {\n",
       "        //console.log('receiving', msg['content']['data'], msg);\n",
       "        // Pass the mpl event to the overriden (by mpl) onmessage function.\n",
       "        ws.onmessage(msg['content']['data'])\n",
       "    });\n",
       "    return ws;\n",
       "}\n",
       "\n",
       "mpl.mpl_figure_comm = function(comm, msg) {\n",
       "    // This is the function which gets called when the mpl process\n",
       "    // starts-up an IPython Comm through the \"matplotlib\" channel.\n",
       "\n",
       "    var id = msg.content.data.id;\n",
       "    // Get hold of the div created by the display call when the Comm\n",
       "    // socket was opened in Python.\n",
       "    var element = $(\"#\" + id);\n",
       "    var ws_proxy = comm_websocket_adapter(comm)\n",
       "\n",
       "    function ondownload(figure, format) {\n",
       "        window.open(figure.imageObj.src);\n",
       "    }\n",
       "\n",
       "    var fig = new mpl.figure(id, ws_proxy,\n",
       "                           ondownload,\n",
       "                           element.get(0));\n",
       "\n",
       "    // Call onopen now - mpl needs it, as it is assuming we've passed it a real\n",
       "    // web socket which is closed, not our websocket->open comm proxy.\n",
       "    ws_proxy.onopen();\n",
       "\n",
       "    fig.parent_element = element.get(0);\n",
       "    fig.cell_info = mpl.find_output_cell(\"<div id='\" + id + \"'></div>\");\n",
       "    if (!fig.cell_info) {\n",
       "        console.error(\"Failed to find cell for figure\", id, fig);\n",
       "        return;\n",
       "    }\n",
       "\n",
       "    var output_index = fig.cell_info[2]\n",
       "    var cell = fig.cell_info[0];\n",
       "\n",
       "};\n",
       "\n",
       "mpl.figure.prototype.handle_close = function(fig, msg) {\n",
       "    var width = fig.canvas.width/mpl.ratio\n",
       "    fig.root.unbind('remove')\n",
       "\n",
       "    // Update the output cell to use the data from the current canvas.\n",
       "    fig.push_to_output();\n",
       "    var dataURL = fig.canvas.toDataURL();\n",
       "    // Re-enable the keyboard manager in IPython - without this line, in FF,\n",
       "    // the notebook keyboard shortcuts fail.\n",
       "    IPython.keyboard_manager.enable()\n",
       "    $(fig.parent_element).html('<img src=\"' + dataURL + '\" width=\"' + width + '\">');\n",
       "    fig.close_ws(fig, msg);\n",
       "}\n",
       "\n",
       "mpl.figure.prototype.close_ws = function(fig, msg){\n",
       "    fig.send_message('closing', msg);\n",
       "    // fig.ws.close()\n",
       "}\n",
       "\n",
       "mpl.figure.prototype.push_to_output = function(remove_interactive) {\n",
       "    // Turn the data on the canvas into data in the output cell.\n",
       "    var width = this.canvas.width/mpl.ratio\n",
       "    var dataURL = this.canvas.toDataURL();\n",
       "    this.cell_info[1]['text/html'] = '<img src=\"' + dataURL + '\" width=\"' + width + '\">';\n",
       "}\n",
       "\n",
       "mpl.figure.prototype.updated_canvas_event = function() {\n",
       "    // Tell IPython that the notebook contents must change.\n",
       "    IPython.notebook.set_dirty(true);\n",
       "    this.send_message(\"ack\", {});\n",
       "    var fig = this;\n",
       "    // Wait a second, then push the new image to the DOM so\n",
       "    // that it is saved nicely (might be nice to debounce this).\n",
       "    setTimeout(function () { fig.push_to_output() }, 1000);\n",
       "}\n",
       "\n",
       "mpl.figure.prototype._init_toolbar = function() {\n",
       "    var fig = this;\n",
       "\n",
       "    var nav_element = $('<div/>')\n",
       "    nav_element.attr('style', 'width: 100%');\n",
       "    this.root.append(nav_element);\n",
       "\n",
       "    // Define a callback function for later on.\n",
       "    function toolbar_event(event) {\n",
       "        return fig.toolbar_button_onclick(event['data']);\n",
       "    }\n",
       "    function toolbar_mouse_event(event) {\n",
       "        return fig.toolbar_button_onmouseover(event['data']);\n",
       "    }\n",
       "\n",
       "    for(var toolbar_ind in mpl.toolbar_items){\n",
       "        var name = mpl.toolbar_items[toolbar_ind][0];\n",
       "        var tooltip = mpl.toolbar_items[toolbar_ind][1];\n",
       "        var image = mpl.toolbar_items[toolbar_ind][2];\n",
       "        var method_name = mpl.toolbar_items[toolbar_ind][3];\n",
       "\n",
       "        if (!name) { continue; };\n",
       "\n",
       "        var button = $('<button class=\"btn btn-default\" href=\"#\" title=\"' + name + '\"><i class=\"fa ' + image + ' fa-lg\"></i></button>');\n",
       "        button.click(method_name, toolbar_event);\n",
       "        button.mouseover(tooltip, toolbar_mouse_event);\n",
       "        nav_element.append(button);\n",
       "    }\n",
       "\n",
       "    // Add the status bar.\n",
       "    var status_bar = $('<span class=\"mpl-message\" style=\"text-align:right; float: right;\"/>');\n",
       "    nav_element.append(status_bar);\n",
       "    this.message = status_bar[0];\n",
       "\n",
       "    // Add the close button to the window.\n",
       "    var buttongrp = $('<div class=\"btn-group inline pull-right\"></div>');\n",
       "    var button = $('<button class=\"btn btn-mini btn-primary\" href=\"#\" title=\"Stop Interaction\"><i class=\"fa fa-power-off icon-remove icon-large\"></i></button>');\n",
       "    button.click(function (evt) { fig.handle_close(fig, {}); } );\n",
       "    button.mouseover('Stop Interaction', toolbar_mouse_event);\n",
       "    buttongrp.append(button);\n",
       "    var titlebar = this.root.find($('.ui-dialog-titlebar'));\n",
       "    titlebar.prepend(buttongrp);\n",
       "}\n",
       "\n",
       "mpl.figure.prototype._root_extra_style = function(el){\n",
       "    var fig = this\n",
       "    el.on(\"remove\", function(){\n",
       "\tfig.close_ws(fig, {});\n",
       "    });\n",
       "}\n",
       "\n",
       "mpl.figure.prototype._canvas_extra_style = function(el){\n",
       "    // this is important to make the div 'focusable\n",
       "    el.attr('tabindex', 0)\n",
       "    // reach out to IPython and tell the keyboard manager to turn it's self\n",
       "    // off when our div gets focus\n",
       "\n",
       "    // location in version 3\n",
       "    if (IPython.notebook.keyboard_manager) {\n",
       "        IPython.notebook.keyboard_manager.register_events(el);\n",
       "    }\n",
       "    else {\n",
       "        // location in version 2\n",
       "        IPython.keyboard_manager.register_events(el);\n",
       "    }\n",
       "\n",
       "}\n",
       "\n",
       "mpl.figure.prototype._key_event_extra = function(event, name) {\n",
       "    var manager = IPython.notebook.keyboard_manager;\n",
       "    if (!manager)\n",
       "        manager = IPython.keyboard_manager;\n",
       "\n",
       "    // Check for shift+enter\n",
       "    if (event.shiftKey && event.which == 13) {\n",
       "        this.canvas_div.blur();\n",
       "        // select the cell after this one\n",
       "        var index = IPython.notebook.find_cell_index(this.cell_info[0]);\n",
       "        IPython.notebook.select(index + 1);\n",
       "    }\n",
       "}\n",
       "\n",
       "mpl.figure.prototype.handle_save = function(fig, msg) {\n",
       "    fig.ondownload(fig, null);\n",
       "}\n",
       "\n",
       "\n",
       "mpl.find_output_cell = function(html_output) {\n",
       "    // Return the cell and output element which can be found *uniquely* in the notebook.\n",
       "    // Note - this is a bit hacky, but it is done because the \"notebook_saving.Notebook\"\n",
       "    // IPython event is triggered only after the cells have been serialised, which for\n",
       "    // our purposes (turning an active figure into a static one), is too late.\n",
       "    var cells = IPython.notebook.get_cells();\n",
       "    var ncells = cells.length;\n",
       "    for (var i=0; i<ncells; i++) {\n",
       "        var cell = cells[i];\n",
       "        if (cell.cell_type === 'code'){\n",
       "            for (var j=0; j<cell.output_area.outputs.length; j++) {\n",
       "                var data = cell.output_area.outputs[j];\n",
       "                if (data.data) {\n",
       "                    // IPython >= 3 moved mimebundle to data attribute of output\n",
       "                    data = data.data;\n",
       "                }\n",
       "                if (data['text/html'] == html_output) {\n",
       "                    return [cell, data, j];\n",
       "                }\n",
       "            }\n",
       "        }\n",
       "    }\n",
       "}\n",
       "\n",
       "// Register the function which deals with the matplotlib target/channel.\n",
       "// The kernel may be null if the page has been refreshed.\n",
       "if (IPython.notebook.kernel != null) {\n",
       "    IPython.notebook.kernel.comm_manager.register_target('matplotlib', mpl.mpl_figure_comm);\n",
       "}\n"
      ],
      "text/plain": [
       "<IPython.core.display.Javascript object>"
      ]
     },
     "metadata": {},
     "output_type": "display_data"
    },
    {
     "data": {
      "text/html": [
       "<img src=\"data:image/png;base64,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\" width=\"691.1111294193037\">"
      ],
      "text/plain": [
       "<IPython.core.display.HTML object>"
      ]
     },
     "metadata": {},
     "output_type": "display_data"
    },
    {
     "data": {
      "application/javascript": [
       "/* Put everything inside the global mpl namespace */\n",
       "window.mpl = {};\n",
       "\n",
       "\n",
       "mpl.get_websocket_type = function() {\n",
       "    if (typeof(WebSocket) !== 'undefined') {\n",
       "        return WebSocket;\n",
       "    } else if (typeof(MozWebSocket) !== 'undefined') {\n",
       "        return MozWebSocket;\n",
       "    } else {\n",
       "        alert('Your browser does not have WebSocket support.' +\n",
       "              'Please try Chrome, Safari or Firefox ≥ 6. ' +\n",
       "              'Firefox 4 and 5 are also supported but you ' +\n",
       "              'have to enable WebSockets in about:config.');\n",
       "    };\n",
       "}\n",
       "\n",
       "mpl.figure = function(figure_id, websocket, ondownload, parent_element) {\n",
       "    this.id = figure_id;\n",
       "\n",
       "    this.ws = websocket;\n",
       "\n",
       "    this.supports_binary = (this.ws.binaryType != undefined);\n",
       "\n",
       "    if (!this.supports_binary) {\n",
       "        var warnings = document.getElementById(\"mpl-warnings\");\n",
       "        if (warnings) {\n",
       "            warnings.style.display = 'block';\n",
       "            warnings.textContent = (\n",
       "                \"This browser does not support binary websocket messages. \" +\n",
       "                    \"Performance may be slow.\");\n",
       "        }\n",
       "    }\n",
       "\n",
       "    this.imageObj = new Image();\n",
       "\n",
       "    this.context = undefined;\n",
       "    this.message = undefined;\n",
       "    this.canvas = undefined;\n",
       "    this.rubberband_canvas = undefined;\n",
       "    this.rubberband_context = undefined;\n",
       "    this.format_dropdown = undefined;\n",
       "\n",
       "    this.image_mode = 'full';\n",
       "\n",
       "    this.root = $('<div/>');\n",
       "    this._root_extra_style(this.root)\n",
       "    this.root.attr('style', 'display: inline-block');\n",
       "\n",
       "    $(parent_element).append(this.root);\n",
       "\n",
       "    this._init_header(this);\n",
       "    this._init_canvas(this);\n",
       "    this._init_toolbar(this);\n",
       "\n",
       "    var fig = this;\n",
       "\n",
       "    this.waiting = false;\n",
       "\n",
       "    this.ws.onopen =  function () {\n",
       "            fig.send_message(\"supports_binary\", {value: fig.supports_binary});\n",
       "            fig.send_message(\"send_image_mode\", {});\n",
       "            if (mpl.ratio != 1) {\n",
       "                fig.send_message(\"set_dpi_ratio\", {'dpi_ratio': mpl.ratio});\n",
       "            }\n",
       "            fig.send_message(\"refresh\", {});\n",
       "        }\n",
       "\n",
       "    this.imageObj.onload = function() {\n",
       "            if (fig.image_mode == 'full') {\n",
       "                // Full images could contain transparency (where diff images\n",
       "                // almost always do), so we need to clear the canvas so that\n",
       "                // there is no ghosting.\n",
       "                fig.context.clearRect(0, 0, fig.canvas.width, fig.canvas.height);\n",
       "            }\n",
       "            fig.context.drawImage(fig.imageObj, 0, 0);\n",
       "        };\n",
       "\n",
       "    this.imageObj.onunload = function() {\n",
       "        this.ws.close();\n",
       "    }\n",
       "\n",
       "    this.ws.onmessage = this._make_on_message_function(this);\n",
       "\n",
       "    this.ondownload = ondownload;\n",
       "}\n",
       "\n",
       "mpl.figure.prototype._init_header = function() {\n",
       "    var titlebar = $(\n",
       "        '<div class=\"ui-dialog-titlebar ui-widget-header ui-corner-all ' +\n",
       "        'ui-helper-clearfix\"/>');\n",
       "    var titletext = $(\n",
       "        '<div class=\"ui-dialog-title\" style=\"width: 100%; ' +\n",
       "        'text-align: center; padding: 3px;\"/>');\n",
       "    titlebar.append(titletext)\n",
       "    this.root.append(titlebar);\n",
       "    this.header = titletext[0];\n",
       "}\n",
       "\n",
       "\n",
       "\n",
       "mpl.figure.prototype._canvas_extra_style = function(canvas_div) {\n",
       "\n",
       "}\n",
       "\n",
       "\n",
       "mpl.figure.prototype._root_extra_style = function(canvas_div) {\n",
       "\n",
       "}\n",
       "\n",
       "mpl.figure.prototype._init_canvas = function() {\n",
       "    var fig = this;\n",
       "\n",
       "    var canvas_div = $('<div/>');\n",
       "\n",
       "    canvas_div.attr('style', 'position: relative; clear: both; outline: 0');\n",
       "\n",
       "    function canvas_keyboard_event(event) {\n",
       "        return fig.key_event(event, event['data']);\n",
       "    }\n",
       "\n",
       "    canvas_div.keydown('key_press', canvas_keyboard_event);\n",
       "    canvas_div.keyup('key_release', canvas_keyboard_event);\n",
       "    this.canvas_div = canvas_div\n",
       "    this._canvas_extra_style(canvas_div)\n",
       "    this.root.append(canvas_div);\n",
       "\n",
       "    var canvas = $('<canvas/>');\n",
       "    canvas.addClass('mpl-canvas');\n",
       "    canvas.attr('style', \"left: 0; top: 0; z-index: 0; outline: 0\")\n",
       "\n",
       "    this.canvas = canvas[0];\n",
       "    this.context = canvas[0].getContext(\"2d\");\n",
       "\n",
       "    var backingStore = this.context.backingStorePixelRatio ||\n",
       "\tthis.context.webkitBackingStorePixelRatio ||\n",
       "\tthis.context.mozBackingStorePixelRatio ||\n",
       "\tthis.context.msBackingStorePixelRatio ||\n",
       "\tthis.context.oBackingStorePixelRatio ||\n",
       "\tthis.context.backingStorePixelRatio || 1;\n",
       "\n",
       "    mpl.ratio = (window.devicePixelRatio || 1) / backingStore;\n",
       "\n",
       "    var rubberband = $('<canvas/>');\n",
       "    rubberband.attr('style', \"position: absolute; left: 0; top: 0; z-index: 1;\")\n",
       "\n",
       "    var pass_mouse_events = true;\n",
       "\n",
       "    canvas_div.resizable({\n",
       "        start: function(event, ui) {\n",
       "            pass_mouse_events = false;\n",
       "        },\n",
       "        resize: function(event, ui) {\n",
       "            fig.request_resize(ui.size.width, ui.size.height);\n",
       "        },\n",
       "        stop: function(event, ui) {\n",
       "            pass_mouse_events = true;\n",
       "            fig.request_resize(ui.size.width, ui.size.height);\n",
       "        },\n",
       "    });\n",
       "\n",
       "    function mouse_event_fn(event) {\n",
       "        if (pass_mouse_events)\n",
       "            return fig.mouse_event(event, event['data']);\n",
       "    }\n",
       "\n",
       "    rubberband.mousedown('button_press', mouse_event_fn);\n",
       "    rubberband.mouseup('button_release', mouse_event_fn);\n",
       "    // Throttle sequential mouse events to 1 every 20ms.\n",
       "    rubberband.mousemove('motion_notify', mouse_event_fn);\n",
       "\n",
       "    rubberband.mouseenter('figure_enter', mouse_event_fn);\n",
       "    rubberband.mouseleave('figure_leave', mouse_event_fn);\n",
       "\n",
       "    canvas_div.on(\"wheel\", function (event) {\n",
       "        event = event.originalEvent;\n",
       "        event['data'] = 'scroll'\n",
       "        if (event.deltaY < 0) {\n",
       "            event.step = 1;\n",
       "        } else {\n",
       "            event.step = -1;\n",
       "        }\n",
       "        mouse_event_fn(event);\n",
       "    });\n",
       "\n",
       "    canvas_div.append(canvas);\n",
       "    canvas_div.append(rubberband);\n",
       "\n",
       "    this.rubberband = rubberband;\n",
       "    this.rubberband_canvas = rubberband[0];\n",
       "    this.rubberband_context = rubberband[0].getContext(\"2d\");\n",
       "    this.rubberband_context.strokeStyle = \"#000000\";\n",
       "\n",
       "    this._resize_canvas = function(width, height) {\n",
       "        // Keep the size of the canvas, canvas container, and rubber band\n",
       "        // canvas in synch.\n",
       "        canvas_div.css('width', width)\n",
       "        canvas_div.css('height', height)\n",
       "\n",
       "        canvas.attr('width', width * mpl.ratio);\n",
       "        canvas.attr('height', height * mpl.ratio);\n",
       "        canvas.attr('style', 'width: ' + width + 'px; height: ' + height + 'px;');\n",
       "\n",
       "        rubberband.attr('width', width);\n",
       "        rubberband.attr('height', height);\n",
       "    }\n",
       "\n",
       "    // Set the figure to an initial 600x600px, this will subsequently be updated\n",
       "    // upon first draw.\n",
       "    this._resize_canvas(600, 600);\n",
       "\n",
       "    // Disable right mouse context menu.\n",
       "    $(this.rubberband_canvas).bind(\"contextmenu\",function(e){\n",
       "        return false;\n",
       "    });\n",
       "\n",
       "    function set_focus () {\n",
       "        canvas.focus();\n",
       "        canvas_div.focus();\n",
       "    }\n",
       "\n",
       "    window.setTimeout(set_focus, 100);\n",
       "}\n",
       "\n",
       "mpl.figure.prototype._init_toolbar = function() {\n",
       "    var fig = this;\n",
       "\n",
       "    var nav_element = $('<div/>')\n",
       "    nav_element.attr('style', 'width: 100%');\n",
       "    this.root.append(nav_element);\n",
       "\n",
       "    // Define a callback function for later on.\n",
       "    function toolbar_event(event) {\n",
       "        return fig.toolbar_button_onclick(event['data']);\n",
       "    }\n",
       "    function toolbar_mouse_event(event) {\n",
       "        return fig.toolbar_button_onmouseover(event['data']);\n",
       "    }\n",
       "\n",
       "    for(var toolbar_ind in mpl.toolbar_items) {\n",
       "        var name = mpl.toolbar_items[toolbar_ind][0];\n",
       "        var tooltip = mpl.toolbar_items[toolbar_ind][1];\n",
       "        var image = mpl.toolbar_items[toolbar_ind][2];\n",
       "        var method_name = mpl.toolbar_items[toolbar_ind][3];\n",
       "\n",
       "        if (!name) {\n",
       "            // put a spacer in here.\n",
       "            continue;\n",
       "        }\n",
       "        var button = $('<button/>');\n",
       "        button.addClass('ui-button ui-widget ui-state-default ui-corner-all ' +\n",
       "                        'ui-button-icon-only');\n",
       "        button.attr('role', 'button');\n",
       "        button.attr('aria-disabled', 'false');\n",
       "        button.click(method_name, toolbar_event);\n",
       "        button.mouseover(tooltip, toolbar_mouse_event);\n",
       "\n",
       "        var icon_img = $('<span/>');\n",
       "        icon_img.addClass('ui-button-icon-primary ui-icon');\n",
       "        icon_img.addClass(image);\n",
       "        icon_img.addClass('ui-corner-all');\n",
       "\n",
       "        var tooltip_span = $('<span/>');\n",
       "        tooltip_span.addClass('ui-button-text');\n",
       "        tooltip_span.html(tooltip);\n",
       "\n",
       "        button.append(icon_img);\n",
       "        button.append(tooltip_span);\n",
       "\n",
       "        nav_element.append(button);\n",
       "    }\n",
       "\n",
       "    var fmt_picker_span = $('<span/>');\n",
       "\n",
       "    var fmt_picker = $('<select/>');\n",
       "    fmt_picker.addClass('mpl-toolbar-option ui-widget ui-widget-content');\n",
       "    fmt_picker_span.append(fmt_picker);\n",
       "    nav_element.append(fmt_picker_span);\n",
       "    this.format_dropdown = fmt_picker[0];\n",
       "\n",
       "    for (var ind in mpl.extensions) {\n",
       "        var fmt = mpl.extensions[ind];\n",
       "        var option = $(\n",
       "            '<option/>', {selected: fmt === mpl.default_extension}).html(fmt);\n",
       "        fmt_picker.append(option)\n",
       "    }\n",
       "\n",
       "    // Add hover states to the ui-buttons\n",
       "    $( \".ui-button\" ).hover(\n",
       "        function() { $(this).addClass(\"ui-state-hover\");},\n",
       "        function() { $(this).removeClass(\"ui-state-hover\");}\n",
       "    );\n",
       "\n",
       "    var status_bar = $('<span class=\"mpl-message\"/>');\n",
       "    nav_element.append(status_bar);\n",
       "    this.message = status_bar[0];\n",
       "}\n",
       "\n",
       "mpl.figure.prototype.request_resize = function(x_pixels, y_pixels) {\n",
       "    // Request matplotlib to resize the figure. Matplotlib will then trigger a resize in the client,\n",
       "    // which will in turn request a refresh of the image.\n",
       "    this.send_message('resize', {'width': x_pixels, 'height': y_pixels});\n",
       "}\n",
       "\n",
       "mpl.figure.prototype.send_message = function(type, properties) {\n",
       "    properties['type'] = type;\n",
       "    properties['figure_id'] = this.id;\n",
       "    this.ws.send(JSON.stringify(properties));\n",
       "}\n",
       "\n",
       "mpl.figure.prototype.send_draw_message = function() {\n",
       "    if (!this.waiting) {\n",
       "        this.waiting = true;\n",
       "        this.ws.send(JSON.stringify({type: \"draw\", figure_id: this.id}));\n",
       "    }\n",
       "}\n",
       "\n",
       "\n",
       "mpl.figure.prototype.handle_save = function(fig, msg) {\n",
       "    var format_dropdown = fig.format_dropdown;\n",
       "    var format = format_dropdown.options[format_dropdown.selectedIndex].value;\n",
       "    fig.ondownload(fig, format);\n",
       "}\n",
       "\n",
       "\n",
       "mpl.figure.prototype.handle_resize = function(fig, msg) {\n",
       "    var size = msg['size'];\n",
       "    if (size[0] != fig.canvas.width || size[1] != fig.canvas.height) {\n",
       "        fig._resize_canvas(size[0], size[1]);\n",
       "        fig.send_message(\"refresh\", {});\n",
       "    };\n",
       "}\n",
       "\n",
       "mpl.figure.prototype.handle_rubberband = function(fig, msg) {\n",
       "    var x0 = msg['x0'] / mpl.ratio;\n",
       "    var y0 = (fig.canvas.height - msg['y0']) / mpl.ratio;\n",
       "    var x1 = msg['x1'] / mpl.ratio;\n",
       "    var y1 = (fig.canvas.height - msg['y1']) / mpl.ratio;\n",
       "    x0 = Math.floor(x0) + 0.5;\n",
       "    y0 = Math.floor(y0) + 0.5;\n",
       "    x1 = Math.floor(x1) + 0.5;\n",
       "    y1 = Math.floor(y1) + 0.5;\n",
       "    var min_x = Math.min(x0, x1);\n",
       "    var min_y = Math.min(y0, y1);\n",
       "    var width = Math.abs(x1 - x0);\n",
       "    var height = Math.abs(y1 - y0);\n",
       "\n",
       "    fig.rubberband_context.clearRect(\n",
       "        0, 0, fig.canvas.width, fig.canvas.height);\n",
       "\n",
       "    fig.rubberband_context.strokeRect(min_x, min_y, width, height);\n",
       "}\n",
       "\n",
       "mpl.figure.prototype.handle_figure_label = function(fig, msg) {\n",
       "    // Updates the figure title.\n",
       "    fig.header.textContent = msg['label'];\n",
       "}\n",
       "\n",
       "mpl.figure.prototype.handle_cursor = function(fig, msg) {\n",
       "    var cursor = msg['cursor'];\n",
       "    switch(cursor)\n",
       "    {\n",
       "    case 0:\n",
       "        cursor = 'pointer';\n",
       "        break;\n",
       "    case 1:\n",
       "        cursor = 'default';\n",
       "        break;\n",
       "    case 2:\n",
       "        cursor = 'crosshair';\n",
       "        break;\n",
       "    case 3:\n",
       "        cursor = 'move';\n",
       "        break;\n",
       "    }\n",
       "    fig.rubberband_canvas.style.cursor = cursor;\n",
       "}\n",
       "\n",
       "mpl.figure.prototype.handle_message = function(fig, msg) {\n",
       "    fig.message.textContent = msg['message'];\n",
       "}\n",
       "\n",
       "mpl.figure.prototype.handle_draw = function(fig, msg) {\n",
       "    // Request the server to send over a new figure.\n",
       "    fig.send_draw_message();\n",
       "}\n",
       "\n",
       "mpl.figure.prototype.handle_image_mode = function(fig, msg) {\n",
       "    fig.image_mode = msg['mode'];\n",
       "}\n",
       "\n",
       "mpl.figure.prototype.updated_canvas_event = function() {\n",
       "    // Called whenever the canvas gets updated.\n",
       "    this.send_message(\"ack\", {});\n",
       "}\n",
       "\n",
       "// A function to construct a web socket function for onmessage handling.\n",
       "// Called in the figure constructor.\n",
       "mpl.figure.prototype._make_on_message_function = function(fig) {\n",
       "    return function socket_on_message(evt) {\n",
       "        if (evt.data instanceof Blob) {\n",
       "            /* FIXME: We get \"Resource interpreted as Image but\n",
       "             * transferred with MIME type text/plain:\" errors on\n",
       "             * Chrome.  But how to set the MIME type?  It doesn't seem\n",
       "             * to be part of the websocket stream */\n",
       "            evt.data.type = \"image/png\";\n",
       "\n",
       "            /* Free the memory for the previous frames */\n",
       "            if (fig.imageObj.src) {\n",
       "                (window.URL || window.webkitURL).revokeObjectURL(\n",
       "                    fig.imageObj.src);\n",
       "            }\n",
       "\n",
       "            fig.imageObj.src = (window.URL || window.webkitURL).createObjectURL(\n",
       "                evt.data);\n",
       "            fig.updated_canvas_event();\n",
       "            fig.waiting = false;\n",
       "            return;\n",
       "        }\n",
       "        else if (typeof evt.data === 'string' && evt.data.slice(0, 21) == \"data:image/png;base64\") {\n",
       "            fig.imageObj.src = evt.data;\n",
       "            fig.updated_canvas_event();\n",
       "            fig.waiting = false;\n",
       "            return;\n",
       "        }\n",
       "\n",
       "        var msg = JSON.parse(evt.data);\n",
       "        var msg_type = msg['type'];\n",
       "\n",
       "        // Call the  \"handle_{type}\" callback, which takes\n",
       "        // the figure and JSON message as its only arguments.\n",
       "        try {\n",
       "            var callback = fig[\"handle_\" + msg_type];\n",
       "        } catch (e) {\n",
       "            console.log(\"No handler for the '\" + msg_type + \"' message type: \", msg);\n",
       "            return;\n",
       "        }\n",
       "\n",
       "        if (callback) {\n",
       "            try {\n",
       "                // console.log(\"Handling '\" + msg_type + \"' message: \", msg);\n",
       "                callback(fig, msg);\n",
       "            } catch (e) {\n",
       "                console.log(\"Exception inside the 'handler_\" + msg_type + \"' callback:\", e, e.stack, msg);\n",
       "            }\n",
       "        }\n",
       "    };\n",
       "}\n",
       "\n",
       "// from http://stackoverflow.com/questions/1114465/getting-mouse-location-in-canvas\n",
       "mpl.findpos = function(e) {\n",
       "    //this section is from http://www.quirksmode.org/js/events_properties.html\n",
       "    var targ;\n",
       "    if (!e)\n",
       "        e = window.event;\n",
       "    if (e.target)\n",
       "        targ = e.target;\n",
       "    else if (e.srcElement)\n",
       "        targ = e.srcElement;\n",
       "    if (targ.nodeType == 3) // defeat Safari bug\n",
       "        targ = targ.parentNode;\n",
       "\n",
       "    // jQuery normalizes the pageX and pageY\n",
       "    // pageX,Y are the mouse positions relative to the document\n",
       "    // offset() returns the position of the element relative to the document\n",
       "    var x = e.pageX - $(targ).offset().left;\n",
       "    var y = e.pageY - $(targ).offset().top;\n",
       "\n",
       "    return {\"x\": x, \"y\": y};\n",
       "};\n",
       "\n",
       "/*\n",
       " * return a copy of an object with only non-object keys\n",
       " * we need this to avoid circular references\n",
       " * http://stackoverflow.com/a/24161582/3208463\n",
       " */\n",
       "function simpleKeys (original) {\n",
       "  return Object.keys(original).reduce(function (obj, key) {\n",
       "    if (typeof original[key] !== 'object')\n",
       "        obj[key] = original[key]\n",
       "    return obj;\n",
       "  }, {});\n",
       "}\n",
       "\n",
       "mpl.figure.prototype.mouse_event = function(event, name) {\n",
       "    var canvas_pos = mpl.findpos(event)\n",
       "\n",
       "    if (name === 'button_press')\n",
       "    {\n",
       "        this.canvas.focus();\n",
       "        this.canvas_div.focus();\n",
       "    }\n",
       "\n",
       "    var x = canvas_pos.x * mpl.ratio;\n",
       "    var y = canvas_pos.y * mpl.ratio;\n",
       "\n",
       "    this.send_message(name, {x: x, y: y, button: event.button,\n",
       "                             step: event.step,\n",
       "                             guiEvent: simpleKeys(event)});\n",
       "\n",
       "    /* This prevents the web browser from automatically changing to\n",
       "     * the text insertion cursor when the button is pressed.  We want\n",
       "     * to control all of the cursor setting manually through the\n",
       "     * 'cursor' event from matplotlib */\n",
       "    event.preventDefault();\n",
       "    return false;\n",
       "}\n",
       "\n",
       "mpl.figure.prototype._key_event_extra = function(event, name) {\n",
       "    // Handle any extra behaviour associated with a key event\n",
       "}\n",
       "\n",
       "mpl.figure.prototype.key_event = function(event, name) {\n",
       "\n",
       "    // Prevent repeat events\n",
       "    if (name == 'key_press')\n",
       "    {\n",
       "        if (event.which === this._key)\n",
       "            return;\n",
       "        else\n",
       "            this._key = event.which;\n",
       "    }\n",
       "    if (name == 'key_release')\n",
       "        this._key = null;\n",
       "\n",
       "    var value = '';\n",
       "    if (event.ctrlKey && event.which != 17)\n",
       "        value += \"ctrl+\";\n",
       "    if (event.altKey && event.which != 18)\n",
       "        value += \"alt+\";\n",
       "    if (event.shiftKey && event.which != 16)\n",
       "        value += \"shift+\";\n",
       "\n",
       "    value += 'k';\n",
       "    value += event.which.toString();\n",
       "\n",
       "    this._key_event_extra(event, name);\n",
       "\n",
       "    this.send_message(name, {key: value,\n",
       "                             guiEvent: simpleKeys(event)});\n",
       "    return false;\n",
       "}\n",
       "\n",
       "mpl.figure.prototype.toolbar_button_onclick = function(name) {\n",
       "    if (name == 'download') {\n",
       "        this.handle_save(this, null);\n",
       "    } else {\n",
       "        this.send_message(\"toolbar_button\", {name: name});\n",
       "    }\n",
       "};\n",
       "\n",
       "mpl.figure.prototype.toolbar_button_onmouseover = function(tooltip) {\n",
       "    this.message.textContent = tooltip;\n",
       "};\n",
       "mpl.toolbar_items = [[\"Home\", \"Reset original view\", \"fa fa-home icon-home\", \"home\"], [\"Back\", \"Back to  previous view\", \"fa fa-arrow-left icon-arrow-left\", \"back\"], [\"Forward\", \"Forward to next view\", \"fa fa-arrow-right icon-arrow-right\", \"forward\"], [\"\", \"\", \"\", \"\"], [\"Pan\", \"Pan axes with left mouse, zoom with right\", \"fa fa-arrows icon-move\", \"pan\"], [\"Zoom\", \"Zoom to rectangle\", \"fa fa-square-o icon-check-empty\", \"zoom\"], [\"\", \"\", \"\", \"\"], [\"Download\", \"Download plot\", \"fa fa-floppy-o icon-save\", \"download\"]];\n",
       "\n",
       "mpl.extensions = [\"eps\", \"jpeg\", \"pdf\", \"png\", \"ps\", \"raw\", \"svg\", \"tif\"];\n",
       "\n",
       "mpl.default_extension = \"png\";var comm_websocket_adapter = function(comm) {\n",
       "    // Create a \"websocket\"-like object which calls the given IPython comm\n",
       "    // object with the appropriate methods. Currently this is a non binary\n",
       "    // socket, so there is still some room for performance tuning.\n",
       "    var ws = {};\n",
       "\n",
       "    ws.close = function() {\n",
       "        comm.close()\n",
       "    };\n",
       "    ws.send = function(m) {\n",
       "        //console.log('sending', m);\n",
       "        comm.send(m);\n",
       "    };\n",
       "    // Register the callback with on_msg.\n",
       "    comm.on_msg(function(msg) {\n",
       "        //console.log('receiving', msg['content']['data'], msg);\n",
       "        // Pass the mpl event to the overriden (by mpl) onmessage function.\n",
       "        ws.onmessage(msg['content']['data'])\n",
       "    });\n",
       "    return ws;\n",
       "}\n",
       "\n",
       "mpl.mpl_figure_comm = function(comm, msg) {\n",
       "    // This is the function which gets called when the mpl process\n",
       "    // starts-up an IPython Comm through the \"matplotlib\" channel.\n",
       "\n",
       "    var id = msg.content.data.id;\n",
       "    // Get hold of the div created by the display call when the Comm\n",
       "    // socket was opened in Python.\n",
       "    var element = $(\"#\" + id);\n",
       "    var ws_proxy = comm_websocket_adapter(comm)\n",
       "\n",
       "    function ondownload(figure, format) {\n",
       "        window.open(figure.imageObj.src);\n",
       "    }\n",
       "\n",
       "    var fig = new mpl.figure(id, ws_proxy,\n",
       "                           ondownload,\n",
       "                           element.get(0));\n",
       "\n",
       "    // Call onopen now - mpl needs it, as it is assuming we've passed it a real\n",
       "    // web socket which is closed, not our websocket->open comm proxy.\n",
       "    ws_proxy.onopen();\n",
       "\n",
       "    fig.parent_element = element.get(0);\n",
       "    fig.cell_info = mpl.find_output_cell(\"<div id='\" + id + \"'></div>\");\n",
       "    if (!fig.cell_info) {\n",
       "        console.error(\"Failed to find cell for figure\", id, fig);\n",
       "        return;\n",
       "    }\n",
       "\n",
       "    var output_index = fig.cell_info[2]\n",
       "    var cell = fig.cell_info[0];\n",
       "\n",
       "};\n",
       "\n",
       "mpl.figure.prototype.handle_close = function(fig, msg) {\n",
       "    var width = fig.canvas.width/mpl.ratio\n",
       "    fig.root.unbind('remove')\n",
       "\n",
       "    // Update the output cell to use the data from the current canvas.\n",
       "    fig.push_to_output();\n",
       "    var dataURL = fig.canvas.toDataURL();\n",
       "    // Re-enable the keyboard manager in IPython - without this line, in FF,\n",
       "    // the notebook keyboard shortcuts fail.\n",
       "    IPython.keyboard_manager.enable()\n",
       "    $(fig.parent_element).html('<img src=\"' + dataURL + '\" width=\"' + width + '\">');\n",
       "    fig.close_ws(fig, msg);\n",
       "}\n",
       "\n",
       "mpl.figure.prototype.close_ws = function(fig, msg){\n",
       "    fig.send_message('closing', msg);\n",
       "    // fig.ws.close()\n",
       "}\n",
       "\n",
       "mpl.figure.prototype.push_to_output = function(remove_interactive) {\n",
       "    // Turn the data on the canvas into data in the output cell.\n",
       "    var width = this.canvas.width/mpl.ratio\n",
       "    var dataURL = this.canvas.toDataURL();\n",
       "    this.cell_info[1]['text/html'] = '<img src=\"' + dataURL + '\" width=\"' + width + '\">';\n",
       "}\n",
       "\n",
       "mpl.figure.prototype.updated_canvas_event = function() {\n",
       "    // Tell IPython that the notebook contents must change.\n",
       "    IPython.notebook.set_dirty(true);\n",
       "    this.send_message(\"ack\", {});\n",
       "    var fig = this;\n",
       "    // Wait a second, then push the new image to the DOM so\n",
       "    // that it is saved nicely (might be nice to debounce this).\n",
       "    setTimeout(function () { fig.push_to_output() }, 1000);\n",
       "}\n",
       "\n",
       "mpl.figure.prototype._init_toolbar = function() {\n",
       "    var fig = this;\n",
       "\n",
       "    var nav_element = $('<div/>')\n",
       "    nav_element.attr('style', 'width: 100%');\n",
       "    this.root.append(nav_element);\n",
       "\n",
       "    // Define a callback function for later on.\n",
       "    function toolbar_event(event) {\n",
       "        return fig.toolbar_button_onclick(event['data']);\n",
       "    }\n",
       "    function toolbar_mouse_event(event) {\n",
       "        return fig.toolbar_button_onmouseover(event['data']);\n",
       "    }\n",
       "\n",
       "    for(var toolbar_ind in mpl.toolbar_items){\n",
       "        var name = mpl.toolbar_items[toolbar_ind][0];\n",
       "        var tooltip = mpl.toolbar_items[toolbar_ind][1];\n",
       "        var image = mpl.toolbar_items[toolbar_ind][2];\n",
       "        var method_name = mpl.toolbar_items[toolbar_ind][3];\n",
       "\n",
       "        if (!name) { continue; };\n",
       "\n",
       "        var button = $('<button class=\"btn btn-default\" href=\"#\" title=\"' + name + '\"><i class=\"fa ' + image + ' fa-lg\"></i></button>');\n",
       "        button.click(method_name, toolbar_event);\n",
       "        button.mouseover(tooltip, toolbar_mouse_event);\n",
       "        nav_element.append(button);\n",
       "    }\n",
       "\n",
       "    // Add the status bar.\n",
       "    var status_bar = $('<span class=\"mpl-message\" style=\"text-align:right; float: right;\"/>');\n",
       "    nav_element.append(status_bar);\n",
       "    this.message = status_bar[0];\n",
       "\n",
       "    // Add the close button to the window.\n",
       "    var buttongrp = $('<div class=\"btn-group inline pull-right\"></div>');\n",
       "    var button = $('<button class=\"btn btn-mini btn-primary\" href=\"#\" title=\"Stop Interaction\"><i class=\"fa fa-power-off icon-remove icon-large\"></i></button>');\n",
       "    button.click(function (evt) { fig.handle_close(fig, {}); } );\n",
       "    button.mouseover('Stop Interaction', toolbar_mouse_event);\n",
       "    buttongrp.append(button);\n",
       "    var titlebar = this.root.find($('.ui-dialog-titlebar'));\n",
       "    titlebar.prepend(buttongrp);\n",
       "}\n",
       "\n",
       "mpl.figure.prototype._root_extra_style = function(el){\n",
       "    var fig = this\n",
       "    el.on(\"remove\", function(){\n",
       "\tfig.close_ws(fig, {});\n",
       "    });\n",
       "}\n",
       "\n",
       "mpl.figure.prototype._canvas_extra_style = function(el){\n",
       "    // this is important to make the div 'focusable\n",
       "    el.attr('tabindex', 0)\n",
       "    // reach out to IPython and tell the keyboard manager to turn it's self\n",
       "    // off when our div gets focus\n",
       "\n",
       "    // location in version 3\n",
       "    if (IPython.notebook.keyboard_manager) {\n",
       "        IPython.notebook.keyboard_manager.register_events(el);\n",
       "    }\n",
       "    else {\n",
       "        // location in version 2\n",
       "        IPython.keyboard_manager.register_events(el);\n",
       "    }\n",
       "\n",
       "}\n",
       "\n",
       "mpl.figure.prototype._key_event_extra = function(event, name) {\n",
       "    var manager = IPython.notebook.keyboard_manager;\n",
       "    if (!manager)\n",
       "        manager = IPython.keyboard_manager;\n",
       "\n",
       "    // Check for shift+enter\n",
       "    if (event.shiftKey && event.which == 13) {\n",
       "        this.canvas_div.blur();\n",
       "        // select the cell after this one\n",
       "        var index = IPython.notebook.find_cell_index(this.cell_info[0]);\n",
       "        IPython.notebook.select(index + 1);\n",
       "    }\n",
       "}\n",
       "\n",
       "mpl.figure.prototype.handle_save = function(fig, msg) {\n",
       "    fig.ondownload(fig, null);\n",
       "}\n",
       "\n",
       "\n",
       "mpl.find_output_cell = function(html_output) {\n",
       "    // Return the cell and output element which can be found *uniquely* in the notebook.\n",
       "    // Note - this is a bit hacky, but it is done because the \"notebook_saving.Notebook\"\n",
       "    // IPython event is triggered only after the cells have been serialised, which for\n",
       "    // our purposes (turning an active figure into a static one), is too late.\n",
       "    var cells = IPython.notebook.get_cells();\n",
       "    var ncells = cells.length;\n",
       "    for (var i=0; i<ncells; i++) {\n",
       "        var cell = cells[i];\n",
       "        if (cell.cell_type === 'code'){\n",
       "            for (var j=0; j<cell.output_area.outputs.length; j++) {\n",
       "                var data = cell.output_area.outputs[j];\n",
       "                if (data.data) {\n",
       "                    // IPython >= 3 moved mimebundle to data attribute of output\n",
       "                    data = data.data;\n",
       "                }\n",
       "                if (data['text/html'] == html_output) {\n",
       "                    return [cell, data, j];\n",
       "                }\n",
       "            }\n",
       "        }\n",
       "    }\n",
       "}\n",
       "\n",
       "// Register the function which deals with the matplotlib target/channel.\n",
       "// The kernel may be null if the page has been refreshed.\n",
       "if (IPython.notebook.kernel != null) {\n",
       "    IPython.notebook.kernel.comm_manager.register_target('matplotlib', mpl.mpl_figure_comm);\n",
       "}\n"
      ],
      "text/plain": [
       "<IPython.core.display.Javascript object>"
      ]
     },
     "metadata": {},
     "output_type": "display_data"
    },
    {
     "data": {
      "text/html": [
       "<img src=\"data:image/png;base64,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\" width=\"691.1111294193037\">"
      ],
      "text/plain": [
       "<IPython.core.display.HTML object>"
      ]
     },
     "metadata": {},
     "output_type": "display_data"
    }
   ],
   "source": [
    "%matplotlib notebook\n",
    "shared.format_plots()\n",
    "\n",
    "utils.plot_TPR(critical_values, effect_sizes, TPR)"
   ]
  },
  {
   "cell_type": "code",
   "execution_count": 18,
   "metadata": {
    "collapsed": true
   },
   "outputs": [],
   "source": [
    "%matplotlib inline\n",
    "shared.format_plots()"
   ]
  },
  {
   "cell_type": "markdown",
   "metadata": {},
   "source": [
    "#### Q6 Explain the shape of this graph: why does the rate go down when you decrease the effect size and hold the critical value constant? why are the extreme values -- closest to 1 (blue) and closest to 0 (red) -- located where they are?"
   ]
  },
  {
   "cell_type": "markdown",
   "metadata": {},
   "source": [
    "<font color='#1874CD'>  ** As you decrease the effect size, the chance of the spikes in the stimulated neuron being higher than the (fixed) critical value goes down. **\n",
    "\n",
    "** As described above, when the effect size is low and the critical value is high, then we get very few positives -- this is the red region in the chart above. When the effect size is large and the critical value is small, then it's very unlikely that the number of spikes is less than the critical value -- this is the blue region in the chart above. **"
   ]
  },
  {
   "cell_type": "markdown",
   "metadata": {},
   "source": [
    "#### Q7 Why can't we calculate a true positive rate for the case where `effect_size == 0`?"
   ]
  },
  {
   "cell_type": "markdown",
   "metadata": {},
   "source": [
    "<font color='#1874CD'>  ** When the effect size is 0, every result is a false positive, since there is no effect. We could instead calculate the true negative rate for varying choices of critical value. **"
   ]
  },
  {
   "cell_type": "markdown",
   "metadata": {},
   "source": [
    "## $p$-Value"
   ]
  },
  {
   "cell_type": "markdown",
   "metadata": {},
   "source": [
    "If we have a good model of our null hypothesis, then we do more than just say whether we reject or fail to reject the null. If we can determine the probability that, if the null hypothesis were true, we'd observe what we observed, then we can express the degree to which our results support the null hypothesis. This probability is called the $p$-value.\n",
    "\n",
    "In many familiar statistical tests, this model is *parametric* -- we assume some form for the distribution of the data, and therefore the test statistic, under the null hypothesis and then, possibly after measuring some data generated according to the null hypothesis and inferring those parameters, we use the mathematical form of that distribution to calculate the $p$-value.\n",
    "\n",
    "When we don't know what form to assume the null distribution has, we can use a *nonparametric* method instead. In a non-parametric method, we instead use the data measurements to directly estimate the shape of the null distribution of the test statistic. Since our test statistic is just the number of spikes that we measure in a single experiment, that means we just need to collect a large number of spike counts distributed according to the null hypothesis.\n",
    "\n",
    "So in our case, we estimate the $p$-value by repeatedly measuring the spike counts from a neuron in an unstimulated cat's foot and then calculating how often that spike count is higher than the spike count from the neuron when the foot is stimulated."
   ]
  },
  {
   "cell_type": "markdown",
   "metadata": {},
   "source": [
    "The cell below will simulate measuring the spike counts from an unstimulated foot `number_null_measurements` times, along with a single measurement of the spike count from a stimulated foot.\n",
    "\n",
    "It then plots a histogram of the spike counts from the unstimulated foot along with a single tick mark indicating the number of spikes measured from the stimulated foot. The bins are selected so that each bin contains a single value of the spike count."
   ]
  },
  {
   "cell_type": "code",
   "execution_count": 19,
   "metadata": {},
   "outputs": [
    {
     "data": {
      "image/png": "[encoded data removed]",
      "text/plain": [
       "<matplotlib.figure.Figure at 0x1a13bfedd8>"
      ]
     },
     "metadata": {},
     "output_type": "display_data"
    }
   ],
   "source": [
    "number_null_measurements = 10000\n",
    "\n",
    "difference = 5\n",
    "baserate = 10\n",
    "\n",
    "null_spikes = np.random.poisson(lam=baserate,size=10000)\n",
    "experiment_spikes = np.random.poisson(lam=baserate+difference)\n",
    "\n",
    "utils.plot_null_and_result(null_spikes, experiment_spikes)"
   ]
  },
  {
   "cell_type": "markdown",
   "metadata": {},
   "source": [
    "#### Q8 What is the relationship between this histogram and the null distribution of our test statistic?"
   ]
  },
  {
   "cell_type": "markdown",
   "metadata": {},
   "source": [
    "<font color='#1874CD'>  ** This histogram is the null distribution of our test statistic! It's the distribution of spike counts we'd expect if the null hypothesis were true, and there was no difference between spike rates in the stimulated and unstimulated neurons. **"
   ]
  },
  {
   "cell_type": "markdown",
   "metadata": {},
   "source": [
    "A rough guess for the $p$-value can be read directly off the chart above."
   ]
  },
  {
   "cell_type": "markdown",
   "metadata": {},
   "source": [
    "#### Q9 Explain how you'd do this."
   ]
  },
  {
   "cell_type": "markdown",
   "metadata": {},
   "source": [
    "<font color='#1874CD'>  ** By eye, we can see what fraction of the distribution is at or above the value we observed. **"
   ]
  },
  {
   "cell_type": "markdown",
   "metadata": {},
   "source": [
    "To calculate the $p$-value precisely, we need the actual heights for this histogram."
   ]
  },
  {
   "cell_type": "markdown",
   "metadata": {},
   "source": [
    "#### Q10 How would we calculate the $p$-value from this information?"
   ]
  },
  {
   "cell_type": "markdown",
   "metadata": {},
   "source": [
    "<font color='#1874CD'>  ** You would add up the heights of each bar from the bar corresponding to the observed value all the way to the end. **"
   ]
  },
  {
   "cell_type": "markdown",
   "metadata": {},
   "source": [
    "The cell below uses the function `np.histogram` to collect these values and store them in the list `probabilities`. This list acts like a probability mass function: accessing the `i`th element of the list with `probabilities[i]` tells you the fraction of experiments in which `i` spikes occurred."
   ]
  },
  {
   "cell_type": "code",
   "execution_count": 20,
   "metadata": {
    "collapsed": true
   },
   "outputs": [],
   "source": [
    "bins = utils.get_bins(null_spikes,experiment_spikes)\n",
    "\n",
    "probabilities, bin_edges = np.histogram(null_spikes, bins=bins, normed=True)"
   ]
  },
  {
   "cell_type": "markdown",
   "metadata": {},
   "source": [
    "Calculate the $p$-value in the cell below.\n",
    "\n",
    "*Hint:* things you might use include: `for` loops, `if` statements amd the `np.sum` function.\n",
    "Also: `list[i:]` will return all the values in a list from the `i`th element to the end of the list."
   ]
  },
  {
   "cell_type": "code",
   "execution_count": 21,
   "metadata": {},
   "outputs": [
    {
     "data": {
      "text/plain": [
       "0.20492049204920493"
      ]
     },
     "execution_count": 21,
     "metadata": {},
     "output_type": "execute_result"
    }
   ],
   "source": [
    "np.sum(probabilities[experiment_spikes:])"
   ]
  },
  {
   "cell_type": "markdown",
   "metadata": {},
   "source": [
    "Simulate a different outcome for the experiment by running the cell below to collect a different random value for `stimulated_spikes`."
   ]
  },
  {
   "cell_type": "code",
   "execution_count": 22,
   "metadata": {},
   "outputs": [
    {
     "data": {
      "image/png": "[encoded data removed]",
      "text/plain": [
       "<matplotlib.figure.Figure at 0x1a13b85080>"
      ]
     },
     "metadata": {},
     "output_type": "display_data"
    }
   ],
   "source": [
    "experiment_spikes = np.random.poisson(lam=baserate+difference)\n",
    "utils.plot_null_and_result(null_spikes, experiment_spikes)"
   ]
  },
  {
   "cell_type": "markdown",
   "metadata": {},
   "source": [
    "#### Q11 Re-calculate the $p$-value. Is it the same or different? Why is this?"
   ]
  },
  {
   "cell_type": "markdown",
   "metadata": {},
   "source": [
    "<font color='#1874CD'>  ** It's different! The $p$-value is a statistic, and just like any other statistic, it has a sampling distribution, and so takes on different values from experiment to experiment. **"
   ]
  },
  {
   "cell_type": "markdown",
   "metadata": {},
   "source": [
    "In addition to the probability distribution, the *cumulative distribution function* can be used to represent the chance that a random variable, like a test statistic, takes on some value. The cumulative distribution function, also known as the CDF, takes in a value and returns the probability that the random variable is *less than or equal to* that value. Put another way, it tells you how much probability has *accumulated* as the value of the random variable increases from some minimum up to the current value."
   ]
  },
  {
   "cell_type": "markdown",
   "metadata": {},
   "source": [
    "The cell below calculates and plots the cumulative distribution function for the null distribution of our test statistic."
   ]
  },
  {
   "cell_type": "markdown",
   "metadata": {},
   "source": [
    "#### Q12 How might this information be used to calculate the $p$-value?"
   ]
  },
  {
   "cell_type": "markdown",
   "metadata": {},
   "source": [
    "<font color='#1874CD'>  ** The $p$-value is simply 1 minus the value of the CDF at a given point. **"
   ]
  },
  {
   "cell_type": "code",
   "execution_count": 23,
   "metadata": {},
   "outputs": [
    {
     "data": {
      "image/png": "[encoded data removed]",
      "text/plain": [
       "<matplotlib.figure.Figure at 0x1a1374cda0>"
      ]
     },
     "metadata": {},
     "output_type": "display_data"
    }
   ],
   "source": [
    "CDF, new_edges = utils.make_CDF(probabilities, bin_edges)\n",
    "utils.plot_CDF(CDF, new_edges)"
   ]
  },
  {
   "cell_type": "markdown",
   "metadata": {},
   "source": [
    "Recall that the $p$-value is the probability, under the null hypothesis, that the test statistic takes on a value that is at least as extreme as the measured value."
   ]
  },
  {
   "cell_type": "markdown",
   "metadata": {},
   "source": [
    "#### Q13 Based on this, can you determine the chance, when the null hypothesis is true, that the $p$-value is less than 0.5? 0.05? 0?"
   ]
  },
  {
   "cell_type": "markdown",
   "metadata": {},
   "source": [
    "<font color='#1874CD'>  ** When the null hypothesis is true, the chance that the $p$-value is less than a given value between 0 and 1 is just equal to that value! This is by design: the $p$-value tells us the chance that we'd get a result at least that extreme if the null hypothesis were true. **"
   ]
  },
  {
   "cell_type": "markdown",
   "metadata": {},
   "source": [
    "Thanks to our simulation framework, we can answer this question directly. The cell below will compute the $p$-value for a large number of experiments and then present the histogram of the results."
   ]
  },
  {
   "cell_type": "code",
   "execution_count": 24,
   "metadata": {
    "collapsed": true
   },
   "outputs": [],
   "source": [
    "baserate = 1000\n",
    "null_spikes = np.random.poisson(lam=baserate,size=100000)\n",
    "bins = utils.get_bins(null_spikes,baserate+baserate)\n",
    "\n",
    "probabilities, bin_edges = np.histogram(null_spikes, bins=bins, normed=True)"
   ]
  },
  {
   "cell_type": "code",
   "execution_count": 25,
   "metadata": {
    "collapsed": true
   },
   "outputs": [],
   "source": [
    "num_experiments = 10000\n",
    "effect_size = 1\n",
    "\n",
    "CDF, new_edges = utils.make_CDF(probabilities, bin_edges)\n",
    "\n",
    "ps = [1- CDF(experiment_spikes) for experiment_spikes \n",
    "                        in np.random.poisson(lam=baserate+effect_size,size=num_experiments)]"
   ]
  },
  {
   "cell_type": "code",
   "execution_count": 26,
   "metadata": {
    "scrolled": false
   },
   "outputs": [
    {
     "data": {
      "image/png": "[encoded data removed]",
      "text/plain": [
       "<matplotlib.figure.Figure at 0x1a13e4c5c0>"
      ]
     },
     "metadata": {},
     "output_type": "display_data"
    }
   ],
   "source": [
    "utils.plot_p_distribution(ps)"
   ]
  },
  {
   "cell_type": "markdown",
   "metadata": {},
   "source": [
    "#### Q14 What shape does this distribution have?"
   ]
  },
  {
   "cell_type": "markdown",
   "metadata": {},
   "source": [
    "<font color='#1874CD'>  ** It is roughly flat, or *uniform*.  **"
   ]
  },
  {
   "cell_type": "markdown",
   "metadata": {},
   "source": [
    "Run the code cell above with the `effect_size` set to `10`."
   ]
  },
  {
   "cell_type": "markdown",
   "metadata": {},
   "source": [
    "#### Q15 Now what shape does the distribution have?"
   ]
  },
  {
   "cell_type": "markdown",
   "metadata": {},
   "source": [
    "<font color='#1874CD'>  ** It now has a peak at low values, corresponding to true positives. **"
   ]
  },
  {
   "cell_type": "markdown",
   "metadata": {},
   "source": [
    "This information about the shape of the distribution of $p$-values can be used to calculate false discovery rates, but only if we run a variety of very similar experiments. For more, see this\n",
    "[Points of Significance article](http://www.nature.com/nmeth/journal/v11/n4/full/nmeth.2900.html)."
   ]
  }
 ],
 "metadata": {
  "anaconda-cloud": {},
  "kernelspec": {
   "display_name": "neur299",
   "language": "python",
   "name": "neur299"
  },
  "language_info": {
   "codemirror_mode": {
    "name": "ipython",
    "version": 3
   },
   "file_extension": ".py",
   "mimetype": "text/x-python",
   "name": "python",
   "nbconvert_exporter": "python",
   "pygments_lexer": "ipython3",
   "version": "3.6.2"
  }
 },
 "nbformat": 4,
 "nbformat_minor": 2
}
