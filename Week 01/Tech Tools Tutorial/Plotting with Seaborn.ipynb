{
 "cells": [
  {
   "cell_type": "markdown",
   "metadata": {},
   "source": [
    "<img src=\"./img/HWNI_logo.svg\"/>\n",
    "\n",
    "# Plotting with Seaborn"
   ]
  },
  {
   "cell_type": "markdown",
   "metadata": {},
   "source": [
    "Visualizing data is just as important as analyzing it statistically. In addition to helping you communicate your findings to others, it also helps you interpret your own data before and during rigorous statistics.\n",
    "\n",
    "As such, a major goal of this course is for you to learn to create many different kinds of high-quality data visualizations.\n",
    "\n",
    "We'll be using two tools to do our plotting in this course: [matplotlib](http://matplotlib.org/), a lower-level plotting library that will give us total control of our plots, and [seaborn](http://seaborn.pydata.org/index.html), a higher-level library built on top of matplotlib that is designed to make data science plots as easy as possible. Since the focus in the course will be on using seaborn, the focus in this notebook is on that library.\n",
    "\n",
    "It would probably be helpful to go through the [seaborn plotting tutorial](http://seaborn.pydata.org/tutorial.html#plotting-functions) as well. This notebook is more compact and focused on the things we need in the class, but the tutorial is more thorough and complete.\n",
    "\n",
    "Since seaborn uses pandas DataFrames, it'd be best to work through the beginning of the notebook on pandas before looking at this one.\n",
    "\n",
    "Let's get started by importing everything we need."
   ]
  },
  {
   "cell_type": "code",
   "execution_count": 2,
   "metadata": {
    "collapsed": false
   },
   "outputs": [
    {
     "data": {
      "text/html": [
       "<style>/* Originally by Brandon Rhodes, for use with Pandas*/\n",
       "body {\n",
       "    margin: 0;\n",
       "    font-family: Helvetica;\n",
       "}\n",
       "table.dataframe {\n",
       "    border-collapse: collapse;\n",
       "    border: none;\n",
       "}\n",
       "table.dataframe tr {\n",
       "    border: none;\n",
       "}\n",
       "table.dataframe td, table.dataframe th {\n",
       "    margin: 0;\n",
       "    border: 1px solid white;\n",
       "    padding-left: 0.25em;\n",
       "    padding-right: 0.25em;\n",
       "}\n",
       "table.dataframe th:not(:empty) {\n",
       "    background-color: #fec;\n",
       "    text-align: left;\n",
       "    font-weight: normal;\n",
       "}\n",
       "table.dataframe tr:nth-child(2) th:empty {\n",
       "    border-left: none;\n",
       "    border-right: 1px dashed #888;\n",
       "}\n",
       "table.dataframe td {\n",
       "    border: 2px solid #ccf;\n",
       "    background-color: #f4f4ff;\n",
       "}\n",
       "</style>"
      ],
      "text/plain": [
       "<IPython.core.display.HTML object>"
      ]
     },
     "execution_count": 2,
     "metadata": {},
     "output_type": "execute_result"
    }
   ],
   "source": [
    "# makes our plots show up inside Jupyter\n",
    "%matplotlib inline\n",
    "\n",
    "# numpy - linear algebra and matrices for python\n",
    "import numpy as np\n",
    "\n",
    "# pandas - \"DataFrames\" to organize our data\n",
    "import pandas as pd\n",
    "\n",
    "# scipy - data science toolkit for python\n",
    "from scipy import stats, integrate\n",
    "\n",
    "# matplotlib - workhorse plotting library\n",
    "import matplotlib.pyplot as plt\n",
    "\n",
    "# seaborn - easy plotting for statistical visualizations\n",
    "#   based off of matplotlib\n",
    "import seaborn as sns\n",
    "\n",
    "# choose colors that work for most color-blind folks\n",
    "sns.set_palette(\"colorblind\")\n",
    "\n",
    "sns.set(color_codes=True)\n",
    "\n",
    "import util.plots as plot \n",
    "\n",
    "# this makes our tables easier to read\n",
    "from IPython.core.display import HTML\n",
    "css = open('./css/style-table.css').read()\n",
    "#this line has to be the last in its cell\n",
    "HTML('<style>{}</style>'.format(css)) "
   ]
  },
  {
   "cell_type": "markdown",
   "metadata": {},
   "source": [
    "Now, let's pull in some data. We'll be using the [`iris` dataset](https://en.wikipedia.org/wiki/Iris_flower_data_set), a classic \"demonstration\" data set that goes back to a 1936 paper by Ronald Fisher, one of the founders of modern statistics.\n",
    "\n",
    "Each row represents the observations associated to a single flower of the genus _Iris_. Four of the columns contain anatomical measurements -- the length and width of the flower's petal and sepal (see diagram below). The last column tells us what species the flower is."
   ]
  },
  {
   "cell_type": "code",
   "execution_count": 3,
   "metadata": {
    "collapsed": false
   },
   "outputs": [
    {
     "data": {
      "text/html": [
       "<div>\n",
       "<table border=\"1\" class=\"dataframe\">\n",
       "  <thead>\n",
       "    <tr style=\"text-align: right;\">\n",
       "      <th></th>\n",
       "      <th>sepal_length</th>\n",
       "      <th>sepal_width</th>\n",
       "      <th>petal_length</th>\n",
       "      <th>petal_width</th>\n",
       "      <th>species</th>\n",
       "    </tr>\n",
       "  </thead>\n",
       "  <tbody>\n",
       "    <tr>\n",
       "      <th>0</th>\n",
       "      <td>5.1</td>\n",
       "      <td>3.5</td>\n",
       "      <td>1.4</td>\n",
       "      <td>0.2</td>\n",
       "      <td>setosa</td>\n",
       "    </tr>\n",
       "    <tr>\n",
       "      <th>1</th>\n",
       "      <td>4.9</td>\n",
       "      <td>3.0</td>\n",
       "      <td>1.4</td>\n",
       "      <td>0.2</td>\n",
       "      <td>setosa</td>\n",
       "    </tr>\n",
       "    <tr>\n",
       "      <th>2</th>\n",
       "      <td>4.7</td>\n",
       "      <td>3.2</td>\n",
       "      <td>1.3</td>\n",
       "      <td>0.2</td>\n",
       "      <td>setosa</td>\n",
       "    </tr>\n",
       "    <tr>\n",
       "      <th>3</th>\n",
       "      <td>4.6</td>\n",
       "      <td>3.1</td>\n",
       "      <td>1.5</td>\n",
       "      <td>0.2</td>\n",
       "      <td>setosa</td>\n",
       "    </tr>\n",
       "    <tr>\n",
       "      <th>4</th>\n",
       "      <td>5.0</td>\n",
       "      <td>3.6</td>\n",
       "      <td>1.4</td>\n",
       "      <td>0.2</td>\n",
       "      <td>setosa</td>\n",
       "    </tr>\n",
       "  </tbody>\n",
       "</table>\n",
       "</div>"
      ],
      "text/plain": [
       "   sepal_length  sepal_width  petal_length  petal_width species\n",
       "0           5.1          3.5           1.4          0.2  setosa\n",
       "1           4.9          3.0           1.4          0.2  setosa\n",
       "2           4.7          3.2           1.3          0.2  setosa\n",
       "3           4.6          3.1           1.5          0.2  setosa\n",
       "4           5.0          3.6           1.4          0.2  setosa"
      ]
     },
     "execution_count": 3,
     "metadata": {},
     "output_type": "execute_result"
    }
   ],
   "source": [
    "iris = sns.load_dataset('iris')\n",
    "\n",
    "iris.head()"
   ]
  },
  {
   "cell_type": "markdown",
   "metadata": {},
   "source": [
    "<img src=\"./img/flowanatomy.png\" width=33%/>\n",
    "\n",
    "Image credit: [Wikimedia Commons](https://commons.wikimedia.org/wiki/File:Sepal2_%28PSF%29.png)."
   ]
  },
  {
   "cell_type": "markdown",
   "metadata": {},
   "source": [
    "## Visualizing Summary Statistics"
   ]
  },
  {
   "cell_type": "markdown",
   "metadata": {},
   "source": [
    "### Boxplots"
   ]
  },
  {
   "cell_type": "markdown",
   "metadata": {},
   "source": [
    "One of the easiest plotting experiences in seaborn is the boxplot, so we'll start there.\n",
    "\n",
    "For the boxplot function, we can pass in a whole DataFrame, and seaborn will plot each column as a different box."
   ]
  },
  {
   "cell_type": "code",
   "execution_count": null,
   "metadata": {
    "collapsed": false,
    "scrolled": false
   },
   "outputs": [],
   "source": [
    "plot = sns.boxplot(data=iris,);"
   ]
  },
  {
   "cell_type": "markdown",
   "metadata": {},
   "source": [
    "We can also plot just one column at a time. The result is kind of ugly:"
   ]
  },
  {
   "cell_type": "code",
   "execution_count": null,
   "metadata": {
    "collapsed": false
   },
   "outputs": [],
   "source": [
    "plot = sns.boxplot(data=iris.petal_length,);"
   ]
  },
  {
   "cell_type": "markdown",
   "metadata": {},
   "source": [
    "If we want to make it cleaner, we need to use some pyplot functions:"
   ]
  },
  {
   "cell_type": "code",
   "execution_count": null,
   "metadata": {
    "collapsed": false
   },
   "outputs": [],
   "source": [
    "#make a figure that's longer than it is wide\n",
    "figure = plt.figure(figsize=(2,4))\n",
    "\n",
    "plot = sns.boxplot(data=iris.petal_length,);\n",
    "\n",
    "#now Get Current Axis (tell me which axis was most recently plotted in)\n",
    "axis = plt.gca()\n",
    "\n",
    "# and give it the correct tick labels\n",
    "axis.set_xticklabels(['Petal Length']);"
   ]
  },
  {
   "cell_type": "markdown",
   "metadata": {},
   "source": [
    "Seaborn's boxplot also lets us break our data down into subgroups and produce boxplots for each subgroup. Here, we split the `iris` data by species, then make boxplots to compare petal lengths across species."
   ]
  },
  {
   "cell_type": "code",
   "execution_count": null,
   "metadata": {
    "collapsed": false
   },
   "outputs": [],
   "source": [
    "plot = sns.boxplot(\n",
    "                    #x-axis comes from species column\n",
    "                    x=\"species\",\n",
    "    \n",
    "                    #y-axis comes from petal_length column\n",
    "                    y=\"petal_length\",\n",
    "                    \n",
    "                    #we want to split up our data by species \n",
    "                    # and we represent group membership with color, or \"hue\"\n",
    "                    hue=\"species\",\n",
    "    \n",
    "                    data=iris,);"
   ]
  },
  {
   "cell_type": "markdown",
   "metadata": {},
   "source": [
    "### Bar Charts"
   ]
  },
  {
   "cell_type": "markdown",
   "metadata": {},
   "source": [
    "A barplot (with or without error bars) is just as easy as a boxplot. The cell below has a lot written in it because I've started to bring in more arguments that let me adjust the style to my liking, but if you just wanted the default barplot you could simply enter:\n",
    "\n",
    "```\n",
    "   sns.barplot(data=iris,ci=None)\n",
    "```"
   ]
  },
  {
   "cell_type": "code",
   "execution_count": null,
   "metadata": {
    "collapsed": false
   },
   "outputs": [],
   "source": [
    "sns.barplot(data=iris,\n",
    "            \n",
    "            #hold off on plotting error bars\n",
    "            ci=None,\n",
    "           \n",
    "            # let's start prettifying our plots.\n",
    "            # the following are style arguments that get applied to every bar \n",
    "            \n",
    "            # make the lines around each bar 4 points wide\n",
    "            linewidth=4,\n",
    "            \n",
    "            # and make those lines white\n",
    "            edgecolor=\"white\",\n",
    "            \n",
    "            # make the bars and lines a little bit transparent\n",
    "            alpha=0.75,\n",
    "           );"
   ]
  },
  {
   "cell_type": "markdown",
   "metadata": {},
   "source": [
    "Seaborn makes error bars using bootstrapping, which we'll learn about later in the course. Essentially, we boostrap by taking many random samples of your data, with replacement, and recalculating the bar height each time. Then, we draw our error bars to cover some large fraction (by default, 95%) of the values that come out of that sampling procedure."
   ]
  },
  {
   "cell_type": "code",
   "execution_count": null,
   "metadata": {
    "collapsed": false
   },
   "outputs": [],
   "source": [
    "# take 1000 random samples of the data\n",
    "numBootstraps = 10000\n",
    "\n",
    "sns.barplot(data=iris,\n",
    "            \n",
    "            # plot error bars that cover 95% of bootstrap samples\n",
    "            #  95 is the default value, so not including ci in your list of arguments\n",
    "            #   will get you 95% CI error bars\n",
    "            ci=95,\n",
    "            \n",
    "            # take numBootstraps samples\n",
    "            n_boot=numBootstraps,\n",
    "            \n",
    "            # set the size of the horizontal \"caps\" on the error bars\n",
    "            #  default is no caps\n",
    "            capsize=.2,\n",
    "            \n",
    "            # we can color our error bars directly here; default is black\n",
    "            errcolor=\"gray\",\n",
    "           \n",
    "            # same style arguments as above\n",
    "            linewidth=4,\n",
    "            edgecolor=\"white\",\n",
    "            alpha=0.75,\n",
    "           );"
   ]
  },
  {
   "cell_type": "markdown",
   "metadata": {},
   "source": [
    "By default, the height of the bars is set by the mean value, but we aren't stuck with that. Using the `estimator` argument, we can pass in any function that takes in a vector of data and spits out a number, and the result of applying that function to our data would give us the heights of our bars. One example would be the median."
   ]
  },
  {
   "cell_type": "code",
   "execution_count": null,
   "metadata": {
    "collapsed": false
   },
   "outputs": [],
   "source": [
    "sns.barplot(data=iris,\n",
    "            \n",
    "            estimator=np.median,\n",
    "            \n",
    "            # same style arguments as above\n",
    "            linewidth=4,\n",
    "            edgecolor=\"white\",\n",
    "            alpha=0.75,\n",
    "           );"
   ]
  },
  {
   "cell_type": "markdown",
   "metadata": {},
   "source": [
    "But we can define our own estimators, if we'd like, and use them instead, no matter how silly they are, so long as they take in a vector and return a number."
   ]
  },
  {
   "cell_type": "code",
   "execution_count": null,
   "metadata": {
    "collapsed": false
   },
   "outputs": [],
   "source": [
    "def twelve(input):\n",
    "    return 12\n",
    "\n",
    "sns.barplot(data=iris,\n",
    "            \n",
    "            estimator=twelve,\n",
    "            \n",
    "            # same style arguments as above\n",
    "            linewidth=4,\n",
    "            edgecolor=\"white\",\n",
    "            alpha=0.75,\n",
    "           );"
   ]
  },
  {
   "cell_type": "markdown",
   "metadata": {},
   "source": [
    "#### Categorical Bar Charts\n",
    "\n",
    "We can do categorical bar charts in much the same way as we did categorical boxplots. In fact, all I had to do to get the code below was change `boxplot` to `barplot`. Neat!"
   ]
  },
  {
   "cell_type": "code",
   "execution_count": null,
   "metadata": {
    "collapsed": false
   },
   "outputs": [],
   "source": [
    "plot = sns.barplot(\n",
    "                    #x-axis comes from species column\n",
    "                    x=\"species\",\n",
    "    \n",
    "                    #y-axis comes from petal_length column\n",
    "                    y=\"petal_length\",\n",
    "                    \n",
    "                    #we want to split up our data by species \n",
    "                    # and we represent group membership with color, or \"hue\"\n",
    "                    hue=\"species\",\n",
    "    \n",
    "                    data=iris,);"
   ]
  },
  {
   "cell_type": "markdown",
   "metadata": {},
   "source": [
    "## Visualizing Distributions\n",
    "\n",
    "Instead of plotting summaries of our data, like its mean or its median, we can plot our data directly using scatterplots, histograms, and density estimates.\n",
    "\n",
    "For the latter two, we'll use the function `distplot`, which combines three functions:\n",
    "\n",
    "- [`kdeplot`](http://seaborn.pydata.org/generated/seaborn.kdeplot.html), from seaborn, makes density estimates\n",
    "- [`rugplot`](http://seaborn.pydata.org/generated/seaborn.rugplot.html), also from seaborn, makes 1-D scatter plots called \"rug plots\"\n",
    "- [`hist`](http://matplotlib.org/api/pyplot_api.html), from matplotlib, makes histograms. NOTE: after clicking the link, you'll need to CTRL-F \"`.hist(`\" to find `hist`."
   ]
  },
  {
   "cell_type": "markdown",
   "metadata": {},
   "source": [
    "### Histograms and Density Estimates\n",
    "\n",
    "A basic histogram is just as easy as a basic boxplot."
   ]
  },
  {
   "cell_type": "code",
   "execution_count": null,
   "metadata": {
    "collapsed": false
   },
   "outputs": [],
   "source": [
    "# histogram\n",
    "\n",
    "# as before, we set the size of the figure by making it ahead of time with matplotlib\n",
    "\n",
    "figure = plt.figure(\n",
    "                    figsize=(10,4)\n",
    "                    )\n",
    "\n",
    "# the seaborn function distplot can plot histograms and density estimates\n",
    "#  on top of each other. we'll just do the histogram for now\n",
    "\n",
    "plot = sns.distplot(\n",
    "                    # use the petal lengths data\n",
    "                    iris.petal_length,\n",
    "    \n",
    "                    # plot histogram, don't plot density estimate or rug\n",
    "                    hist=True, kde=False, rug=False,\n",
    "    \n",
    "                    # evenly spaced bins from 0 to 7 with width 0.25\n",
    "                    bins = np.arange(0,7,0.25),\n",
    "    \n",
    "                    # use the style we described above\n",
    "                   )"
   ]
  },
  {
   "cell_type": "markdown",
   "metadata": {},
   "source": [
    "The function used to make histograms is very flexible -- it can make histograms or density estimates or both at the same time. So when we want to describe the style of our histogram, we can't just pass it in as a series of keyword arguments like we did for bar charts above. Instead, we need to package those arguments in something called a *dictionary* and then give that dictionary to `distplot` as an argument called `hist_kws`. This is short for \"histogram keywords\" or \"keyword arguments for the histogram function\"."
   ]
  },
  {
   "cell_type": "code",
   "execution_count": null,
   "metadata": {
    "collapsed": false
   },
   "outputs": [],
   "source": [
    "# histogram\n",
    "\n",
    "figure = plt.figure(figsize=(10,4),)\n",
    "\n",
    "# styling for the histogram\n",
    "#  to see all possible options, check out\n",
    "#  the documentation for matplotlib's hist function\n",
    "\n",
    "# this is a \"dictionary\" -- like an array or list,\n",
    "#  but you use strings to index values, instead of numbers\n",
    "\n",
    "histogram_parameters = {# \"keyword\":value\n",
    "    \n",
    "                        # how thick should the outlines be?\n",
    "                        \"linewidth\":4,\n",
    "    \n",
    "                        # what color should the outlines be?\n",
    "                        \"edgecolor\":\"white\",\n",
    "    \n",
    "                        # how opaque are the bars? \n",
    "                        # 1 - totally opaque, 0 - invisible\n",
    "                        \"alpha\":0.8,\n",
    "    \n",
    "                        # normalize to 1\n",
    "                        \"normed\":True,\n",
    "                        }\n",
    "\n",
    "# the seaborn function distplot can plot histograms and density estimates\n",
    "#  on top of each other\n",
    "\n",
    "plot = sns.distplot(\n",
    "                    # use the petal lengths data\n",
    "                    iris.petal_length,\n",
    "    \n",
    "                    # plot histogram, don't plot density estimate\n",
    "                    hist=True, kde=False, \n",
    "    \n",
    "                    # evenly spaced bins from 0 to 7 with width 0.25\n",
    "                    bins = np.arange(0,7,0.25),\n",
    "    \n",
    "                    # use the style we described above\n",
    "                    hist_kws=histogram_parameters\n",
    "                   )"
   ]
  },
  {
   "cell_type": "markdown",
   "metadata": {},
   "source": [
    "In addition to histograms, the `distplot` function will also perform [kernel density estimation](http://www.mvstat.net/tduong/research/seminars/seminar-2001-05/) with a Gaussian kernel. We'll learn more about this procedure during the course. You can think of density estimates loosely as \"smoothed histograms\"."
   ]
  },
  {
   "cell_type": "code",
   "execution_count": null,
   "metadata": {
    "collapsed": false
   },
   "outputs": [],
   "source": [
    "# density\n",
    "\n",
    "# styling for the density plot\n",
    "#  to see all options, check out the plt.plot documentation\n",
    "\n",
    "# this is a \"dictionary\" -- like an array or list,\n",
    "#  but you use strings instead of numbers\n",
    "\n",
    "kde_parameters = {# \"keyword\":value\n",
    "    \n",
    "                    # how thick should the line be?\n",
    "                    \"linewidth\":4,\n",
    "    \n",
    "                    # shade underneath the curve\n",
    "                    \"shade\":True\n",
    "                    }\n",
    "\n",
    "# the same seaborn function can do density estimates\n",
    "\n",
    "plot = sns.distplot(\n",
    "                    # use the petal lengths data\n",
    "                    iris.petal_length,\n",
    "    \n",
    "                    # don't plot histogram, do plot density estimate\n",
    "                    hist=False, kde=True,\n",
    "    \n",
    "                    # add tick marks for data\n",
    "                    rug=True,\n",
    "\n",
    "                    # use the style we described above\n",
    "                    kde_kws=kde_parameters,\n",
    "                   )"
   ]
  },
  {
   "cell_type": "markdown",
   "metadata": {},
   "source": [
    "#### Histograms and Density Estimates by Category"
   ]
  },
  {
   "cell_type": "markdown",
   "metadata": {},
   "source": [
    "For boxplots and scatterplots, the built-in functions were able to subset our data for us. As of version 0.7, the version we're using in this class, seaborn's distplot function doesn't work this magic for us.\n",
    "\n",
    "Luckily, seaborn comes with things called `FacetGrids` that at least make our job easier. FacetGrids hold onto our subsetted data and remember how we want to represent each subset. Then, we use a method called `map` that makes the same kind of plot for each facet, then brings all the plots together. \n",
    "\n",
    "Below, we'll plot a histogram of the `petal_length` for each species of iris."
   ]
  },
  {
   "cell_type": "code",
   "execution_count": null,
   "metadata": {
    "collapsed": false
   },
   "outputs": [],
   "source": [
    "# histogram\n",
    "\n",
    "histogram_parameters = {# \"keyword\":value\n",
    "                        \"linewidth\":4,\n",
    "                        \"edgecolor\":\"white\",\n",
    "                        \"alpha\":0.67,\n",
    "                        \"normed\":True,\n",
    "                        }\n",
    "\n",
    "\n",
    "# FacetGrid splits our data into \"facets\",\n",
    "#  where each facet is a subset of our data\n",
    "#  here, we subset using the \"species\" column\n",
    "\n",
    "facets = sns.FacetGrid(\n",
    "                     iris, #use the iris data\n",
    "                     hue = \"species\", #split up by species\n",
    "                     size = 6, # make the figure bigger\n",
    "                     aspect = 1.5, # and make it wider than it is tall\n",
    "                     )\n",
    "\n",
    "# the \"map\" method applies the plotting function to each facet.\n",
    "#  here, that means it makes a histogram for each facet.\n",
    "\n",
    "plot = facets.map(\n",
    "    # apply the histogram plotting function\n",
    "    sns.distplot,\n",
    "    \n",
    "    # only apply to the petal length data\n",
    "    \"petal_length\",\n",
    "    \n",
    "    # from here on, list the arguments to distplot\n",
    "    \n",
    "    # evenly spaced bins from 0 to 7 with width 0.25\n",
    "    bins = np.arange(0,7,0.25),\n",
    "    \n",
    "    # plot histogram, don't plot density estimate\n",
    "    hist=True, kde=False, \n",
    "    \n",
    "    # use the style we described above\n",
    "    hist_kws = histogram_parameters\n",
    "            )\n",
    "\n",
    "plot.add_legend(); #facet plots have an easy way to set legends"
   ]
  },
  {
   "cell_type": "markdown",
   "metadata": {},
   "source": [
    "#### Joint Histograms and Densities\n",
    "\n",
    "Often, we care about how two or more quantities vary together, or \"jointly\". This means we need to plot our data in two or more dimensions.\n",
    "\n",
    "The best way to generalize a histogram to two dimensions is something called a \"hexplot\" -- instead of counting the number of observations in a box, you count the number of observations inside a hexagon.\n",
    "\n",
    "Seaborn uses the function `jointplot` to plot two things that vary together. `jointplot` calls `distplot` which will call `hexbin`. Just as before, if we want to adjust the style of `hexbin`, we need to pass a dictionary of keyword arguments to `distplot` so that they can be passed to `hexbin`, but now we also need to pass a dictionary of keyword arguments to `jointplot` so that they can be passed to `distplot`. Note that the dictionary of arguments to `hexbin` is one of those arguments! \n",
    "\n",
    "The result is that we need to make two dictionaries -- keyword arguments for `distplot` and keyword arguments for `hist` -- and put the histogram keyword dictionary _inside_ the `distplot` keyword dictionary, like so:"
   ]
  },
  {
   "cell_type": "code",
   "execution_count": null,
   "metadata": {
    "collapsed": true
   },
   "outputs": [],
   "source": [
    "distplot_parameters = {\n",
    "                        # our histogram parameters are an argument to distplot\n",
    "                        \"hist_kws\":histogram_parameters,\n",
    "                        \n",
    "                        # and so is bins\n",
    "                       \"bins\":np.arange(0,10,0.25)\n",
    "                      }\n",
    "\n",
    "histogram_parameters = {\n",
    "                        # how thick should the outlines be?\n",
    "                        \"linewidth\":4,\n",
    "    \n",
    "                        # what color should the outlines be?\n",
    "                        \"edgecolor\":\"white\",\n",
    "    \n",
    "                        # how opaque are the bars? \n",
    "                        # 1 - totally opaque, 0 - invisible\n",
    "                        \"alpha\":0.67,\n",
    "    \n",
    "                        # normalize to 1\n",
    "                        \"normed\":True,\n",
    "                        }"
   ]
  },
  {
   "cell_type": "code",
   "execution_count": null,
   "metadata": {
    "collapsed": false
   },
   "outputs": [],
   "source": [
    "# PROTIP: you can use with blocks to change plot style briefly -- here, we're making the background white\n",
    "with sns.axes_style(\"white\"):\n",
    "    plot = sns.jointplot(\n",
    "                x=iris.petal_length, \n",
    "                y=iris.sepal_length, \n",
    "                kind=\"hex\",\n",
    "                marginal_kws = distplot_parameters,\n",
    "                gridsize=15\n",
    "    );"
   ]
  },
  {
   "cell_type": "markdown",
   "metadata": {},
   "source": [
    "We can make joint densities as well."
   ]
  },
  {
   "cell_type": "code",
   "execution_count": null,
   "metadata": {
    "collapsed": false
   },
   "outputs": [],
   "source": [
    "# density\n",
    "\n",
    "distplot_parameters = {\"kde_kws\":kde_parameters}\n",
    "\n",
    "kde_parameters = {\n",
    "                  # how thick should the curve be?\n",
    "                    \"linewidth\":4,\n",
    "                        }\n",
    "\n",
    "\n",
    "with sns.axes_style(\"white\"):\n",
    "    plot = sns.jointplot(\n",
    "                x=iris.petal_length, \n",
    "                y=iris.sepal_length, \n",
    "                kind=\"kde\",\n",
    "                marginal_kws = kde_parameters,\n",
    "    );\n",
    "\n",
    "# control the axes with plot.ax_joint, plot.ax_marg_x, and plot.ax_marg_y\n",
    "plot.ax_joint.set_xlim(0,10); plot.ax_joint.set_ylim(0,10);"
   ]
  },
  {
   "cell_type": "markdown",
   "metadata": {},
   "source": [
    "#### Advanced: Faceted Joint Densities"
   ]
  },
  {
   "cell_type": "markdown",
   "metadata": {},
   "source": [
    "You might want to put the above ideas together and build a plot for a faceted joint distribution. Unfortunately, that's not currently directly supported by seaborn. Seaborn does give you the tools to build all kinds of plots, but the degree of difficulty is a bit higher for anything that goes off the beaten path.\n",
    "\n",
    "If we need a plot like this in the course, we'll provide an implementation, since the level of coding expertise required is above the level of the course. This section is included solely for those who come in with more experience and want to know how to use seaborn to its fullest potential."
   ]
  },
  {
   "cell_type": "code",
   "execution_count": null,
   "metadata": {
    "collapsed": false
   },
   "outputs": [],
   "source": [
    "# we have to define our own version of the hexbin function\n",
    "\n",
    "def jointHex(x,y, # x and y are given by us, below\n",
    "             color, # color will be provided by FacetGrid\n",
    "             **kwargs): #**kwargs lets us add any other keyword arguments from plt.hexbin\n",
    "    \n",
    "    # define colormap here\n",
    "    cmap = sns.light_palette(color, as_cmap=True) \n",
    "    \n",
    "    # and then use matplotlib to make the chart\n",
    "    plt.hexbin(x, y, cmap=cmap, **kwargs)\n",
    "\n",
    "facets = sns.FacetGrid(\n",
    "                     iris, #use the iris data\n",
    "                     hue = \"species\", # color by species\n",
    "                     col = \"species\", # and plot them in separate plots\n",
    "                     size = 5, # make the figure bigger\n",
    "                     )\n",
    "\n",
    "xColumn = \"petal_length\"\n",
    "yColumn = \"sepal_length\"\n",
    "\n",
    "with sns.axes_style(\"white\"):\n",
    "    plots = facets.map(\n",
    "                # apply our jointHex plotting function to each facet\n",
    "                jointHex,\n",
    "        \n",
    "                # we provide x and y here, in order:\n",
    "                xColumn,\n",
    "                yColumn,\n",
    "        \n",
    "                # **kwargs go here, as many or as few as we want\n",
    "                extent = [0,8.5,0,8.5],\n",
    "                gridsize=10,\n",
    "    );\n",
    "    \n",
    "# if we want to adjust the plots directly, e.g. to change axis limits,\n",
    "#  we need to interact with the plots variable\n",
    "\n",
    "# plots.axes is an array of axes. it's designed to hold a two-d grid of plots\n",
    "#  plots[0] gives us the first row of plots -- for us, that's all of them.\n",
    "#  plot[0,0] would give us the plot from the first column of the first row.\n",
    "\n",
    "# here's an example of how to make axis-by-axis adjustments\n",
    "\n",
    "for plot,species in zip(plots.axes[0],iris.species.unique()):\n",
    "    \n",
    "    plot.set_title(species,\n",
    "                   fontweight=\"bold\",\n",
    "                   fontsize=24)\n",
    "    \n",
    "    plot.set_xlabel(xColumn); \n",
    "    plot.set_ylabel(yColumn)"
   ]
  },
  {
   "cell_type": "markdown",
   "metadata": {},
   "source": [
    "### Scatter Plots"
   ]
  },
  {
   "cell_type": "markdown",
   "metadata": {},
   "source": [
    "The one-dimensional version of a scatter plot is a rug plot, as covered above in the section on plotting densities, so we'll jump straight into subgrouping and joint scatters."
   ]
  },
  {
   "cell_type": "markdown",
   "metadata": {},
   "source": [
    "#### By Category"
   ]
  },
  {
   "cell_type": "markdown",
   "metadata": {},
   "source": [
    "The seaborn `stripplot` function lets you easily make category-wise scatterplots of your data."
   ]
  },
  {
   "cell_type": "code",
   "execution_count": null,
   "metadata": {
    "collapsed": false
   },
   "outputs": [],
   "source": [
    "plot = sns.stripplot(\n",
    "                    x=iris.species,\n",
    "                    y=iris.petal_length,\n",
    "                     \n",
    "                    #setting alpha is useful here since points overlap a lot\n",
    "                    alpha=0.5\n",
    "                    );"
   ]
  },
  {
   "cell_type": "markdown",
   "metadata": {},
   "source": [
    "We can make this plot easier to read by \"jittering\" the x-coordinate of each point by a small amount."
   ]
  },
  {
   "cell_type": "code",
   "execution_count": null,
   "metadata": {
    "collapsed": false
   },
   "outputs": [],
   "source": [
    "plot = sns.stripplot(\n",
    "                    x=iris.species,\n",
    "                    y=iris.petal_length,\n",
    "                    \n",
    "                    # how much should things be jittered by?\n",
    "                    jitter=0.05,\n",
    "    \n",
    "                    # setting alpha to a higher value since points still overlap, but less\n",
    "                    alpha=0.6,\n",
    "                    );"
   ]
  },
  {
   "cell_type": "markdown",
   "metadata": {},
   "source": [
    "Hot tip: we can plot multiple plots on the same axis. Strip plots and boxplots go nicely together. We can also rotate the plots so that categories are on the y axis."
   ]
  },
  {
   "cell_type": "code",
   "execution_count": null,
   "metadata": {
    "collapsed": false
   },
   "outputs": [],
   "source": [
    "ax = sns.boxplot(\n",
    "                y=iris.species,\n",
    "                x=iris.petal_length\n",
    "                )\n",
    "\n",
    "ax = sns.stripplot(\n",
    "                    y=iris.species,\n",
    "                    x=iris.petal_length,\n",
    "                    jitter=0.05,\n",
    "                    color=\"k\",\n",
    "                    alpha=0.5\n",
    "                    );"
   ]
  },
  {
   "cell_type": "markdown",
   "metadata": {},
   "source": [
    "#### Joint Scattering"
   ]
  },
  {
   "cell_type": "markdown",
   "metadata": {},
   "source": [
    "Showing the joint distribution of columns in a DataFrame is a common enough problem that seaborn has a function that does just that! `pairplot` generates bivariate scatterplots for each pair of columns in your dataset and plots them in a grid -- each row or column shows you one variable plotted against all the others. The diagonal plots are univariate histograms or density estimates.\n",
    "\n",
    "These plots are less professional-looking, to say the least. This is intentional, as I messed around with some of the parameters to give you a better sense of the options that are available."
   ]
  },
  {
   "cell_type": "code",
   "execution_count": null,
   "metadata": {
    "collapsed": false
   },
   "outputs": [],
   "source": [
    "scatter_parameters = {\n",
    "                        \"alpha\":0.5,\n",
    "    \n",
    "                        # star-shaped markers\n",
    "                        \"marker\":\"*\",\n",
    "    \n",
    "                        # s is for size\n",
    "                        \"s\":64,\n",
    "    \n",
    "                        # we can over-ride the color, \n",
    "                        #  which would otherwise be given by our choice of palette\n",
    "                        \"color\":\"yellow\",\n",
    "                        }\n",
    "\n",
    "histogram_parameters = {\n",
    "                        \"linewidth\":4,\n",
    "                        \"edgecolor\":\"white\",\n",
    "    \n",
    "                        # one of several alternative histogram styles\n",
    "                        \"histtype\":\"stepfilled\",\n",
    "                        }\n",
    "\n",
    "with sns.axes_style(\"white\"):\n",
    "    plot = sns.pairplot(iris,\n",
    "             # we pass style parameters to the diagonal plots with diag_kws\n",
    "            diag_kws = histogram_parameters,\n",
    "             # and to the off-diagonal plots with plot_kws\n",
    "             plot_kws = scatter_parameters,\n",
    "            );\n",
    "    \n",
    "    # we can change certain plot features all at once!\n",
    "    plot.set(axis_bgcolor=\"k\");"
   ]
  },
  {
   "cell_type": "markdown",
   "metadata": {},
   "source": [
    "That's a lot of plots! We can pick a smaller subset of our columns to plot against each other with the `vars` argument, and we can do kernel densities instead of histograms."
   ]
  },
  {
   "cell_type": "code",
   "execution_count": null,
   "metadata": {
    "collapsed": false
   },
   "outputs": [],
   "source": [
    "columnsToPlot = [\"petal_length\",\"sepal_length\"]\n",
    "\n",
    "scatter_parameters = {\n",
    "                        \"alpha\":0.15,\n",
    "                        \"s\":48,\n",
    "                        }\n",
    "\n",
    "\n",
    "kde_parameters = {\n",
    "                        \"linewidth\":4,\n",
    "                        \"shade\":True\n",
    "                        }\n",
    "\n",
    "sns.pairplot(iris,\n",
    "            #vars is a list of column names that we want to plot\n",
    "             vars=columnsToPlot,\n",
    "             \n",
    "             #let's plot a kernel density estimate this time\n",
    "            diag_kind=\"kde\",\n",
    "            diag_kws = kde_parameters,\n",
    "            plot_kws = scatter_parameters,\n",
    "            );"
   ]
  },
  {
   "cell_type": "markdown",
   "metadata": {},
   "source": [
    "Seaborn also makes it easy to subset your data while making pairplots."
   ]
  },
  {
   "cell_type": "code",
   "execution_count": null,
   "metadata": {
    "collapsed": false
   },
   "outputs": [],
   "source": [
    "scatter_parameters = {\n",
    "                        \"alpha\":0.35,\n",
    "                        \"s\":48,\n",
    "                        }\n",
    "\n",
    "histogram_parameters = {\n",
    "                        \"alpha\":0.7,\n",
    "                        \"linewidth\":2,\n",
    "                        \"edgecolor\":\"white\",\n",
    "                        \"histtype\":\"stepfilled\",\n",
    "                        }\n",
    "\n",
    "sns.pairplot(iris,\n",
    "            hue=\"species\",\n",
    "            diag_kws = histogram_parameters,\n",
    "            plot_kws = scatter_parameters);"
   ]
  },
  {
   "cell_type": "markdown",
   "metadata": {},
   "source": [
    "And picking out a subset of columns works in the exact same way."
   ]
  },
  {
   "cell_type": "code",
   "execution_count": null,
   "metadata": {
    "collapsed": false
   },
   "outputs": [],
   "source": [
    "columnsToPlot = [\"petal_length\",\n",
    "                 \"sepal_length\"]\n",
    "\n",
    "kde_parameters = {\n",
    "                    \"linewidth\":4,\n",
    "                    \"shade\":True\n",
    "                        }\n",
    "\n",
    "sns.pairplot(iris,\n",
    "            vars=columnsToPlot,\n",
    "            hue=\"species\",\n",
    "            diag_kind=\"kde\",\n",
    "            diag_kws = kde_parameters,);"
   ]
  },
  {
   "cell_type": "markdown",
   "metadata": {
    "collapsed": true
   },
   "source": [
    "## Visualizing Linear Models\n",
    "\n",
    "Later in the course, we'll be modeling our data. Seaborn has nice default functions for making most of the charts that we're interested in. This section is shorter than the others, since we'll be covering plotting linear models at the same time as we cover them in the course.\n",
    "\n",
    "The `regplot` function performs a single linear regression on two variables, x and y."
   ]
  },
  {
   "cell_type": "code",
   "execution_count": null,
   "metadata": {
    "collapsed": false
   },
   "outputs": [],
   "source": [
    "sns.regplot(data=iris,\n",
    "            x=\"petal_length\",\n",
    "            y=\"petal_width\",);"
   ]
  },
  {
   "cell_type": "markdown",
   "metadata": {},
   "source": [
    "`lmplot` gets much fancer: it works with `FacetGrids`, so it can handle subsetting of data.\n",
    "\n",
    "Both functions use boot-strapping to produce confidence intervals for the fit, plotting them as shaded areas around the mean value. These areas are just more visible in the plots below because the variability is greater with sub-setted data."
   ]
  },
  {
   "cell_type": "code",
   "execution_count": null,
   "metadata": {
    "collapsed": false
   },
   "outputs": [],
   "source": [
    "sns.lmplot(data=iris,\n",
    "            x=\"petal_length\",\n",
    "            y=\"petal_width\",\n",
    "            hue=\"species\",\n",
    "           );"
   ]
  },
  {
   "cell_type": "code",
   "execution_count": null,
   "metadata": {
    "collapsed": false
   },
   "outputs": [],
   "source": [
    "sns.lmplot(data=iris,\n",
    "            x=\"petal_length\",\n",
    "            y=\"petal_width\",\n",
    "            col=\"species\",\n",
    "            hue=\"species\",\n",
    "           );"
   ]
  }
 ],
 "metadata": {
  "anaconda-cloud": {},
  "kernelspec": {
   "display_name": "Python [conda env:neur299]",
   "language": "python",
   "name": "conda-env-neur299-py"
  },
  "language_info": {
   "codemirror_mode": {
    "name": "ipython",
    "version": 3
   },
   "file_extension": ".py",
   "mimetype": "text/x-python",
   "name": "python",
   "nbconvert_exporter": "python",
   "pygments_lexer": "ipython3",
   "version": "3.4.5"
  }
 },
 "nbformat": 4,
 "nbformat_minor": 2
}
