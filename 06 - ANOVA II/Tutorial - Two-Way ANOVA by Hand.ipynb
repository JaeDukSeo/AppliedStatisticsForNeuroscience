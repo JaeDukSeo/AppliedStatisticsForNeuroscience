{
 "cells": [
  {
   "cell_type": "markdown",
   "metadata": {},
   "source": [
    "<img src=\"./img/HWNI_logo.svg\"/>"
   ]
  },
  {
   "cell_type": "markdown",
   "metadata": {},
   "source": [
    "# Tutorial - Two-Way ANOVA by Hand"
   ]
  },
  {
   "cell_type": "code",
   "execution_count": 1,
   "metadata": {},
   "outputs": [
    {
     "name": "stderr",
     "output_type": "stream",
     "text": [
      "/Users/charlesfrye/anaconda/envs/neur299_py36/lib/python3.6/site-packages/statsmodels/compat/pandas.py:56: FutureWarning: The pandas.core.datetools module is deprecated and will be removed in a future version. Please use the pandas.tseries module instead.\n",
      "  from pandas.core import datetools\n"
     ]
    },
    {
     "data": {
      "text/html": [
       "<style>/* Originally by Brandon Rhodes, for use with Pandas*/\n",
       "body {\n",
       "    margin: 0;\n",
       "    font-family: Helvetica;\n",
       "}\n",
       "table.dataframe {\n",
       "    border-collapse: collapse;\n",
       "    border: none;\n",
       "}\n",
       "table.dataframe tr {\n",
       "    border: none;\n",
       "}\n",
       "table.dataframe td, table.dataframe th {\n",
       "    margin: 0;\n",
       "    border: 1px solid white;\n",
       "    padding-left: 0.25em;\n",
       "    padding-right: 0.25em;\n",
       "}\n",
       "table.dataframe th:not(:empty) {\n",
       "    background-color: #fec;\n",
       "    text-align: left;\n",
       "    font-weight: normal;\n",
       "}\n",
       "table.dataframe tr:nth-child(2) th:empty {\n",
       "    border-left: none;\n",
       "    border-right: 1px dashed #888;\n",
       "}\n",
       "table.dataframe td {\n",
       "    border: 2px solid #ccf;\n",
       "    background-color: #f4f4ff;\n",
       "}\n",
       "</style>"
      ],
      "text/plain": [
       "<IPython.core.display.HTML object>"
      ]
     },
     "execution_count": 1,
     "metadata": {},
     "output_type": "execute_result"
    }
   ],
   "source": [
    "# makes our plots show up inside Jupyter\n",
    "%matplotlib inline\n",
    "\n",
    "import numpy as np\n",
    "import pandas as pd\n",
    "\n",
    "import matplotlib.pyplot as plt\n",
    "import seaborn as sns\n",
    "\n",
    "import scipy.stats\n",
    "\n",
    "import util.utils as utils\n",
    "import util.shared as shared\n",
    "\n",
    "shared.format_plots()\n",
    "shared.format_dataframes()"
   ]
  },
  {
   "cell_type": "code",
   "execution_count": 2,
   "metadata": {
    "collapsed": true
   },
   "outputs": [],
   "source": [
    "def mock_interaction_plot(results, title):\n",
    "\n",
    "    plt.errorbar([0, 1], results[0,:], yerr=0.1,\n",
    "                linewidth = 4, marker = 'o', markersize = 12,\n",
    "                 markeredgecolor='k', markeredgewidth = 3,\n",
    "                 label = \"Plant Products\");\n",
    "    plt.errorbar([0, 1],results[1,:], yerr=0.1,\n",
    "                linewidth = 4, marker = 'o', markersize = 12,\n",
    "                 markeredgecolor='k', markeredgewidth = 3,\n",
    "                 label = \"No Plant Products\");\n",
    "    plt.yticks([]); plt.ylabel(\"Lifespan\");\n",
    "    plt.xticks([0, 1], [\"Animal Products\", \"No Animal Products\"]);\n",
    "    plt.xlim([-0.5, 1.5]);\n",
    "    plt.legend()\n",
    "    plt.title(title);\n",
    "    \n",
    "def compare_interaction_plots(no_interaction, interaction):\n",
    "    \n",
    "    args = zip([no_interaction, interaction], [\"No Interaction\", \"Interaction\"])\n",
    "    fig, axs = plt.subplots(1,2, figsize=(16,6))\n",
    "    \n",
    "    \n",
    "    for ax, arg in zip(axs,args):\n",
    "        plt.sca(ax)\n",
    "        mock_interaction_plot(*arg)"
   ]
  },
  {
   "cell_type": "markdown",
   "metadata": {},
   "source": [
    "In the previous section,\n",
    "we worked out the One-Way ANalysis Of VAriance,\n",
    "or ANOVA,\n",
    "test for determining whether means differed across\n",
    "varying levels of a single factor.\n",
    "\n",
    "In this tutorial,\n",
    "we extend the ANOVA test to simultaneous\n",
    "variation of two or more factors."
   ]
  },
  {
   "cell_type": "markdown",
   "metadata": {},
   "source": [
    "## Extending ANOVA to Multiple Variables"
   ]
  },
  {
   "cell_type": "markdown",
   "metadata": {},
   "source": [
    "With the One-Way ANOVA,\n",
    "we were able to answer the question:\n",
    "\"is the mean of the observed variable different across the levels of the controlled variable?\"\n",
    "In our example experiment,\n",
    "we determined that the mean of the activity in a certain brain region\n",
    "varied across levels of the variable \"task difficulty\".\n",
    "\n",
    "We determined whether this was the case by measuring the ratio of the\n",
    "variance in group means to the\n",
    "variance of the errors made when we used the group mean\n",
    "to predict the observed value.\n",
    "We compared the value of this ratio,\n",
    "also known as the $F$ statistic,\n",
    "to its (theoretical or simulated)\n",
    "values under a null distribution\n",
    "corresponding to totally random groupings of the data.\n",
    "\n",
    "Now we'd like to answer the question:\n",
    "\"is the mean of the observed variable different across combinations of the levels of multiple controlled variables?\"\n",
    "For example,\n",
    "we might want to know whether the mean activity of the brain region above\n",
    "also varied across age groups.\n",
    "More interestingly still,\n",
    "we might want to know whether the effect of difficulty on brain activity\n",
    "is modulated in some way by age."
   ]
  },
  {
   "cell_type": "markdown",
   "metadata": {},
   "source": [
    "### Interactions"
   ]
  },
  {
   "cell_type": "markdown",
   "metadata": {},
   "source": [
    "In the parlance of ANOVA,\n",
    "the lattermost question is about\n",
    "*interactions* --\n",
    "effects that arise when two variables\n",
    "change together\n",
    "and which are not predicted by looking at the two variables separately.\n",
    "\n",
    "As an example,\n",
    "consider two diet experiments:\n",
    "one tested the effect on lifespan of cutting animal products entirely from the diet\n",
    "and the other tested the same outcome of cutting plant products entirely from the diet.\n",
    "Ignoring the practical difficulties of such an experiment,\n",
    "let's say that both studies reported that their dietary exclusion\n",
    "led to an increased lifespan, on average,\n",
    "in participants, thanks to a significant ANOVA test.\n",
    "\n",
    "It does not follow from this that\n",
    "cutting both animal AND vegetable products entirely from your diet\n",
    "will allow you to live longer:\n",
    "on the contrary, you'd be left with nothing to eat,\n",
    "which is surely deleterious to your health!"
   ]
  },
  {
   "cell_type": "markdown",
   "metadata": {},
   "source": [
    "To clarify the nature of interactions,\n",
    "let's plot some fictive data\n",
    "from experiments where there is\n",
    "and is not an interaction."
   ]
  },
  {
   "cell_type": "code",
   "execution_count": 3,
   "metadata": {},
   "outputs": [
    {
     "data": {
      "image/png": "[encoded data removed]",
      "text/plain": [
       "<matplotlib.figure.Figure at 0x1187bff98>"
      ]
     },
     "metadata": {},
     "output_type": "display_data"
    }
   ],
   "source": [
    "no_interaction = np.asarray([[1.,1.5],[1.5,2.]])\n",
    "interaction = np.asarray([[1,1.5],[1.5,0.5]])\n",
    "        \n",
    "compare_interaction_plots(no_interaction, interaction)"
   ]
  },
  {
   "cell_type": "markdown",
   "metadata": {},
   "source": [
    "The means of each group are indicated by the filled circles\n",
    "and the error bars represent the standard deviation.\n",
    "\n",
    "The plot on the left shows our lifespan data\n",
    "in the case where cutting animal products\n",
    "and cutting plant products have independent effects on lifespan.\n",
    "\n",
    "Notice that the two lines have the same slope:\n",
    "the change in lifespan induced by dropping animal products\n",
    "when you've already dropped plant products\n",
    "is the same as that induced by dropping animal products\n",
    "without dropping plant products.\n",
    "Alternatively and equivalently,\n",
    "note that the gap between the two lines\n",
    "(indicating the presence and absence of plant products in the diet)\n",
    "is the same for diets with and without animal products.\n",
    "\n",
    "This is unlikely to be the case in real life\n",
    "for this combination of experimental manipulations.\n",
    "The right plot shows a more realistic outcome:\n",
    "while dropping plant products and dropping animal products\n",
    "both have a beneficial effect on lifespan,\n",
    "dropping both has a negative effect on lifespan.\n",
    "As before, we can see the interaction between our two diets\n",
    "by looking at the plot:\n",
    "the lines now no longer have the same slope,\n",
    "nor is the gap between the two filled circles\n",
    "the same size on the left as on the right.\n",
    "\n",
    "Of course,\n",
    "the chance of getting lines that have exactly the same slope\n",
    "is almost zero for real data,\n",
    "even if there is no effect.\n",
    "To rigorously determine whether an interaction is\n",
    "unlikely to occur due to chance,\n",
    "we'll need to come up with a statistic\n",
    "that captures both the size of this difference\n",
    "and the magnitude of the variability in the data.\n",
    "Then we can compare the value of this statistic\n",
    "on our data to its null distribution\n",
    "and determine how likely getting such a value\n",
    "would be under the null hypothesis.\n",
    "\n",
    "Once again,\n",
    "our statistic will be the $F$-statistic,\n",
    "but for different choices of explained and unexplained variances\n",
    "on the top and bottom of the ratio,\n",
    "and so our test will be an ANOVA test.\n",
    "When there are two factors being tested,\n",
    "this is called a *Two-Way ANOVA*\n",
    "or a *Two-Factor ANOVA*.\n",
    "\n",
    "Before diving into the details of the Two-Way ANOVA,\n",
    "I'd like to note that\n",
    "[Sir Ronald Fisher](https://en.wikipedia.org/wiki/Ronald_Fisher),\n",
    "inventor of the ANOVA and numerous other fundamental statistics and statistical concepts,\n",
    "once said, roughly,\n",
    "that the rigorous hypothesis tests he invented were to be used simply\n",
    "to determine whether the patterns we see in graphs reflect real patterns or the effect of chance.\n",
    "With that in mind,\n",
    "it's highly recommended that you take a look at your data before running any statistical tests on it!"
   ]
  },
  {
   "cell_type": "markdown",
   "metadata": {},
   "source": [
    "## Two-Way ANOVA"
   ]
  },
  {
   "cell_type": "markdown",
   "metadata": {},
   "source": [
    "As we did before,\n",
    "we first take a look at the (linear) data model\n",
    "underlying the ANOVA.\n",
    "\n",
    "In English (rigorous math shorthand below):\n",
    "we break down the value of the dependent variable $Y$\n",
    "we measured for each data point into five pieces:\n",
    "the grand mean,\n",
    "the effect of being in group $i$ of variable $A$,\n",
    "the effect of being in group $j$ of variable $B$,\n",
    "the interaction effect of being in both groups $i$ and $j$,\n",
    "and the\n",
    "\"unknown effects\"\n",
    "that we didn't measure,\n",
    "which are specific to each observation.\n",
    "For simplicity's sake,\n",
    "we assume that each group has the same number of observations,\n",
    "which saves us a bunch of book-keeping,\n",
    "but this is not a limitation of the ANOVA test.\n",
    "\n",
    "The first of our pieces is the grand mean,\n",
    "or the average of all of our measurements.\n",
    "We then add to that grand mean the effect of being in group $i$ of\n",
    "the first of our two variables, $A$.\n",
    "This is,\n",
    "as it was in the original One-Way ANOVA,\n",
    "the difference between the mean of group $i$ of $A$\n",
    "and the grand mean.\n",
    "Just as,\n",
    "when calculating the grand mean,\n",
    "we include observations from all groups,\n",
    "when we calculate the mean of group $i$ of variable $A$,\n",
    "we include all the groups of the second variable.\n",
    "\n",
    "We also need to incorporate the effect of that second variable, $B$,\n",
    "so now we compute the difference between the mean of group $j$ of $B$\n",
    "and the grand mean,\n",
    "once again including observations\n",
    "from all levels of the first variable, $A$.\n",
    "\n",
    "So far, so similar to the One-Way ANOVA.\n",
    "The first (and only)\n",
    "really new idea is the measurement of the interaction effect.\n",
    "If there were no interaction,\n",
    "we'd be able to predict the mean of\n",
    "the observations that are in\n",
    "both group $i$ of $A$ and in group $j$ of $B$\n",
    "by adding the effect of being in group $i$ and the effect of being in group $j$\n",
    "to the grand mean.\n",
    "So to measure the interaction effect,\n",
    "we just subtract those three numbers from each of the observations\n",
    "in the combined group $ij$ and take an average.\n",
    "\n",
    "Anything left over must be due to unknown effects\n",
    "(also known as *residuals* or the *error*,\n",
    "and usually symbolized by the Greek letter $\\epsilon$).\n",
    "So we subtract the grand mean, the group effects, and the interaction effect\n",
    "from each data point,\n",
    "and whatever we have left is the effect of unknown factors."
   ]
  },
  {
   "cell_type": "markdown",
   "metadata": {},
   "source": [
    "The first two lines below\n",
    "translate this model into\n",
    "math with English words\n",
    "and then into a more traditional collection of symbols,\n",
    "which are then defined concretely."
   ]
  },
  {
   "cell_type": "markdown",
   "metadata": {},
   "source": [
    "$${\\scriptsize\\begin{align}\n",
    "    &\\text{Observation}\\ k\\ \\text{in Groups}\\ i\\ \\&\\ j\\ \n",
    "    &= \\ &\\text{Grand Mean}\\ \n",
    "    &+\\ &\\text{Group Effect A}_i\\\n",
    "    &+\\ &\\text{Group Effect B}_j\\\n",
    "    &+\\ &\\text{Interaction AB}_{ij}\n",
    "    &+ \\ &\\text{Unknown Effects}_{ijk} \\\\\n",
    "    &Y_{ijk} \n",
    "    &= \\ &\\mu_\\text{grand} \\ \n",
    "    &+\\ &A_i\\\n",
    "    &+\\ &B_j\\\n",
    "    &+\\ &AB_{ij}\n",
    "    &+ \\ &\\epsilon_{ijk}\n",
    "\\end{align}}$$"
   ]
  },
  {
   "cell_type": "markdown",
   "metadata": {},
   "source": [
    "$${\\scriptsize\n",
    "\\begin{align}\n",
    "    \\mu_\\text{grand} &= \\frac{1}{N} \\sum_{ijk} Y_{ijk} \\\\\n",
    "    A_i &= \\frac{1}{N_{\\text{group}\\ i}} \\sum_{jk} Y_{ijk} - \\mu_\\text{grand} \\\\\n",
    "    B_j &= \\frac{1}{N_{\\text{group}\\ j}} \\sum_{ik} Y_{ijk} - \\mu_\\text{grand} \\\\\n",
    "    AB_{ij} &= \\frac{1}{N_{\\text{group}\\ ij}} \\sum_{k} Y_{ijk} - A_i - B_j - \\mu_\\text{grand} \\\\\n",
    "    \\epsilon_{ijk} &= Y_{ijk} - A_i - B_j - AB_{ij}\n",
    "\\end{align}}\n",
    "$$"
   ]
  },
  {
   "cell_type": "markdown",
   "metadata": {},
   "source": [
    "These equations are just a convenient shorthand for the description above.\n",
    "It's not particularly useful to memorize them;\n",
    "it's much more valuable to understand the intuition of the ANOVA test."
   ]
  },
  {
   "cell_type": "markdown",
   "metadata": {},
   "source": [
    "## Multi-Way ANOVA"
   ]
  },
  {
   "cell_type": "markdown",
   "metadata": {},
   "source": [
    "Below,\n",
    "we'll implement a Two-Way ANOVA by hand in order to firm up our understanding of the ANOVA test.\n",
    "But first,\n",
    "we note in passing that there's no reason to stop at just two independent variables.\n",
    "The same model can be extended to $k$ variables without much difficulty.\n",
    "We measure group effects and two-way interactions as above:\n",
    "we ignore the group identity for every other independent variable.\n",
    "For three-way interactions (e.g. $ABC$), we ignore all but three of the group identities when we do our average,\n",
    "and we subtract off the two-way interactions ($AB$, $BC$, and $AC$) and the group effects ($A$, $B$, and $C$),\n",
    "just as we subtracted off the group effects when calculating interaction effects.\n",
    "\n",
    "ANOVAs with more than two independent variables are called\n",
    "*Multi-Way ANOVAs*.\n",
    "The book-keeping with indices and types of interactions becomes more labor-intensive and less enlightening as the number of interactions goes up,\n",
    "so we won't go through Multi-Way ANOVAs in detail.\n",
    "Luckily, at a high level, sufficient for understanding and using,\n",
    "but not personally implementing,\n",
    "Multi-Way ANOVA,\n",
    "the model remains quite simple:"
   ]
  },
  {
   "cell_type": "markdown",
   "metadata": {},
   "source": [
    "$$\\begin{align}\n",
    "    &\\text{Observation}\n",
    "    &= \\ &\\text{Grand Mean}\\ \n",
    "    &+\\ &\\sum{\\text{Group Effects}}\\\n",
    "    &+\\ &\\sum{\\text{Interactions}}\\\n",
    "    &+\\ &\\text{Observation-Specific Unknown Effects}\n",
    "\\end{align}$$"
   ]
  },
  {
   "cell_type": "markdown",
   "metadata": {},
   "source": [
    "Though in principle there's no limit to how many variables can be included in an ANOVA,\n",
    "there are serious practical concerns.\n",
    "If there are four independent variables, $ABCD$,\n",
    "then there are 6 two-way interactions,\n",
    "$AB$, $AC$, $AD$, $BC$, $BD$, and $CD$,\n",
    "which are needed to estimate the three-way and four-way interactions.\n",
    "To accurately estimate these values,\n",
    "we need at least 10 observations apiece,\n",
    "or more preferably more than 30.\n",
    "This requires on the order of 100 data points,\n",
    "and that's before we consider whether those counts are sufficient for a well-powered study.\n",
    "\n",
    "If we increase the number of independent variables more,\n",
    "the largest number of interactions increases very rapidly:\n",
    "for seven independent variables,\n",
    "the number of three-way interactions is 35,\n",
    "while for ten independent variables,\n",
    "the number of five-way interactions is 252\n",
    "(these numbers are calculated using the\n",
    "[\"choose\" function](https://en.wikipedia.org/wiki/Combination)).\n",
    "Adding independent variables to an ANOVA will quickly\n",
    "swamp your ability to collect more data.\n",
    "\n",
    "Worse still,\n",
    "the statistical validity of the ANOVA test goes down\n",
    "as the number of tested interactions goes up.\n",
    "We'll cover this in more detail in the lab for this section."
   ]
  },
  {
   "cell_type": "markdown",
   "metadata": {},
   "source": [
    "## Implementing Two-Way ANOVA"
   ]
  },
  {
   "cell_type": "markdown",
   "metadata": {},
   "source": [
    "Below, we implement a Two-Way ANOVA.\n",
    "This is intended for educational purposes.\n",
    "If you wish to perform an ANOVA on research data,\n",
    "you should use a statistical software package.\n",
    "In the lab for this section, we'll see how to use these packages\n",
    "to perform Two-Way and Multi-Way ANOVAs."
   ]
  },
  {
   "cell_type": "markdown",
   "metadata": {},
   "source": [
    "### About the Dataset"
   ]
  },
  {
   "cell_type": "markdown",
   "metadata": {},
   "source": [
    "The data for this lab is simulated.\n",
    "\n",
    "After learning of [Nemeroff, Heim, et al.](http://www.pnas.org/content/100/24/14293.full)'s finding that psychotherapy is more effective at treating depression in individuals with childhood trauma, you become interested in whether the same might be true for treating anxiety.\n",
    "\n",
    "You run a clinical experiment in which individuals with and without childhood trauma are treated with a placebo, the standard of care for psychotherapy (CBT, or \n",
    "[\"Cognitive Behavioral Therapy\"](https://en.wikipedia.org/wiki/Cognitive_behavioral_therapy)),\n",
    "or the standard of care for pharmacotherapy\n",
    "(an [anxiolytic GABA agonist](https://en.wikipedia.org/wiki/Anxiolytic)).\n",
    "As an aside: in actual clinical studies, treatment with a placebo is considered unethical if there's already a standard of care, and a proper clinical trial compares alternative treatments to standard treatments.\n",
    "\n",
    "The results of your experiment are summarized in the table `anxiety_dataset.csv`."
   ]
  },
  {
   "cell_type": "markdown",
   "metadata": {},
   "source": [
    "### Loading the Data"
   ]
  },
  {
   "cell_type": "markdown",
   "metadata": {},
   "source": [
    "We begin by loading the data and taking a look at the data frame."
   ]
  },
  {
   "cell_type": "code",
   "execution_count": 4,
   "metadata": {
    "collapsed": true
   },
   "outputs": [],
   "source": [
    "data = pd.read_csv('./data/anxiety_dataset.csv',index_col=0)"
   ]
  },
  {
   "cell_type": "code",
   "execution_count": 5,
   "metadata": {},
   "outputs": [
    {
     "data": {
      "text/html": [
       "<div>\n",
       "<style>\n",
       "    .dataframe thead tr:only-child th {\n",
       "        text-align: right;\n",
       "    }\n",
       "\n",
       "    .dataframe thead th {\n",
       "        text-align: left;\n",
       "    }\n",
       "\n",
       "    .dataframe tbody tr th {\n",
       "        vertical-align: top;\n",
       "    }\n",
       "</style>\n",
       "<table border=\"1\" class=\"dataframe\">\n",
       "  <thead>\n",
       "    <tr style=\"text-align: right;\">\n",
       "      <th></th>\n",
       "      <th>treatment</th>\n",
       "      <th>trauma</th>\n",
       "      <th>anxiety_reduction</th>\n",
       "    </tr>\n",
       "    <tr>\n",
       "      <th>subjectID</th>\n",
       "      <th></th>\n",
       "      <th></th>\n",
       "      <th></th>\n",
       "    </tr>\n",
       "  </thead>\n",
       "  <tbody>\n",
       "    <tr>\n",
       "      <th>17</th>\n",
       "      <td>drug</td>\n",
       "      <td>False</td>\n",
       "      <td>6.8</td>\n",
       "    </tr>\n",
       "    <tr>\n",
       "      <th>16</th>\n",
       "      <td>drug</td>\n",
       "      <td>False</td>\n",
       "      <td>8.7</td>\n",
       "    </tr>\n",
       "    <tr>\n",
       "      <th>5</th>\n",
       "      <td>placebo</td>\n",
       "      <td>True</td>\n",
       "      <td>3.3</td>\n",
       "    </tr>\n",
       "    <tr>\n",
       "      <th>12</th>\n",
       "      <td>cbt</td>\n",
       "      <td>False</td>\n",
       "      <td>6.4</td>\n",
       "    </tr>\n",
       "    <tr>\n",
       "      <th>14</th>\n",
       "      <td>drug</td>\n",
       "      <td>False</td>\n",
       "      <td>6.0</td>\n",
       "    </tr>\n",
       "    <tr>\n",
       "      <th>6</th>\n",
       "      <td>cbt</td>\n",
       "      <td>True</td>\n",
       "      <td>3.0</td>\n",
       "    </tr>\n",
       "    <tr>\n",
       "      <th>13</th>\n",
       "      <td>cbt</td>\n",
       "      <td>False</td>\n",
       "      <td>4.6</td>\n",
       "    </tr>\n",
       "    <tr>\n",
       "      <th>19</th>\n",
       "      <td>cbt</td>\n",
       "      <td>False</td>\n",
       "      <td>3.8</td>\n",
       "    </tr>\n",
       "    <tr>\n",
       "      <th>1</th>\n",
       "      <td>cbt</td>\n",
       "      <td>True</td>\n",
       "      <td>5.8</td>\n",
       "    </tr>\n",
       "    <tr>\n",
       "      <th>4</th>\n",
       "      <td>cbt</td>\n",
       "      <td>True</td>\n",
       "      <td>6.1</td>\n",
       "    </tr>\n",
       "  </tbody>\n",
       "</table>\n",
       "</div>"
      ],
      "text/plain": [
       "          treatment  trauma  anxiety_reduction\n",
       "subjectID                                     \n",
       "17             drug   False                6.8\n",
       "16             drug   False                8.7\n",
       "5           placebo    True                3.3\n",
       "12              cbt   False                6.4\n",
       "14             drug   False                6.0\n",
       "6               cbt    True                3.0\n",
       "13              cbt   False                4.6\n",
       "19              cbt   False                3.8\n",
       "1               cbt    True                5.8\n",
       "4               cbt    True                6.1"
      ]
     },
     "execution_count": 5,
     "metadata": {},
     "output_type": "execute_result"
    }
   ],
   "source": [
    "data.sample(10)"
   ]
  },
  {
   "cell_type": "markdown",
   "metadata": {},
   "source": [
    "Normally, this would be the point at which we would visualize the data.\n",
    "Instead, we'll leave that for the lab for this section.\n",
    "\n",
    "As previously, we'll build a pandas data frame to store all of the information for our ANOVA test."
   ]
  },
  {
   "cell_type": "code",
   "execution_count": 6,
   "metadata": {},
   "outputs": [
    {
     "data": {
      "text/html": [
       "<div>\n",
       "<style>\n",
       "    .dataframe thead tr:only-child th {\n",
       "        text-align: right;\n",
       "    }\n",
       "\n",
       "    .dataframe thead th {\n",
       "        text-align: left;\n",
       "    }\n",
       "\n",
       "    .dataframe tbody tr th {\n",
       "        vertical-align: top;\n",
       "    }\n",
       "</style>\n",
       "<table border=\"1\" class=\"dataframe\">\n",
       "  <thead>\n",
       "    <tr style=\"text-align: right;\">\n",
       "      <th></th>\n",
       "      <th>treatment</th>\n",
       "      <th>trauma</th>\n",
       "      <th>anxiety_reduction</th>\n",
       "    </tr>\n",
       "    <tr>\n",
       "      <th>subjectID</th>\n",
       "      <th></th>\n",
       "      <th></th>\n",
       "      <th></th>\n",
       "    </tr>\n",
       "  </thead>\n",
       "  <tbody>\n",
       "    <tr>\n",
       "      <th>18</th>\n",
       "      <td>placebo</td>\n",
       "      <td>False</td>\n",
       "      <td>3.30</td>\n",
       "    </tr>\n",
       "    <tr>\n",
       "      <th>12</th>\n",
       "      <td>drug</td>\n",
       "      <td>False</td>\n",
       "      <td>8.30</td>\n",
       "    </tr>\n",
       "    <tr>\n",
       "      <th>6</th>\n",
       "      <td>drug</td>\n",
       "      <td>True</td>\n",
       "      <td>2.70</td>\n",
       "    </tr>\n",
       "    <tr>\n",
       "      <th>1</th>\n",
       "      <td>drug</td>\n",
       "      <td>True</td>\n",
       "      <td>5.10</td>\n",
       "    </tr>\n",
       "    <tr>\n",
       "      <th>13</th>\n",
       "      <td>cbt</td>\n",
       "      <td>False</td>\n",
       "      <td>4.60</td>\n",
       "    </tr>\n",
       "    <tr>\n",
       "      <th>8</th>\n",
       "      <td>cbt</td>\n",
       "      <td>True</td>\n",
       "      <td>7.80</td>\n",
       "    </tr>\n",
       "    <tr>\n",
       "      <th>8</th>\n",
       "      <td>drug</td>\n",
       "      <td>True</td>\n",
       "      <td>3.45</td>\n",
       "    </tr>\n",
       "    <tr>\n",
       "      <th>12</th>\n",
       "      <td>cbt</td>\n",
       "      <td>False</td>\n",
       "      <td>6.40</td>\n",
       "    </tr>\n",
       "    <tr>\n",
       "      <th>13</th>\n",
       "      <td>placebo</td>\n",
       "      <td>False</td>\n",
       "      <td>3.20</td>\n",
       "    </tr>\n",
       "    <tr>\n",
       "      <th>9</th>\n",
       "      <td>placebo</td>\n",
       "      <td>True</td>\n",
       "      <td>2.60</td>\n",
       "    </tr>\n",
       "  </tbody>\n",
       "</table>\n",
       "</div>"
      ],
      "text/plain": [
       "          treatment  trauma  anxiety_reduction\n",
       "subjectID                                     \n",
       "18          placebo   False               3.30\n",
       "12             drug   False               8.30\n",
       "6              drug    True               2.70\n",
       "1              drug    True               5.10\n",
       "13              cbt   False               4.60\n",
       "8               cbt    True               7.80\n",
       "8              drug    True               3.45\n",
       "12              cbt   False               6.40\n",
       "13          placebo   False               3.20\n",
       "9           placebo    True               2.60"
      ]
     },
     "execution_count": 6,
     "metadata": {},
     "output_type": "execute_result"
    }
   ],
   "source": [
    "N = len(data)\n",
    "\n",
    "anova_frame = data.copy()\n",
    "\n",
    "anova_frame.sample(10)"
   ]
  },
  {
   "cell_type": "markdown",
   "metadata": {},
   "source": [
    "We'll need the possible values of our treatment and trauma groups\n",
    "in order to calculate means and effects,\n",
    "so we grab those using the `unique` method."
   ]
  },
  {
   "cell_type": "code",
   "execution_count": 7,
   "metadata": {
    "collapsed": true
   },
   "outputs": [],
   "source": [
    "treatments = data.treatment.unique()\n",
    "traumas = data.trauma.unique()"
   ]
  },
  {
   "cell_type": "markdown",
   "metadata": {},
   "source": [
    "### Computing Model Terms: Means and Residuals"
   ]
  },
  {
   "cell_type": "markdown",
   "metadata": {},
   "source": [
    "We start by calculating the grand and individual variable means, using the `groupby` method when necessary."
   ]
  },
  {
   "cell_type": "code",
   "execution_count": 8,
   "metadata": {
    "collapsed": true
   },
   "outputs": [],
   "source": [
    "grand_mean = anova_frame.anxiety_reduction.mean()\n",
    "treatment_means = anova_frame.groupby(\"treatment\").anxiety_reduction.mean()\n",
    "trauma_means = anova_frame.groupby(\"trauma\").anxiety_reduction.mean()"
   ]
  },
  {
   "cell_type": "markdown",
   "metadata": {},
   "source": [
    "For the interaction term,\n",
    "we do a \"double `groupby`\" by passing a list of column names to group on to the `groupby` method,\n",
    "instead of the name of a single column."
   ]
  },
  {
   "cell_type": "code",
   "execution_count": 9,
   "metadata": {
    "collapsed": true
   },
   "outputs": [],
   "source": [
    "interaction_means = anova_frame.groupby([\"treatment\",\"trauma\"]).anxiety_reduction.mean()"
   ]
  },
  {
   "cell_type": "code",
   "execution_count": 10,
   "metadata": {},
   "outputs": [
    {
     "data": {
      "text/plain": [
       "treatment  trauma\n",
       "cbt        False     5.070\n",
       "           True      6.060\n",
       "drug       False     7.360\n",
       "           True      4.865\n",
       "placebo    False     2.990\n",
       "           True      2.660\n",
       "Name: anxiety_reduction, dtype: float64"
      ]
     },
     "execution_count": 10,
     "metadata": {},
     "output_type": "execute_result"
    }
   ],
   "source": [
    "interaction_means"
   ]
  },
  {
   "cell_type": "markdown",
   "metadata": {},
   "source": [
    "`groupby` is one of the most powerful tools in the pandas toolkit,\n",
    "and creative uses of it can solve lots of data problems.\n",
    "Check out\n",
    "[this tutorial](https://www.dataquest.io/blog/pandas-tutorial-python-2/)\n",
    "for more on using `groupby`."
   ]
  },
  {
   "cell_type": "markdown",
   "metadata": {},
   "source": [
    "Now,\n",
    "we use the combination of a selector\n",
    "(a binary `Series` that picks out all values in a dataframe\n",
    "corresponding to `1`s in the `Series`)\n",
    "and the `.loc` method\n",
    "to add columns for the main effects of treatment and trauma\n",
    "and the interaction effect of trauma and treatment.\n",
    "We use `.loc` to find things using keys and\n",
    "we use selectors to find things using logical statements.\n",
    "`.loc` is useful for indexing into the `groupby` objects,\n",
    "while selectors are useful for indexing into the `anova_frame`.\n",
    "\n",
    "We covered selectors in the pandas tutorial, but look back if you need a refresher. If you're confused or curious about how `.loc` works, check out\n",
    "[this tutorial](http://www.shanelynn.ie/select-pandas-dataframe-rows-and-columns-using-iloc-loc-and-ix/). "
   ]
  },
  {
   "cell_type": "code",
   "execution_count": 11,
   "metadata": {
    "collapsed": true
   },
   "outputs": [],
   "source": [
    "anova_frame[\"grand_mean\"] = grand_mean\n",
    "\n",
    "for trauma in traumas:\n",
    "    selector = (anova_frame.trauma == trauma)\n",
    "    anova_frame.loc[selector,\"trauma_main_effect\"] = trauma_means.loc[trauma]-grand_mean\n",
    "    \n",
    "for treatment in treatments:\n",
    "    selector = (anova_frame.treatment == treatment)\n",
    "    anova_frame.loc[selector,\"treatment_main_effect\"] = treatment_means.loc[treatment]-grand_mean\n",
    "    \n",
    "for trauma in traumas:\n",
    "    for treatment in treatments:\n",
    "        selector = (anova_frame.treatment == treatment) & (anova_frame.trauma == trauma)\n",
    "        anova_frame.loc[selector,\"interaction_effect\"]  = interaction_means.loc[treatment,trauma] - \\\n",
    "            anova_frame.trauma_main_effect[selector] - anova_frame.treatment_main_effect[selector] - grand_mean            "
   ]
  },
  {
   "cell_type": "markdown",
   "metadata": {},
   "source": [
    "Lastly, we calculate the residual error.\n",
    "We calculate the residual error simply by subtracting columns of `anova_frame`."
   ]
  },
  {
   "cell_type": "code",
   "execution_count": 12,
   "metadata": {},
   "outputs": [
    {
     "data": {
      "text/html": [
       "<div>\n",
       "<style>\n",
       "    .dataframe thead tr:only-child th {\n",
       "        text-align: right;\n",
       "    }\n",
       "\n",
       "    .dataframe thead th {\n",
       "        text-align: left;\n",
       "    }\n",
       "\n",
       "    .dataframe tbody tr th {\n",
       "        vertical-align: top;\n",
       "    }\n",
       "</style>\n",
       "<table border=\"1\" class=\"dataframe\">\n",
       "  <thead>\n",
       "    <tr style=\"text-align: right;\">\n",
       "      <th></th>\n",
       "      <th>treatment</th>\n",
       "      <th>trauma</th>\n",
       "      <th>anxiety_reduction</th>\n",
       "      <th>grand_mean</th>\n",
       "      <th>trauma_main_effect</th>\n",
       "      <th>treatment_main_effect</th>\n",
       "      <th>interaction_effect</th>\n",
       "      <th>residual</th>\n",
       "    </tr>\n",
       "    <tr>\n",
       "      <th>subjectID</th>\n",
       "      <th></th>\n",
       "      <th></th>\n",
       "      <th></th>\n",
       "      <th></th>\n",
       "      <th></th>\n",
       "      <th></th>\n",
       "      <th></th>\n",
       "      <th></th>\n",
       "    </tr>\n",
       "  </thead>\n",
       "  <tbody>\n",
       "    <tr>\n",
       "      <th>13</th>\n",
       "      <td>drug</td>\n",
       "      <td>False</td>\n",
       "      <td>9.0</td>\n",
       "      <td>4.834167</td>\n",
       "      <td>0.305833</td>\n",
       "      <td>1.278333</td>\n",
       "      <td>0.941667</td>\n",
       "      <td>1.640</td>\n",
       "    </tr>\n",
       "    <tr>\n",
       "      <th>13</th>\n",
       "      <td>placebo</td>\n",
       "      <td>False</td>\n",
       "      <td>3.2</td>\n",
       "      <td>4.834167</td>\n",
       "      <td>0.305833</td>\n",
       "      <td>-2.009167</td>\n",
       "      <td>-0.140833</td>\n",
       "      <td>0.210</td>\n",
       "    </tr>\n",
       "    <tr>\n",
       "      <th>12</th>\n",
       "      <td>cbt</td>\n",
       "      <td>False</td>\n",
       "      <td>6.4</td>\n",
       "      <td>4.834167</td>\n",
       "      <td>0.305833</td>\n",
       "      <td>0.730833</td>\n",
       "      <td>-0.800833</td>\n",
       "      <td>1.330</td>\n",
       "    </tr>\n",
       "    <tr>\n",
       "      <th>7</th>\n",
       "      <td>drug</td>\n",
       "      <td>True</td>\n",
       "      <td>6.2</td>\n",
       "      <td>4.834167</td>\n",
       "      <td>-0.305833</td>\n",
       "      <td>1.278333</td>\n",
       "      <td>-0.941667</td>\n",
       "      <td>1.335</td>\n",
       "    </tr>\n",
       "    <tr>\n",
       "      <th>15</th>\n",
       "      <td>cbt</td>\n",
       "      <td>False</td>\n",
       "      <td>4.6</td>\n",
       "      <td>4.834167</td>\n",
       "      <td>0.305833</td>\n",
       "      <td>0.730833</td>\n",
       "      <td>-0.800833</td>\n",
       "      <td>-0.470</td>\n",
       "    </tr>\n",
       "    <tr>\n",
       "      <th>20</th>\n",
       "      <td>placebo</td>\n",
       "      <td>False</td>\n",
       "      <td>2.7</td>\n",
       "      <td>4.834167</td>\n",
       "      <td>0.305833</td>\n",
       "      <td>-2.009167</td>\n",
       "      <td>-0.140833</td>\n",
       "      <td>-0.290</td>\n",
       "    </tr>\n",
       "    <tr>\n",
       "      <th>19</th>\n",
       "      <td>cbt</td>\n",
       "      <td>False</td>\n",
       "      <td>3.8</td>\n",
       "      <td>4.834167</td>\n",
       "      <td>0.305833</td>\n",
       "      <td>0.730833</td>\n",
       "      <td>-0.800833</td>\n",
       "      <td>-1.270</td>\n",
       "    </tr>\n",
       "    <tr>\n",
       "      <th>4</th>\n",
       "      <td>cbt</td>\n",
       "      <td>True</td>\n",
       "      <td>6.1</td>\n",
       "      <td>4.834167</td>\n",
       "      <td>-0.305833</td>\n",
       "      <td>0.730833</td>\n",
       "      <td>0.800833</td>\n",
       "      <td>0.040</td>\n",
       "    </tr>\n",
       "    <tr>\n",
       "      <th>17</th>\n",
       "      <td>cbt</td>\n",
       "      <td>False</td>\n",
       "      <td>4.2</td>\n",
       "      <td>4.834167</td>\n",
       "      <td>0.305833</td>\n",
       "      <td>0.730833</td>\n",
       "      <td>-0.800833</td>\n",
       "      <td>-0.870</td>\n",
       "    </tr>\n",
       "    <tr>\n",
       "      <th>19</th>\n",
       "      <td>placebo</td>\n",
       "      <td>False</td>\n",
       "      <td>1.6</td>\n",
       "      <td>4.834167</td>\n",
       "      <td>0.305833</td>\n",
       "      <td>-2.009167</td>\n",
       "      <td>-0.140833</td>\n",
       "      <td>-1.390</td>\n",
       "    </tr>\n",
       "  </tbody>\n",
       "</table>\n",
       "</div>"
      ],
      "text/plain": [
       "          treatment  trauma  anxiety_reduction  grand_mean  \\\n",
       "subjectID                                                    \n",
       "13             drug   False                9.0    4.834167   \n",
       "13          placebo   False                3.2    4.834167   \n",
       "12              cbt   False                6.4    4.834167   \n",
       "7              drug    True                6.2    4.834167   \n",
       "15              cbt   False                4.6    4.834167   \n",
       "20          placebo   False                2.7    4.834167   \n",
       "19              cbt   False                3.8    4.834167   \n",
       "4               cbt    True                6.1    4.834167   \n",
       "17              cbt   False                4.2    4.834167   \n",
       "19          placebo   False                1.6    4.834167   \n",
       "\n",
       "           trauma_main_effect  treatment_main_effect  interaction_effect  \\\n",
       "subjectID                                                                  \n",
       "13                   0.305833               1.278333            0.941667   \n",
       "13                   0.305833              -2.009167           -0.140833   \n",
       "12                   0.305833               0.730833           -0.800833   \n",
       "7                   -0.305833               1.278333           -0.941667   \n",
       "15                   0.305833               0.730833           -0.800833   \n",
       "20                   0.305833              -2.009167           -0.140833   \n",
       "19                   0.305833               0.730833           -0.800833   \n",
       "4                   -0.305833               0.730833            0.800833   \n",
       "17                   0.305833               0.730833           -0.800833   \n",
       "19                   0.305833              -2.009167           -0.140833   \n",
       "\n",
       "           residual  \n",
       "subjectID            \n",
       "13            1.640  \n",
       "13            0.210  \n",
       "12            1.330  \n",
       "7             1.335  \n",
       "15           -0.470  \n",
       "20           -0.290  \n",
       "19           -1.270  \n",
       "4             0.040  \n",
       "17           -0.870  \n",
       "19           -1.390  "
      ]
     },
     "execution_count": 12,
     "metadata": {},
     "output_type": "execute_result"
    }
   ],
   "source": [
    "anova_frame[\"residual\"] = anova_frame.anxiety_reduction - anova_frame.grand_mean - \\\n",
    "                            anova_frame.trauma_main_effect - anova_frame.treatment_main_effect - \\\n",
    "                            anova_frame.interaction_effect\n",
    "    \n",
    "anova_frame.sample(10)"
   ]
  },
  {
   "cell_type": "markdown",
   "metadata": {},
   "source": [
    "Compare the above Python expression to the mathematical expression below\n",
    "and make sure you can match up terms."
   ]
  },
  {
   "cell_type": "markdown",
   "metadata": {},
   "source": [
    "$$\n",
    "\\begin{align}\n",
    "    \\epsilon_{ijk} &= Y_{ijk} -\\mu_\\text{grand} - A_i - B_j - AB_{ij}\n",
    "\\end{align}\n",
    "$$"
   ]
  },
  {
   "cell_type": "markdown",
   "metadata": {},
   "source": [
    "The matrix above is called a\n",
    "*decomposition matrix*.\n",
    "With it in hand,\n",
    "we can perform our ANOVA test."
   ]
  },
  {
   "cell_type": "markdown",
   "metadata": {},
   "source": [
    "### Calculating Sums of Squares, Mean Squares, and Degrees of Freedom"
   ]
  },
  {
   "cell_type": "markdown",
   "metadata": {},
   "source": [
    "As before,\n",
    "we need to calculate sums of squares,\n",
    "convert them to mean squares\n",
    "using degrees of freedom,\n",
    "and then calculate ratios of\n",
    "the mean squares of our effects\n",
    "to the residual mean square in order\n",
    "to get our $F$-statistic.\n",
    "If the motivation for performing any of these steps is unclear,\n",
    "review the tutorial on One-Way ANOVA --\n",
    "the reasoning is unchanged."
   ]
  },
  {
   "cell_type": "markdown",
   "metadata": {},
   "source": [
    "We begin by calculating the total,\n",
    "mean,\n",
    "treatment,\n",
    "trauma,\n",
    "interaction,\n",
    "and residual sums of squares.\n",
    "\n",
    "As before,\n",
    "we'll store them in a dictionary,\n",
    "keyed by their name."
   ]
  },
  {
   "cell_type": "code",
   "execution_count": 13,
   "metadata": {},
   "outputs": [
    {
     "data": {
      "text/plain": [
       "{'grand_mean': 1402.1500416666663,\n",
       " 'interaction': 30.95808333333337,\n",
       " 'residual': 76.082250000000002,\n",
       " 'total': 1638.9025000000004,\n",
       " 'trauma': 5.6120416666666948,\n",
       " 'treatment': 124.10008333333334}"
      ]
     },
     "execution_count": 13,
     "metadata": {},
     "output_type": "execute_result"
    }
   ],
   "source": [
    "sum_of_squares = {}\n",
    "\n",
    "keys = [\"total\",\"grand_mean\",\"trauma\",\"treatment\",\"interaction\",\"residual\"]\n",
    "\n",
    "columns = [anova_frame.anxiety_reduction,\n",
    "           anova_frame.grand_mean,\n",
    "           anova_frame.trauma_main_effect,\n",
    "           anova_frame.treatment_main_effect,\n",
    "           anova_frame.interaction_effect,\n",
    "           anova_frame[\"residual\"]]\n",
    "\n",
    "for key,column in zip(keys,columns):\n",
    "    sum_of_squares[key] = np.sum(np.square(column))\n",
    "    \n",
    "sum_of_squares"
   ]
  },
  {
   "cell_type": "markdown",
   "metadata": {},
   "source": [
    "To calculate mean squares,\n",
    "we need the degrees of freedom\n",
    "for each of the sums of squares above.\n",
    "Again, we store them in a dictionary keyed by name."
   ]
  },
  {
   "cell_type": "code",
   "execution_count": 14,
   "metadata": {},
   "outputs": [
    {
     "data": {
      "text/plain": [
       "{'grand_mean': 1,\n",
       " 'interaction': 2,\n",
       " 'residual': 54,\n",
       " 'total': 60,\n",
       " 'trauma': 1,\n",
       " 'treatment': 2}"
      ]
     },
     "execution_count": 14,
     "metadata": {},
     "output_type": "execute_result"
    }
   ],
   "source": [
    "dof = {}\n",
    "\n",
    "keys = [\"total\",\"grand_mean\",\"trauma\",\"treatment\",\"interaction\",\"residual\"]\n",
    "vals = [N,1,\n",
    "        len(traumas)-1,\n",
    "        len(treatments)-1,\n",
    "        (len(traumas)-1)*(len(treatments)-1),\n",
    "        N-len(traumas)*len(treatments)]\n",
    "\n",
    "for key,val in zip(keys,vals):\n",
    "    dof[key] = val\n",
    "    \n",
    "dof"
   ]
  },
  {
   "cell_type": "markdown",
   "metadata": {},
   "source": [
    "Using the dictionaries `sum_of_squares` and `dof`, we compute the mean square values for all of the keyed quantities."
   ]
  },
  {
   "cell_type": "code",
   "execution_count": 15,
   "metadata": {},
   "outputs": [
    {
     "data": {
      "text/plain": [
       "{'grand_mean': 1402.1500416666663,\n",
       " 'interaction': 15.479041666666685,\n",
       " 'residual': 1.4089305555555556,\n",
       " 'total': 27.315041666666673,\n",
       " 'trauma': 5.6120416666666948,\n",
       " 'treatment': 62.050041666666672}"
      ]
     },
     "execution_count": 15,
     "metadata": {},
     "output_type": "execute_result"
    }
   ],
   "source": [
    "mean_square = {}\n",
    "\n",
    "for key in keys:\n",
    "    mean_square[key] = sum_of_squares[key]/dof[key]\n",
    "    \n",
    "mean_square"
   ]
  },
  {
   "cell_type": "markdown",
   "metadata": {},
   "source": [
    "### Completing the ANOVA: The $F$ and $p$ statistics"
   ]
  },
  {
   "cell_type": "markdown",
   "metadata": {},
   "source": [
    "The $F$-statistic for each main effect and for the interaction is,\n",
    "as before,\n",
    "calculated as a ratio of the mean square for the group\n",
    "over the mean square of the residual."
   ]
  },
  {
   "cell_type": "code",
   "execution_count": 16,
   "metadata": {},
   "outputs": [
    {
     "data": {
      "text/plain": [
       "{'interaction': 10.986376585865967,\n",
       " 'trauma': 3.9831925317666279,\n",
       " 'treatment': 44.040525221060108}"
      ]
     },
     "execution_count": 16,
     "metadata": {},
     "output_type": "execute_result"
    }
   ],
   "source": [
    "F = {}\n",
    "\n",
    "for key in [\"treatment\",\"trauma\",\"interaction\"]:\n",
    "    F[key] = mean_square[key]/mean_square[\"residual\"]\n",
    "\n",
    "F"
   ]
  },
  {
   "cell_type": "markdown",
   "metadata": {},
   "source": [
    "Lastly, we compute the $p$ value using `scipy.stats.f.cdf`."
   ]
  },
  {
   "cell_type": "code",
   "execution_count": 17,
   "metadata": {},
   "outputs": [
    {
     "name": "stdout",
     "output_type": "stream",
     "text": [
      "treatment\n",
      "\t4.53059811889e-12\n",
      "trauma\n",
      "\t0.0510105729778\n",
      "interaction\n",
      "\t9.92816894022e-05\n"
     ]
    }
   ],
   "source": [
    "for effect in F.keys():\n",
    "    print(effect)\n",
    "    print(\"\\t\"+str(1-scipy.stats.f.cdf(F[effect],dof[effect],dof[\"residual\"])))"
   ]
  },
  {
   "cell_type": "markdown",
   "metadata": {},
   "source": [
    "This completes our implementation of the Two-Way ANOVA.\n",
    "Aside from a few changes to the construction of the decomposition matrix,\n",
    "the ANOVA proceeded much the same as the One-Way ANOVA.\n",
    "\n",
    "To check our work here and learn to use built-in methods\n",
    "for Two- and Multi-Way ANOVAs,\n",
    "check out [Lab A](Lab A - Two-Way ANOVA.ipynb).\n",
    "To learn more about issues of multiple comparisons in the context of multi-way ANOVAs,\n",
    "check out [Lab B - Multiple Comparisons and ANOVA](Lab B - Multiple Comparisons and ANOVA.ipynb)."
   ]
  }
 ],
 "metadata": {
  "anaconda-cloud": {},
  "kernelspec": {
   "display_name": "neur299",
   "language": "python",
   "name": "neur299"
  },
  "language_info": {
   "codemirror_mode": {
    "name": "ipython",
    "version": 3
   },
   "file_extension": ".py",
   "mimetype": "text/x-python",
   "name": "python",
   "nbconvert_exporter": "python",
   "pygments_lexer": "ipython3",
   "version": "3.6.3"
  }
 },
 "nbformat": 4,
 "nbformat_minor": 1
}
