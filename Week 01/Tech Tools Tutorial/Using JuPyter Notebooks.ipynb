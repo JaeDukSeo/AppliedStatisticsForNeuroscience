{
 "cells": [
  {
   "cell_type": "markdown",
   "metadata": {},
   "source": [
    "<img src=\"./img/HWNI_logo.svg\"/>\n",
    "\n",
    "# Using Jupyter Notebooks"
   ]
  },
  {
   "cell_type": "markdown",
   "metadata": {},
   "source": [
    "This tutorial is a modified version of material created by Justin Bois for the Caltech course \"Data Analysis in the Biological Sciences\". You can find the original [here](t0b_intro_to_jupyter_notebooks.ipynb)."
   ]
  },
  {
   "cell_type": "markdown",
   "metadata": {},
   "source": [
    "In this tutorial, you will learn the basics on how to use Jupyter notebooks, like this one.  All of your homework will be submitted as Jupyter notebooks, so this is something you will need to master.  \n",
    "\n",
    "The cell below sets up the typical programming environment for the class -- it brings in, or \"imports\" modules of code that do things that core Python doesn't, like linear algebra, plotting, and so on. Unlike MATLAB, core Python is written to be as minimal as possible, with the intention that you extended it using modules. You'll learn more about Python in the _Coding with Python_ tutorial."
   ]
  },
  {
   "cell_type": "code",
   "execution_count": 1,
   "metadata": {
    "collapsed": false
   },
   "outputs": [],
   "source": [
    "# makes our plots show up inside JuPyter\n",
    "%matplotlib inline\n",
    "\n",
    "# numpy - linear algebra and matrices for python\n",
    "import numpy as np\n",
    "\n",
    "# pandas - \"DataFrames\" to organize our data\n",
    "import pandas as pd\n",
    "\n",
    "# scipy - data science toolkit for python\n",
    "from scipy import stats, integrate\n",
    "\n",
    "# matplotlib - workhorse plotting library\n",
    "import matplotlib.pyplot as plt\n",
    "\n",
    "# seaborn - easy plotting for statistical visualizations\n",
    "#   based off of matplotlib\n",
    "import seaborn as sns\n",
    "\n",
    "# choose colors that work for most color-blind folks\n",
    "sns.set_palette(\"colorblind\")\n",
    "sns.set(color_codes=True)\n",
    "\n",
    "import util.plots as plot "
   ]
  },
  {
   "cell_type": "markdown",
   "metadata": {},
   "source": [
    "## Contents\n",
    "* [What is Jupyter](#What-is-Jupyter?)\n",
    "* [Launching a Jupyter notebook](#Launching-a-Jupyter-notebook)\n",
    "* [Cells](#Cells)\n",
    "* [Code cells](#Code-cells)\n",
    "    - [Display of graphics](#Display-of-graphics)\n",
    "    - [Proper formatting of cells](#Proper-formatting-of-cells)\n",
    "    - [Best practices for code cells](#Best-practices-for-code-cells)\n",
    "* [Markdown cells](#Markdown-cells)\n",
    "* [Styling your notebook](#Styling-your-notebook)\n",
    "* [Collaborating with Google Drive](#Collaborating-with-Google-Drive)"
   ]
  },
  {
   "cell_type": "markdown",
   "metadata": {},
   "source": [
    "## What is Jupyter?\n",
    "\n",
    "[Jupyter](http://jupyter.org) notebooks allow you to combine written text and executable code in a single document. Because these documents are rendered by web browsers, they work on all major operating systems and can include a ton of neat features designed for use on the web, like formatting with HTML, CSS, or [Markdown](#Markdown-cells), media, including static and animated plots and audio, and even mathematical equations via $\\LaTeX$.\n",
    "\n",
    "Even better, Jupyter notebooks work with multiple languages. The primary languages appear in the name: \"Jupyter\" is a combination of [Julia](http://julialang.org/) (a younger language aimed at scientific computing), [Python](http://python.org/) (the language of this course), and [R](https://www.r-project.org) (the primary language for statistical computation). Jupyter notebooks support over 40 languages, including such esoterica as [Haskell](https://www.haskell.org/) (a mathematically-inspired functional language) and [Forth](http://www.forth.org/) (a low-level language that mostly disintegrated in the early years of the second Bush administration).\n",
    "\n",
    "The capacities of Jupyter notebooks are constantly expanding (for example, a project is currently in the works to integrate them with [automatic grading software](https://nbgrader.readthedocs.io/en/stable/)). Even better, the core team for Jupyter works out of the [Berkeley Institute for Data Science](https://bids.berkeley.edu/)!"
   ]
  },
  {
   "cell_type": "markdown",
   "metadata": {},
   "source": [
    "## Launching a Jupyter notebook\n",
    "\n",
    "You launch Jupyter from the command line.  To do this, simply navigate to the directory that contains the notebook you want to open and enter:\n",
    "\n",
    "    jupyter notebook\n",
    "\n",
    "You can also do this from any directory above the notebook.\n",
    "\n",
    "When you do this, your command line will be occupied with Jupyter, so you'll need to open another command line if you want to continue typing commands. You'll also notice that lots of information is printed to the command line window by Jupyter. This information can be safely ignored if you're not debugging Jupyter or running a notebook server (which you're not!).\n",
    "\n",
    "After you are finished with your Jupyter session (and have saved everything), you can close Jupyter by hitting \"`ctrl + C`\" in the terminal/PowerShell window (twice).\n",
    "\n",
    "When you launch Jupyter, you will be presented with a menu of files in your current working directory to choose to edit. After selecting the file you wish to edit, it will appear as a new tab in your browser, formatted and ready to edit. You can also create a new file by clicking the \"New\" button at the top right corner of the screen. You can also open files from elsewhere on your computer by clicking \"Upload\".\n",
    "\n",
    "At some points while running a Jupyter notebook, you might need to start over fresh. You can do this by clicking \"Kernel\" in the toolbar and selecting \"Restart\" or by typing in \"`Esc, 00`\", which means \"the escape key, followed by the 0 key twice\"."
   ]
  },
  {
   "cell_type": "markdown",
   "metadata": {},
   "source": [
    "## Cells\n",
    "\n",
    "A Jupyter notebook consists of **cells**.  The two main types of cells you will use are **code cells** and **markdown cells**, and we will go into their properties in depth momentarily.  First, an overview.\n",
    "\n",
    "Cells are self-contained snippets of text or code. You can add new cells by using the \"Insert\" pulldown menu from the Jupyter toolbar at the top left corner of the screen. You can also cut and paste cells using the appropriate icons in that toolbar or buttons in the pulldown menu.\n",
    "\n",
    "A code cell contains actual code that you want to run.  You can specify a cell as a code cell using the pulldown menu in the toolbar in your Jupyter notebook -- \"Cell\", \"Cell Type ->\", \"Code\".  Otherwise, you can can hit `esc` and then `y` \n",
    "\n",
    "If you want to run a code cell, hit \"`shift + enter`\". It's important to note code cells are run in the order that you execute them, rather than the order they are written in. This can cause confusion as you're writing and debugging code in a Jupyter notebook -- just because something is written higher up on the screen doesn't mean it has been run! If you've used the cell feature of MATLAB (`%%` to set off code blocks), then you know the general principle.\n",
    "\n",
    "Markdown cells contain text.  The text is written in **markdown**, a lightweight markup language (markup language being the ML in HTML!).  You can read about its syntax [here](http://daringfireball.net/projects/markdown/syntax). We'll also discuss some of the basic elements [below](#Markdown-cells). If you'd like to see the markdown of this document, you can also \"un-render\" the text cells by double-clicking on them.\n",
    "\n",
    "Note that you can also insert HTML into markdown cells, and this will be rendered properly. If you'd like to see an example, double-click the header image of this document. Also, as you are typing the contents of these cells, the results appear as text. Hitting \"`shift + enter`\" renders the text in its full formatting. You can specify a cell as being a markdown cell in the Jupyter toolbar.\n",
    "\n",
    "There are a number of keyboard shortcuts that make editing a Jupyter notebook easier. \n",
    "\n",
    "|          *Action*         |   *Shortcut*  |\n",
    "|:-------------------------:|:-------------:|\n",
    "| Run Cell                  | `shift+enter` |\n",
    "| Run Cell and Insert Below |  `alt+enter`  |\n",
    "| Insert Cell Above         |    `esc, a`   |\n",
    "| Insert Cell Below         |    `esc, b`   |\n",
    "| Convert Cell to Markdown  |    `esc, m`   |\n",
    "| Convert Cell to Code      |    `esc, y`   |\n",
    "\n",
    "Note that for the last four commands, you need to press `enter` afterwards to resume editing."
   ]
  },
  {
   "cell_type": "markdown",
   "metadata": {},
   "source": [
    "## Code cells\n",
    "\n",
    "Below is an example of a code cell that will print the string `goodbye, cruel world.` Notice that the output of the print statement appears in the same cell, though separate from the code block."
   ]
  },
  {
   "cell_type": "code",
   "execution_count": 2,
   "metadata": {
    "collapsed": false
   },
   "outputs": [
    {
     "name": "stdout",
     "output_type": "stream",
     "text": [
      "goodbye, cruel world.\n"
     ]
    }
   ],
   "source": [
    "# Say goodbye\n",
    "print('goodbye, cruel world.')"
   ]
  },
  {
   "cell_type": "markdown",
   "metadata": {},
   "source": [
    "If you evaluate a Python expression that returns a value, that value is displayed as output of the code cell.  This only happens, however, for the last line of the code cell."
   ]
  },
  {
   "cell_type": "code",
   "execution_count": 3,
   "metadata": {
    "collapsed": false
   },
   "outputs": [
    {
     "data": {
      "text/plain": [
       "['spam', 'spam', 'spam', 'spam', 'spam']"
      ]
     },
     "execution_count": 3,
     "metadata": {},
     "output_type": "execute_result"
    }
   ],
   "source": [
    "# Would show 'spameggs' if this were the last line, but it is not, so nothing appears\n",
    "'spam' + 'eggs'\n",
    "\n",
    "# We'll see 'spam' five times\n",
    "['spam']*5"
   ]
  },
  {
   "cell_type": "markdown",
   "metadata": {},
   "source": [
    "Note, however, that if the last line does not return a value, there is no visible output from the code cell. This might happen if we assigned a name to a variable."
   ]
  },
  {
   "cell_type": "code",
   "execution_count": 4,
   "metadata": {
    "collapsed": true
   },
   "outputs": [],
   "source": [
    "# Variable assignment, so no visible output.\n",
    "Fred = 5 + 6"
   ]
  },
  {
   "cell_type": "code",
   "execution_count": 5,
   "metadata": {
    "collapsed": false
   },
   "outputs": [
    {
     "data": {
      "text/plain": [
       "11"
      ]
     },
     "execution_count": 5,
     "metadata": {},
     "output_type": "execute_result"
    }
   ],
   "source": [
    "# However, now if we ask for Fred, its value will be displayed\n",
    "Fred"
   ]
  },
  {
   "cell_type": "markdown",
   "metadata": {},
   "source": [
    "### Display of graphics\n",
    "\n",
    "In order to make full use of the magic of Jupyter notebooks, you should display the graphics generated by your code **inline**, that is, inside the document, rather than in a separate window, as is standard Python behavior. You can specify that, as I did at the top of this document, using the `%matplotlib inline` magic function.  Below is an example of graphics displayed inline.\n",
    "\n",
    "Let's take a look at an example, using the base plotting library, `matplotlib`."
   ]
  },
  {
   "cell_type": "code",
   "execution_count": 8,
   "metadata": {
    "collapsed": false
   },
   "outputs": [
    {
     "data": {
      "image/png": "[encoded data removed]",
      "text/plain": [
       "<matplotlib.figure.Figure at 0x104769ac8>"
      ]
     },
     "metadata": {},
     "output_type": "display_data"
    }
   ],
   "source": [
    "# Generate data to plot\n",
    "N = 100\n",
    "x = np.linspace(0, 2 * np.pi, N) #N evenly spaced numbers from 0 to 2π\n",
    "y = np.abs((np.sin(2*x))) #a nice-looking function\n",
    "\n",
    "# Make plot\n",
    "plt.figure() #create the figure\n",
    "\n",
    "plt.plot(x, y,) #draw on the canvas\n",
    "plt.xlim((0, 2 * np.pi)) #set the maximum and minimum values of the x axis\n",
    "plt.xlabel(r'$x$') #never forget to label the axes!\n",
    "plt.ylabel(r'$| \\ \\sin{(x)}\\ |$');"
   ]
  },
  {
   "cell_type": "markdown",
   "metadata": {},
   "source": [
    "A few notes: I've used a semicolon on the last line to prevent the output of the last command from appearing. This should be familiar to anyone coming from MATLAB. You can also see that there are some places where the plot isn't very smooth. How could we make those smoother or less smooth? Test your hypothesis by changing the code above.\n",
    "\n",
    "Also, this plot is a bit basic and uninspiring. Let's spice it up a bit. Take the code below and use it to replace the line beginning `plt.plot` above. Play around with it a bit and, if you feel comfortable, check out the [matplotlib documentation](http://matplotlib.org/api/lines_api.html) to see an in-depth description of what all of these arguments do and what the acceptable values are.\n",
    "\n",
    "```\n",
    "plt.plot(x, y, linewidth=2,color='skyblue',linestyle='--',\n",
    "         marker='o',markersize=4,markeredgewidth=2,markerfacecolor='black',markeredgecolor='hotpink')\n",
    "```\n"
   ]
  },
  {
   "cell_type": "markdown",
   "metadata": {},
   "source": [
    "### Proper formatting of cells\n",
    "\n",
    "You should keep your cells as simple and as coherent as possible. You should define one function, or maybe a handful of related functions, in a single cell, and that's about it.\n",
    "\n",
    "A quick note: One of the major differences between coding in Python and coding in MATLAB is the importance of user-defined functions. In Python, functions are like any other variable -- they can be passed to functions, renamed, and even returned by other functions. We can also define them inline very easily, as we do below. \n",
    "\n",
    "This leaves us free to define small functions without all the overhead of extra files that happens in languages like MATLAB. Defining small functions that each handle one small part of a task helps us think about our problem in manageable pieces, reuse code as much as possible, and keep the logic of our code as simple as possible.\n",
    "\n",
    "If we wanted to write code to bake cookies, we might define the following functions: `readRecipe`, `measureIngredient`,`mixIngredients`,`preheatOven`, and `timedBake`. That way, if we later need to bake a cake or make a salad, we already have most of the things we need!\n",
    "\n",
    "To make sure that somebody coming along later can use our function without having to read and understand the code, we begin with a \"doc string\", a brief explanation of what the function does. The formatting used below is standard.\n",
    "\n",
    "You can view the doc string of any function, including the ones you write, by applying the function `help` to your function: `help(functionName)`. We'll do that below for our function."
   ]
  },
  {
   "cell_type": "code",
   "execution_count": 35,
   "metadata": {
    "collapsed": false
   },
   "outputs": [
    {
     "name": "stdout",
     "output_type": "stream",
     "text": [
      "Help on function square in module __main__:\n",
      "\n",
      "square(x)\n",
      "    Take in a numeric variable x and return its square, y\n",
      "    \n",
      "    Parameters\n",
      "    ----------\n",
      "    x        : numeric variable that supports multiplication, number to square\n",
      "    \n",
      "    Returns\n",
      "    -------\n",
      "    y        : same type as x, square of the input\n",
      "\n"
     ]
    }
   ],
   "source": [
    "def square(x):\n",
    "    \"\"\"\n",
    "    Take in a numeric variable x and return its square, y\n",
    "    \n",
    "    Parameters\n",
    "    ----------\n",
    "    x        : numeric variable that supports multiplication, number to square\n",
    "    \n",
    "    Returns\n",
    "    -------\n",
    "    y        : same type as x, square of the input\n",
    "    \"\"\"\n",
    "    \n",
    "    y = x*x\n",
    "    \n",
    "    return y\n",
    "\n",
    "help(square)"
   ]
  },
  {
   "cell_type": "markdown",
   "metadata": {},
   "source": [
    "### Best practices for code cells\n",
    "\n",
    "Here are some pieces of advice for when you're writing code cells. At the start of the course, you won't be writing your own cells, but this will change as the course goes on.\n",
    "\n",
    "1. Keep your code cells short. If you find yourself having one massive code cell, break it up. If you can't break the cell up, try breaking your code into smaller pieces.\n",
    "1. Always properly comment your code. Provide complete doc strings for any functions you define.\n",
    "1. Do all of your imports in the first code cell at the top of the notebook. Import one module per line."
   ]
  },
  {
   "cell_type": "markdown",
   "metadata": {},
   "source": [
    "## Markdown cells\n",
    "\n",
    "Markdown cells contain text and equations.  The text is written in **markdown**, a very simple formatting language used for things like blogs. You can check out [this list of markdown basics](http://daringfireball.net/projects/markdown/syntax) to get most of what you need to know.  If you'd like to see the markdown used in this document, you can also \"un-render\" the text cells by double-clicking on them.\n",
    "\n",
    "Some examples are:\n",
    "\n",
    "`**bold**` for **bold font**.\n",
    "\n",
    "`*italic*` for *italics*.\n",
    "\n",
    "``` \n",
    "- list\n",
    "- of\n",
    "- objects\n",
    "```\n",
    "for a bulleted\n",
    "\n",
    "- list\n",
    "- of\n",
    "- objects\n",
    "\n",
    "```\n",
    "    1. list\n",
    "    1. of\n",
    "    1. objects\n",
    "```\n",
    "for a numbered\n",
    "\n",
    "1. list\n",
    "1. of\n",
    "1. objects\n",
    "\n",
    "Note that you don't need to number things yourself!\n",
    "\n",
    "You can use backticks, e.g. `` `fixed-width` ``, to make `fixed-width` text (it looks like the text in code cells). \n",
    "\n",
    "You can include images using `![image name](path/to/img.png)`. This is especially useful if you have a drawing or written equation that you want to include, but note that this isn't necessary in order to include your plots!\n",
    "![image name](path/to/img.png)\n",
    "\n"
   ]
  },
  {
   "cell_type": "markdown",
   "metadata": {},
   "source": [
    "## $\\LaTeX$ for Fun and Profit\n",
    "\n",
    "In addition to HTML, some $\\LaTeX$ expressions may be inserted into markdown cells.  $\\LaTeX$ (pronounced \"lay-tech\", sometimes) is primarily used for mathematical typesetting. You can very easily write things like:\n",
    "\n",
    "$$\n",
    "    \\sin^2{x} + \\cos^2{x} = \\mathrm{e}^{ix} \\\\\n",
    "    P(\\text{me} \\ \\lvert \\ \\text{you a hard time}) = 1 \\\\\n",
    "    \\frac{\\text{mind}}{\\text{matter}} \\geq 1 \\\\   \n",
    "$$\n",
    "\n",
    "(again, you can double click this cell to see the raw $\\LaTeX$). To get $\\LaTeX$ formatting, just write\n",
    "\n",
    "```\n",
    "$$\n",
    "    location(math) = here \\\\\n",
    "$$\n",
    "```\n",
    "\n",
    "to get\n",
    "\n",
    "$$\n",
    "    location(math) = here \\\\\n",
    "$$\n",
    "\n",
    "Note that if you type something that is syntactically incorrect, you get a box containing the raw incorrect text:\n",
    "\n",
    "$$\n",
    "    \\badTex{\\frac{}\\frac{}} \\therefore boxAppears\n",
    "$$\n",
    "\n",
    "In Jupyter notebooks, the $\\LaTeX$  mathematical input is rendered using software called MathJax.  This is run via the cloud (aka on somebody else's computer), so if you are not connected to the internet, your equations will not be rendered.\n",
    "\n",
    "$\\LaTeX$ can be and is used to render entire textbooks, so looking for resources on the internet can quickly get you into intricacies and complexities that are beyond the scope of your needs.\n",
    "\n",
    "We have a [separate tutorial](Typesetting in LaTeX.ipynb) that covers the basics, and basic cheat sheets (like [this one](http://users.dickinson.edu/~richesod/latex/latexcheatsheet.pdf)) are useful."
   ]
  }
 ],
 "metadata": {
  "anaconda-cloud": {},
  "kernelspec": {
   "display_name": "Python [default]",
   "language": "python",
   "name": "python3"
  },
  "language_info": {
   "codemirror_mode": {
    "name": "ipython",
    "version": 3
   },
   "file_extension": ".py",
   "mimetype": "text/x-python",
   "name": "python",
   "nbconvert_exporter": "python",
   "pygments_lexer": "ipython3",
   "version": "3.4.5"
  }
 },
 "nbformat": 4,
 "nbformat_minor": 0
}
