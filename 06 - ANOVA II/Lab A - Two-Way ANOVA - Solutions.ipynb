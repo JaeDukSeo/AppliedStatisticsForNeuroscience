{
 "cells": [
  {
   "cell_type": "markdown",
   "metadata": {},
   "source": [
    "<img src=\"./img/HWNI_logo.svg\"/>"
   ]
  },
  {
   "cell_type": "markdown",
   "metadata": {},
   "source": [
    "# Lab A - Two-Way ANOVA - Solutions"
   ]
  },
  {
   "cell_type": "code",
   "execution_count": 1,
   "metadata": {},
   "outputs": [
    {
     "data": {
      "text/html": [
       "<style>/* Originally by Brandon Rhodes, for use with Pandas*/\n",
       "body {\n",
       "    margin: 0;\n",
       "    font-family: Helvetica;\n",
       "}\n",
       "table.dataframe {\n",
       "    border-collapse: collapse;\n",
       "    border: none;\n",
       "}\n",
       "table.dataframe tr {\n",
       "    border: none;\n",
       "}\n",
       "table.dataframe td, table.dataframe th {\n",
       "    margin: 0;\n",
       "    border: 1px solid white;\n",
       "    padding-left: 0.25em;\n",
       "    padding-right: 0.25em;\n",
       "}\n",
       "table.dataframe th:not(:empty) {\n",
       "    background-color: #fec;\n",
       "    text-align: left;\n",
       "    font-weight: normal;\n",
       "}\n",
       "table.dataframe tr:nth-child(2) th:empty {\n",
       "    border-left: none;\n",
       "    border-right: 1px dashed #888;\n",
       "}\n",
       "table.dataframe td {\n",
       "    border: 2px solid #ccf;\n",
       "    background-color: #f4f4ff;\n",
       "}\n",
       "</style>"
      ],
      "text/plain": [
       "<IPython.core.display.HTML object>"
      ]
     },
     "execution_count": 1,
     "metadata": {},
     "output_type": "execute_result"
    }
   ],
   "source": [
    "# makes our plots show up inside Jupyter\n",
    "%matplotlib inline\n",
    "\n",
    "import numpy as np\n",
    "import pandas as pd\n",
    "\n",
    "import matplotlib.pyplot as plt\n",
    "import seaborn as sns\n",
    "\n",
    "import scipy.stats\n",
    "\n",
    "import util.utils as utils\n",
    "import util.shared as shared\n",
    "\n",
    "shared.format_plots()\n",
    "shared.format_dataframes()"
   ]
  },
  {
   "cell_type": "markdown",
   "metadata": {},
   "source": [
    "## About the Lab"
   ]
  },
  {
   "cell_type": "markdown",
   "metadata": {},
   "source": [
    "In part A of the lab for this section, we run ANOVA on a simulated dataset using `statsmodels` and connect ANOVA outputs to features of our data visualizations."
   ]
  },
  {
   "cell_type": "markdown",
   "metadata": {},
   "source": [
    "## About the Dataset"
   ]
  },
  {
   "cell_type": "markdown",
   "metadata": {},
   "source": [
    "The data for this lab is simulated.\n",
    "\n",
    "After learning of [Nemeroff, Heim, et al.](http://www.pnas.org/content/100/24/14293.full)'s finding that psychotherapy is more effective at treating depression in individuals with childhood trauma, you become interested in whether the same might be true for treating anxiety.\n",
    "\n",
    "You run a clinical experiment in which individuals with and without childhood trauma are treated with a placebo, the standard of care for psychotherapy (CBT, or \n",
    "[\"Cognitive Behavioral Therapy\"](https://en.wikipedia.org/wiki/Cognitive_behavioral_therapy)),\n",
    "or the standard of care for pharmacotherapy\n",
    "[(an anxiolytic GABA agonist)](https://en.wikipedia.org/wiki/Anxiolytic).\n",
    "As an aside: in actual clinical studies, treatment with a placebo is considered unethical if there's already a standard of care, and a proper clinical trial compares alternative treatments to standard treatments.\n",
    "\n",
    "The results of your experiment are summarized in the table `anxiety_dataset.csv`."
   ]
  },
  {
   "cell_type": "markdown",
   "metadata": {},
   "source": [
    "## Loading the Data"
   ]
  },
  {
   "cell_type": "code",
   "execution_count": 2,
   "metadata": {
    "collapsed": true
   },
   "outputs": [],
   "source": [
    "df = pd.read_csv('./data/anxiety_dataset.csv',index_col=0)\n",
    "\n",
    "data = df.copy()"
   ]
  },
  {
   "cell_type": "code",
   "execution_count": 3,
   "metadata": {},
   "outputs": [
    {
     "data": {
      "text/html": [
       "<div>\n",
       "<table border=\"1\" class=\"dataframe\">\n",
       "  <thead>\n",
       "    <tr style=\"text-align: right;\">\n",
       "      <th></th>\n",
       "      <th>treatment</th>\n",
       "      <th>anxietyReduction</th>\n",
       "      <th>trauma</th>\n",
       "    </tr>\n",
       "    <tr>\n",
       "      <th>subjectID</th>\n",
       "      <th></th>\n",
       "      <th></th>\n",
       "      <th></th>\n",
       "    </tr>\n",
       "  </thead>\n",
       "  <tbody>\n",
       "    <tr>\n",
       "      <th>17</th>\n",
       "      <td>drug</td>\n",
       "      <td>6.8</td>\n",
       "      <td>False</td>\n",
       "    </tr>\n",
       "    <tr>\n",
       "      <th>2</th>\n",
       "      <td>placebo</td>\n",
       "      <td>3.1</td>\n",
       "      <td>True</td>\n",
       "    </tr>\n",
       "    <tr>\n",
       "      <th>6</th>\n",
       "      <td>placebo</td>\n",
       "      <td>0.9</td>\n",
       "      <td>True</td>\n",
       "    </tr>\n",
       "    <tr>\n",
       "      <th>4</th>\n",
       "      <td>drug</td>\n",
       "      <td>4.8</td>\n",
       "      <td>True</td>\n",
       "    </tr>\n",
       "    <tr>\n",
       "      <th>18</th>\n",
       "      <td>cbt</td>\n",
       "      <td>7.0</td>\n",
       "      <td>False</td>\n",
       "    </tr>\n",
       "    <tr>\n",
       "      <th>10</th>\n",
       "      <td>cbt</td>\n",
       "      <td>5.1</td>\n",
       "      <td>True</td>\n",
       "    </tr>\n",
       "    <tr>\n",
       "      <th>9</th>\n",
       "      <td>drug</td>\n",
       "      <td>5.0</td>\n",
       "      <td>True</td>\n",
       "    </tr>\n",
       "    <tr>\n",
       "      <th>5</th>\n",
       "      <td>drug</td>\n",
       "      <td>5.5</td>\n",
       "      <td>True</td>\n",
       "    </tr>\n",
       "    <tr>\n",
       "      <th>19</th>\n",
       "      <td>placebo</td>\n",
       "      <td>1.6</td>\n",
       "      <td>False</td>\n",
       "    </tr>\n",
       "    <tr>\n",
       "      <th>11</th>\n",
       "      <td>placebo</td>\n",
       "      <td>2.0</td>\n",
       "      <td>False</td>\n",
       "    </tr>\n",
       "  </tbody>\n",
       "</table>\n",
       "</div>"
      ],
      "text/plain": [
       "          treatment  anxietyReduction trauma\n",
       "subjectID                                   \n",
       "17             drug               6.8  False\n",
       "2           placebo               3.1   True\n",
       "6           placebo               0.9   True\n",
       "4              drug               4.8   True\n",
       "18              cbt               7.0  False\n",
       "10              cbt               5.1   True\n",
       "9              drug               5.0   True\n",
       "5              drug               5.5   True\n",
       "19          placebo               1.6  False\n",
       "11          placebo               2.0  False"
      ]
     },
     "execution_count": 3,
     "metadata": {},
     "output_type": "execute_result"
    }
   ],
   "source": [
    "data.sample(10)"
   ]
  },
  {
   "cell_type": "markdown",
   "metadata": {},
   "source": [
    "For the independent variables `treatment` and `trauma`, use the pandas `Series` method `unique` to determine the levels and store these in variables called `treatments` and `traumas`."
   ]
  },
  {
   "cell_type": "code",
   "execution_count": 4,
   "metadata": {
    "collapsed": true
   },
   "outputs": [],
   "source": [
    "treatments = data.treatment.unique()\n",
    "traumas = data.trauma.unique()"
   ]
  },
  {
   "cell_type": "markdown",
   "metadata": {},
   "source": [
    "## Visualizing the Data"
   ]
  },
  {
   "cell_type": "markdown",
   "metadata": {},
   "source": [
    "Visualize the data. Aim for a visualization that makes it possible to see any main effects along with the interaction effect you're interested in. Examples include: histograms, factorial plots (make sure to include error bars), and strip/swarm/violin plots.\n",
    "\n",
    "#### Q1 Discuss the connections between visual aspects of your graph and 1) the assumptions of ANOVA and 2) the outcomes you expect."
   ]
  },
  {
   "cell_type": "markdown",
   "metadata": {},
   "source": [
    "<font color=\"1874CD\"> \n",
    "\n",
    "** The answer below is for the histogram. Information about interpreting the factorial plot can be found in the Miller & Haden readings. **\n",
    "\n",
    "** The assumption of sphericity (equal variances) can be approximately checked by looking at the width of the distributions. The assumption appears to hold in this case. **\n",
    "\n",
    "** The main effect of trauma can be assessed by looking at the differences in means within each plot. There may be a small main effect of trauma, but it is difficult to tell. **\n",
    "\n",
    "** The main effect of treatment can be assessed by looking at the differences of means across the plots. The means of both of the non-placebo treatment groups appear to be higher than that of the placebo group, so we expect a main effect of treatment.**\n",
    "\n",
    "** The interaction effect of trauma and treatment appears as a difference in the location of the trauma group means depending on treatment. We see here that pharmacotherapy appears more effective on individuals with no trauma, while psychotherapy appears to be more effective on individuals with trauma. We expect, therefore, an interaction effect of trauma and treatment. **"
   ]
  },
  {
   "cell_type": "code",
   "execution_count": 5,
   "metadata": {},
   "outputs": [
    {
     "data": {
      "image/png": "[encoded data removed]",
      "text/plain": [
       "<matplotlib.figure.Figure at 0x10ed4d240>"
      ]
     },
     "metadata": {},
     "output_type": "display_data"
    }
   ],
   "source": [
    "hist_kws = {'histtype':'stepfilled',\n",
    "               'linewidth':4}\n",
    "\n",
    "facets = sns.FacetGrid(data=data,\n",
    "                       row=\"treatment\",\n",
    "                       hue=\"trauma\",\n",
    "                        size=2,aspect=4)\n",
    "\n",
    "facets.map(sns.distplot,\"anxietyReduction\",\n",
    "           kde=False,\n",
    "           bins=np.arange(0,15,0.5),\n",
    "           hist_kws=hist_kws).add_legend();"
   ]
  },
  {
   "cell_type": "code",
   "execution_count": 6,
   "metadata": {},
   "outputs": [
    {
     "data": {
      "image/png": "[encoded data removed]",
      "text/plain": [
       "<matplotlib.figure.Figure at 0x111692860>"
      ]
     },
     "metadata": {},
     "output_type": "display_data"
    }
   ],
   "source": [
    "treatmentXtraumaMeans = data.groupby([\"treatment\",\"trauma\"]).mean()\n",
    "\n",
    "treatmentXtraumaSDs = data.groupby([\"treatment\",\"trauma\"]).std()\n",
    "\n",
    "for treatment in treatments:\n",
    "    means = treatmentXtraumaMeans.loc[treatment].anxietyReduction\n",
    "    errs = np.asarray(treatmentXtraumaSDs.loc[treatment].anxietyReduction)\n",
    "    plt.errorbar(x=[0,1],y=means,yerr=errs,label=treatment,\n",
    "             linewidth=4,alpha=1,capthick=4,capsize=12,\n",
    "            marker='o',markersize=16)\n",
    "    \n",
    "ax = plt.gca()\n",
    "ax.set_xticks([0,1])\n",
    "ax.set_xticklabels([\"No Trauma\",\"Trauma\"])\n",
    "ax.set_xlim([-1,2])\n",
    "ax.set_ylabel(\"Anxiety Reduction\")\n",
    "ylims = ax.get_ylim()\n",
    "ax.set_ylim([0,ylims[1]])\n",
    "    \n",
    "plt.legend();"
   ]
  },
  {
   "cell_type": "markdown",
   "metadata": {},
   "source": [
    "### Running ANOVA"
   ]
  },
  {
   "cell_type": "markdown",
   "metadata": {},
   "source": [
    "Because the ANOVA test is, from one perspective, a test of the goodness-of-fit of a linear model, modeling packages provide the tools in Python for performing ANVOAs more complicated than one-way between-subjects.\n",
    "\n",
    "In this course, we'll be using the `statsmodels` package."
   ]
  },
  {
   "cell_type": "code",
   "execution_count": 7,
   "metadata": {
    "collapsed": true
   },
   "outputs": [],
   "source": [
    "import statsmodels.api as sm\n",
    "import statsmodels.formula.api as smf"
   ]
  },
  {
   "cell_type": "markdown",
   "metadata": {},
   "source": [
    "We specify models by describing them with strings that look like:\n",
    "\n",
    "```\n",
    "    \"outcome ~ factor\"\n",
    "```\n",
    "\n",
    "for one-way ANOVAs,\n",
    "\n",
    "```\n",
    "    \"outcome ~ factor1*factor2*...factorN\"\n",
    "```\n",
    "\n",
    "for N-way ANOVAs where we want to compute all main effects and interactions,\n",
    "and\n",
    "\n",
    "```\n",
    "    \"outcome ~ factor1:randomFactor1:randomFactor2:...randomFactorN\"\n",
    "```\n",
    "\n",
    "for ANOVAs with N factors where we're only interested in interactions (e.g., a subject factor)."
   ]
  },
  {
   "cell_type": "code",
   "execution_count": 8,
   "metadata": {},
   "outputs": [
    {
     "data": {
      "text/html": [
       "<div>\n",
       "<table border=\"1\" class=\"dataframe\">\n",
       "  <thead>\n",
       "    <tr style=\"text-align: right;\">\n",
       "      <th></th>\n",
       "      <th>sum_sq</th>\n",
       "      <th>df</th>\n",
       "      <th>F</th>\n",
       "      <th>PR(&gt;F)</th>\n",
       "    </tr>\n",
       "  </thead>\n",
       "  <tbody>\n",
       "    <tr>\n",
       "      <th>treatment</th>\n",
       "      <td>124.100083</td>\n",
       "      <td>2.0</td>\n",
       "      <td>44.040525</td>\n",
       "      <td>4.530595e-12</td>\n",
       "    </tr>\n",
       "    <tr>\n",
       "      <th>trauma</th>\n",
       "      <td>5.612042</td>\n",
       "      <td>1.0</td>\n",
       "      <td>3.983193</td>\n",
       "      <td>5.101057e-02</td>\n",
       "    </tr>\n",
       "    <tr>\n",
       "      <th>treatment:trauma</th>\n",
       "      <td>30.958083</td>\n",
       "      <td>2.0</td>\n",
       "      <td>10.986377</td>\n",
       "      <td>9.928169e-05</td>\n",
       "    </tr>\n",
       "    <tr>\n",
       "      <th>Residual</th>\n",
       "      <td>76.082250</td>\n",
       "      <td>54.0</td>\n",
       "      <td>NaN</td>\n",
       "      <td>NaN</td>\n",
       "    </tr>\n",
       "  </tbody>\n",
       "</table>\n",
       "</div>"
      ],
      "text/plain": [
       "                      sum_sq    df          F        PR(>F)\n",
       "treatment         124.100083   2.0  44.040525  4.530595e-12\n",
       "trauma              5.612042   1.0   3.983193  5.101057e-02\n",
       "treatment:trauma   30.958083   2.0  10.986377  9.928169e-05\n",
       "Residual           76.082250  54.0        NaN           NaN"
      ]
     },
     "execution_count": 8,
     "metadata": {},
     "output_type": "execute_result"
    }
   ],
   "source": [
    "ols_lm = smf.ols('anxietyReduction ~ treatment*trauma',data=df)\n",
    "\n",
    "fit = ols_lm.fit()\n",
    "\n",
    "table = sm.stats.anova_lm(fit,typ=2)\n",
    "\n",
    "table"
   ]
  },
  {
   "cell_type": "markdown",
   "metadata": {},
   "source": [
    "Hang on to this table of results for comparison with your ANOVA by hand below."
   ]
  },
  {
   "cell_type": "markdown",
   "metadata": {},
   "source": [
    "#### Q2 Interpret the pattern of significant and non-significant results that you see. First, phrase your answer as you would write it in the results section of a paper (e.g. using the [APA guidelines](https://depts.washington.edu/psych/files/writing_center/stats.pdf)), then describe the results less formally, as in a research talk."
   ]
  },
  {
   "cell_type": "markdown",
   "metadata": {},
   "source": [
    "<font color=\"1874CD\"> ** In a paper, it is expected that you report degrees of freedom and F-statistic values. \"We applied a two-way between-subjects ANOVA to the anxiety reduction scores. We report a significant main effect of treatment [(F(2,54)=44.04, p << .001] and a significant interaction of treatment and presence of past trauma [F(2,54) = 10.99, p << .001]\". Once could possibly also note the \"trend\" for an effect of trauma, noting that the observed p-value is 0.051, which is not meaningfully different from 0.05. **\n",
    "\n",
    "** In a research talk, the findings can be summarized more informally: \"Using ANOVA, we found that anxiety reduction scores differed significantly across treatments. We also found that response to treatment varied significantly between subjects with and without a history of trauma.\" One might go even further and only note that \"an ANOVA was performed that revealed a main effect of treatment and an interaction of treatment and trauma history\" and then report the results of post-hoc t-tests (e.g. a test confirming that CBT was more effective in individuals with a history of trauma).**"
   ]
  },
  {
   "cell_type": "markdown",
   "metadata": {},
   "source": [
    "Just as we performed an overall F-test before doing t-tests in a one-way ANOVA, one can also perform an \"omnibus\" F-test before performing the individual F-tests of a multi-way ANOVA. In this test, we check to see whether the model as a whole has a significant between-groups mean-square.\n",
    "\n",
    "We can calculate the model's overall between-groups mean-square by adding up the sums of squares for each component of the model and dividing by the sum of the degrees of freedom of each component of the model. Comparing this to the residual mean square gives us an F for which we can compute a p-value.\n",
    "\n",
    "The issue of multiple-comparisons in ANOVA and the role of the omnibus test is explored in the second half of the lab.\n",
    "\n",
    "Implement an omnibus test and run it on the results table above. You'll need the `cdf` method of `scipy.stats.f`. Note that the results table contains all the information you need to run an omnibus test."
   ]
  },
  {
   "cell_type": "code",
   "execution_count": 9,
   "metadata": {
    "collapsed": true
   },
   "outputs": [],
   "source": [
    "#scipy.stats.f?"
   ]
  },
  {
   "cell_type": "code",
   "execution_count": 10,
   "metadata": {
    "collapsed": true
   },
   "outputs": [],
   "source": [
    "def computeP(fValue,dofB,dofW):\n",
    "    fDistribution = scipy.stats.f\n",
    "    p = 1 - fDistribution.cdf(fValue,dofB,dofW)\n",
    "    return p\n",
    "\n",
    "def omnibusTest(result):\n",
    "    \n",
    "    model = result[:-1]\n",
    "    residual = result.iloc[-1]\n",
    "    \n",
    "    dof = np.sum(model['df'])\n",
    "    \n",
    "    meansquare_explained = np.sum(model['sum_sq'])/dof\n",
    "    \n",
    "    meansquare_unexplained = residual['sum_sq']/residual['df']\n",
    "    \n",
    "    F = meansquare_explained/meansquare_unexplained\n",
    "    \n",
    "    p = computeP(F,dof,residual['df'])\n",
    "    return (F,p)"
   ]
  },
  {
   "cell_type": "code",
   "execution_count": 23,
   "metadata": {},
   "outputs": [
    {
     "name": "stdout",
     "output_type": "stream",
     "text": [
      "(22.807399229123739, 3.1621372187373709e-12)\n"
     ]
    }
   ],
   "source": [
    "F,p = omnibusTest(table)\n",
    "print((F,p))"
   ]
  }
 ],
 "metadata": {
  "anaconda-cloud": {},
  "kernelspec": {
   "display_name": "Python 3",
   "language": "python",
   "name": "python3"
  },
  "language_info": {
   "codemirror_mode": {
    "name": "ipython",
    "version": 3
   },
   "file_extension": ".py",
   "mimetype": "text/x-python",
   "name": "python",
   "nbconvert_exporter": "python",
   "pygments_lexer": "ipython3",
   "version": "3.6.2"
  }
 },
 "nbformat": 4,
 "nbformat_minor": 1
}
