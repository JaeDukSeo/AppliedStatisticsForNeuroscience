{
 "cells": [
  {
   "cell_type": "markdown",
   "metadata": {},
   "source": [
    "# Problem Set 1\n",
    "\n",
    "## Question 1: R Tutorial\n",
    "\n",
    "Work through the provided tutorial (`FirstRTutorial.pdf`). Type in and run all the example code as you read through the document. This is especially important for first-time coders, as it will help you learn the proper notation. You should complete all the exercises in the handout, but you only need to hand in the ones listed below. \n",
    " \n",
    "I. Section 3, Problem 2 \n",
    "\n",
    "II. Section 5, Problems 1 and 2 \n",
    "\n",
    "III. Section 7, Problem 1 \n",
    "\n",
    "IV. Section 8, Problem 1 \n",
    "\n",
    "V. Section 9, Problems 1 and 2 \n",
    "\n",
    "\n",
    "Please print out anything that the question asks you to find (e.g. the mean weight and fuel consumption in II). Include labels. Check out the provided code for II and III for examples.\n",
    "\n",
    "A hint for III: remember that $X \\ \\text{~} \\ \\mathcal{N}(3,2^2)$ just means that $X$ is normally distributed with a mean of 3 and a standard deviation of 2. If you need to brush up on the terminology or mathematics of distributions please refer to the additional materials section of this week’s assignments."
   ]
  },
  {
   "cell_type": "code",
   "execution_count": 3,
   "metadata": {
    "collapsed": false,
    "nbgrader": {
     "grade": false,
     "grade_id": "r_tutorial_Qs",
     "locked": false,
     "solution": true
    }
   },
   "outputs": [
    {
     "name": "stdout",
     "output_type": "stream",
     "text": [
      "[1] \"a: \"\n",
      "[1] \"b: \"\n",
      "[1] \"c: \"\n",
      "[1] \"d: \"\n"
     ]
    }
   ],
   "source": [
    "# Replace all of the c()'s with your answers to the questions\n",
    "\n",
    "# I\n",
    "\n",
    "y <- c()\n",
    "\n",
    "# II\n",
    "\n",
    "meanWeight <- c()\n",
    "meanFuel <- c()\n",
    "\n",
    "print(paste(\"Mean Weight:\",meanWeight))\n",
    "print(paste(\"Mean MPG:\",meanFuel))\n",
    "\n",
    "# III\n",
    "\n",
    "a <- c()\n",
    "b <- c()\n",
    "c <- c()\n",
    "d <- c()\n",
    "\n",
    "print(paste(\"a:\",a))\n",
    "print(paste(\"b:\",b))\n",
    "print(paste(\"c:\",c))\n",
    "print(paste(\"d:\",d))"
   ]
  },
  {
   "cell_type": "code",
   "execution_count": null,
   "metadata": {
    "collapsed": false,
    "nbgrader": {
     "grade": true,
     "grade_id": "r_tutorial_Q4",
     "locked": false,
     "points": 1,
     "solution": true
    }
   },
   "outputs": [],
   "source": [
    "# IV\n",
    "\n",
    "# For this question, just print the figure to the screen. \n",
    "# If you're feeling ambitious, try to get the boxplot to print out horizontally instead of vertically,\n",
    "# and line it up under your histogram. That way, you can see the connection between the two methods \n",
    "# for summarizing the data!"
   ]
  },
  {
   "cell_type": "code",
   "execution_count": null,
   "metadata": {
    "collapsed": false,
    "nbgrader": {
     "grade": false,
     "grade_id": "r_tutorial_Q5",
     "locked": false,
     "solution": true
    }
   },
   "outputs": [],
   "source": [
    "# V\n",
    "\n",
    "myCorPlotFunk <- function(x,y){} #make sure to only return the correlation, not the plot! \n",
    "#if you're curious, use print to check what happens if you return the output of a plotting function\n",
    "\n",
    "mySumsFunk <- function(x) {} #return the sum and the sum of squares in that order!"
   ]
  },
  {
   "cell_type": "markdown",
   "metadata": {},
   "source": [
    "## Question 2: What's in a norm?\n",
    "\n",
    "Explain the `dnorm`, `pnorm`, and `qnorm` functions in your own words."
   ]
  },
  {
   "cell_type": "markdown",
   "metadata": {
    "collapsed": true,
    "nbgrader": {
     "grade": true,
     "grade_id": "question_2",
     "locked": false,
     "points": 3,
     "solution": true
    }
   },
   "source": []
  },
  {
   "cell_type": "markdown",
   "metadata": {},
   "source": [
    "## Question 3: Time Flies\n",
    "\n",
    "You’re studying courtship behavior in flies and you want to know the average number of times a wildtype male fly attempts copulation in one day. You’ve videotaped 30 individual male flies in vials with dozens of virgin females. After you’ve subjected your undergrad to watching all the videos and counting the copulation attempts, she provides you with the numbers below.\n",
    "\n",
    "First, calculate the mean, median, and standard deviation of your sample. Produce a histogram with six bins and six axis labels.\n",
    "Then, create a function that computes a 95% confidence interval from an input vector and calculate a 95% confidence interval on the data. \n",
    "Finally, explain, in your own words, what a confidence interval is. Answer in the text box below."
   ]
  },
  {
   "cell_type": "code",
   "execution_count": null,
   "metadata": {
    "collapsed": false,
    "nbgrader": {
     "grade": true,
     "grade_id": "question_3",
     "locked": false,
     "points": 1,
     "solution": true
    }
   },
   "outputs": [],
   "source": [
    "flyData<-c(31,15,12,21,26,10,12,25,27,25,\n",
    "16,19,16,18,8,13,22,19,29,17,\n",
    "30,14,9,22,28,19,30,23,20,17)\n",
    "\n",
    "flyMean <- c()\n",
    "flyMedian <- c()\n",
    "flySD <- c()\n",
    "confInterval <- c()\n",
    "\n",
    "myConfFunk <- function(x) {} #return confInterval as a vector, lower bound then upper\n",
    "\n",
    "#ALSO PRINT YOUR HISTOGRAM IN THIS BOX"
   ]
  },
  {
   "cell_type": "markdown",
   "metadata": {
    "nbgrader": {
     "grade": true,
     "grade_id": "conf_interval",
     "locked": false,
     "points": 2,
     "solution": true
    }
   },
   "source": [
    "A 95% confidence interval is"
   ]
  }
 ],
 "metadata": {
  "kernelspec": {
   "display_name": "R",
   "language": "R",
   "name": "ir"
  },
  "language_info": {
   "codemirror_mode": "r",
   "file_extension": ".r",
   "mimetype": "text/x-r-source",
   "name": "R",
   "pygments_lexer": "r",
   "version": "3.2.2"
  }
 },
 "nbformat": 4,
 "nbformat_minor": 0
}
